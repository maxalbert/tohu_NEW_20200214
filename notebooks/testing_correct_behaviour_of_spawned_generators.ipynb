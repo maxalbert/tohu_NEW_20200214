{
 "cells": [
  {
   "cell_type": "markdown",
   "metadata": {},
   "source": [
    "# Testing correct behaviour of spawned generators"
   ]
  },
  {
   "cell_type": "markdown",
   "metadata": {},
   "source": [
    "## Test spawning for primitive generators"
   ]
  },
  {
   "cell_type": "code",
   "execution_count": 11,
   "metadata": {},
   "outputs": [],
   "source": [
    "from tohu.primitive_generators import EXEMPLAR_PRIMITIVE_GENERATORS, Constant"
   ]
  },
  {
   "cell_type": "code",
   "execution_count": 12,
   "metadata": {},
   "outputs": [],
   "source": [
    "g = EXEMPLAR_PRIMITIVE_GENERATORS[2]"
   ]
  },
  {
   "cell_type": "code",
   "execution_count": 16,
   "metadata": {},
   "outputs": [
    {
     "name": "stdout",
     "output_type": "stream",
     "text": [
      "Constant\n",
      "g1: ['quux', 'quux', 'quux', 'quux', 'quux', 'quux', 'quux', 'quux', 'quux', 'quux']\n",
      "h1: ['quux', 'quux', 'quux', 'quux', 'quux', 'quux', 'quux', 'quux', 'quux', 'quux']\n",
      "---\n",
      "g2: ['quux', 'quux', 'quux', 'quux', 'quux', 'quux', 'quux', 'quux', 'quux', 'quux']\n",
      "h2: ['quux', 'quux', 'quux', 'quux', 'quux', 'quux', 'quux', 'quux', 'quux', 'quux']\n",
      "---\n",
      "g3: ['quux', 'quux', 'quux', 'quux', 'quux', 'quux', 'quux', 'quux', 'quux', 'quux']\n",
      "h3: ['quux', 'quux', 'quux', 'quux', 'quux', 'quux', 'quux', 'quux', 'quux', 'quux']\n",
      "\n",
      "Boolean\n",
      "g1: [False, True, False, False, False, True, False, True, False, False]\n",
      "h1: [False, True, False, False, False, True, False, True, False, False]\n",
      "---\n",
      "g2: [True, False, False, True, False, False, True, False, False, False]\n",
      "h2: [False, False, False, False, False, False, True, True, False, False]\n",
      "---\n",
      "g3: [True, False, False, False, False, False, False, True, True, False]\n",
      "h3: [True, False, False, False, False, False, False, True, True, False]\n",
      "\n",
      "Integer\n",
      "g1: [142, 103, 145, 146, 186, 151, 198, 114, 165, 181]\n",
      "h1: [142, 103, 145, 146, 186, 151, 198, 114, 165, 181]\n",
      "---\n",
      "g2: [133, 183, 138, 162, 176, 151, 123, 178, 152, 192]\n",
      "h2: [121, 116, 184, 146, 142, 189, 196, 147, 111, 156]\n",
      "---\n",
      "g3: [121, 152, 162, 196, 163, 131, 143, 141, 147, 133]\n",
      "h3: [121, 152, 162, 196, 163, 131, 143, 141, 147, 133]\n",
      "\n",
      "Float\n",
      "g1: [4.844, 2.079, 3.082, 3.202, 4.302, 2.337, 3.909, 2.391, 3.08, 4.096]\n",
      "h1: [4.844, 2.079, 3.082, 3.202, 4.302, 2.337, 3.909, 2.391, 3.08, 4.096]\n",
      "---\n",
      "g2: [2.792, 2.904, 3.798, 2.552, 3.231, 4.159, 2.683, 3.549, 4.636, 3.726]\n",
      "h2: [3.119, 3.315, 3.752, 4.784, 2.907, 4.465, 2.881, 2.888, 3.199, 3.17]\n",
      "---\n",
      "g3: [2.515, 3.473, 3.483, 4.509, 3.023, 3.115, 4.11, 2.191, 2.243, 3.264]\n",
      "h3: [2.515, 3.473, 3.483, 4.509, 3.023, 3.115, 4.11, 2.191, 2.243, 3.264]\n",
      "\n",
      "HashDigest\n",
      "g1: ['2463C1', '798EA1', '3F489B', 'F66158', 'B40A8E', 'BF9634', '1CB006', '053422', '26B2EA', 'B5152A']\n",
      "h1: ['2463C1', '798EA1', '3F489B', 'F66158', 'B40A8E', 'BF9634', '1CB006', '053422', '26B2EA', 'B5152A']\n",
      "---\n",
      "g2: ['011089', '82DF1F', 'EA0C04', '48342C', 'FABF12', '008188', '441103', '992E0D', '3908AC', 'A368AF']\n",
      "h2: ['A1E7CF', 'F0AF31', 'C5E785', '5D28B5', '2F5700', '662BF8', '76F82B', '598DA5', '03F335', '0AA449']\n",
      "---\n",
      "g3: ['2FD2E7', '12EBC3', '52DB98', 'D4731F', '1D632A', '23203E', '334553', '294BAB', '50F7B0', 'F06757']\n",
      "h3: ['2FD2E7', '12EBC3', '52DB98', 'D4731F', '1D632A', '23203E', '334553', '294BAB', '50F7B0', 'F06757']\n",
      "\n",
      "FakerGenerator\n",
      "g1: ['Allison Ward', 'Randall Rodriguez', 'Bianca Ward', 'Jacqueline Gonzales', 'Tanya Turner', 'Elizabeth Phillips', 'James Cox', 'Matthew Vasquez', 'Catherine Stewart', 'Sara Guerrero']\n",
      "h1: ['Allison Ward', 'Randall Rodriguez', 'Bianca Ward', 'Jacqueline Gonzales', 'Tanya Turner', 'Elizabeth Phillips', 'James Cox', 'Matthew Vasquez', 'Catherine Stewart', 'Sara Guerrero']\n",
      "---\n",
      "g2: ['Eric Greene', 'Jason Cortez', 'Jose Johns', 'Monique Kelly', 'Victoria Rodgers', 'Ashley Peters', 'Dawn Mason', 'Lori Smith', 'Karen Torres', 'Lauren Kirk']\n",
      "h2: ['James Clark', 'Kathleen Bird', 'Megan Martinez', 'Bob Wade', 'Jeffrey Gonzalez', 'Rachel Graham', 'Frances Johnson', 'Dylan Blake', 'David Compton', 'Lindsey Dixon']\n",
      "---\n",
      "g3: ['John Snyder', 'Glenda Watson', 'Amy Miller', 'Andrew Barton', 'Sean Curtis', 'Randall Flores', 'Nathan Johnson', 'Kristine Hall', 'Sandra Howard', 'David Allen']\n",
      "h3: ['John Snyder', 'Glenda Watson', 'Amy Miller', 'Andrew Barton', 'Sean Curtis', 'Randall Flores', 'Nathan Johnson', 'Kristine Hall', 'Sandra Howard', 'David Allen']\n",
      "\n",
      "SelectOne\n",
      "g1: ['cc', 'aa', 'cc', 'cc', 'dd', 'aa', 'bb', 'bb', 'cc', 'cc']\n",
      "h1: ['cc', 'aa', 'cc', 'cc', 'dd', 'aa', 'bb', 'bb', 'cc', 'cc']\n",
      "---\n",
      "g2: ['cc', 'cc', 'dd', 'dd', 'bb', 'dd', 'bb', 'bb', 'aa', 'bb']\n",
      "h2: ['cc', 'aa', 'dd', 'cc', 'cc', 'aa', 'dd', 'cc', 'cc', 'aa']\n",
      "---\n",
      "g3: ['bb', 'dd', 'dd', 'dd', 'bb', 'cc', 'cc', 'cc', 'cc', 'aa']\n",
      "h3: ['bb', 'dd', 'dd', 'dd', 'bb', 'cc', 'cc', 'cc', 'cc', 'aa']\n",
      "\n"
     ]
    }
   ],
   "source": [
    "for g in EXEMPLAR_PRIMITIVE_GENERATORS:\n",
    "    print(f\"{g.__class__.__name__}\")\n",
    "    g.reset(seed=11111)\n",
    "    h = g.spawn()\n",
    "\n",
    "    items_g_1 = g.generate_as_list(num=10)\n",
    "    items_h_1 = h.generate_as_list(num=10)\n",
    "    print(f\"g1: {items_g_1}\")\n",
    "    print(f\"h1: {items_h_1}\")\n",
    "    assert items_g_1 == items_h_1\n",
    "    print(\"---\")\n",
    "\n",
    "    # Produce a few more items using g. These are the ones we\n",
    "    # expect from h next, even if g is reset in the meantime.\n",
    "    items_h_2_expected = g.generate_as_list(num=10)\n",
    "\n",
    "    g.reset(seed=22222)\n",
    "    items_g_2 = g.generate_as_list(num=10)\n",
    "    items_h_2 = h.generate_as_list(num=10)\n",
    "    print(f\"g2: {items_g_2}\")\n",
    "    print(f\"h2: {items_h_2}\")\n",
    "    if not isinstance(g, Constant):\n",
    "        assert items_g_2 != items_h_2\n",
    "    assert items_h_2 == items_h_2_expected\n",
    "    print(\"---\")\n",
    "    \n",
    "    g.reset(seed=33333)\n",
    "    h.reset(seed=33333)\n",
    "    items_g_3 = g.generate_as_list(num=10)\n",
    "    items_h_3 = h.generate_as_list(num=10)\n",
    "    print(f\"g3: {items_g_3}\")\n",
    "    print(f\"h3: {items_h_3}\")\n",
    "    assert items_g_3 == items_h_3\n",
    "    \n",
    "    print()"
   ]
  },
  {
   "cell_type": "markdown",
   "metadata": {},
   "source": [
    "## Test spawning for derived generators"
   ]
  },
  {
   "cell_type": "markdown",
   "metadata": {},
   "source": [
    "**TODO:** Add a test for a spawned `Apply` generator."
   ]
  }
 ],
 "metadata": {
  "kernelspec": {
   "display_name": "Python 3",
   "language": "python",
   "name": "python3"
  },
  "language_info": {
   "codemirror_mode": {
    "name": "ipython",
    "version": 3
   },
   "file_extension": ".py",
   "mimetype": "text/x-python",
   "name": "python",
   "nbconvert_exporter": "python",
   "pygments_lexer": "ipython3",
   "version": "3.8.1"
  }
 },
 "nbformat": 4,
 "nbformat_minor": 4
}
