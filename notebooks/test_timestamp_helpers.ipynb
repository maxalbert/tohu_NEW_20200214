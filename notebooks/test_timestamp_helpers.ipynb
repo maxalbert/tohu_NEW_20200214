{
 "cells": [
  {
   "cell_type": "code",
   "execution_count": 1,
   "metadata": {},
   "outputs": [],
   "source": [
    "import pandas as pd\n",
    "import pytest\n",
    "from tohu.timestamp import normalise_start_and_stop_timestamps_from_optional_start_stop_and_date"
   ]
  },
  {
   "cell_type": "code",
   "execution_count": 2,
   "metadata": {},
   "outputs": [],
   "source": [
    "start_1 = pd.Timestamp(\"2020-02-03 09:00:00\")\n",
    "stop_1 = pd.Timestamp(\"2020-02-04 11:22:33\")\n",
    "\n",
    "date = \"2020-06-28\"\n",
    "start_2 = pd.Timestamp(\"2020-06-28 00:00:00\")\n",
    "stop_2 = pd.Timestamp(\"2020-06-29 00:00:00\")"
   ]
  },
  {
   "cell_type": "code",
   "execution_count": 3,
   "metadata": {},
   "outputs": [],
   "source": [
    "start, stop = normalise_start_and_stop_timestamps_from_optional_start_stop_and_date(start=start_1, stop=stop_1, date=None)\n",
    "assert start == start_1\n",
    "assert stop == stop_1"
   ]
  },
  {
   "cell_type": "code",
   "execution_count": 4,
   "metadata": {},
   "outputs": [],
   "source": [
    "start, stop = normalise_start_and_stop_timestamps_from_optional_start_stop_and_date(start=None, stop=None, date=date)\n",
    "assert start == start_2\n",
    "assert stop == stop_2"
   ]
  },
  {
   "cell_type": "code",
   "execution_count": 5,
   "metadata": {},
   "outputs": [],
   "source": [
    "with pytest.raises(ValueError, match=\"Please provide arguments `start`/`stop` or `date`\"):\n",
    "    normalise_start_and_stop_timestamps_from_optional_start_stop_and_date(start=None, stop=None, date=None)"
   ]
  },
  {
   "cell_type": "code",
   "execution_count": 6,
   "metadata": {},
   "outputs": [],
   "source": [
    "with pytest.raises(ValueError, match=\"Argument `stop` is missing\"):\n",
    "    normalise_start_and_stop_timestamps_from_optional_start_stop_and_date(start=start_1, stop=None, date=None)\n",
    "    \n",
    "with pytest.raises(ValueError, match=\"Argument `start` is missing\"):\n",
    "    normalise_start_and_stop_timestamps_from_optional_start_stop_and_date(start=None, stop=stop_1, date=None)"
   ]
  },
  {
   "cell_type": "code",
   "execution_count": 7,
   "metadata": {},
   "outputs": [],
   "source": [
    "with pytest.raises(ValueError, match=\"Arguments `start`/`stop` and `date` are mutually exclusive\"):\n",
    "    normalise_start_and_stop_timestamps_from_optional_start_stop_and_date(start=start_1, stop=None, date=date)\n",
    "\n",
    "with pytest.raises(ValueError, match=\"Arguments `start`/`stop` and `date` are mutually exclusive\"):\n",
    "    normalise_start_and_stop_timestamps_from_optional_start_stop_and_date(start=None, stop=stop_1, date=date)\n",
    "\n",
    "with pytest.raises(ValueError, match=\"Arguments `start`/`stop` and `date` are mutually exclusive\"):\n",
    "    normalise_start_and_stop_timestamps_from_optional_start_stop_and_date(start=start_1, stop=stop_2, date=date)"
   ]
  },
  {
   "cell_type": "code",
   "execution_count": 8,
   "metadata": {},
   "outputs": [],
   "source": [
    "with pytest.raises(ValueError, match=\"`start` timestamp must be earlier than `stop`\"):\n",
    "    normalise_start_and_stop_timestamps_from_optional_start_stop_and_date(start=stop_1, stop=start_1, date=None)\n",
    "    \n",
    "with pytest.raises(ValueError, match=\"`start` and `stop` timestamps must not be identical\"):\n",
    "    normalise_start_and_stop_timestamps_from_optional_start_stop_and_date(start=start_1, stop=start_1, date=None)"
   ]
  }
 ],
 "metadata": {
  "kernelspec": {
   "display_name": "Python 3",
   "language": "python",
   "name": "python3"
  },
  "language_info": {
   "codemirror_mode": {
    "name": "ipython",
    "version": 3
   },
   "file_extension": ".py",
   "mimetype": "text/x-python",
   "name": "python",
   "nbconvert_exporter": "python",
   "pygments_lexer": "ipython3",
   "version": "3.8.1"
  }
 },
 "nbformat": 4,
 "nbformat_minor": 4
}
