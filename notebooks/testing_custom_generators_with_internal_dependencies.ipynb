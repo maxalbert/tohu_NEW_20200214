{
 "cells": [
  {
   "cell_type": "markdown",
   "metadata": {},
   "source": [
    "# Custom generators with internal dependencies"
   ]
  },
  {
   "cell_type": "markdown",
   "metadata": {},
   "source": [
    "This notebook tests the behaviour of custom generators whose constituent (primitive or derived) generators have dependencies between each other."
   ]
  },
  {
   "cell_type": "code",
   "execution_count": 1,
   "metadata": {},
   "outputs": [],
   "source": [
    "from tohu import Integer, Apply, CustomGenerator\n",
    "from tohu.utils import print_generated_sequence"
   ]
  },
  {
   "cell_type": "markdown",
   "metadata": {},
   "source": [
    "## Duplicate generators"
   ]
  },
  {
   "cell_type": "code",
   "execution_count": 2,
   "metadata": {},
   "outputs": [],
   "source": [
    "class QuuxGenerator(CustomGenerator):\n",
    "    aa = Integer(100, 200)\n",
    "    bb = aa  # this should produce the same elements as `aa`"
   ]
  },
  {
   "cell_type": "code",
   "execution_count": 3,
   "metadata": {},
   "outputs": [
    {
     "name": "stdout",
     "output_type": "stream",
     "text": [
      "Generated sequence:\n",
      "\n",
      "Quux(aa=112, bb=112)\n",
      "Quux(aa=179, bb=179)\n",
      "Quux(aa=163, bb=163)\n",
      "Quux(aa=112, bb=112)\n",
      "Quux(aa=118, bb=118)\n",
      "Quux(aa=182, bb=182)\n",
      "Quux(aa=142, bb=142)\n",
      "Quux(aa=144, bb=144)\n",
      "Quux(aa=176, bb=176)\n",
      "Quux(aa=167, bb=167)\n"
     ]
    }
   ],
   "source": [
    "g = QuuxGenerator()\n",
    "print_generated_sequence(g, num=10, seed=11111, sep=\"\\n\")"
   ]
  },
  {
   "cell_type": "markdown",
   "metadata": {},
   "source": [
    "## Duplicate generators feeding into derived generator"
   ]
  },
  {
   "cell_type": "code",
   "execution_count": 4,
   "metadata": {},
   "outputs": [],
   "source": [
    "class QuuxGenerator(CustomGenerator):\n",
    "    aa = Integer(100, 200)\n",
    "    bb = aa\n",
    "    cc = Apply(lambda x, y: f\"{x} {y}\", aa, bb)"
   ]
  },
  {
   "cell_type": "code",
   "execution_count": 5,
   "metadata": {},
   "outputs": [
    {
     "name": "stdout",
     "output_type": "stream",
     "text": [
      "Generated sequence:\n",
      "\n",
      "Quux(aa=112, bb=112, cc='112 112')\n",
      "Quux(aa=179, bb=179, cc='179 179')\n",
      "Quux(aa=163, bb=163, cc='163 163')\n",
      "Quux(aa=112, bb=112, cc='112 112')\n",
      "Quux(aa=118, bb=118, cc='118 118')\n",
      "Quux(aa=182, bb=182, cc='182 182')\n",
      "Quux(aa=142, bb=142, cc='142 142')\n",
      "Quux(aa=144, bb=144, cc='144 144')\n",
      "Quux(aa=176, bb=176, cc='176 176')\n",
      "Quux(aa=167, bb=167, cc='167 167')\n"
     ]
    }
   ],
   "source": [
    "g = QuuxGenerator()\n",
    "print_generated_sequence(g, num=10, seed=11111, sep=\"\\n\")"
   ]
  },
  {
   "cell_type": "markdown",
   "metadata": {},
   "source": [
    "## Nested dependencies"
   ]
  },
  {
   "cell_type": "markdown",
   "metadata": {},
   "source": [
    "Let's try a custom generator with dependencies that are nested more than one level. The values produced by `aa`, `bb` and `cc` should be re-used with exactly the same values in the derived generators."
   ]
  },
  {
   "cell_type": "code",
   "execution_count": 6,
   "metadata": {},
   "outputs": [],
   "source": [
    "class QuuxGenerator(CustomGenerator):\n",
    "    aa = Integer(100, 999)\n",
    "    bb = Integer(100, 999)\n",
    "    cc = Integer(100, 999)\n",
    "    dd = Apply(lambda x, y: f\"{x} {y}\", aa, bb)\n",
    "    ee = dd\n",
    "    ff = Apply(lambda x, y, z: f\"{x} {y} {z}\", dd, ee, cc)"
   ]
  },
  {
   "cell_type": "code",
   "execution_count": 7,
   "metadata": {},
   "outputs": [
    {
     "name": "stdout",
     "output_type": "stream",
     "text": [
      "Generated sequence:\n",
      "\n",
      "Quux(aa=199, bb=770, cc=910, dd='199 770', ee='199 770', ff='199 770 199 770 910')\n",
      "Quux(aa=734, bb=798, cc=235, dd='734 798', ee='734 798', ff='734 798 734 798 235')\n",
      "Quux(aa=610, bb=272, cc=139, dd='610 272', ee='610 272', ff='610 272 610 272 139')\n",
      "Quux(aa=201, bb=839, cc=103, dd='201 839', ee='201 839', ff='201 839 201 839 103')\n",
      "Quux(aa=244, bb=193, cc=794, dd='244 193', ee='244 193', ff='244 193 244 193 794')\n",
      "Quux(aa=760, bb=442, cc=569, dd='760 442', ee='760 442', ff='760 442 760 442 569')\n",
      "Quux(aa=436, bb=425, cc=897, dd='436 425', ee='436 425', ff='436 425 436 425 897')\n",
      "Quux(aa=457, bb=489, cc=166, dd='457 489', ee='457 489', ff='457 489 457 489 166')\n",
      "Quux(aa=927, bb=691, cc=550, dd='927 691', ee='927 691', ff='927 691 927 691 550')\n",
      "Quux(aa=709, bb=594, cc=105, dd='709 594', ee='709 594', ff='709 594 709 594 105')\n"
     ]
    }
   ],
   "source": [
    "g = QuuxGenerator()\n",
    "print_generated_sequence(g, num=10, seed=11111, sep=\"\\n\")"
   ]
  }
 ],
 "metadata": {
  "kernelspec": {
   "display_name": "Python 3",
   "language": "python",
   "name": "python3"
  },
  "language_info": {
   "codemirror_mode": {
    "name": "ipython",
    "version": 3
   },
   "file_extension": ".py",
   "mimetype": "text/x-python",
   "name": "python",
   "nbconvert_exporter": "python",
   "pygments_lexer": "ipython3",
   "version": "3.8.1"
  }
 },
 "nbformat": 4,
 "nbformat_minor": 4
}
