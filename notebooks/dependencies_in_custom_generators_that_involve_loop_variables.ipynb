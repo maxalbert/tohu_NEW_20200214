{
 "cells": [
  {
   "cell_type": "markdown",
   "metadata": {},
   "source": [
    "## Dependencies between tohu generators involving loop variables"
   ]
  },
  {
   "cell_type": "markdown",
   "metadata": {},
   "source": [
    "This notebook checks that dependencies inside a custom generator between generators which involve `LoopVariable`s are handled correctly."
   ]
  },
  {
   "cell_type": "code",
   "execution_count": 1,
   "metadata": {},
   "outputs": [],
   "source": [
    "from tohu import Apply, CustomGenerator, foreach"
   ]
  },
  {
   "cell_type": "code",
   "execution_count": 2,
   "metadata": {},
   "outputs": [],
   "source": [
    "@foreach(loop_var=[10, 20, 30])\n",
    "class QuuxGenerator(CustomGenerator):\n",
    "    aa = loop_var\n",
    "    bb = Apply(lambda x: x**2, loop_var)\n",
    "    cc = Apply(lambda x, y: x + y, aa, bb)"
   ]
  },
  {
   "cell_type": "code",
   "execution_count": 3,
   "metadata": {},
   "outputs": [],
   "source": [
    "g = QuuxGenerator()"
   ]
  },
  {
   "cell_type": "code",
   "execution_count": 4,
   "metadata": {},
   "outputs": [
    {
     "data": {
      "text/plain": [
       "[Quux(aa=10, bb=100, cc=110),\n",
       " Quux(aa=10, bb=100, cc=110),\n",
       " Quux(aa=20, bb=400, cc=420),\n",
       " Quux(aa=20, bb=400, cc=420),\n",
       " Quux(aa=20, bb=400, cc=420),\n",
       " Quux(aa=30, bb=900, cc=930),\n",
       " Quux(aa=30, bb=900, cc=930)]"
      ]
     },
     "execution_count": 4,
     "metadata": {},
     "output_type": "execute_result"
    }
   ],
   "source": [
    "g.generate_as_list(num_iterations=[2, 3, 2], seed=11111)"
   ]
  },
  {
   "cell_type": "markdown",
   "metadata": {},
   "source": [
    "---"
   ]
  },
  {
   "cell_type": "markdown",
   "metadata": {},
   "source": [
    "Verify some more complex, nested dependencies:"
   ]
  },
  {
   "cell_type": "code",
   "execution_count": 5,
   "metadata": {},
   "outputs": [],
   "source": [
    "@foreach(xx=[10, 20, 30], yy=[\"foo\", \"bar\", \"baz\"])\n",
    "class QuuxGenerator(CustomGenerator):\n",
    "    aa = xx\n",
    "    bb = Apply(lambda x: x**2, xx)\n",
    "    cc = Apply(lambda x, y: x + y, aa, bb)\n",
    "    dd = yy\n",
    "    ee = dd\n",
    "    ff = Apply(lambda x, y: f\"{y}: {x}\", ee, cc)"
   ]
  },
  {
   "cell_type": "code",
   "execution_count": 6,
   "metadata": {},
   "outputs": [
    {
     "data": {
      "text/plain": [
       "[Quux(aa=10, bb=100, cc=110, dd='foo', ee='foo', ff='110: foo'),\n",
       " Quux(aa=10, bb=100, cc=110, dd='foo', ee='foo', ff='110: foo'),\n",
       " Quux(aa=20, bb=400, cc=420, dd='bar', ee='bar', ff='420: bar'),\n",
       " Quux(aa=20, bb=400, cc=420, dd='bar', ee='bar', ff='420: bar'),\n",
       " Quux(aa=20, bb=400, cc=420, dd='bar', ee='bar', ff='420: bar'),\n",
       " Quux(aa=30, bb=900, cc=930, dd='baz', ee='baz', ff='930: baz'),\n",
       " Quux(aa=30, bb=900, cc=930, dd='baz', ee='baz', ff='930: baz')]"
      ]
     },
     "execution_count": 6,
     "metadata": {},
     "output_type": "execute_result"
    }
   ],
   "source": [
    "g = QuuxGenerator()\n",
    "g.generate_as_list(num_iterations=[2, 3, 2], seed=11111)"
   ]
  }
 ],
 "metadata": {
  "kernelspec": {
   "display_name": "Python 3",
   "language": "python",
   "name": "python3"
  },
  "language_info": {
   "codemirror_mode": {
    "name": "ipython",
    "version": 3
   },
   "file_extension": ".py",
   "mimetype": "text/x-python",
   "name": "python",
   "nbconvert_exporter": "python",
   "pygments_lexer": "ipython3",
   "version": "3.8.1"
  }
 },
 "nbformat": 4,
 "nbformat_minor": 4
}
