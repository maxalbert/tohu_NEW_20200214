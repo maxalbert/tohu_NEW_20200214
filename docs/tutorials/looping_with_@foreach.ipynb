{
 "cells": [
  {
   "cell_type": "markdown",
   "metadata": {},
   "source": [
    "# Looping with `@foreach`"
   ]
  },
  {
   "cell_type": "markdown",
   "metadata": {},
   "source": [
    "\n",
    "[TOC]\n"
   ]
  },
  {
   "cell_type": "markdown",
   "metadata": {},
   "source": [
    "## Single loop variable"
   ]
  },
  {
   "cell_type": "code",
   "execution_count": 1,
   "metadata": {},
   "outputs": [],
   "source": [
    "from tohu import FakerGenerator, Integer, CustomGenerator, foreach"
   ]
  },
  {
   "cell_type": "code",
   "execution_count": 2,
   "metadata": {},
   "outputs": [],
   "source": [
    "@foreach(match_date=[\"2000-01-01\", \"2000-01-02\", \"2000-01-03\"])\n",
    "class MatchRecordGenerator(CustomGenerator):\n",
    "    date = match_date\n",
    "    player = FakerGenerator(method=\"first_name\")\n",
    "    points_scored = Integer(0, 100)"
   ]
  },
  {
   "cell_type": "code",
   "execution_count": 3,
   "metadata": {},
   "outputs": [
    {
     "data": {
      "text/plain": [
       "<@foreach-wrapped <MatchRecordGenerator (id=d84916)> >"
      ]
     },
     "execution_count": 3,
     "metadata": {},
     "output_type": "execute_result"
    }
   ],
   "source": [
    "g = MatchRecordGenerator()\n",
    "g"
   ]
  },
  {
   "cell_type": "code",
   "execution_count": 4,
   "metadata": {},
   "outputs": [
    {
     "data": {
      "text/plain": [
       "[MatchRecord(date='2000-01-01', player='Tracy', points_scored=72),\n",
       " MatchRecord(date='2000-01-01', player='Michael', points_scored=65),\n",
       " MatchRecord(date='2000-01-02', player='Heidi', points_scored=37),\n",
       " MatchRecord(date='2000-01-02', player='Jesse', points_scored=4),\n",
       " MatchRecord(date='2000-01-02', player='Kenneth', points_scored=92),\n",
       " MatchRecord(date='2000-01-02', player='David', points_scored=70),\n",
       " MatchRecord(date='2000-01-03', player='Jaime', points_scored=48),\n",
       " MatchRecord(date='2000-01-03', player='Connie', points_scored=62),\n",
       " MatchRecord(date='2000-01-03', player='Steven', points_scored=57)]"
      ]
     },
     "execution_count": 4,
     "metadata": {},
     "output_type": "execute_result"
    }
   ],
   "source": [
    "list(g.generate_as_stream(nums=[2, 4, 3], seed=11111))"
   ]
  },
  {
   "cell_type": "markdown",
   "metadata": {},
   "source": [
    "Since we specified three dates in the `@foreach` call above, we also must provide three values in the list `nums` (so that the `generate_as_stream()` method knows how many elements to produce for each generation.\n",
    "\n",
    "It is allowed for the list to be longer (in which case subsequent elements are ignored) or shorter (in which case fewer loop iterations are run), as shown below."
   ]
  },
  {
   "cell_type": "code",
   "execution_count": 5,
   "metadata": {},
   "outputs": [
    {
     "data": {
      "text/plain": [
       "[MatchRecord(date='2000-01-01', player='Tracy', points_scored=72),\n",
       " MatchRecord(date='2000-01-01', player='Michael', points_scored=65),\n",
       " MatchRecord(date='2000-01-02', player='Heidi', points_scored=37),\n",
       " MatchRecord(date='2000-01-02', player='Jesse', points_scored=4),\n",
       " MatchRecord(date='2000-01-02', player='Kenneth', points_scored=92)]"
      ]
     },
     "execution_count": 5,
     "metadata": {},
     "output_type": "execute_result"
    }
   ],
   "source": [
    "# Here `num` has fewer elements than there are dates we're looping over,\n",
    "# so the loop iteration for the third date doesn't happen.\n",
    "list(g.generate_as_stream(nums=[2, 3], seed=11111))"
   ]
  },
  {
   "cell_type": "code",
   "execution_count": 6,
   "metadata": {},
   "outputs": [
    {
     "data": {
      "text/plain": [
       "[MatchRecord(date='2000-01-01', player='Tracy', points_scored=72),\n",
       " MatchRecord(date='2000-01-01', player='Michael', points_scored=65),\n",
       " MatchRecord(date='2000-01-02', player='Heidi', points_scored=37),\n",
       " MatchRecord(date='2000-01-02', player='Jesse', points_scored=4),\n",
       " MatchRecord(date='2000-01-02', player='Kenneth', points_scored=92),\n",
       " MatchRecord(date='2000-01-02', player='David', points_scored=70),\n",
       " MatchRecord(date='2000-01-03', player='Jaime', points_scored=48),\n",
       " MatchRecord(date='2000-01-03', player='Connie', points_scored=62),\n",
       " MatchRecord(date='2000-01-03', player='Steven', points_scored=57)]"
      ]
     },
     "execution_count": 6,
     "metadata": {},
     "output_type": "execute_result"
    }
   ],
   "source": [
    "# Here `num` has more elements than there are dates we're looping over,\n",
    "# so the additional elements are ignored for looping.\n",
    "list(g.generate_as_stream(nums=[2, 4, 3, 5, 1, 2], seed=11111))"
   ]
  },
  {
   "cell_type": "markdown",
   "metadata": {},
   "source": [
    "## Multiple loop variables (at the same level)"
   ]
  },
  {
   "cell_type": "code",
   "execution_count": 7,
   "metadata": {},
   "outputs": [],
   "source": [
    "@foreach(match_date=[\"2000-01-01\", \"2000-01-02\", \"2000-01-03\"], match_venue=[\"Town A\", \"Town B\", \"Town C\"])\n",
    "class MatchRecordGenerator(CustomGenerator):\n",
    "    date = match_date\n",
    "    venue = match_venue\n",
    "    player = FakerGenerator(method=\"first_name\")\n",
    "    points_scored = Integer(0, 100)"
   ]
  },
  {
   "cell_type": "code",
   "execution_count": 8,
   "metadata": {},
   "outputs": [],
   "source": [
    "g = MatchRecordGenerator()"
   ]
  },
  {
   "cell_type": "markdown",
   "metadata": {},
   "source": [
    "Note that in the generated items, the match date and venue are always matched up:"
   ]
  },
  {
   "cell_type": "code",
   "execution_count": 9,
   "metadata": {},
   "outputs": [
    {
     "data": {
      "text/plain": [
       "[MatchRecord(date='2000-01-01', venue='Town A', player='Ashlee', points_scored=36),\n",
       " MatchRecord(date='2000-01-01', venue='Town A', player='Kelly', points_scored=78),\n",
       " MatchRecord(date='2000-01-02', venue='Town B', player='Jennifer', points_scored=13),\n",
       " MatchRecord(date='2000-01-02', venue='Town B', player='Sandra', points_scored=16),\n",
       " MatchRecord(date='2000-01-02', venue='Town B', player='Todd', points_scored=93),\n",
       " MatchRecord(date='2000-01-02', venue='Town B', player='Stephen', points_scored=6),\n",
       " MatchRecord(date='2000-01-03', venue='Town C', player='Joanna', points_scored=3),\n",
       " MatchRecord(date='2000-01-03', venue='Town C', player='John', points_scored=36),\n",
       " MatchRecord(date='2000-01-03', venue='Town C', player='Robert', points_scored=66)]"
      ]
     },
     "execution_count": 9,
     "metadata": {},
     "output_type": "execute_result"
    }
   ],
   "source": [
    "g.generate_as_list(nums=[2, 4, 3], seed=11111)"
   ]
  },
  {
   "cell_type": "markdown",
   "metadata": {},
   "source": [
    "If one of the loop variables contains more elements than the other, the additional ones are ignored. In other words, we can only do as many loop iterations as specified by the loop variable with the fewest values. Here we can only produce elements for two dates (even there are four venues)."
   ]
  },
  {
   "cell_type": "code",
   "execution_count": 10,
   "metadata": {},
   "outputs": [],
   "source": [
    "@foreach(match_date=[\"2000-01-01\", \"2000-01-02\"], match_venue=[\"Town A\", \"Town B\", \"Town C\", \"Town D\"])\n",
    "class MatchRecordGenerator(CustomGenerator):\n",
    "    date = match_date\n",
    "    venue = match_venue\n",
    "    player = FakerGenerator(method=\"first_name\")\n",
    "    points_scored = Integer(0, 100)"
   ]
  },
  {
   "cell_type": "code",
   "execution_count": 11,
   "metadata": {},
   "outputs": [
    {
     "data": {
      "text/plain": [
       "[MatchRecord(date='2000-01-01', venue='Town A', player='Ashlee', points_scored=36),\n",
       " MatchRecord(date='2000-01-01', venue='Town A', player='Kelly', points_scored=78),\n",
       " MatchRecord(date='2000-01-02', venue='Town B', player='Jennifer', points_scored=13),\n",
       " MatchRecord(date='2000-01-02', venue='Town B', player='Sandra', points_scored=16),\n",
       " MatchRecord(date='2000-01-02', venue='Town B', player='Todd', points_scored=93),\n",
       " MatchRecord(date='2000-01-02', venue='Town B', player='Stephen', points_scored=6)]"
      ]
     },
     "execution_count": 11,
     "metadata": {},
     "output_type": "execute_result"
    }
   ],
   "source": [
    "g = MatchRecordGenerator()\n",
    "g.generate_as_list(nums=[2, 4, 3, 2], seed=11111)"
   ]
  }
 ],
 "metadata": {
  "kernelspec": {
   "display_name": "Python 3",
   "language": "python",
   "name": "python3"
  },
  "language_info": {
   "codemirror_mode": {
    "name": "ipython",
    "version": 3
   },
   "file_extension": ".py",
   "mimetype": "text/x-python",
   "name": "python",
   "nbconvert_exporter": "python",
   "pygments_lexer": "ipython3",
   "version": "3.8.1"
  }
 },
 "nbformat": 4,
 "nbformat_minor": 4
}
