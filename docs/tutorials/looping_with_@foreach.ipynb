{
 "cells": [
  {
   "cell_type": "markdown",
   "metadata": {},
   "source": [
    "# Looping with `@foreach`"
   ]
  },
  {
   "cell_type": "code",
   "execution_count": 1,
   "metadata": {},
   "outputs": [],
   "source": [
    "from tohu import FakerGenerator, Integer, CustomGenerator, foreach"
   ]
  },
  {
   "cell_type": "code",
   "execution_count": 2,
   "metadata": {},
   "outputs": [],
   "source": [
    "@foreach(date=[\"2000-01-01\", \"2000-01-02\", \"2000-01-03\"])\n",
    "class MatchRecordGenerator(CustomGenerator):\n",
    "    match_date = date\n",
    "    player = FakerGenerator(method=\"name\")\n",
    "    points_scored = Integer(0, 100)"
   ]
  },
  {
   "cell_type": "code",
   "execution_count": 3,
   "metadata": {},
   "outputs": [
    {
     "data": {
      "text/plain": [
       "<@foreach-wrapped <MatchRecordGenerator (id=baffa3)> >"
      ]
     },
     "execution_count": 3,
     "metadata": {},
     "output_type": "execute_result"
    }
   ],
   "source": [
    "g = MatchRecordGenerator()\n",
    "g"
   ]
  },
  {
   "cell_type": "code",
   "execution_count": 4,
   "metadata": {},
   "outputs": [
    {
     "data": {
      "text/plain": [
       "[MatchRecord(match_date='2000-01-01', player='Jack Terry II', points_scored=72),\n",
       " MatchRecord(match_date='2000-01-01', player='Calvin Lopez', points_scored=65),\n",
       " MatchRecord(match_date='2000-01-02', player='Julia Romero', points_scored=37),\n",
       " MatchRecord(match_date='2000-01-02', player='Theodore Logan', points_scored=4),\n",
       " MatchRecord(match_date='2000-01-02', player='Amanda Roberson', points_scored=92),\n",
       " MatchRecord(match_date='2000-01-02', player='Stephanie Carson', points_scored=70),\n",
       " MatchRecord(match_date='2000-01-03', player='Andrew Castillo', points_scored=48),\n",
       " MatchRecord(match_date='2000-01-03', player='Justin Mckenzie', points_scored=62),\n",
       " MatchRecord(match_date='2000-01-03', player='Jacob Miller', points_scored=57)]"
      ]
     },
     "execution_count": 4,
     "metadata": {},
     "output_type": "execute_result"
    }
   ],
   "source": [
    "list(g.generate_as_stream(nums=[2, 4, 3], seed=11111))"
   ]
  },
  {
   "cell_type": "markdown",
   "metadata": {},
   "source": [
    "Since we specified three dates in the `@foreach` call above, we also must provide three values in the list `nums` (so that the `generate_as_stream()` method knows how many elements to produce for each generation.\n",
    "\n",
    "It is allowed for the list to be longer (in which case subsequent elements are ignored) or shorter (in which case fewer loop iterations are run), as shown below."
   ]
  },
  {
   "cell_type": "code",
   "execution_count": 5,
   "metadata": {},
   "outputs": [
    {
     "data": {
      "text/plain": [
       "[MatchRecord(match_date='2000-01-01', player='Jack Terry II', points_scored=72),\n",
       " MatchRecord(match_date='2000-01-01', player='Calvin Lopez', points_scored=65),\n",
       " MatchRecord(match_date='2000-01-02', player='Julia Romero', points_scored=37),\n",
       " MatchRecord(match_date='2000-01-02', player='Theodore Logan', points_scored=4),\n",
       " MatchRecord(match_date='2000-01-02', player='Amanda Roberson', points_scored=92)]"
      ]
     },
     "execution_count": 5,
     "metadata": {},
     "output_type": "execute_result"
    }
   ],
   "source": [
    "# Here `num` has fewer elements than there are dates we're looping over,\n",
    "# so the loop iteration for the third date doesn't happen.\n",
    "list(g.generate_as_stream(nums=[2, 3], seed=11111))"
   ]
  },
  {
   "cell_type": "code",
   "execution_count": 6,
   "metadata": {},
   "outputs": [
    {
     "data": {
      "text/plain": [
       "[MatchRecord(match_date='2000-01-01', player='Jack Terry II', points_scored=72),\n",
       " MatchRecord(match_date='2000-01-01', player='Calvin Lopez', points_scored=65),\n",
       " MatchRecord(match_date='2000-01-02', player='Julia Romero', points_scored=37),\n",
       " MatchRecord(match_date='2000-01-02', player='Theodore Logan', points_scored=4),\n",
       " MatchRecord(match_date='2000-01-02', player='Amanda Roberson', points_scored=92),\n",
       " MatchRecord(match_date='2000-01-02', player='Stephanie Carson', points_scored=70),\n",
       " MatchRecord(match_date='2000-01-03', player='Andrew Castillo', points_scored=48),\n",
       " MatchRecord(match_date='2000-01-03', player='Justin Mckenzie', points_scored=62),\n",
       " MatchRecord(match_date='2000-01-03', player='Jacob Miller', points_scored=57)]"
      ]
     },
     "execution_count": 6,
     "metadata": {},
     "output_type": "execute_result"
    }
   ],
   "source": [
    "# Here `num` has more elements than there are dates we're looping over,\n",
    "# so the additional elements are ignored for looping.\n",
    "list(g.generate_as_stream(nums=[2, 4, 3, 5, 1, 2], seed=11111))"
   ]
  }
 ],
 "metadata": {
  "kernelspec": {
   "display_name": "Python 3",
   "language": "python",
   "name": "python3"
  },
  "language_info": {
   "codemirror_mode": {
    "name": "ipython",
    "version": 3
   },
   "file_extension": ".py",
   "mimetype": "text/x-python",
   "name": "python",
   "nbconvert_exporter": "python",
   "pygments_lexer": "ipython3",
   "version": "3.8.1"
  }
 },
 "nbformat": 4,
 "nbformat_minor": 4
}
