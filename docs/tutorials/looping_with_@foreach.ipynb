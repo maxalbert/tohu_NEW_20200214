{
 "cells": [
  {
   "cell_type": "markdown",
   "metadata": {},
   "source": [
    "# Looping with `@foreach`"
   ]
  },
  {
   "cell_type": "markdown",
   "metadata": {},
   "source": [
    "\n",
    "[TOC]\n"
   ]
  },
  {
   "cell_type": "markdown",
   "metadata": {},
   "source": [
    "## Single loop variable"
   ]
  },
  {
   "cell_type": "code",
   "execution_count": 1,
   "metadata": {},
   "outputs": [],
   "source": [
    "from tohu import FakerGenerator, Integer, CustomGenerator, foreach"
   ]
  },
  {
   "cell_type": "code",
   "execution_count": 2,
   "metadata": {},
   "outputs": [],
   "source": [
    "@foreach(match_date=[\"2000-01-01\", \"2000-01-02\", \"2000-01-03\"])\n",
    "class MatchRecordGenerator(CustomGenerator):\n",
    "    date = match_date\n",
    "    player = FakerGenerator(method=\"first_name\")\n",
    "    points_scored = Integer(0, 100)"
   ]
  },
  {
   "cell_type": "code",
   "execution_count": 3,
   "metadata": {},
   "outputs": [
    {
     "data": {
      "text/plain": [
       "<@foreach-wrapped <MatchRecordGenerator (id=85b700)> >"
      ]
     },
     "execution_count": 3,
     "metadata": {},
     "output_type": "execute_result"
    }
   ],
   "source": [
    "g = MatchRecordGenerator()\n",
    "g"
   ]
  },
  {
   "cell_type": "code",
   "execution_count": 4,
   "metadata": {},
   "outputs": [
    {
     "data": {
      "text/plain": [
       "[MatchRecord(date='2000-01-01', player='Amanda', points_scored=63),\n",
       " MatchRecord(date='2000-01-01', player='Louis', points_scored=83),\n",
       " MatchRecord(date='2000-01-02', player='Patrick', points_scored=24),\n",
       " MatchRecord(date='2000-01-02', player='Maria', points_scored=76),\n",
       " MatchRecord(date='2000-01-02', player='John', points_scored=70),\n",
       " MatchRecord(date='2000-01-02', player='Ashley', points_scored=23),\n",
       " MatchRecord(date='2000-01-03', player='Meredith', points_scored=31),\n",
       " MatchRecord(date='2000-01-03', player='Maria', points_scored=53),\n",
       " MatchRecord(date='2000-01-03', player='Joshua', points_scored=85)]"
      ]
     },
     "execution_count": 4,
     "metadata": {},
     "output_type": "execute_result"
    }
   ],
   "source": [
    "list(g.generate_as_stream(num_iterations=[2, 4, 3], seed=11111))"
   ]
  },
  {
   "cell_type": "code",
   "execution_count": 5,
   "metadata": {},
   "outputs": [
    {
     "data": {
      "text/plain": [
       "[MatchRecord(date='2000-01-01', player='Amanda', points_scored=63),\n",
       " MatchRecord(date='2000-01-01', player='Louis', points_scored=83),\n",
       " MatchRecord(date='2000-01-02', player='Patrick', points_scored=24),\n",
       " MatchRecord(date='2000-01-02', player='Maria', points_scored=76),\n",
       " MatchRecord(date='2000-01-02', player='John', points_scored=70),\n",
       " MatchRecord(date='2000-01-02', player='Ashley', points_scored=23),\n",
       " MatchRecord(date='2000-01-03', player='Meredith', points_scored=31),\n",
       " MatchRecord(date='2000-01-03', player='Maria', points_scored=53),\n",
       " MatchRecord(date='2000-01-03', player='Joshua', points_scored=85)]"
      ]
     },
     "execution_count": 5,
     "metadata": {},
     "output_type": "execute_result"
    }
   ],
   "source": [
    "list(g.generate_as_stream(num_iterations=[2, 4, 3], seed=11111))"
   ]
  },
  {
   "cell_type": "markdown",
   "metadata": {},
   "source": [
    "Since we specified three dates in the `@foreach` call above, we also must provide three values in the list `nums` (so that the `generate_as_stream()` method knows how many elements to produce for each generation.\n",
    "\n",
    "It is allowed for the list to be longer (in which case subsequent elements are ignored) or shorter (in which case fewer loop iterations are run), as shown below."
   ]
  },
  {
   "cell_type": "code",
   "execution_count": 6,
   "metadata": {},
   "outputs": [
    {
     "name": "stderr",
     "output_type": "stream",
     "text": [
      "2020-03-19 17:19:32 WARNING  num_iterations sequence does not contain enough elements to complete loop: [2, 3]\n"
     ]
    },
    {
     "data": {
      "text/plain": [
       "[MatchRecord(date='2000-01-01', player='Amanda', points_scored=63),\n",
       " MatchRecord(date='2000-01-01', player='Louis', points_scored=83),\n",
       " MatchRecord(date='2000-01-02', player='Patrick', points_scored=24),\n",
       " MatchRecord(date='2000-01-02', player='Maria', points_scored=76),\n",
       " MatchRecord(date='2000-01-02', player='John', points_scored=70)]"
      ]
     },
     "execution_count": 6,
     "metadata": {},
     "output_type": "execute_result"
    }
   ],
   "source": [
    "# Here `num` has fewer elements than there are dates we're looping over,\n",
    "# so the loop iteration for the third date doesn't happen.\n",
    "list(g.generate_as_stream(num_iterations=[2, 3], seed=11111))"
   ]
  },
  {
   "cell_type": "code",
   "execution_count": 7,
   "metadata": {},
   "outputs": [
    {
     "data": {
      "text/plain": [
       "[MatchRecord(date='2000-01-01', player='Amanda', points_scored=63),\n",
       " MatchRecord(date='2000-01-01', player='Louis', points_scored=83),\n",
       " MatchRecord(date='2000-01-02', player='Patrick', points_scored=24),\n",
       " MatchRecord(date='2000-01-02', player='Maria', points_scored=76),\n",
       " MatchRecord(date='2000-01-02', player='John', points_scored=70),\n",
       " MatchRecord(date='2000-01-02', player='Ashley', points_scored=23),\n",
       " MatchRecord(date='2000-01-03', player='Meredith', points_scored=31),\n",
       " MatchRecord(date='2000-01-03', player='Maria', points_scored=53),\n",
       " MatchRecord(date='2000-01-03', player='Joshua', points_scored=85)]"
      ]
     },
     "execution_count": 7,
     "metadata": {},
     "output_type": "execute_result"
    }
   ],
   "source": [
    "# Here `num` has more elements than there are dates we're looping over,\n",
    "# so the additional elements are ignored for looping.\n",
    "list(g.generate_as_stream(num_iterations=[2, 4, 3, 5, 1, 2], seed=11111))"
   ]
  },
  {
   "cell_type": "markdown",
   "metadata": {},
   "source": [
    "## Multiple loop variables (at the same level)"
   ]
  },
  {
   "cell_type": "code",
   "execution_count": 8,
   "metadata": {},
   "outputs": [],
   "source": [
    "@foreach(match_date=[\"2000-01-01\", \"2000-01-02\", \"2000-01-03\"], match_venue=[\"Town A\", \"Town B\", \"Town C\"])\n",
    "class MatchRecordGenerator(CustomGenerator):\n",
    "    date = match_date\n",
    "    venue = match_venue\n",
    "    player = FakerGenerator(method=\"first_name\")\n",
    "    points_scored = Integer(0, 100)"
   ]
  },
  {
   "cell_type": "code",
   "execution_count": 9,
   "metadata": {},
   "outputs": [],
   "source": [
    "g = MatchRecordGenerator()"
   ]
  },
  {
   "cell_type": "markdown",
   "metadata": {},
   "source": [
    "Note that in the generated items, the match date and venue are always matched up:"
   ]
  },
  {
   "cell_type": "code",
   "execution_count": 10,
   "metadata": {},
   "outputs": [
    {
     "data": {
      "text/plain": [
       "[MatchRecord(date='2000-01-01', venue='Town A', player='Renee', points_scored=54),\n",
       " MatchRecord(date='2000-01-01', venue='Town A', player='Robert', points_scored=25),\n",
       " MatchRecord(date='2000-01-02', venue='Town B', player='Steven', points_scored=43),\n",
       " MatchRecord(date='2000-01-02', venue='Town B', player='Sherri', points_scored=60),\n",
       " MatchRecord(date='2000-01-02', venue='Town B', player='Jeremy', points_scored=86),\n",
       " MatchRecord(date='2000-01-02', venue='Town B', player='Brian', points_scored=90),\n",
       " MatchRecord(date='2000-01-03', venue='Town C', player='Ann', points_scored=64),\n",
       " MatchRecord(date='2000-01-03', venue='Town C', player='David', points_scored=72),\n",
       " MatchRecord(date='2000-01-03', venue='Town C', player='Jennifer', points_scored=62)]"
      ]
     },
     "execution_count": 10,
     "metadata": {},
     "output_type": "execute_result"
    }
   ],
   "source": [
    "g.generate_as_list(num_iterations=[2, 4, 3], seed=11111)"
   ]
  },
  {
   "cell_type": "markdown",
   "metadata": {},
   "source": [
    "If one of the loop variables contains more elements than the other, the additional ones are ignored. In other words, we can only do as many loop iterations as specified by the loop variable with the fewest values. Here we can only produce elements for two dates (even though there are four venues)."
   ]
  },
  {
   "cell_type": "code",
   "execution_count": 11,
   "metadata": {},
   "outputs": [],
   "source": [
    "@foreach(match_date=[\"2000-01-01\", \"2000-01-02\"], match_venue=[\"Town A\", \"Town B\", \"Town C\", \"Town D\"])\n",
    "class MatchRecordGenerator(CustomGenerator):\n",
    "    date = match_date\n",
    "    venue = match_venue\n",
    "    player = FakerGenerator(method=\"first_name\")\n",
    "    points_scored = Integer(0, 100)"
   ]
  },
  {
   "cell_type": "code",
   "execution_count": 12,
   "metadata": {},
   "outputs": [
    {
     "data": {
      "text/plain": [
       "[MatchRecord(date='2000-01-01', venue='Town A', player='Renee', points_scored=54),\n",
       " MatchRecord(date='2000-01-01', venue='Town A', player='Robert', points_scored=25),\n",
       " MatchRecord(date='2000-01-02', venue='Town B', player='Steven', points_scored=43),\n",
       " MatchRecord(date='2000-01-02', venue='Town B', player='Sherri', points_scored=60),\n",
       " MatchRecord(date='2000-01-02', venue='Town B', player='Jeremy', points_scored=86),\n",
       " MatchRecord(date='2000-01-02', venue='Town B', player='Brian', points_scored=90)]"
      ]
     },
     "execution_count": 12,
     "metadata": {},
     "output_type": "execute_result"
    }
   ],
   "source": [
    "g = MatchRecordGenerator()\n",
    "g.generate_as_list(num_iterations=[2, 4, 3, 2], seed=11111)"
   ]
  },
  {
   "cell_type": "markdown",
   "metadata": {},
   "source": [
    "## Nested loop variables"
   ]
  },
  {
   "cell_type": "code",
   "execution_count": 13,
   "metadata": {},
   "outputs": [],
   "source": [
    "@foreach(match_date=[\"2000-01-01\", \"2000-01-02\", \"2000-01-03\"])\n",
    "@foreach(match_venue=[\"Town A\", \"Town B\"])\n",
    "class MatchRecordGenerator(CustomGenerator):\n",
    "    date = match_date\n",
    "    venue = match_venue\n",
    "    player = FakerGenerator(method=\"first_name\")\n",
    "    points_scored = Integer(0, 100)"
   ]
  },
  {
   "cell_type": "code",
   "execution_count": 14,
   "metadata": {},
   "outputs": [
    {
     "name": "stderr",
     "output_type": "stream",
     "text": [
      "2020-03-19 17:19:32 WARNING  num_iterations sequence does not contain enough elements to complete loop: [2, 4, 3, 2]\n"
     ]
    },
    {
     "data": {
      "text/plain": [
       "[MatchRecord(date='2000-01-01', venue='Town A', player='Renee', points_scored=54),\n",
       " MatchRecord(date='2000-01-01', venue='Town A', player='Robert', points_scored=25),\n",
       " MatchRecord(date='2000-01-01', venue='Town B', player='Steven', points_scored=43),\n",
       " MatchRecord(date='2000-01-01', venue='Town B', player='Sherri', points_scored=60),\n",
       " MatchRecord(date='2000-01-01', venue='Town B', player='Jeremy', points_scored=86),\n",
       " MatchRecord(date='2000-01-01', venue='Town B', player='Brian', points_scored=90),\n",
       " MatchRecord(date='2000-01-02', venue='Town A', player='Ann', points_scored=64),\n",
       " MatchRecord(date='2000-01-02', venue='Town A', player='David', points_scored=72),\n",
       " MatchRecord(date='2000-01-02', venue='Town A', player='Jennifer', points_scored=62),\n",
       " MatchRecord(date='2000-01-02', venue='Town B', player='Jeremy', points_scored=20),\n",
       " MatchRecord(date='2000-01-02', venue='Town B', player='John', points_scored=47)]"
      ]
     },
     "execution_count": 14,
     "metadata": {},
     "output_type": "execute_result"
    }
   ],
   "source": [
    "g = MatchRecordGenerator()\n",
    "g.generate_as_list(num_iterations=[2, 4, 3, 2], seed=11111)"
   ]
  },
  {
   "cell_type": "code",
   "execution_count": 15,
   "metadata": {},
   "outputs": [],
   "source": [
    "def f_num_iterations(match_date, match_venue):\n",
    "    if match_venue == \"Town A\":\n",
    "        return 3\n",
    "    elif match_venue == \"Town B\":\n",
    "        return 1\n",
    "    else:\n",
    "        raise ValueError(\"Invalid venue\")"
   ]
  },
  {
   "cell_type": "code",
   "execution_count": 16,
   "metadata": {},
   "outputs": [
    {
     "data": {
      "text/plain": [
       "[MatchRecord(date='2000-01-01', venue='Town A', player='Renee', points_scored=54),\n",
       " MatchRecord(date='2000-01-01', venue='Town A', player='Robert', points_scored=25),\n",
       " MatchRecord(date='2000-01-01', venue='Town A', player='Kimberly', points_scored=32),\n",
       " MatchRecord(date='2000-01-01', venue='Town B', player='Steven', points_scored=43),\n",
       " MatchRecord(date='2000-01-02', venue='Town A', player='Ann', points_scored=64),\n",
       " MatchRecord(date='2000-01-02', venue='Town A', player='David', points_scored=72),\n",
       " MatchRecord(date='2000-01-02', venue='Town A', player='Jennifer', points_scored=62),\n",
       " MatchRecord(date='2000-01-02', venue='Town B', player='Jeremy', points_scored=20),\n",
       " MatchRecord(date='2000-01-03', venue='Town A', player='Michael', points_scored=51),\n",
       " MatchRecord(date='2000-01-03', venue='Town A', player='Tina', points_scored=81),\n",
       " MatchRecord(date='2000-01-03', venue='Town A', player='Amy', points_scored=25),\n",
       " MatchRecord(date='2000-01-03', venue='Town B', player='Kathryn', points_scored=2)]"
      ]
     },
     "execution_count": 16,
     "metadata": {},
     "output_type": "execute_result"
    }
   ],
   "source": [
    "g.generate_as_list(num_iterations=f_num_iterations, seed=11111)"
   ]
  },
  {
   "cell_type": "markdown",
   "metadata": {},
   "source": [
    "## Placeholder loop variables (filling in values later)"
   ]
  },
  {
   "cell_type": "code",
   "execution_count": 17,
   "metadata": {},
   "outputs": [],
   "source": [
    "import pytest\n",
    "from tohu.looping import PLACEHOLDER, UnassignedValuesError"
   ]
  },
  {
   "cell_type": "code",
   "execution_count": 18,
   "metadata": {},
   "outputs": [],
   "source": [
    "@foreach(match_date=PLACEHOLDER)  # it is also possible to write `match_date=...`\n",
    "@foreach(match_venue=[\"Town A\", \"Town B\"])\n",
    "class MatchRecordGenerator(CustomGenerator):\n",
    "    date = match_date\n",
    "    venue = match_venue\n",
    "    player = FakerGenerator(method=\"first_name\")\n",
    "    points_scored = Integer(0, 100)"
   ]
  },
  {
   "cell_type": "code",
   "execution_count": 19,
   "metadata": {},
   "outputs": [],
   "source": [
    "g = MatchRecordGenerator()"
   ]
  },
  {
   "cell_type": "code",
   "execution_count": 20,
   "metadata": {},
   "outputs": [],
   "source": [
    "with pytest.raises(UnassignedValuesError, match=\"Loop variable 'match_date' has not been assigned any values.\"):\n",
    "    g.generate_as_list(num_iterations=2, seed=11111)"
   ]
  },
  {
   "cell_type": "code",
   "execution_count": 21,
   "metadata": {},
   "outputs": [
    {
     "data": {
      "text/plain": [
       "[MatchRecord(date='2020-01-01', venue='Town A', player='Renee', points_scored=54),\n",
       " MatchRecord(date='2020-01-01', venue='Town A', player='Robert', points_scored=25),\n",
       " MatchRecord(date='2020-01-01', venue='Town B', player='Steven', points_scored=43),\n",
       " MatchRecord(date='2020-01-01', venue='Town B', player='Sherri', points_scored=60),\n",
       " MatchRecord(date='2020-01-02', venue='Town A', player='Ann', points_scored=64),\n",
       " MatchRecord(date='2020-01-02', venue='Town A', player='David', points_scored=72),\n",
       " MatchRecord(date='2020-01-02', venue='Town B', player='Jeremy', points_scored=20),\n",
       " MatchRecord(date='2020-01-02', venue='Town B', player='John', points_scored=47)]"
      ]
     },
     "execution_count": 21,
     "metadata": {},
     "output_type": "execute_result"
    }
   ],
   "source": [
    "g.foreach(match_date=[\"2020-01-01\", \"2020-01-02\"]).generate_as_list(num_iterations=2, seed=11111)"
   ]
  },
  {
   "cell_type": "code",
   "execution_count": 22,
   "metadata": {},
   "outputs": [
    {
     "data": {
      "text/plain": [
       "[MatchRecord(date='2020-01-01', venue='Town A', player='Renee', points_scored=54),\n",
       " MatchRecord(date='2020-01-01', venue='Town A', player='Robert', points_scored=25),\n",
       " MatchRecord(date='2020-01-01', venue='Town B', player='Steven', points_scored=43),\n",
       " MatchRecord(date='2020-01-01', venue='Town B', player='Sherri', points_scored=60),\n",
       " MatchRecord(date='2020-01-02', venue='Town A', player='Ann', points_scored=64),\n",
       " MatchRecord(date='2020-01-02', venue='Town A', player='David', points_scored=72),\n",
       " MatchRecord(date='2020-01-02', venue='Town B', player='Jeremy', points_scored=20),\n",
       " MatchRecord(date='2020-01-02', venue='Town B', player='John', points_scored=47),\n",
       " MatchRecord(date='2020-01-03', venue='Town A', player='Michael', points_scored=51),\n",
       " MatchRecord(date='2020-01-03', venue='Town A', player='Tina', points_scored=81),\n",
       " MatchRecord(date='2020-01-03', venue='Town B', player='Kathryn', points_scored=2),\n",
       " MatchRecord(date='2020-01-03', venue='Town B', player='David', points_scored=53)]"
      ]
     },
     "execution_count": 22,
     "metadata": {},
     "output_type": "execute_result"
    }
   ],
   "source": [
    "g.foreach(match_date=[\"2020-01-01\", \"2020-01-02\", \"2020-01-03\"]).generate_as_list(num_iterations=2, seed=11111)"
   ]
  },
  {
   "cell_type": "code",
   "execution_count": 23,
   "metadata": {},
   "outputs": [],
   "source": [
    "with pytest.raises(UnassignedValuesError, match=\"Loop variable 'match_date' has not been assigned any values.\"):\n",
    "    g.generate_as_list(num_iterations=2, seed=11111)"
   ]
  }
 ],
 "metadata": {
  "kernelspec": {
   "display_name": "Python 3",
   "language": "python",
   "name": "python3"
  },
  "language_info": {
   "codemirror_mode": {
    "name": "ipython",
    "version": 3
   },
   "file_extension": ".py",
   "mimetype": "text/x-python",
   "name": "python",
   "nbconvert_exporter": "python",
   "pygments_lexer": "ipython3",
   "version": "3.8.1"
  }
 },
 "nbformat": 4,
 "nbformat_minor": 4
}
