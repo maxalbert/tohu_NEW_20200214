{
 "cells": [
  {
   "cell_type": "markdown",
   "metadata": {},
   "source": [
    "# Looping with `@foreach`"
   ]
  },
  {
   "cell_type": "markdown",
   "metadata": {},
   "source": [
    "\n",
    "[TOC]\n"
   ]
  },
  {
   "cell_type": "markdown",
   "metadata": {},
   "source": [
    "## Single loop variable"
   ]
  },
  {
   "cell_type": "code",
   "execution_count": 1,
   "metadata": {},
   "outputs": [],
   "source": [
    "from tohu import FakerGenerator, Integer, CustomGenerator, foreach"
   ]
  },
  {
   "cell_type": "code",
   "execution_count": 2,
   "metadata": {},
   "outputs": [],
   "source": [
    "@foreach(match_date=[\"2000-01-01\", \"2000-01-02\", \"2000-01-03\"])\n",
    "class MatchRecordGenerator(CustomGenerator):\n",
    "    date = match_date\n",
    "    player = FakerGenerator(method=\"first_name\")\n",
    "    points_scored = Integer(0, 100)"
   ]
  },
  {
   "cell_type": "code",
   "execution_count": 3,
   "metadata": {},
   "outputs": [
    {
     "data": {
      "text/plain": [
       "<@foreach-wrapped <MatchRecordGenerator (id=4c1ab1)> >"
      ]
     },
     "execution_count": 3,
     "metadata": {},
     "output_type": "execute_result"
    }
   ],
   "source": [
    "g = MatchRecordGenerator()\n",
    "g"
   ]
  },
  {
   "cell_type": "code",
   "execution_count": 4,
   "metadata": {},
   "outputs": [
    {
     "data": {
      "text/plain": [
       "[MatchRecord(date='2000-01-01', player='Olivia', points_scored=32),\n",
       " MatchRecord(date='2000-01-01', player='Dominic', points_scored=23),\n",
       " MatchRecord(date='2000-01-02', player='Sara', points_scored=49),\n",
       " MatchRecord(date='2000-01-02', player='Christopher', points_scored=1),\n",
       " MatchRecord(date='2000-01-02', player='Vanessa', points_scored=47),\n",
       " MatchRecord(date='2000-01-02', player='Thomas', points_scored=45),\n",
       " MatchRecord(date='2000-01-03', player='Melvin', points_scored=21),\n",
       " MatchRecord(date='2000-01-03', player='Patrick', points_scored=80),\n",
       " MatchRecord(date='2000-01-03', player='Craig', points_scored=40)]"
      ]
     },
     "execution_count": 4,
     "metadata": {},
     "output_type": "execute_result"
    }
   ],
   "source": [
    "list(g.generate_as_stream(num_iterations=[2, 4, 3], seed=11111))"
   ]
  },
  {
   "cell_type": "markdown",
   "metadata": {},
   "source": [
    "Since we specified three dates in the `@foreach` call above, we also must provide three values in the list `nums` (so that the `generate_as_stream()` method knows how many elements to produce for each generation.\n",
    "\n",
    "It is allowed for the list to be longer (in which case subsequent elements are ignored) or shorter (in which case fewer loop iterations are run), as shown below."
   ]
  },
  {
   "cell_type": "code",
   "execution_count": 5,
   "metadata": {},
   "outputs": [
    {
     "name": "stderr",
     "output_type": "stream",
     "text": [
      "2020-03-19 16:45:05 WARNING  num_iterations sequence does not contain enough elements to complete loop: [2, 3]\n"
     ]
    },
    {
     "data": {
      "text/plain": [
       "[MatchRecord(date='2000-01-01', player='Gina', points_scored=8),\n",
       " MatchRecord(date='2000-01-01', player='Scott', points_scored=20),\n",
       " MatchRecord(date='2000-01-02', player='Gregory', points_scored=51),\n",
       " MatchRecord(date='2000-01-02', player='Wayne', points_scored=38),\n",
       " MatchRecord(date='2000-01-02', player='James', points_scored=64)]"
      ]
     },
     "execution_count": 5,
     "metadata": {},
     "output_type": "execute_result"
    }
   ],
   "source": [
    "# Here `num` has fewer elements than there are dates we're looping over,\n",
    "# so the loop iteration for the third date doesn't happen.\n",
    "list(g.generate_as_stream(num_iterations=[2, 3], seed=11111))"
   ]
  },
  {
   "cell_type": "code",
   "execution_count": 6,
   "metadata": {},
   "outputs": [
    {
     "data": {
      "text/plain": [
       "[MatchRecord(date='2000-01-01', player='Andrew', points_scored=22),\n",
       " MatchRecord(date='2000-01-01', player='Timothy', points_scored=77),\n",
       " MatchRecord(date='2000-01-02', player='Jane', points_scored=20),\n",
       " MatchRecord(date='2000-01-02', player='Linda', points_scored=15),\n",
       " MatchRecord(date='2000-01-02', player='Jonathan', points_scored=67),\n",
       " MatchRecord(date='2000-01-02', player='Caroline', points_scored=77),\n",
       " MatchRecord(date='2000-01-03', player='Preston', points_scored=82),\n",
       " MatchRecord(date='2000-01-03', player='Thomas', points_scored=26),\n",
       " MatchRecord(date='2000-01-03', player='Lindsay', points_scored=55)]"
      ]
     },
     "execution_count": 6,
     "metadata": {},
     "output_type": "execute_result"
    }
   ],
   "source": [
    "# Here `num` has more elements than there are dates we're looping over,\n",
    "# so the additional elements are ignored for looping.\n",
    "list(g.generate_as_stream(num_iterations=[2, 4, 3, 5, 1, 2], seed=11111))"
   ]
  },
  {
   "cell_type": "markdown",
   "metadata": {},
   "source": [
    "## Multiple loop variables (at the same level)"
   ]
  },
  {
   "cell_type": "code",
   "execution_count": 7,
   "metadata": {},
   "outputs": [],
   "source": [
    "@foreach(match_date=[\"2000-01-01\", \"2000-01-02\", \"2000-01-03\"], match_venue=[\"Town A\", \"Town B\", \"Town C\"])\n",
    "class MatchRecordGenerator(CustomGenerator):\n",
    "    date = match_date\n",
    "    venue = match_venue\n",
    "    player = FakerGenerator(method=\"first_name\")\n",
    "    points_scored = Integer(0, 100)"
   ]
  },
  {
   "cell_type": "code",
   "execution_count": 8,
   "metadata": {},
   "outputs": [],
   "source": [
    "g = MatchRecordGenerator()"
   ]
  },
  {
   "cell_type": "markdown",
   "metadata": {},
   "source": [
    "Note that in the generated items, the match date and venue are always matched up:"
   ]
  },
  {
   "cell_type": "code",
   "execution_count": 9,
   "metadata": {},
   "outputs": [
    {
     "data": {
      "text/plain": [
       "[MatchRecord(date='2000-01-01', venue='Town A', player='Wayne', points_scored=54),\n",
       " MatchRecord(date='2000-01-01', venue='Town A', player='Alexis', points_scored=89),\n",
       " MatchRecord(date='2000-01-02', venue='Town B', player='Samuel', points_scored=9),\n",
       " MatchRecord(date='2000-01-02', venue='Town B', player='Michael', points_scored=59),\n",
       " MatchRecord(date='2000-01-02', venue='Town B', player='Michele', points_scored=12),\n",
       " MatchRecord(date='2000-01-02', venue='Town B', player='Joseph', points_scored=36),\n",
       " MatchRecord(date='2000-01-03', venue='Town C', player='Jessica', points_scored=52),\n",
       " MatchRecord(date='2000-01-03', venue='Town C', player='Michael', points_scored=59),\n",
       " MatchRecord(date='2000-01-03', venue='Town C', player='Curtis', points_scored=27)]"
      ]
     },
     "execution_count": 9,
     "metadata": {},
     "output_type": "execute_result"
    }
   ],
   "source": [
    "g.generate_as_list(num_iterations=[2, 4, 3], seed=11111)"
   ]
  },
  {
   "cell_type": "markdown",
   "metadata": {},
   "source": [
    "If one of the loop variables contains more elements than the other, the additional ones are ignored. In other words, we can only do as many loop iterations as specified by the loop variable with the fewest values. Here we can only produce elements for two dates (even though there are four venues)."
   ]
  },
  {
   "cell_type": "code",
   "execution_count": 10,
   "metadata": {},
   "outputs": [],
   "source": [
    "@foreach(match_date=[\"2000-01-01\", \"2000-01-02\"], match_venue=[\"Town A\", \"Town B\", \"Town C\", \"Town D\"])\n",
    "class MatchRecordGenerator(CustomGenerator):\n",
    "    date = match_date\n",
    "    venue = match_venue\n",
    "    player = FakerGenerator(method=\"first_name\")\n",
    "    points_scored = Integer(0, 100)"
   ]
  },
  {
   "cell_type": "code",
   "execution_count": 11,
   "metadata": {},
   "outputs": [
    {
     "data": {
      "text/plain": [
       "[MatchRecord(date='2000-01-01', venue='Town A', player='Ashley', points_scored=8),\n",
       " MatchRecord(date='2000-01-01', venue='Town A', player='Matthew', points_scored=94),\n",
       " MatchRecord(date='2000-01-02', venue='Town B', player='Sara', points_scored=13),\n",
       " MatchRecord(date='2000-01-02', venue='Town B', player='Elizabeth', points_scored=27),\n",
       " MatchRecord(date='2000-01-02', venue='Town B', player='Latoya', points_scored=75),\n",
       " MatchRecord(date='2000-01-02', venue='Town B', player='Christina', points_scored=49)]"
      ]
     },
     "execution_count": 11,
     "metadata": {},
     "output_type": "execute_result"
    }
   ],
   "source": [
    "g = MatchRecordGenerator()\n",
    "g.generate_as_list(num_iterations=[2, 4, 3, 2], seed=11111)"
   ]
  },
  {
   "cell_type": "markdown",
   "metadata": {},
   "source": [
    "## Nested loop variables"
   ]
  },
  {
   "cell_type": "code",
   "execution_count": 12,
   "metadata": {},
   "outputs": [],
   "source": [
    "@foreach(match_date=[\"2000-01-01\", \"2000-01-02\", \"2000-01-03\"])\n",
    "@foreach(match_venue=[\"Town A\", \"Town B\"])\n",
    "class MatchRecordGenerator(CustomGenerator):\n",
    "    date = match_date\n",
    "    venue = match_venue\n",
    "    player = FakerGenerator(method=\"first_name\")\n",
    "    points_scored = Integer(0, 100)"
   ]
  },
  {
   "cell_type": "code",
   "execution_count": 13,
   "metadata": {},
   "outputs": [
    {
     "name": "stderr",
     "output_type": "stream",
     "text": [
      "2020-03-19 16:45:05 WARNING  num_iterations sequence does not contain enough elements to complete loop: [2, 4, 3, 2]\n"
     ]
    },
    {
     "data": {
      "text/plain": [
       "[MatchRecord(date='2000-01-01', venue='Town A', player='Travis', points_scored=69),\n",
       " MatchRecord(date='2000-01-01', venue='Town A', player='Barbara', points_scored=27),\n",
       " MatchRecord(date='2000-01-01', venue='Town B', player='Justin', points_scored=37),\n",
       " MatchRecord(date='2000-01-01', venue='Town B', player='Robert', points_scored=62),\n",
       " MatchRecord(date='2000-01-01', venue='Town B', player='Christopher', points_scored=22),\n",
       " MatchRecord(date='2000-01-01', venue='Town B', player='Robert', points_scored=67),\n",
       " MatchRecord(date='2000-01-02', venue='Town A', player='Hannah', points_scored=39),\n",
       " MatchRecord(date='2000-01-02', venue='Town A', player='Jennifer', points_scored=14),\n",
       " MatchRecord(date='2000-01-02', venue='Town A', player='Angela', points_scored=21),\n",
       " MatchRecord(date='2000-01-02', venue='Town B', player='Michael', points_scored=76),\n",
       " MatchRecord(date='2000-01-02', venue='Town B', player='Paul', points_scored=12)]"
      ]
     },
     "execution_count": 13,
     "metadata": {},
     "output_type": "execute_result"
    }
   ],
   "source": [
    "g = MatchRecordGenerator()\n",
    "g.generate_as_list(num_iterations=[2, 4, 3, 2], seed=11111)"
   ]
  },
  {
   "cell_type": "code",
   "execution_count": 14,
   "metadata": {},
   "outputs": [],
   "source": [
    "def f_num_iterations(match_date, match_venue):\n",
    "    if match_venue == \"Town A\":\n",
    "        return 3\n",
    "    elif match_venue == \"Town B\":\n",
    "        return 1\n",
    "    else:\n",
    "        raise ValueError(\"Invalid venue\")"
   ]
  },
  {
   "cell_type": "code",
   "execution_count": 15,
   "metadata": {},
   "outputs": [
    {
     "data": {
      "text/plain": [
       "[MatchRecord(date='2000-01-01', venue='Town A', player='Nichole', points_scored=59),\n",
       " MatchRecord(date='2000-01-01', venue='Town A', player='Robert', points_scored=61),\n",
       " MatchRecord(date='2000-01-01', venue='Town A', player='Leah', points_scored=94),\n",
       " MatchRecord(date='2000-01-01', venue='Town B', player='Matthew', points_scored=41),\n",
       " MatchRecord(date='2000-01-02', venue='Town A', player='Cody', points_scored=93),\n",
       " MatchRecord(date='2000-01-02', venue='Town A', player='Bryan', points_scored=92),\n",
       " MatchRecord(date='2000-01-02', venue='Town A', player='Kyle', points_scored=4),\n",
       " MatchRecord(date='2000-01-02', venue='Town B', player='Dustin', points_scored=92),\n",
       " MatchRecord(date='2000-01-03', venue='Town A', player='Lisa', points_scored=42),\n",
       " MatchRecord(date='2000-01-03', venue='Town A', player='Michael', points_scored=49),\n",
       " MatchRecord(date='2000-01-03', venue='Town A', player='Anthony', points_scored=46),\n",
       " MatchRecord(date='2000-01-03', venue='Town B', player='Mark', points_scored=6)]"
      ]
     },
     "execution_count": 15,
     "metadata": {},
     "output_type": "execute_result"
    }
   ],
   "source": [
    "g.generate_as_list(num_iterations=f_num_iterations, seed=11111)"
   ]
  },
  {
   "cell_type": "markdown",
   "metadata": {},
   "source": [
    "## Placeholder loop variables (filling in values later)"
   ]
  },
  {
   "cell_type": "code",
   "execution_count": 16,
   "metadata": {},
   "outputs": [],
   "source": [
    "import pytest\n",
    "from tohu.looping_NEW_2 import PLACEHOLDER, UnassignedValuesError"
   ]
  },
  {
   "cell_type": "code",
   "execution_count": 17,
   "metadata": {},
   "outputs": [],
   "source": [
    "@foreach(match_date=PLACEHOLDER)\n",
    "@foreach(match_venue=[\"Town A\", \"Town B\"])\n",
    "class MatchRecordGenerator(CustomGenerator):\n",
    "    date = match_date\n",
    "    venue = match_venue\n",
    "    player = FakerGenerator(method=\"first_name\")\n",
    "    points_scored = Integer(0, 100)"
   ]
  },
  {
   "cell_type": "code",
   "execution_count": 18,
   "metadata": {},
   "outputs": [],
   "source": [
    "g = MatchRecordGenerator()"
   ]
  },
  {
   "cell_type": "code",
   "execution_count": 19,
   "metadata": {},
   "outputs": [],
   "source": [
    "with pytest.raises(UnassignedValuesError, match=\"Loop variable 'match_date' has not been assigned any values.\"):\n",
    "    g.generate_as_list(num_iterations=2, seed=11111)"
   ]
  },
  {
   "cell_type": "code",
   "execution_count": 20,
   "metadata": {},
   "outputs": [
    {
     "data": {
      "text/plain": [
       "[MatchRecord(date='2020-01-01', venue='Town A', player='Heather', points_scored=99),\n",
       " MatchRecord(date='2020-01-01', venue='Town A', player='Melissa', points_scored=60),\n",
       " MatchRecord(date='2020-01-01', venue='Town B', player='Megan', points_scored=54),\n",
       " MatchRecord(date='2020-01-01', venue='Town B', player='Billy', points_scored=80),\n",
       " MatchRecord(date='2020-01-02', venue='Town A', player='Sarah', points_scored=95),\n",
       " MatchRecord(date='2020-01-02', venue='Town A', player='Jacqueline', points_scored=13),\n",
       " MatchRecord(date='2020-01-02', venue='Town B', player='Amy', points_scored=40),\n",
       " MatchRecord(date='2020-01-02', venue='Town B', player='Vanessa', points_scored=86)]"
      ]
     },
     "execution_count": 20,
     "metadata": {},
     "output_type": "execute_result"
    }
   ],
   "source": [
    "g.foreach(match_date=[\"2020-01-01\", \"2020-01-02\"]).generate_as_list(num_iterations=2, seed=11111)"
   ]
  },
  {
   "cell_type": "code",
   "execution_count": 21,
   "metadata": {},
   "outputs": [
    {
     "data": {
      "text/plain": [
       "[MatchRecord(date='2020-01-01', venue='Town A', player='Holly', points_scored=26),\n",
       " MatchRecord(date='2020-01-01', venue='Town A', player='Kimberly', points_scored=19),\n",
       " MatchRecord(date='2020-01-01', venue='Town B', player='Rachel', points_scored=69),\n",
       " MatchRecord(date='2020-01-01', venue='Town B', player='Bryan', points_scored=68),\n",
       " MatchRecord(date='2020-01-02', venue='Town A', player='Mike', points_scored=14),\n",
       " MatchRecord(date='2020-01-02', venue='Town A', player='Brian', points_scored=8),\n",
       " MatchRecord(date='2020-01-02', venue='Town B', player='Terry', points_scored=42),\n",
       " MatchRecord(date='2020-01-02', venue='Town B', player='Kenneth', points_scored=0),\n",
       " MatchRecord(date='2020-01-03', venue='Town A', player='Jessica', points_scored=8),\n",
       " MatchRecord(date='2020-01-03', venue='Town A', player='Kevin', points_scored=31),\n",
       " MatchRecord(date='2020-01-03', venue='Town B', player='Gregg', points_scored=89),\n",
       " MatchRecord(date='2020-01-03', venue='Town B', player='April', points_scored=54)]"
      ]
     },
     "execution_count": 21,
     "metadata": {},
     "output_type": "execute_result"
    }
   ],
   "source": [
    "g.foreach(match_date=[\"2020-01-01\", \"2020-01-02\", \"2020-01-03\"]).generate_as_list(num_iterations=2, seed=11111)"
   ]
  },
  {
   "cell_type": "code",
   "execution_count": 22,
   "metadata": {},
   "outputs": [],
   "source": [
    "with pytest.raises(UnassignedValuesError, match=\"Loop variable 'match_date' has not been assigned any values.\"):\n",
    "    g.generate_as_list(num_iterations=2, seed=11111)"
   ]
  }
 ],
 "metadata": {
  "kernelspec": {
   "display_name": "Python 3",
   "language": "python",
   "name": "python3"
  },
  "language_info": {
   "codemirror_mode": {
    "name": "ipython",
    "version": 3
   },
   "file_extension": ".py",
   "mimetype": "text/x-python",
   "name": "python",
   "nbconvert_exporter": "python",
   "pygments_lexer": "ipython3",
   "version": "3.8.1"
  }
 },
 "nbformat": 4,
 "nbformat_minor": 4
}
