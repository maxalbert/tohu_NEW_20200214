{
 "cells": [
  {
   "cell_type": "markdown",
   "metadata": {},
   "source": [
    "# Custom Generators"
   ]
  },
  {
   "cell_type": "markdown",
   "metadata": {},
   "source": [
    "This section introduces \"custom generators\", which allow to combine individual generators into a single new entity."
   ]
  },
  {
   "cell_type": "markdown",
   "metadata": {},
   "source": [
    "[TOC]"
   ]
  },
  {
   "cell_type": "markdown",
   "metadata": {},
   "source": [
    "## Introduction"
   ]
  },
  {
   "cell_type": "markdown",
   "metadata": {},
   "source": [
    "[Primitive generators](../../primitive_generators/) are nice, but on their own they are barely more useful than existing random number generators such as Python's built-in [random](https://docs.python.org/3/library/random.html) module, `numpy`'s (random)[https://docs.scipy.org/doc/numpy/reference/random/index.html] module or the [faker](https://faker.readthedocs.io/en/master/) package. (Perhaps the most useful aspect about primitive generators on their own is that they present a consistent interface for generating random items of different types, but this alone rarely justifies the existence of a package like `tohu`.)"
   ]
  },
  {
   "cell_type": "markdown",
   "metadata": {},
   "source": [
    "The real power of `tohu` lies in how it allows to easily combine other generators into \"compound\" generators. In `tohu` these are called `CustomGenerators` (TODO: should this name be changed to `CompoundGenerator`?)."
   ]
  },
  {
   "cell_type": "markdown",
   "metadata": {},
   "source": [
    "## Example: Generating \"Person\" Records"
   ]
  },
  {
   "cell_type": "markdown",
   "metadata": {},
   "source": [
    "Imagine you want to create synthetic data that represents information about a person. For each person you may want to create a name, an age, and a job decription. As we learned [before](../../primitive_generators/) in the section about primitive generators, we can generate these kinds of data separately, but how do we combine them into proper \"Person\" records? The answer is, we use a `CustomGenerator`.\n",
    "\n",
    "Let's look at an example. As before, we present the full example first and then analyse it in more detail."
   ]
  },
  {
   "cell_type": "code",
   "execution_count": 6,
   "metadata": {},
   "outputs": [
    {
     "data": {
      "text/plain": [
       "[{'name': 'Jonathan Hernandez', 'age': 55, 'job': 'Web designer'},\n",
       " {'name': 'Cheryl Stevens', 'age': 24, 'job': 'Prison officer'},\n",
       " {'name': 'Manuel Mclean', 'age': 17, 'job': 'Fine artist'},\n",
       " {'name': 'Paul Malone', 'age': 70, 'job': 'Horticulturist, commercial'},\n",
       " {'name': 'Jason Dickson', 'age': 18, 'job': 'Journalist, broadcasting'}]"
      ]
     },
     "execution_count": 6,
     "metadata": {},
     "output_type": "execute_result"
    }
   ],
   "source": [
    "from tohu import FakerGenerator, Integer, CustomGenerator\n",
    "\n",
    "class PersonGenerator(CustomGenerator):\n",
    "    name = FakerGenerator(method=\"name\")\n",
    "    age = Integer(0, 99)\n",
    "    job = FakerGenerator(method=\"job\")\n",
    "\n",
    "g = PersonGenerator()\n",
    "\n",
    "g.generate_as_list(num=5, seed=12345)"
   ]
  }
 ],
 "metadata": {
  "kernelspec": {
   "display_name": "Python 3",
   "language": "python",
   "name": "python3"
  },
  "language_info": {
   "codemirror_mode": {
    "name": "ipython",
    "version": 3
   },
   "file_extension": ".py",
   "mimetype": "text/x-python",
   "name": "python",
   "nbconvert_exporter": "python",
   "pygments_lexer": "ipython3",
   "version": "3.8.1"
  }
 },
 "nbformat": 4,
 "nbformat_minor": 4
}
