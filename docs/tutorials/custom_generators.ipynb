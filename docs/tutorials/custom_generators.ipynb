{
 "cells": [
  {
   "cell_type": "markdown",
   "metadata": {},
   "source": [
    "# Custom Generators"
   ]
  },
  {
   "cell_type": "markdown",
   "metadata": {},
   "source": [
    "This section introduces \"custom generators\", which allow to combine individual generators into a single new entity."
   ]
  },
  {
   "cell_type": "markdown",
   "metadata": {},
   "source": [
    "[TOC]"
   ]
  },
  {
   "cell_type": "markdown",
   "metadata": {},
   "source": [
    "## Introduction"
   ]
  },
  {
   "cell_type": "markdown",
   "metadata": {},
   "source": [
    "[Primitive generators](../../primitive_generators/) are nice, but on their own they are barely more useful than existing random number generators such as Python's built-in [random](https://docs.python.org/3/library/random.html) module, `numpy`'s [random](https://docs.scipy.org/doc/numpy/reference/random/index.html) module or the [faker](https://faker.readthedocs.io/en/master/) package. (Perhaps the most useful aspect about primitive generators on their own is that they present a consistent interface for generating random items of different types, but this alone rarely justifies the existence of a package like `tohu`.)"
   ]
  },
  {
   "cell_type": "markdown",
   "metadata": {},
   "source": [
    "The real power of `tohu` lies in how it allows to easily combine other generators into \"compound\" generators. In `tohu` these are called `CustomGenerators` (TODO: should this name be changed to `CompoundGenerator`?)."
   ]
  },
  {
   "cell_type": "markdown",
   "metadata": {},
   "source": [
    "## Example: Generating \"Person\" Records"
   ]
  },
  {
   "cell_type": "markdown",
   "metadata": {},
   "source": [
    "Imagine you want to create synthetic data that represents information about a person. For each person you may want to create a name, an age, and a job decription. As we learned [before](../../primitive_generators/) in the section about primitive generators, we can generate these kinds of data separately, but how do we combine them into proper \"Person\" records? The answer is, we use a `CustomGenerator`.\n",
    "\n",
    "Let's look at an example. As before, we present the full example first and then analyse it in more detail."
   ]
  },
  {
   "cell_type": "code",
   "execution_count": 1,
   "metadata": {},
   "outputs": [],
   "source": [
    "from tohu import FakerGenerator, Integer, CustomGenerator\n",
    "\n",
    "class PersonGenerator(CustomGenerator):\n",
    "    name = FakerGenerator(method=\"name\")\n",
    "    age = Integer(0, 99)\n",
    "    job = FakerGenerator(method=\"job\")\n",
    "\n",
    "g = PersonGenerator()\n",
    "\n",
    "items = g.generate(num=5, seed=12345)"
   ]
  },
  {
   "cell_type": "code",
   "execution_count": 2,
   "metadata": {},
   "outputs": [
    {
     "data": {
      "text/plain": [
       "<ItemList containing 5 items>"
      ]
     },
     "execution_count": 2,
     "metadata": {},
     "output_type": "execute_result"
    }
   ],
   "source": [
    "items"
   ]
  },
  {
   "cell_type": "code",
   "execution_count": 3,
   "metadata": {},
   "outputs": [
    {
     "data": {
      "text/plain": [
       "[Person(name='Jonathan Hernandez', age=55, job='Web designer'),\n",
       " Person(name='Cheryl Stevens', age=24, job='Prison officer'),\n",
       " Person(name='Manuel Mclean', age=17, job='Fine artist'),\n",
       " Person(name='Paul Malone', age=70, job='Horticulturist, commercial'),\n",
       " Person(name='Jason Dickson', age=18, job='Journalist, broadcasting')]"
      ]
     },
     "execution_count": 3,
     "metadata": {},
     "output_type": "execute_result"
    }
   ],
   "source": [
    "list(items)"
   ]
  },
  {
   "cell_type": "markdown",
   "metadata": {},
   "source": [
    "While in many respects an `ItemList` behaves like a regular list, it is more powerful. For example, it supports exporting its items to a pandas dataframe."
   ]
  },
  {
   "cell_type": "code",
   "execution_count": 5,
   "metadata": {},
   "outputs": [
    {
     "data": {
      "text/html": [
       "<div>\n",
       "<style scoped>\n",
       "    .dataframe tbody tr th:only-of-type {\n",
       "        vertical-align: middle;\n",
       "    }\n",
       "\n",
       "    .dataframe tbody tr th {\n",
       "        vertical-align: top;\n",
       "    }\n",
       "\n",
       "    .dataframe thead th {\n",
       "        text-align: right;\n",
       "    }\n",
       "</style>\n",
       "<table border=\"1\" class=\"dataframe\">\n",
       "  <thead>\n",
       "    <tr style=\"text-align: right;\">\n",
       "      <th></th>\n",
       "      <th>name</th>\n",
       "      <th>age</th>\n",
       "      <th>job</th>\n",
       "    </tr>\n",
       "  </thead>\n",
       "  <tbody>\n",
       "    <tr>\n",
       "      <th>0</th>\n",
       "      <td>Jonathan Hernandez</td>\n",
       "      <td>55</td>\n",
       "      <td>Web designer</td>\n",
       "    </tr>\n",
       "    <tr>\n",
       "      <th>1</th>\n",
       "      <td>Cheryl Stevens</td>\n",
       "      <td>24</td>\n",
       "      <td>Prison officer</td>\n",
       "    </tr>\n",
       "    <tr>\n",
       "      <th>2</th>\n",
       "      <td>Manuel Mclean</td>\n",
       "      <td>17</td>\n",
       "      <td>Fine artist</td>\n",
       "    </tr>\n",
       "    <tr>\n",
       "      <th>3</th>\n",
       "      <td>Paul Malone</td>\n",
       "      <td>70</td>\n",
       "      <td>Horticulturist, commercial</td>\n",
       "    </tr>\n",
       "    <tr>\n",
       "      <th>4</th>\n",
       "      <td>Jason Dickson</td>\n",
       "      <td>18</td>\n",
       "      <td>Journalist, broadcasting</td>\n",
       "    </tr>\n",
       "  </tbody>\n",
       "</table>\n",
       "</div>"
      ],
      "text/plain": [
       "                 name  age                         job\n",
       "0  Jonathan Hernandez   55                Web designer\n",
       "1      Cheryl Stevens   24              Prison officer\n",
       "2       Manuel Mclean   17                 Fine artist\n",
       "3         Paul Malone   70  Horticulturist, commercial\n",
       "4       Jason Dickson   18    Journalist, broadcasting"
      ]
     },
     "execution_count": 5,
     "metadata": {},
     "output_type": "execute_result"
    }
   ],
   "source": [
    "items.to_df()"
   ]
  }
 ],
 "metadata": {
  "kernelspec": {
   "display_name": "Python 3",
   "language": "python",
   "name": "python3"
  },
  "language_info": {
   "codemirror_mode": {
    "name": "ipython",
    "version": 3
   },
   "file_extension": ".py",
   "mimetype": "text/x-python",
   "name": "python",
   "nbconvert_exporter": "python",
   "pygments_lexer": "ipython3",
   "version": "3.8.1"
  }
 },
 "nbformat": 4,
 "nbformat_minor": 4
}
