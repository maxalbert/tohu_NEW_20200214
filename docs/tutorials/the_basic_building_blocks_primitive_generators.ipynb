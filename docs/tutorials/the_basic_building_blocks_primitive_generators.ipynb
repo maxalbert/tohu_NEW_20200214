{
 "cells": [
  {
   "cell_type": "markdown",
   "metadata": {},
   "source": [
    "# The Basic Building Blocks: Primitive Generators"
   ]
  },
  {
   "cell_type": "markdown",
   "metadata": {},
   "source": [
    "## Introduction"
   ]
  },
  {
   "cell_type": "markdown",
   "metadata": {},
   "source": [
    "The most fundamental building blocks of `tohu` are the so-called \"primitive\" generators. A primitive generator is simply a random generator which knows how to produce values of a specific \"type\" (in a slightly loose sense of the word). For example, there are primitive generators which produce random integers, random boolean values, random names, etc. (see [here](../../reference_guides/primitive_generators/) for a full list).\n",
    "\n",
    "The reason they are called \"primitive\" is because they do not depend on any other generators in `tohu`, and they can be combined into more complex generators (see subsequent sections)."
   ]
  },
  {
   "cell_type": "markdown",
   "metadata": {},
   "source": [
    "This section illustrates how to create and use primitive generators directly. Note that in practical use you will rarely need or want to create them manually as we do here - typically, they will be created as part of a `CustomGenerator` (TODO: see section [...]). However, it is useful to get a feel for how they work under the hood, so let's look at an example."
   ]
  },
  {
   "cell_type": "markdown",
   "metadata": {},
   "source": [
    "## Example: using `Integer` to produce random integers"
   ]
  },
  {
   "cell_type": "markdown",
   "metadata": {},
   "source": [
    "For our first example, let's use the `Integer` generator, which produces random integers in a given range.\n",
    "\n",
    "Here is the full code snippet and its output (we will look at this line by line in the next section)."
   ]
  },
  {
   "cell_type": "code",
   "execution_count": 7,
   "metadata": {},
   "outputs": [
    {
     "name": "stdout",
     "output_type": "stream",
     "text": [
      "153\n",
      "193\n",
      "101\n",
      "138\n"
     ]
    }
   ],
   "source": [
    "from tohu.primitive_generators import Integer\n",
    "\n",
    "# Create an instance of an Integer generator\n",
    "g = Integer(100, 200)\n",
    "g.reset(seed=12345)\n",
    "\n",
    "# Produce a single value\n",
    "print(next(g))\n",
    "\n",
    "# Produce a few more values manually\n",
    "for _ in range(3):\n",
    "    print(next(g))\n",
    "    \n",
    "# Produce a sequence of values\n",
    "#g.generate(num=10, seed=12345)"
   ]
  },
  {
   "cell_type": "markdown",
   "metadata": {},
   "source": [
    "## Analysing the example"
   ]
  },
  {
   "cell_type": "markdown",
   "metadata": {},
   "source": [
    "### Creating the `Integer` generator"
   ]
  },
  {
   "cell_type": "markdown",
   "metadata": {},
   "source": [
    "First we create an `Integer` generator that will produce values between 100 and 200."
   ]
  },
  {
   "cell_type": "code",
   "execution_count": 2,
   "metadata": {},
   "outputs": [],
   "source": [
    "g = Integer(100, 200)"
   ]
  },
  {
   "cell_type": "markdown",
   "metadata": {},
   "source": [
    "### Resetting the generator"
   ]
  },
  {
   "cell_type": "markdown",
   "metadata": {},
   "source": [
    "Before we actually make it produce any values, we first reset the generator. The purpose of this is to initialize the internal (pseudo-)random number generator so that the output is reproducible. The `seed` argument which we pass to the `reset` method can have any value. As long as you pass the same seed the generator will produce the same sequence of output values, which ensures reproducibility."
   ]
  },
  {
   "cell_type": "code",
   "execution_count": 3,
   "metadata": {},
   "outputs": [
    {
     "data": {
      "text/plain": [
       "<Integer: low=100, high=200>"
      ]
     },
     "execution_count": 3,
     "metadata": {},
     "output_type": "execute_result"
    }
   ],
   "source": [
    "g.reset(seed=12345)"
   ]
  },
  {
   "cell_type": "markdown",
   "metadata": {},
   "source": [
    "### Producing individual random values"
   ]
  },
  {
   "cell_type": "markdown",
   "metadata": {},
   "source": [
    "Now that we have a primitive generator in a well-defined state, how can we produce values using this generator? One way of doing this is to call `next()` on it, which will ask `g` to produce a single new value for us."
   ]
  },
  {
   "cell_type": "code",
   "execution_count": 4,
   "metadata": {},
   "outputs": [
    {
     "name": "stdout",
     "output_type": "stream",
     "text": [
      "153\n"
     ]
    }
   ],
   "source": [
    "print(next(g))"
   ]
  },
  {
   "cell_type": "markdown",
   "metadata": {},
   "source": [
    "We can do this as many times as we want, and each time `g` will produce a new random integer in the range `[100, 200]`. Let's get five more."
   ]
  },
  {
   "cell_type": "code",
   "execution_count": 5,
   "metadata": {},
   "outputs": [
    {
     "name": "stdout",
     "output_type": "stream",
     "text": [
      "193\n",
      "101\n",
      "138\n",
      "147\n",
      "124\n"
     ]
    }
   ],
   "source": [
    "for _ in range(5):\n",
    "    print(next(g))"
   ]
  },
  {
   "cell_type": "markdown",
   "metadata": {},
   "source": [
    "### Producing a sequence of random values"
   ]
  },
  {
   "cell_type": "markdown",
   "metadata": {},
   "source": [
    "While this works ok, it quickly becomes cumbersome if we need a lot of values. A more convenient way is to call the `generate` method. We can pass the number of elements we want, as well as (optionally) a seed. If the seed is given, this internally calls `reset`, which ensures that the returned sequence is reproducible (see above)."
   ]
  },
  {
   "cell_type": "code",
   "execution_count": 6,
   "metadata": {},
   "outputs": [],
   "source": [
    "#g.generate(num=20, seed=99999)"
   ]
  },
  {
   "cell_type": "markdown",
   "metadata": {},
   "source": [
    "**TODO:** Implement the `.generate()` method and explain that the return value is a Python generator (not a list)."
   ]
  }
 ],
 "metadata": {
  "kernelspec": {
   "display_name": "Python 3",
   "language": "python",
   "name": "python3"
  },
  "language_info": {
   "codemirror_mode": {
    "name": "ipython",
    "version": 3
   },
   "file_extension": ".py",
   "mimetype": "text/x-python",
   "name": "python",
   "nbconvert_exporter": "python",
   "pygments_lexer": "ipython3",
   "version": "3.8.1"
  }
 },
 "nbformat": 4,
 "nbformat_minor": 4
}
