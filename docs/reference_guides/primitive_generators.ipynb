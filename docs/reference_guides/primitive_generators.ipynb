{
 "cells": [
  {
   "cell_type": "markdown",
   "metadata": {},
   "source": [
    "# Primitive generators"
   ]
  },
  {
   "cell_type": "code",
   "execution_count": 1,
   "metadata": {},
   "outputs": [],
   "source": [
    "# Import the primitive generator and helper function used below.\n",
    "from tohu.primitive_generators import *\n",
    "from tohu.utils import print_generated_sequence"
   ]
  },
  {
   "cell_type": "markdown",
   "metadata": {},
   "source": [
    "This section demonstrates the primitive generators available in `tohu`."
   ]
  },
  {
   "cell_type": "markdown",
   "metadata": {},
   "source": [
    "[TOC]"
   ]
  },
  {
   "cell_type": "markdown",
   "metadata": {},
   "source": [
    "## Constant"
   ]
  },
  {
   "cell_type": "markdown",
   "metadata": {},
   "source": [
    "The `Constant` generator produces a sequence whose items all have the same fixed value."
   ]
  },
  {
   "cell_type": "code",
   "execution_count": 2,
   "metadata": {},
   "outputs": [],
   "source": [
    "g = Constant(\"quux\")"
   ]
  },
  {
   "cell_type": "code",
   "execution_count": 3,
   "metadata": {},
   "outputs": [
    {
     "name": "stdout",
     "output_type": "stream",
     "text": [
      "Generated sequence: quux, quux, quux, quux, quux, quux, quux, quux, quux, quux\n"
     ]
    }
   ],
   "source": [
    "print_generated_sequence(g, 10, seed=99999)"
   ]
  },
  {
   "cell_type": "markdown",
   "metadata": {},
   "source": [
    "## Boolean"
   ]
  },
  {
   "cell_type": "markdown",
   "metadata": {},
   "source": [
    "The `Boolean` generator produces a sequence of `True`/`False` values, where `True` is returned with probability `p`."
   ]
  },
  {
   "cell_type": "code",
   "execution_count": 4,
   "metadata": {},
   "outputs": [],
   "source": [
    "g = Boolean(p=0.3)"
   ]
  },
  {
   "cell_type": "code",
   "execution_count": 5,
   "metadata": {},
   "outputs": [
    {
     "name": "stdout",
     "output_type": "stream",
     "text": [
      "Generated sequence: True, False, False, False, False, True, False, False, False, False\n"
     ]
    }
   ],
   "source": [
    "print_generated_sequence(g, 10, seed=99999)"
   ]
  },
  {
   "cell_type": "markdown",
   "metadata": {},
   "source": [
    "## Integer"
   ]
  },
  {
   "cell_type": "markdown",
   "metadata": {},
   "source": [
    "The `Integer` generator produces random integers in the range between `low` and `high` (both inclusive)."
   ]
  },
  {
   "cell_type": "code",
   "execution_count": 6,
   "metadata": {},
   "outputs": [],
   "source": [
    "g = Integer(low=100, high=200)"
   ]
  },
  {
   "cell_type": "code",
   "execution_count": 7,
   "metadata": {},
   "outputs": [
    {
     "name": "stdout",
     "output_type": "stream",
     "text": [
      "Generated sequence: 115, 139, 164, 183, 194, 130, 145, 152, 125, 132\n"
     ]
    }
   ],
   "source": [
    "print_generated_sequence(g, 10, seed=99999)"
   ]
  },
  {
   "cell_type": "markdown",
   "metadata": {},
   "source": [
    "## HashDigest"
   ]
  },
  {
   "cell_type": "markdown",
   "metadata": {},
   "source": [
    "The `HashDigest` generator produces a sequence of hex strings representing hash digest values. By default, it produces hex strings of the specified length."
   ]
  },
  {
   "cell_type": "code",
   "execution_count": 8,
   "metadata": {},
   "outputs": [
    {
     "name": "stdout",
     "output_type": "stream",
     "text": [
      "Generated sequence:\n",
      "\n",
      "4B4D02\n",
      "9097BC\n",
      "EC6DF8\n",
      "B3E6CA\n",
      "EE19B1\n"
     ]
    }
   ],
   "source": [
    "g = HashDigest(length=6)\n",
    "print_generated_sequence(g, 5, seed=99999, sep=\"\\n\")"
   ]
  },
  {
   "cell_type": "markdown",
   "metadata": {},
   "source": [
    "Instead of hex strings, the generator can produce the equivalent byte strings by setting `as_bytes=True`."
   ]
  },
  {
   "cell_type": "code",
   "execution_count": 9,
   "metadata": {},
   "outputs": [
    {
     "name": "stdout",
     "output_type": "stream",
     "text": [
      "Generated sequence:\n",
      "\n",
      "b'KM\\x02'\n",
      "b'\\x90\\x97\\xbc'\n",
      "b'\\xecm\\xf8'\n",
      "b'\\xb3\\xe6\\xca'\n",
      "b'\\xee\\x19\\xb1'\n"
     ]
    }
   ],
   "source": [
    "g = HashDigest(length=3, as_bytes=True)\n",
    "print_generated_sequence(g, 5, seed=99999, sep=\"\\n\")"
   ]
  },
  {
   "cell_type": "markdown",
   "metadata": {},
   "source": [
    "The `lowercase` keyword can be used to produce hex strings with lowercase characters (note this has no effect when `as_bytes=True`)."
   ]
  },
  {
   "cell_type": "code",
   "execution_count": 10,
   "metadata": {},
   "outputs": [
    {
     "name": "stdout",
     "output_type": "stream",
     "text": [
      "Generated sequence: 4b4d0235, 9097bc5e, ec6df8fc, b3e6caf3, ee19b1d3, 9fc0b7fd, 6f07a116, ac591849, 91fa77c5, f863c55d\n"
     ]
    }
   ],
   "source": [
    "g = HashDigest(length=8, lowercase=True)\n",
    "print_generated_sequence(g, 10, seed=99999)"
   ]
  },
  {
   "cell_type": "markdown",
   "metadata": {},
   "source": [
    "## FakerGenerator"
   ]
  },
  {
   "cell_type": "markdown",
   "metadata": {},
   "source": [
    "`FakerGenerator` allows to produce elements using any of the providers provided by the [Faker](https://faker.readthedocs.io/en/master/) package. The provider is specified using the `method` argument. Examples:"
   ]
  },
  {
   "cell_type": "code",
   "execution_count": 11,
   "metadata": {},
   "outputs": [
    {
     "name": "stdout",
     "output_type": "stream",
     "text": [
      "Generated sequence:\n",
      "\n",
      "Eric Benton\n",
      "Heather Harris\n",
      "Thomas Obrien\n",
      "Amy Cook\n",
      "Kenneth Robles\n"
     ]
    }
   ],
   "source": [
    "g = FakerGenerator(method=\"name\")\n",
    "print_generated_sequence(g, 5, seed=99999, sep=\"\\n\")"
   ]
  },
  {
   "cell_type": "code",
   "execution_count": 12,
   "metadata": {},
   "outputs": [
    {
     "name": "stdout",
     "output_type": "stream",
     "text": [
      "Generated sequence:\n",
      "\n",
      "356 Richard Valleys\n",
      "Madelineton, ME 76205\n",
      "25835 Deborah Creek\n",
      "Rhondaport, WI 54356\n",
      "9826 Sullivan Brook Apt. 610\n",
      "Duncanfort, PA 04949\n",
      "6408 Gabrielle Stream\n",
      "East Margaret, KY 58692\n",
      "51904 Garcia Walks\n",
      "Port Philip, RI 10457\n"
     ]
    }
   ],
   "source": [
    "g = FakerGenerator(method=\"address\")\n",
    "print_generated_sequence(g, 5, seed=99999, sep=\"\\n\")"
   ]
  },
  {
   "cell_type": "markdown",
   "metadata": {},
   "source": [
    "## SelectOne"
   ]
  },
  {
   "cell_type": "markdown",
   "metadata": {},
   "source": [
    "`SelectOne` produces elements that are randomly chosen from a fixed sequence."
   ]
  },
  {
   "cell_type": "code",
   "execution_count": 13,
   "metadata": {},
   "outputs": [
    {
     "name": "stdout",
     "output_type": "stream",
     "text": [
      "Generated sequence: 2, 5, 9, 4, 6, 7, 4, 5, 7, 10, 10, 9, 4, 1, 6, 9, 7, 10, 5, 5\n"
     ]
    }
   ],
   "source": [
    "numbers = [1, 2, 3, 4, 5, 6, 7, 8, 9, 10]\n",
    "g = SelectOne(numbers)\n",
    "print_generated_sequence(g, 20, seed=99999)"
   ]
  }
 ],
 "metadata": {
  "kernelspec": {
   "display_name": "Python 3",
   "language": "python",
   "name": "python3"
  },
  "language_info": {
   "codemirror_mode": {
    "name": "ipython",
    "version": 3
   },
   "file_extension": ".py",
   "mimetype": "text/x-python",
   "name": "python",
   "nbconvert_exporter": "python",
   "pygments_lexer": "ipython3",
   "version": "3.8.1"
  }
 },
 "nbformat": 4,
 "nbformat_minor": 4
}
