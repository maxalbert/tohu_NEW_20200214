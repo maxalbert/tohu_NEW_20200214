{
 "cells": [
  {
   "cell_type": "markdown",
   "metadata": {},
   "source": [
    "# Primitive generators"
   ]
  },
  {
   "cell_type": "code",
   "execution_count": 1,
   "metadata": {},
   "outputs": [],
   "source": [
    "# Import the primitive generators and helper function used below.\n",
    "import pytest\n",
    "from tohu.primitive_generators import *\n",
    "from tohu.utils import print_generated_sequence"
   ]
  },
  {
   "cell_type": "markdown",
   "metadata": {},
   "source": [
    "This section demonstrates the primitive generators available in `tohu`."
   ]
  },
  {
   "cell_type": "markdown",
   "metadata": {},
   "source": [
    "\n",
    "[TOC]\n"
   ]
  },
  {
   "cell_type": "markdown",
   "metadata": {},
   "source": [
    "## Constant"
   ]
  },
  {
   "cell_type": "markdown",
   "metadata": {},
   "source": [
    "The `Constant` generator produces a sequence whose items all have the same fixed value."
   ]
  },
  {
   "cell_type": "code",
   "execution_count": 2,
   "metadata": {},
   "outputs": [],
   "source": [
    "g = Constant(\"quux\")"
   ]
  },
  {
   "cell_type": "code",
   "execution_count": 3,
   "metadata": {},
   "outputs": [
    {
     "name": "stdout",
     "output_type": "stream",
     "text": [
      "Generated sequence: quux, quux, quux, quux, quux, quux, quux, quux, quux, quux\n"
     ]
    }
   ],
   "source": [
    "print_generated_sequence(g, 10, seed=99999)"
   ]
  },
  {
   "cell_type": "markdown",
   "metadata": {},
   "source": [
    "## Boolean"
   ]
  },
  {
   "cell_type": "markdown",
   "metadata": {},
   "source": [
    "The `Boolean` generator produces a sequence of `True`/`False` values, where `True` is returned with probability `p`."
   ]
  },
  {
   "cell_type": "code",
   "execution_count": 4,
   "metadata": {},
   "outputs": [],
   "source": [
    "g = Boolean(p=0.3)"
   ]
  },
  {
   "cell_type": "code",
   "execution_count": 5,
   "metadata": {},
   "outputs": [
    {
     "name": "stdout",
     "output_type": "stream",
     "text": [
      "Generated sequence: True, False, False, False, False, True, False, False, False, False\n"
     ]
    }
   ],
   "source": [
    "print_generated_sequence(g, 10, seed=99999)"
   ]
  },
  {
   "cell_type": "markdown",
   "metadata": {},
   "source": [
    "## Integer"
   ]
  },
  {
   "cell_type": "markdown",
   "metadata": {},
   "source": [
    "The `Integer` generator produces random integers in the range between `low` and `high` (both inclusive)."
   ]
  },
  {
   "cell_type": "code",
   "execution_count": 6,
   "metadata": {},
   "outputs": [],
   "source": [
    "g = Integer(low=100, high=200)"
   ]
  },
  {
   "cell_type": "code",
   "execution_count": 7,
   "metadata": {},
   "outputs": [
    {
     "name": "stdout",
     "output_type": "stream",
     "text": [
      "Generated sequence: 115, 139, 164, 183, 194, 130, 145, 152, 125, 132\n"
     ]
    }
   ],
   "source": [
    "print_generated_sequence(g, 10, seed=99999)"
   ]
  },
  {
   "cell_type": "markdown",
   "metadata": {},
   "source": [
    "## Float"
   ]
  },
  {
   "cell_type": "markdown",
   "metadata": {},
   "source": [
    "The `Float` generator produces random floating point numbers x in the range `low <= x <= high`."
   ]
  },
  {
   "cell_type": "code",
   "execution_count": 8,
   "metadata": {},
   "outputs": [],
   "source": [
    "g = Float(low=2.0, high=4.0)"
   ]
  },
  {
   "cell_type": "code",
   "execution_count": 9,
   "metadata": {},
   "outputs": [
    {
     "name": "stdout",
     "output_type": "stream",
     "text": [
      "Generated sequence:\n",
      "\n",
      "2.240980952225195\n",
      "2.618570007385167\n",
      "3.9058397807167204\n",
      "3.478847343294601\n",
      "2.710360026563966\n"
     ]
    }
   ],
   "source": [
    "print_generated_sequence(g, 5, seed=99999, sep=\"\\n\")"
   ]
  },
  {
   "cell_type": "markdown",
   "metadata": {},
   "source": [
    "It is possible to truncate generated values to a given number of digits by specifying the `ndigits` argument."
   ]
  },
  {
   "cell_type": "code",
   "execution_count": 10,
   "metadata": {},
   "outputs": [
    {
     "name": "stdout",
     "output_type": "stream",
     "text": [
      "Generated sequence: 2.0, 3.0, 4.0, 3.0, 3.0, 2.0, 3.0, 4.0, 3.0, 4.0\n",
      "Generated sequence: 2.241, 2.619, 3.906, 3.479, 2.71, 2.405, 2.811, 3.848, 3.212, 3.646\n",
      "Generated sequence: 2.24098, 2.61857, 3.90584, 3.47885, 2.71036, 2.40515, 2.81102, 3.8477, 3.21194, 3.64639\n"
     ]
    }
   ],
   "source": [
    "g0 = Float(low=2.0, high=4.0, ndigits=0)\n",
    "g3 = Float(low=2.0, high=4.0, ndigits=3)\n",
    "g5 = Float(low=2.0, high=4.0, ndigits=5)\n",
    "\n",
    "print_generated_sequence(g0, 10, seed=99999)\n",
    "print_generated_sequence(g3, 10, seed=99999)\n",
    "print_generated_sequence(g5, 10, seed=99999)"
   ]
  },
  {
   "cell_type": "markdown",
   "metadata": {},
   "source": [
    "## HashDigest"
   ]
  },
  {
   "cell_type": "markdown",
   "metadata": {},
   "source": [
    "The `HashDigest` generator produces a sequence of hex strings representing hash digest values. By default, it produces hex strings of the specified length."
   ]
  },
  {
   "cell_type": "code",
   "execution_count": 11,
   "metadata": {},
   "outputs": [
    {
     "name": "stdout",
     "output_type": "stream",
     "text": [
      "Generated sequence:\n",
      "\n",
      "4B4D02\n",
      "9097BC\n",
      "EC6DF8\n",
      "B3E6CA\n",
      "EE19B1\n"
     ]
    }
   ],
   "source": [
    "g = HashDigest(length=6)\n",
    "print_generated_sequence(g, 5, seed=99999, sep=\"\\n\")"
   ]
  },
  {
   "cell_type": "markdown",
   "metadata": {},
   "source": [
    "Instead of hex strings, the generator can produce the equivalent byte strings by setting `as_bytes=True`."
   ]
  },
  {
   "cell_type": "code",
   "execution_count": 12,
   "metadata": {},
   "outputs": [
    {
     "name": "stdout",
     "output_type": "stream",
     "text": [
      "Generated sequence:\n",
      "\n",
      "b'KM\\x02'\n",
      "b'\\x90\\x97\\xbc'\n",
      "b'\\xecm\\xf8'\n",
      "b'\\xb3\\xe6\\xca'\n",
      "b'\\xee\\x19\\xb1'\n"
     ]
    }
   ],
   "source": [
    "g = HashDigest(length=3, as_bytes=True)\n",
    "print_generated_sequence(g, 5, seed=99999, sep=\"\\n\")"
   ]
  },
  {
   "cell_type": "markdown",
   "metadata": {},
   "source": [
    "The `lowercase` keyword can be used to produce hex strings with lowercase characters (note this has no effect when `as_bytes=True`)."
   ]
  },
  {
   "cell_type": "code",
   "execution_count": 13,
   "metadata": {},
   "outputs": [
    {
     "name": "stdout",
     "output_type": "stream",
     "text": [
      "Generated sequence: 4b4d0235, 9097bc5e, ec6df8fc, b3e6caf3, ee19b1d3, 9fc0b7fd, 6f07a116, ac591849, 91fa77c5, f863c55d\n"
     ]
    }
   ],
   "source": [
    "g = HashDigest(length=8, lowercase=True)\n",
    "print_generated_sequence(g, 10, seed=99999)"
   ]
  },
  {
   "cell_type": "markdown",
   "metadata": {},
   "source": [
    "## FakerGenerator"
   ]
  },
  {
   "cell_type": "markdown",
   "metadata": {},
   "source": [
    "`FakerGenerator` allows to produce elements using any of the providers provided by the [Faker](https://faker.readthedocs.io/en/master/) package. The provider is specified using the `method` argument. Examples:"
   ]
  },
  {
   "cell_type": "code",
   "execution_count": 14,
   "metadata": {},
   "outputs": [
    {
     "name": "stdout",
     "output_type": "stream",
     "text": [
      "Generated sequence:\n",
      "\n",
      "Eric Benton\n",
      "Heather Harris\n",
      "Thomas Obrien\n",
      "Amy Cook\n",
      "Kenneth Robles\n"
     ]
    }
   ],
   "source": [
    "g = FakerGenerator(method=\"name\")\n",
    "print_generated_sequence(g, 5, seed=99999, sep=\"\\n\")"
   ]
  },
  {
   "cell_type": "code",
   "execution_count": 15,
   "metadata": {},
   "outputs": [
    {
     "name": "stdout",
     "output_type": "stream",
     "text": [
      "Generated sequence:\n",
      "\n",
      "356 Richard Valleys\n",
      "Madelineton, ME 76205\n",
      "25835 Deborah Creek\n",
      "Rhondaport, WI 54356\n",
      "9826 Sullivan Brook Apt. 610\n",
      "Duncanfort, PA 04949\n",
      "6408 Gabrielle Stream\n",
      "East Margaret, KY 58692\n",
      "51904 Garcia Walks\n",
      "Port Philip, RI 10457\n"
     ]
    }
   ],
   "source": [
    "g = FakerGenerator(method=\"address\")\n",
    "print_generated_sequence(g, 5, seed=99999, sep=\"\\n\")"
   ]
  },
  {
   "cell_type": "markdown",
   "metadata": {},
   "source": [
    "## SelectOne"
   ]
  },
  {
   "cell_type": "markdown",
   "metadata": {},
   "source": [
    "`SelectOne` produces elements that are randomly chosen from a fixed sequence."
   ]
  },
  {
   "cell_type": "code",
   "execution_count": 16,
   "metadata": {},
   "outputs": [
    {
     "name": "stdout",
     "output_type": "stream",
     "text": [
      "Generated sequence: 2, 5, 9, 4, 6, 7, 4, 5, 7, 10, 10, 9, 4, 1, 6, 9, 7, 10, 5, 5\n"
     ]
    }
   ],
   "source": [
    "numbers = [1, 2, 3, 4, 5, 6, 7, 8, 9, 10]\n",
    "g = SelectOne(numbers)\n",
    "print_generated_sequence(g, 20, seed=99999)"
   ]
  },
  {
   "cell_type": "markdown",
   "metadata": {},
   "source": [
    "## Timestamp"
   ]
  },
  {
   "cell_type": "markdown",
   "metadata": {},
   "source": [
    "`Timestamp` produces random timestamps within the interval `[start, stop[` (where `start` is inclusive and `stop` is exclusive)."
   ]
  },
  {
   "cell_type": "code",
   "execution_count": 17,
   "metadata": {},
   "outputs": [
    {
     "name": "stdout",
     "output_type": "stream",
     "text": [
      "Generated sequence:\n",
      "\n",
      "2020-01-24 18:31:34\n",
      "2020-03-01 10:22:21\n",
      "2020-04-07 11:35:21\n",
      "2020-05-06 13:47:30\n",
      "2020-05-23 22:57:50\n"
     ]
    }
   ],
   "source": [
    "g = Timestamp(start=\"2020-01-01 09:00:00\", stop=\"2020-06-30 18:19:20\")\n",
    "print_generated_sequence(g, 5, seed=99999, sep=\"\\n\")"
   ]
  },
  {
   "cell_type": "markdown",
   "metadata": {},
   "source": [
    "For convenience, a `Timestamp` generator can also be initialised with a date (and the generated timestamps will all be on this specific date)."
   ]
  },
  {
   "cell_type": "code",
   "execution_count": 18,
   "metadata": {},
   "outputs": [
    {
     "name": "stdout",
     "output_type": "stream",
     "text": [
      "Generated sequence:\n",
      "\n",
      "2020-02-14 04:23:12\n",
      "2020-02-14 11:15:38\n",
      "2020-02-14 18:12:27\n",
      "2020-02-14 23:39:44\n",
      "2020-02-14 08:39:44\n"
     ]
    }
   ],
   "source": [
    "g = Timestamp(date=\"2020-02-14\")\n",
    "print_generated_sequence(g, 5, seed=99999, sep=\"\\n\")"
   ]
  },
  {
   "cell_type": "markdown",
   "metadata": {},
   "source": [
    "Note that usage of the arguments `start`/`stop` and `date` is mutually exclusive."
   ]
  },
  {
   "cell_type": "code",
   "execution_count": 19,
   "metadata": {},
   "outputs": [],
   "source": [
    "with pytest.raises(ValueError, match=\"Arguments `start`/`stop` and `date` are mutually exclusive.\"):\n",
    "    Timestamp(start=\"2020-02-14 00:00:00\", date=\"2020-02-14\")"
   ]
  }
 ],
 "metadata": {
  "kernelspec": {
   "display_name": "Python 3",
   "language": "python",
   "name": "python3"
  },
  "language_info": {
   "codemirror_mode": {
    "name": "ipython",
    "version": 3
   },
   "file_extension": ".py",
   "mimetype": "text/x-python",
   "name": "python",
   "nbconvert_exporter": "python",
   "pygments_lexer": "ipython3",
   "version": "3.8.1"
  }
 },
 "nbformat": 4,
 "nbformat_minor": 4
}
