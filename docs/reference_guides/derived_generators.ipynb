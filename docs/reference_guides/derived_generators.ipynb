{
 "cells": [
  {
   "cell_type": "markdown",
   "metadata": {},
   "source": [
    "# Derived Generators"
   ]
  },
  {
   "cell_type": "markdown",
   "metadata": {},
   "source": [
    "## Apply"
   ]
  },
  {
   "cell_type": "markdown",
   "metadata": {},
   "source": [
    "The `Apply` generator takes a function `f` as its first argument and a number of other tohu generators as its subsequent arguments. The items it produces are calculated by applying `f` to the items produced by the remaining generators."
   ]
  },
  {
   "cell_type": "code",
   "execution_count": 1,
   "metadata": {},
   "outputs": [],
   "source": [
    "from tohu import Integer, Apply\n",
    "from tohu.utils import print_generated_sequence"
   ]
  },
  {
   "cell_type": "code",
   "execution_count": 2,
   "metadata": {},
   "outputs": [],
   "source": [
    "x_gen = Integer(10, 99)\n",
    "y_gen = Integer(10, 99)"
   ]
  },
  {
   "cell_type": "code",
   "execution_count": 3,
   "metadata": {},
   "outputs": [],
   "source": [
    "def f(x, y):\n",
    "    return 100 * x + y"
   ]
  },
  {
   "cell_type": "code",
   "execution_count": 4,
   "metadata": {},
   "outputs": [],
   "source": [
    "c = Apply(f, x_gen, y_gen)"
   ]
  },
  {
   "cell_type": "code",
   "execution_count": 5,
   "metadata": {},
   "outputs": [
    {
     "name": "stdout",
     "output_type": "stream",
     "text": [
      "Generated sequence: 52    13    55    56    96    61    24    75    91    31  \n",
      "Generated sequence:   43    93    48    72    86    61    33    88    62    33\n",
      "Generated sequence: 5243  1393  5548  5672  9686  6161  2433  7588  9162  3133\n"
     ]
    }
   ],
   "source": [
    "x_gen.reset(seed=11111)\n",
    "y_gen.reset(seed=22222)\n",
    "c.reset(seed=33333)\n",
    "\n",
    "print_generated_sequence(x_gen, num=10, fmt='{:<4d}', sep='  ')\n",
    "print_generated_sequence(y_gen, num=10, fmt='{:4d}', sep='  ')\n",
    "print_generated_sequence(c, num=10, sep='  ')"
   ]
  },
  {
   "cell_type": "markdown",
   "metadata": {},
   "source": [
    "**TODO:** Explain why resetting `c` basically has no effect here and that the constituent generators of an `Apply` generator are _not_ automatically reset when the latter is reset (rather, this needs to happen externally). Also explain the reasoning behind this."
   ]
  }
 ],
 "metadata": {
  "kernelspec": {
   "display_name": "Python 3",
   "language": "python",
   "name": "python3"
  },
  "language_info": {
   "codemirror_mode": {
    "name": "ipython",
    "version": 3
   },
   "file_extension": ".py",
   "mimetype": "text/x-python",
   "name": "python",
   "nbconvert_exporter": "python",
   "pygments_lexer": "ipython3",
   "version": "3.8.1"
  }
 },
 "nbformat": 4,
 "nbformat_minor": 4
}
