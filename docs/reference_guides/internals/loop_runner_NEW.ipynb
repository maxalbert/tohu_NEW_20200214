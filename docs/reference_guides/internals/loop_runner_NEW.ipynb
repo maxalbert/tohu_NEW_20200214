{
 "cells": [
  {
   "cell_type": "markdown",
   "metadata": {},
   "source": [
    "# `LoopRunnerNEW`"
   ]
  },
  {
   "cell_type": "markdown",
   "metadata": {},
   "source": [
    "\n",
    "[TOC]\n"
   ]
  },
  {
   "cell_type": "markdown",
   "metadata": {},
   "source": [
    "The `LoopRunnerNEW` class is used internally to implement looping via the `@foreach` decorator."
   ]
  },
  {
   "cell_type": "code",
   "execution_count": 1,
   "metadata": {},
   "outputs": [],
   "source": [
    "from tohu.looping_NEW import LoopVariableNEW, LoopRunnerNEW#, LoopExhaustedNEW"
   ]
  },
  {
   "cell_type": "markdown",
   "metadata": {},
   "source": [
    "## Initialising a `LoopRunner` instance"
   ]
  },
  {
   "cell_type": "markdown",
   "metadata": {},
   "source": [
    "First we define a few loop variables which we use to initialise a `LoopRunner` instance. Normally, these loop variables are created automatically as part of a `@foreach` declaration, but here we define them manually for illustration purposes."
   ]
  },
  {
   "cell_type": "code",
   "execution_count": 2,
   "metadata": {},
   "outputs": [],
   "source": [
    "xx = LoopVariableNEW(name=\"xx\", values=[111, 222, 333])\n",
    "yy = LoopVariableNEW(name=\"yy\", values=[\"foo\", \"bar\", \"baz\"])\n",
    "zz = LoopVariableNEW(name=\"zz\", values=[\"AAA\", \"BBB\"])\n",
    "vv = LoopVariableNEW(name=\"vv\", values=[\"lala\" ,\"lolo\"])\n",
    "ww = LoopVariableNEW(name=\"ww\", values=[\"haha\" ,\"hoho\"])"
   ]
  },
  {
   "cell_type": "markdown",
   "metadata": {},
   "source": [
    "Equivalently, we could also create an empty `LoopRunner` instance and add the loop variables one by one."
   ]
  },
  {
   "cell_type": "code",
   "execution_count": 3,
   "metadata": {},
   "outputs": [],
   "source": [
    "loop_runner = LoopRunnerNEW()\n",
    "loop_runner.add_loop_variable(xx, level=1)\n",
    "loop_runner.add_loop_variable(yy, level=1)\n",
    "loop_runner.add_loop_variable(zz, level=2)\n",
    "loop_runner.add_loop_variable(vv, level=3)\n",
    "loop_runner.add_loop_variable(ww, level=3)"
   ]
  },
  {
   "cell_type": "markdown",
   "metadata": {},
   "source": [
    "The loop variables in the loop runner can be accessed via the `loop_variables` attribute."
   ]
  },
  {
   "cell_type": "code",
   "execution_count": 4,
   "metadata": {},
   "outputs": [
    {
     "data": {
      "text/plain": [
       "{'xx': <LoopVariable: name='xx', loop_level=1, values=[111, 222, 333], cur_value=111 (tohu_id=c232de)>,\n",
       " 'yy': <LoopVariable: name='yy', loop_level=1, values=['foo', 'bar', 'baz'], cur_value='foo' (tohu_id=5cb8b3)>,\n",
       " 'zz': <LoopVariable: name='zz', loop_level=2, values=['AAA', 'BBB'], cur_value='AAA' (tohu_id=e90a76)>,\n",
       " 'vv': <LoopVariable: name='vv', loop_level=3, values=['lala', 'lolo'], cur_value='lala' (tohu_id=7c816f)>,\n",
       " 'ww': <LoopVariable: name='ww', loop_level=3, values=['haha', 'hoho'], cur_value='haha' (tohu_id=d8a4ef)>}"
      ]
     },
     "execution_count": 4,
     "metadata": {},
     "output_type": "execute_result"
    }
   ],
   "source": [
    "loop_runner.loop_variables"
   ]
  },
  {
   "cell_type": "markdown",
   "metadata": {},
   "source": [
    "The helper method `print_current_loop_var_values` is useful to display the current values of loop variables for inspection and debugging."
   ]
  },
  {
   "cell_type": "code",
   "execution_count": 5,
   "metadata": {},
   "outputs": [
    {
     "name": "stdout",
     "output_type": "stream",
     "text": [
      "{'xx': 111, 'yy': 'foo', 'zz': 'AAA', 'vv': 'lala', 'ww': 'haha'}\n"
     ]
    }
   ],
   "source": [
    "loop_runner.print_current_loop_var_values()"
   ]
  },
  {
   "cell_type": "markdown",
   "metadata": {},
   "source": [
    "Adding a loop variable whose name already exists raises an error."
   ]
  },
  {
   "cell_type": "code",
   "execution_count": 6,
   "metadata": {},
   "outputs": [],
   "source": [
    "import pytest\n",
    "\n",
    "with pytest.raises(ValueError, match=\"A loop variable with name 'xx' already exists.\"):\n",
    "    loop_runner.add_loop_variable(xx, level=1)"
   ]
  },
  {
   "cell_type": "markdown",
   "metadata": {},
   "source": [
    "If a loop variable already has its `loop_level` set, the `level` argument can be omitted when adding the loop variable."
   ]
  },
  {
   "cell_type": "code",
   "execution_count": 7,
   "metadata": {},
   "outputs": [],
   "source": [
    "xx = LoopVariableNEW(name=\"xx\", values=[1, 2, 3]).set_loop_level(1)\n",
    "\n",
    "loop_runner = LoopRunnerNEW()\n",
    "loop_runner.add_loop_variable(xx)"
   ]
  },
  {
   "cell_type": "markdown",
   "metadata": {},
   "source": [
    "However, an error is raised if the `level` argument is omitted and the loop variable doesn't have its `loop_level` set."
   ]
  },
  {
   "cell_type": "code",
   "execution_count": 8,
   "metadata": {},
   "outputs": [],
   "source": [
    "yy = LoopVariableNEW(name=\"xx\", values=[4, 5, 6])\n",
    "\n",
    "loop_runner = LoopRunnerNEW()\n",
    "\n",
    "with pytest.raises(ValueError, match=\"Loop variable must have `loop_level` set, or `level` argument must be given\"):\n",
    "    loop_runner.add_loop_variable(yy)"
   ]
  },
  {
   "cell_type": "markdown",
   "metadata": {},
   "source": [
    "## Accessing loop variables at specific loop levels"
   ]
  },
  {
   "cell_type": "markdown",
   "metadata": {},
   "source": [
    "Let's create a new loop runner to demonstrate accessing loop variables, as well as advancing and rewinding loop variables (below)."
   ]
  },
  {
   "cell_type": "code",
   "execution_count": 9,
   "metadata": {},
   "outputs": [],
   "source": [
    "xx = LoopVariableNEW(name=\"xx\", values=[111, 222, 333])\n",
    "yy = LoopVariableNEW(name=\"yy\", values=[\"foo\", \"bar\", \"baz\"])\n",
    "zz = LoopVariableNEW(name=\"zz\", values=[\"AAA\", \"BBB\"])\n",
    "vv = LoopVariableNEW(name=\"vv\", values=[\"lala\" ,\"lolo\"])\n",
    "ww = LoopVariableNEW(name=\"ww\", values=[\"haha\" ,\"hoho\"])\n",
    "\n",
    "loop_runner = LoopRunnerNEW()\n",
    "loop_runner.add_loop_variable(xx, level=1)\n",
    "loop_runner.add_loop_variable(yy, level=1)\n",
    "loop_runner.add_loop_variable(zz, level=2)\n",
    "loop_runner.add_loop_variable(vv, level=3)\n",
    "loop_runner.add_loop_variable(ww, level=3)"
   ]
  },
  {
   "cell_type": "markdown",
   "metadata": {},
   "source": [
    "Loop variables can be accessed in various ways (at all loop levels or at specific levels)."
   ]
  },
  {
   "cell_type": "code",
   "execution_count": 10,
   "metadata": {},
   "outputs": [
    {
     "data": {
      "text/plain": [
       "{'xx': <LoopVariable: name='xx', loop_level=1, values=[111, 222, 333], cur_value=111 (tohu_id=01e08f)>,\n",
       " 'yy': <LoopVariable: name='yy', loop_level=1, values=['foo', 'bar', 'baz'], cur_value='foo' (tohu_id=2793be)>,\n",
       " 'zz': <LoopVariable: name='zz', loop_level=2, values=['AAA', 'BBB'], cur_value='AAA' (tohu_id=fa525c)>,\n",
       " 'vv': <LoopVariable: name='vv', loop_level=3, values=['lala', 'lolo'], cur_value='lala' (tohu_id=423856)>,\n",
       " 'ww': <LoopVariable: name='ww', loop_level=3, values=['haha', 'hoho'], cur_value='haha' (tohu_id=6941a7)>}"
      ]
     },
     "execution_count": 10,
     "metadata": {},
     "output_type": "execute_result"
    }
   ],
   "source": [
    "loop_runner.loop_variables"
   ]
  },
  {
   "cell_type": "code",
   "execution_count": 11,
   "metadata": {},
   "outputs": [
    {
     "data": {
      "text/plain": [
       "{'xx': <LoopVariable: name='xx', loop_level=1, values=[111, 222, 333], cur_value=111 (tohu_id=01e08f)>,\n",
       " 'yy': <LoopVariable: name='yy', loop_level=1, values=['foo', 'bar', 'baz'], cur_value='foo' (tohu_id=2793be)>}"
      ]
     },
     "execution_count": 11,
     "metadata": {},
     "output_type": "execute_result"
    }
   ],
   "source": [
    "loop_runner.get_loop_vars_at_level(1)"
   ]
  },
  {
   "cell_type": "code",
   "execution_count": 12,
   "metadata": {},
   "outputs": [
    {
     "data": {
      "text/plain": [
       "{'zz': <LoopVariable: name='zz', loop_level=2, values=['AAA', 'BBB'], cur_value='AAA' (tohu_id=fa525c)>}"
      ]
     },
     "execution_count": 12,
     "metadata": {},
     "output_type": "execute_result"
    }
   ],
   "source": [
    "loop_runner.get_loop_vars_at_level(2)"
   ]
  },
  {
   "cell_type": "markdown",
   "metadata": {},
   "source": [
    "## Advancing and rewinding loop variaables"
   ]
  },
  {
   "cell_type": "markdown",
   "metadata": {},
   "source": [
    "The method `advance_loop_variables()` will advance loop variables one level at a time, and automatically rewind them if they have been exhausted (and advance the ones at the next level). This allows iterating through all combinations of loop variable values until the loop is exhausted."
   ]
  },
  {
   "cell_type": "code",
   "execution_count": 13,
   "metadata": {},
   "outputs": [
    {
     "name": "stdout",
     "output_type": "stream",
     "text": [
      "{'xx': 111, 'yy': 'foo', 'zz': 'AAA', 'vv': 'lala', 'ww': 'haha'}\n",
      "{'xx': 222, 'yy': 'bar', 'zz': 'AAA', 'vv': 'lala', 'ww': 'haha'}\n",
      "{'xx': 333, 'yy': 'baz', 'zz': 'AAA', 'vv': 'lala', 'ww': 'haha'}\n",
      "{'xx': 111, 'yy': 'foo', 'zz': 'BBB', 'vv': 'lala', 'ww': 'haha'}\n",
      "{'xx': 222, 'yy': 'bar', 'zz': 'BBB', 'vv': 'lala', 'ww': 'haha'}\n",
      "{'xx': 333, 'yy': 'baz', 'zz': 'BBB', 'vv': 'lala', 'ww': 'haha'}\n",
      "{'xx': 111, 'yy': 'foo', 'zz': 'AAA', 'vv': 'lolo', 'ww': 'hoho'}\n",
      "{'xx': 222, 'yy': 'bar', 'zz': 'AAA', 'vv': 'lolo', 'ww': 'hoho'}\n",
      "{'xx': 333, 'yy': 'baz', 'zz': 'AAA', 'vv': 'lolo', 'ww': 'hoho'}\n",
      "{'xx': 111, 'yy': 'foo', 'zz': 'BBB', 'vv': 'lolo', 'ww': 'hoho'}\n",
      "{'xx': 222, 'yy': 'bar', 'zz': 'BBB', 'vv': 'lolo', 'ww': 'hoho'}\n",
      "{'xx': 333, 'yy': 'baz', 'zz': 'BBB', 'vv': 'lolo', 'ww': 'hoho'}\n"
     ]
    }
   ],
   "source": [
    "loop_runner.rewind_all_loop_variables();\n",
    "\n",
    "loop_runner.print_current_loop_var_values()\n",
    "loop_runner.advance_loop_variables(); loop_runner.print_current_loop_var_values()\n",
    "loop_runner.advance_loop_variables(); loop_runner.print_current_loop_var_values()\n",
    "loop_runner.advance_loop_variables(); loop_runner.print_current_loop_var_values()\n",
    "loop_runner.advance_loop_variables(); loop_runner.print_current_loop_var_values()\n",
    "loop_runner.advance_loop_variables(); loop_runner.print_current_loop_var_values()\n",
    "loop_runner.advance_loop_variables(); loop_runner.print_current_loop_var_values()\n",
    "loop_runner.advance_loop_variables(); loop_runner.print_current_loop_var_values()\n",
    "loop_runner.advance_loop_variables(); loop_runner.print_current_loop_var_values()\n",
    "loop_runner.advance_loop_variables(); loop_runner.print_current_loop_var_values()\n",
    "loop_runner.advance_loop_variables(); loop_runner.print_current_loop_var_values()\n",
    "loop_runner.advance_loop_variables(); loop_runner.print_current_loop_var_values()"
   ]
  },
  {
   "cell_type": "markdown",
   "metadata": {},
   "source": [
    "Once all combinations of loop variables have been iterated over, calling `advance_loop_variable()` again will trigger the exception `LoopExhaustedNEW`."
   ]
  },
  {
   "cell_type": "code",
   "execution_count": 14,
   "metadata": {},
   "outputs": [],
   "source": [
    "import pytest\n",
    "from tohu.looping_NEW import LoopExhaustedNEW\n",
    "\n",
    "with pytest.raises (LoopExhaustedNEW, match=\"Loop has been exhausted\"):\n",
    "    loop_runner.advance_loop_variables()"
   ]
  },
  {
   "cell_type": "markdown",
   "metadata": {},
   "source": [
    "If we want to iteratve over the values again, we need to call `rewind_all_loop_variables()` first."
   ]
  },
  {
   "cell_type": "code",
   "execution_count": 15,
   "metadata": {},
   "outputs": [
    {
     "name": "stdout",
     "output_type": "stream",
     "text": [
      "{'xx': 111, 'yy': 'foo', 'zz': 'AAA', 'vv': 'lala', 'ww': 'haha'}\n",
      "{'xx': 222, 'yy': 'bar', 'zz': 'AAA', 'vv': 'lala', 'ww': 'haha'}\n"
     ]
    }
   ],
   "source": [
    "loop_runner.rewind_all_loop_variables();\n",
    "\n",
    "loop_runner.print_current_loop_var_values()\n",
    "loop_runner.advance_loop_variables()\n",
    "loop_runner.print_current_loop_var_values()\n",
    "# ... etc. ..."
   ]
  },
  {
   "cell_type": "markdown",
   "metadata": {},
   "source": [
    "## Iterating over loop variable combinations"
   ]
  },
  {
   "cell_type": "markdown",
   "metadata": {},
   "source": [
    "The method `iter_loop_var_combinations()` allows to conveniently iterate over all combinations of loop variable values (as we did manually above)."
   ]
  },
  {
   "cell_type": "code",
   "execution_count": 16,
   "metadata": {},
   "outputs": [
    {
     "data": {
      "text/plain": [
       "[{'xx': 111, 'yy': 'foo', 'zz': 'AAA', 'vv': 'lala', 'ww': 'haha'},\n",
       " {'xx': 222, 'yy': 'bar', 'zz': 'AAA', 'vv': 'lala', 'ww': 'haha'},\n",
       " {'xx': 333, 'yy': 'baz', 'zz': 'AAA', 'vv': 'lala', 'ww': 'haha'},\n",
       " {'xx': 111, 'yy': 'foo', 'zz': 'BBB', 'vv': 'lala', 'ww': 'haha'},\n",
       " {'xx': 222, 'yy': 'bar', 'zz': 'BBB', 'vv': 'lala', 'ww': 'haha'},\n",
       " {'xx': 333, 'yy': 'baz', 'zz': 'BBB', 'vv': 'lala', 'ww': 'haha'},\n",
       " {'xx': 111, 'yy': 'foo', 'zz': 'AAA', 'vv': 'lolo', 'ww': 'hoho'},\n",
       " {'xx': 222, 'yy': 'bar', 'zz': 'AAA', 'vv': 'lolo', 'ww': 'hoho'},\n",
       " {'xx': 333, 'yy': 'baz', 'zz': 'AAA', 'vv': 'lolo', 'ww': 'hoho'},\n",
       " {'xx': 111, 'yy': 'foo', 'zz': 'BBB', 'vv': 'lolo', 'ww': 'hoho'},\n",
       " {'xx': 222, 'yy': 'bar', 'zz': 'BBB', 'vv': 'lolo', 'ww': 'hoho'},\n",
       " {'xx': 333, 'yy': 'baz', 'zz': 'BBB', 'vv': 'lolo', 'ww': 'hoho'}]"
      ]
     },
     "execution_count": 16,
     "metadata": {},
     "output_type": "execute_result"
    }
   ],
   "source": [
    "list(loop_runner.iter_loop_var_combinations())"
   ]
  },
  {
   "cell_type": "markdown",
   "metadata": {},
   "source": [
    "## Iterating over loop variable combinations together with number of iterations"
   ]
  },
  {
   "cell_type": "code",
   "execution_count": 17,
   "metadata": {},
   "outputs": [
    {
     "data": {
      "text/plain": [
       "[({'xx': 111, 'yy': 'foo', 'zz': 'AAA', 'vv': 'lala', 'ww': 'haha'}, 42),\n",
       " ({'xx': 222, 'yy': 'bar', 'zz': 'AAA', 'vv': 'lala', 'ww': 'haha'}, 42),\n",
       " ({'xx': 333, 'yy': 'baz', 'zz': 'AAA', 'vv': 'lala', 'ww': 'haha'}, 42),\n",
       " ({'xx': 111, 'yy': 'foo', 'zz': 'BBB', 'vv': 'lala', 'ww': 'haha'}, 42),\n",
       " ({'xx': 222, 'yy': 'bar', 'zz': 'BBB', 'vv': 'lala', 'ww': 'haha'}, 42),\n",
       " ({'xx': 333, 'yy': 'baz', 'zz': 'BBB', 'vv': 'lala', 'ww': 'haha'}, 42),\n",
       " ({'xx': 111, 'yy': 'foo', 'zz': 'AAA', 'vv': 'lolo', 'ww': 'hoho'}, 42),\n",
       " ({'xx': 222, 'yy': 'bar', 'zz': 'AAA', 'vv': 'lolo', 'ww': 'hoho'}, 42),\n",
       " ({'xx': 333, 'yy': 'baz', 'zz': 'AAA', 'vv': 'lolo', 'ww': 'hoho'}, 42),\n",
       " ({'xx': 111, 'yy': 'foo', 'zz': 'BBB', 'vv': 'lolo', 'ww': 'hoho'}, 42),\n",
       " ({'xx': 222, 'yy': 'bar', 'zz': 'BBB', 'vv': 'lolo', 'ww': 'hoho'}, 42),\n",
       " ({'xx': 333, 'yy': 'baz', 'zz': 'BBB', 'vv': 'lolo', 'ww': 'hoho'}, 42)]"
      ]
     },
     "execution_count": 17,
     "metadata": {},
     "output_type": "execute_result"
    }
   ],
   "source": [
    "list(loop_runner.iter_loop_var_combinations_with_num_iterations(42))"
   ]
  },
  {
   "cell_type": "code",
   "execution_count": 19,
   "metadata": {},
   "outputs": [
    {
     "data": {
      "text/plain": [
       "[({'xx': 111, 'yy': 'foo', 'zz': 'AAA', 'vv': 'lala', 'ww': 'haha'}, 1),\n",
       " ({'xx': 222, 'yy': 'bar', 'zz': 'AAA', 'vv': 'lala', 'ww': 'haha'}, 2),\n",
       " ({'xx': 333, 'yy': 'baz', 'zz': 'AAA', 'vv': 'lala', 'ww': 'haha'}, 3),\n",
       " ({'xx': 111, 'yy': 'foo', 'zz': 'BBB', 'vv': 'lala', 'ww': 'haha'}, 4),\n",
       " ({'xx': 222, 'yy': 'bar', 'zz': 'BBB', 'vv': 'lala', 'ww': 'haha'}, 5),\n",
       " ({'xx': 333, 'yy': 'baz', 'zz': 'BBB', 'vv': 'lala', 'ww': 'haha'}, 6),\n",
       " ({'xx': 111, 'yy': 'foo', 'zz': 'AAA', 'vv': 'lolo', 'ww': 'hoho'}, 7),\n",
       " ({'xx': 222, 'yy': 'bar', 'zz': 'AAA', 'vv': 'lolo', 'ww': 'hoho'}, 8),\n",
       " ({'xx': 333, 'yy': 'baz', 'zz': 'AAA', 'vv': 'lolo', 'ww': 'hoho'}, 9),\n",
       " ({'xx': 111, 'yy': 'foo', 'zz': 'BBB', 'vv': 'lolo', 'ww': 'hoho'}, 10),\n",
       " ({'xx': 222, 'yy': 'bar', 'zz': 'BBB', 'vv': 'lolo', 'ww': 'hoho'}, 11),\n",
       " ({'xx': 333, 'yy': 'baz', 'zz': 'BBB', 'vv': 'lolo', 'ww': 'hoho'}, 12)]"
      ]
     },
     "execution_count": 19,
     "metadata": {},
     "output_type": "execute_result"
    }
   ],
   "source": [
    "list(loop_runner.iter_loop_var_combinations_with_num_iterations([1, 2, 3, 4, 5, 6, 7, 8, 9, 10, 11, 12]))"
   ]
  },
  {
   "cell_type": "code",
   "execution_count": 23,
   "metadata": {},
   "outputs": [
    {
     "data": {
      "text/plain": [
       "[({'xx': 111, 'yy': 'foo', 'zz': 'AAA', 'vv': 'lala', 'ww': 'haha'}, 42),\n",
       " ({'xx': 222, 'yy': 'bar', 'zz': 'AAA', 'vv': 'lala', 'ww': 'haha'}, 42),\n",
       " ({'xx': 333, 'yy': 'baz', 'zz': 'AAA', 'vv': 'lala', 'ww': 'haha'}, 42),\n",
       " ({'xx': 111, 'yy': 'foo', 'zz': 'BBB', 'vv': 'lala', 'ww': 'haha'}, 42),\n",
       " ({'xx': 222, 'yy': 'bar', 'zz': 'BBB', 'vv': 'lala', 'ww': 'haha'}, 42),\n",
       " ({'xx': 333, 'yy': 'baz', 'zz': 'BBB', 'vv': 'lala', 'ww': 'haha'}, 42),\n",
       " ({'xx': 111, 'yy': 'foo', 'zz': 'AAA', 'vv': 'lolo', 'ww': 'hoho'}, 23),\n",
       " ({'xx': 222, 'yy': 'bar', 'zz': 'AAA', 'vv': 'lolo', 'ww': 'hoho'}, 23),\n",
       " ({'xx': 333, 'yy': 'baz', 'zz': 'AAA', 'vv': 'lolo', 'ww': 'hoho'}, 23),\n",
       " ({'xx': 111, 'yy': 'foo', 'zz': 'BBB', 'vv': 'lolo', 'ww': 'hoho'}, 23),\n",
       " ({'xx': 222, 'yy': 'bar', 'zz': 'BBB', 'vv': 'lolo', 'ww': 'hoho'}, 23),\n",
       " ({'xx': 333, 'yy': 'baz', 'zz': 'BBB', 'vv': 'lolo', 'ww': 'hoho'}, 23)]"
      ]
     },
     "execution_count": 23,
     "metadata": {},
     "output_type": "execute_result"
    }
   ],
   "source": [
    "def f_get_num_iterations(**kwargs):\n",
    "    if kwargs[\"vv\"] == \"lala\":\n",
    "        return 42\n",
    "    else:\n",
    "        return 23\n",
    "\n",
    "list(loop_runner.iter_loop_var_combinations_with_num_iterations(f_get_num_iterations))"
   ]
  }
 ],
 "metadata": {
  "kernelspec": {
   "display_name": "Python 3",
   "language": "python",
   "name": "python3"
  },
  "language_info": {
   "codemirror_mode": {
    "name": "ipython",
    "version": 3
   },
   "file_extension": ".py",
   "mimetype": "text/x-python",
   "name": "python",
   "nbconvert_exporter": "python",
   "pygments_lexer": "ipython3",
   "version": "3.8.1"
  }
 },
 "nbformat": 4,
 "nbformat_minor": 4
}
