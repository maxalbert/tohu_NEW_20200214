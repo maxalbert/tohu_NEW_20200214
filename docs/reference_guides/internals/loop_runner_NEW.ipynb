{
 "cells": [
  {
   "cell_type": "markdown",
   "metadata": {},
   "source": [
    "# `LoopRunnerNEW`"
   ]
  },
  {
   "cell_type": "markdown",
   "metadata": {},
   "source": [
    "\n",
    "[TOC]\n"
   ]
  },
  {
   "cell_type": "markdown",
   "metadata": {},
   "source": [
    "The `LoopRunnerNEW` class is used internally to implement looping via the `@foreach` decorator."
   ]
  },
  {
   "cell_type": "code",
   "execution_count": 1,
   "metadata": {},
   "outputs": [],
   "source": [
    "from tohu.looping_NEW import LoopVariableNEW, LoopRunnerNEW#, LoopExhaustedNEW"
   ]
  },
  {
   "cell_type": "markdown",
   "metadata": {},
   "source": [
    "## Initialising a `LoopRunner` instance"
   ]
  },
  {
   "cell_type": "markdown",
   "metadata": {},
   "source": [
    "First we define a few loop variables which we use to initialise a `LoopRunner` instance. Normally, these loop variables are created automatically as part of a `@foreach` declaration, but here we define them manually for illustration purposes."
   ]
  },
  {
   "cell_type": "code",
   "execution_count": 2,
   "metadata": {},
   "outputs": [],
   "source": [
    "xx = LoopVariableNEW(name=\"xx\", values=[111, 222, 333])\n",
    "yy = LoopVariableNEW(name=\"yy\", values=[\"foo\", \"bar\", \"baz\"])\n",
    "zz = LoopVariableNEW(name=\"zz\", values=[\"AAA\", \"BBB\"])\n",
    "vv = LoopVariableNEW(name=\"vv\", values=[\"lala\" ,\"lolo\"])\n",
    "ww = LoopVariableNEW(name=\"ww\", values=[\"haha\" ,\"hoho\"])"
   ]
  },
  {
   "cell_type": "markdown",
   "metadata": {},
   "source": [
    "Equivalently, we could also create an empty `LoopRunner` instance and add the loop variables one by one."
   ]
  },
  {
   "cell_type": "code",
   "execution_count": 3,
   "metadata": {},
   "outputs": [],
   "source": [
    "loop_runner = LoopRunnerNEW()\n",
    "loop_runner.add_loop_variable(xx, level=1)\n",
    "loop_runner.add_loop_variable(yy, level=1)\n",
    "loop_runner.add_loop_variable(zz, level=2)\n",
    "loop_runner.add_loop_variable(vv, level=3)\n",
    "loop_runner.add_loop_variable(ww, level=3)"
   ]
  },
  {
   "cell_type": "markdown",
   "metadata": {},
   "source": [
    "Adding a loop variable whose name already exists raises an error."
   ]
  },
  {
   "cell_type": "code",
   "execution_count": 4,
   "metadata": {},
   "outputs": [],
   "source": [
    "import pytest\n",
    "\n",
    "with pytest.raises(ValueError, match=\"A loop variable with name 'xx' already exists.\"):\n",
    "    loop_runner.add_loop_variable(xx, level=1)"
   ]
  },
  {
   "cell_type": "markdown",
   "metadata": {},
   "source": [
    "The loop variables in the loop runner can be accessed via the `loop_variables` attribute."
   ]
  },
  {
   "cell_type": "code",
   "execution_count": 5,
   "metadata": {},
   "outputs": [
    {
     "data": {
      "text/plain": [
       "{'xx': <LoopVariable: name='xx', loop_level=1, values=[111, 222, 333], cur_value=111 (tohu_id=9ce141)>,\n",
       " 'yy': <LoopVariable: name='yy', loop_level=1, values=['foo', 'bar', 'baz'], cur_value='foo' (tohu_id=1a07f1)>,\n",
       " 'zz': <LoopVariable: name='zz', loop_level=2, values=['AAA', 'BBB'], cur_value='AAA' (tohu_id=6a22fc)>,\n",
       " 'vv': <LoopVariable: name='vv', loop_level=3, values=['lala', 'lolo'], cur_value='lala' (tohu_id=f617d9)>,\n",
       " 'ww': <LoopVariable: name='ww', loop_level=3, values=['haha', 'hoho'], cur_value='haha' (tohu_id=e965d2)>}"
      ]
     },
     "execution_count": 5,
     "metadata": {},
     "output_type": "execute_result"
    }
   ],
   "source": [
    "loop_runner.loop_variables"
   ]
  }
 ],
 "metadata": {
  "kernelspec": {
   "display_name": "Python 3",
   "language": "python",
   "name": "python3"
  },
  "language_info": {
   "codemirror_mode": {
    "name": "ipython",
    "version": 3
   },
   "file_extension": ".py",
   "mimetype": "text/x-python",
   "name": "python",
   "nbconvert_exporter": "python",
   "pygments_lexer": "ipython3",
   "version": "3.8.1"
  }
 },
 "nbformat": 4,
 "nbformat_minor": 4
}
