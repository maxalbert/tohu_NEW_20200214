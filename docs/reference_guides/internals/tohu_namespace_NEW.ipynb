{
 "cells": [
  {
   "cell_type": "markdown",
   "metadata": {},
   "source": [
    "# `TohuNamespaceNEW`"
   ]
  },
  {
   "cell_type": "markdown",
   "metadata": {},
   "source": [
    "\n",
    "[TOC]\n"
   ]
  },
  {
   "cell_type": "markdown",
   "metadata": {},
   "source": [
    "The `TohuNamespaceNEW` class allows grouping together other tohu generators and treating them as a single unit (which is used to implement the functionality of custom generators)."
   ]
  },
  {
   "cell_type": "code",
   "execution_count": 1,
   "metadata": {},
   "outputs": [],
   "source": [
    "from tohu.tohu_namespace_NEW import TohuNamespaceNEW"
   ]
  },
  {
   "cell_type": "markdown",
   "metadata": {},
   "source": [
    "## Initialisation and adding generators"
   ]
  },
  {
   "cell_type": "code",
   "execution_count": 2,
   "metadata": {},
   "outputs": [],
   "source": [
    "from tohu import Integer, HashDigest, FakerGenerator"
   ]
  },
  {
   "cell_type": "code",
   "execution_count": 3,
   "metadata": {},
   "outputs": [
    {
     "data": {
      "text/plain": [
       "{'xx': <Integer (id=c5bff4)>,\n",
       " 'yy': <HashDigest (id=1518ac)>,\n",
       " 'zz': <FakerGenerator (id=66af96)>}"
      ]
     },
     "execution_count": 3,
     "metadata": {},
     "output_type": "execute_result"
    }
   ],
   "source": [
    "tohu_namespace = TohuNamespaceNEW()\n",
    "\n",
    "tohu_namespace.add_generator(\"xx\", Integer(100, 200))\n",
    "tohu_namespace.add_generator(\"yy\", HashDigest(length=6))\n",
    "tohu_namespace.add_generator(\"zz\", FakerGenerator(method=\"name\"))\n",
    "\n",
    "tohu_namespace.generators"
   ]
  },
  {
   "cell_type": "markdown",
   "metadata": {},
   "source": [
    "The convenience method `add_tohu_generators_from_dict()` allows passing a dictionary, and it will call `add_generator()` for any tohu generators found in this dictionary (while ignoring any other values)."
   ]
  },
  {
   "cell_type": "code",
   "execution_count": 4,
   "metadata": {},
   "outputs": [],
   "source": [
    "generators = {\n",
    "    \"xx\": Integer(100, 200),\n",
    "    \"yy\": HashDigest(length=6),\n",
    "    \"aa\": \"this will not be added because it is not a tohu generator\",\n",
    "    \"zz\": FakerGenerator(method=\"name\"),\n",
    "    \"bb\": 42\n",
    "}"
   ]
  },
  {
   "cell_type": "code",
   "execution_count": 5,
   "metadata": {},
   "outputs": [],
   "source": [
    "tohu_namespace = TohuNamespaceNEW()\n",
    "tohu_namespace.add_tohu_generators_from_dict(generators)"
   ]
  },
  {
   "cell_type": "code",
   "execution_count": 6,
   "metadata": {},
   "outputs": [
    {
     "data": {
      "text/plain": [
       "{'xx': <Integer (id=a45b46)>,\n",
       " 'yy': <HashDigest (id=6661d1)>,\n",
       " 'zz': <FakerGenerator (id=3430ab)>}"
      ]
     },
     "execution_count": 6,
     "metadata": {},
     "output_type": "execute_result"
    }
   ],
   "source": [
    "tohu_namespace.generators"
   ]
  },
  {
   "cell_type": "markdown",
   "metadata": {},
   "source": [
    "## Setting the `tohu_items_cls` attribute"
   ]
  },
  {
   "cell_type": "markdown",
   "metadata": {},
   "source": [
    "Initially the `tohu_items_cls` attribute refers to a non-existent tohu items class:"
   ]
  },
  {
   "cell_type": "code",
   "execution_count": 7,
   "metadata": {},
   "outputs": [
    {
     "data": {
      "text/plain": [
       "<NonExistentTohuItemsClass>"
      ]
     },
     "execution_count": 7,
     "metadata": {},
     "output_type": "execute_result"
    }
   ],
   "source": [
    "tohu_namespace.tohu_items_cls"
   ]
  },
  {
   "cell_type": "markdown",
   "metadata": {},
   "source": [
    "Once all desired generators have been added to the tohu namespace, we can call `set_tohu_items_class`, which will automatically create a tohu items class with the same field names as the generators contained in the namespace."
   ]
  },
  {
   "cell_type": "code",
   "execution_count": 8,
   "metadata": {},
   "outputs": [],
   "source": [
    "tohu_namespace.set_tohu_items_class(name=\"Quux\")"
   ]
  },
  {
   "cell_type": "code",
   "execution_count": 9,
   "metadata": {},
   "outputs": [
    {
     "data": {
      "text/plain": [
       "tohu.tohu_items_class.Quux"
      ]
     },
     "execution_count": 9,
     "metadata": {},
     "output_type": "execute_result"
    }
   ],
   "source": [
    "tohu_namespace.tohu_items_cls"
   ]
  },
  {
   "cell_type": "markdown",
   "metadata": {},
   "source": [
    "This items class can then be used to create individual tohu items."
   ]
  },
  {
   "cell_type": "code",
   "execution_count": 10,
   "metadata": {},
   "outputs": [
    {
     "data": {
      "text/plain": [
       "Quux(xx=100, yy='910A97', zz='Kristen Wallace')"
      ]
     },
     "execution_count": 10,
     "metadata": {},
     "output_type": "execute_result"
    }
   ],
   "source": [
    "tohu_namespace.tohu_items_cls(xx=100, yy=\"910A97\", zz=\"Kristen Wallace\")"
   ]
  },
  {
   "cell_type": "markdown",
   "metadata": {},
   "source": [
    "## Resetting and generating tohu items"
   ]
  },
  {
   "cell_type": "code",
   "execution_count": 11,
   "metadata": {},
   "outputs": [
    {
     "data": {
      "text/plain": [
       "{'xx': <Integer (id=a45b46)>,\n",
       " 'yy': <HashDigest (id=6661d1)>,\n",
       " 'zz': <FakerGenerator (id=3430ab)>}"
      ]
     },
     "execution_count": 11,
     "metadata": {},
     "output_type": "execute_result"
    }
   ],
   "source": [
    "tohu_namespace.generators"
   ]
  },
  {
   "cell_type": "code",
   "execution_count": 12,
   "metadata": {},
   "outputs": [
    {
     "name": "stdout",
     "output_type": "stream",
     "text": [
      "Quux(xx=163, yy='7551AA', zz='Michelle Miller')\n",
      "Quux(xx=171, yy='54596E', zz='Eddie Davis')\n",
      "Quux(xx=142, yy='2A16D0', zz='Kathleen Lucas')\n",
      "Quux(xx=140, yy='FDCDD3', zz='Jason Rodriguez')\n",
      "Quux(xx=121, yy='BDE283', zz='Andrew Pitts')\n"
     ]
    }
   ],
   "source": [
    "tohu_namespace.reset(seed=11111)\n",
    "\n",
    "print(next(tohu_namespace))\n",
    "print(next(tohu_namespace))\n",
    "print(next(tohu_namespace))\n",
    "print(next(tohu_namespace))\n",
    "print(next(tohu_namespace))"
   ]
  },
  {
   "cell_type": "markdown",
   "metadata": {},
   "source": [
    "## Adding generators with dependencies"
   ]
  },
  {
   "cell_type": "code",
   "execution_count": 13,
   "metadata": {},
   "outputs": [],
   "source": [
    "from tohu.derived_generators import Apply"
   ]
  },
  {
   "cell_type": "code",
   "execution_count": 14,
   "metadata": {},
   "outputs": [],
   "source": [
    "aa = Integer(1, 9)\n",
    "bb = Apply(lambda x: x*11, aa)\n",
    "cc = Apply(lambda x: x*101, bb)"
   ]
  },
  {
   "cell_type": "code",
   "execution_count": 19,
   "metadata": {},
   "outputs": [],
   "source": [
    "assert bb.arg_gens[0].is_clone_of(aa)\n",
    "assert cc.arg_gens[0].is_clone_of(bb)"
   ]
  },
  {
   "cell_type": "code",
   "execution_count": 20,
   "metadata": {},
   "outputs": [],
   "source": [
    "tohu_namespace = TohuNamespaceNEW()\n",
    "tohu_namespace.add_generator(\"rr\", aa)\n",
    "tohu_namespace.add_generator(\"ss\", aa)\n",
    "tohu_namespace.add_generator(\"tt\", bb)\n",
    "tohu_namespace.add_generator(\"uu\", cc)\n",
    "tohu_namespace.add_generator(\"vv\", cc)\n",
    "tohu_namespace.set_tohu_items_class(\"Quux\")"
   ]
  },
  {
   "cell_type": "code",
   "execution_count": 21,
   "metadata": {},
   "outputs": [
    {
     "data": {
      "text/plain": [
       "{'rr': <Integer (id=b9aaef)>,\n",
       " 'ss': <Integer (id=7644a3)>,\n",
       " 'tt': <Apply (id=417a35)>,\n",
       " 'uu': <Apply (id=5ff032)>,\n",
       " 'vv': <Apply (id=0ff42e)>}"
      ]
     },
     "execution_count": 21,
     "metadata": {},
     "output_type": "execute_result"
    }
   ],
   "source": [
    "tohu_namespace.generators"
   ]
  },
  {
   "cell_type": "markdown",
   "metadata": {},
   "source": [
    "Note that even though the generator `aa` is added to the namespace twice (first with the name `\"rr\"` and then with the name `\"ss\"`), `ss` actually ends up as a _clone_ of `rr` (this is to ensure that the tohu items produced by the namespace contain the correct values).\n",
    "\n",
    "The following checks that this works as expected."
   ]
  },
  {
   "cell_type": "code",
   "execution_count": 27,
   "metadata": {},
   "outputs": [
    {
     "name": "stdout",
     "output_type": "stream",
     "text": [
      "Quux(rr=8, ss=8, tt=88, uu=8888, vv=8888)\n",
      "Quux(rr=9, ss=9, tt=99, uu=9999, vv=9999)\n",
      "Quux(rr=6, ss=6, tt=66, uu=6666, vv=6666)\n",
      "Quux(rr=6, ss=6, tt=66, uu=6666, vv=6666)\n",
      "Quux(rr=3, ss=3, tt=33, uu=3333, vv=3333)\n"
     ]
    }
   ],
   "source": [
    "assert tohu_namespace.generators[\"ss\"].is_clone_of(tohu_namespace.generators[\"rr\"])\n",
    "assert tohu_namespace.generators[\"tt\"].arg_gens[0].is_clone_of(tohu_namespace.generators[\"rr\"])\n",
    "assert tohu_namespace.generators[\"uu\"].arg_gens[0].is_clone_of(tohu_namespace.generators[\"tt\"])\n",
    "assert tohu_namespace.generators[\"vv\"].parent.arg_gens[0].is_clone_of(tohu_namespace.generators[\"tt\"])\n",
    "\n",
    "tohu_namespace.reset(seed=11111)\n",
    "print(next(tohu_namespace))\n",
    "print(next(tohu_namespace))\n",
    "print(next(tohu_namespace))\n",
    "print(next(tohu_namespace))\n",
    "print(next(tohu_namespace))"
   ]
  },
  {
   "cell_type": "markdown",
   "metadata": {},
   "source": [
    "**TODO:**\n",
    "\n",
    "Add tests for:\n",
    "- [X] `.set_tohu_items_class(\"Quux\")`\n",
    "- [X] `.reset()`\n",
    "- [X] `.__next__()`\n",
    "- [X] adding generators with dependencies on previously added generators (check that \"rewiring\" works correctly)\n",
    "- [ ] `.extract_loop_runner()`\n",
    "- [ ] ensure that when `.reset()` is called, only the expected generators are reset (in particular, no clones and no loop variables)\n",
    "\n",
    "(and any other usages in the notebook `2020-04-08__Prototyping_TohuNamespace_and_LoopRunner_v2.ipynb`)"
   ]
  },
  {
   "cell_type": "code",
   "execution_count": null,
   "metadata": {},
   "outputs": [],
   "source": []
  }
 ],
 "metadata": {
  "kernelspec": {
   "display_name": "Python 3",
   "language": "python",
   "name": "python3"
  },
  "language_info": {
   "codemirror_mode": {
    "name": "ipython",
    "version": 3
   },
   "file_extension": ".py",
   "mimetype": "text/x-python",
   "name": "python",
   "nbconvert_exporter": "python",
   "pygments_lexer": "ipython3",
   "version": "3.8.1"
  }
 },
 "nbformat": 4,
 "nbformat_minor": 4
}
