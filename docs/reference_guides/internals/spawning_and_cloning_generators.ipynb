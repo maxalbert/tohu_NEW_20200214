{
 "cells": [
  {
   "cell_type": "markdown",
   "metadata": {},
   "source": [
    "# Spawning and cloning generators"
   ]
  },
  {
   "cell_type": "markdown",
   "metadata": {},
   "source": [
    "## Spawning generators"
   ]
  },
  {
   "cell_type": "markdown",
   "metadata": {},
   "source": [
    "Calling the `spawn()` method on any generator produced an exact copy if itself. It is of the same type, initialised with the same parameters and initially has the same state. However, they are otherwise completely independent and resetting one of them has no influence on the other (this is different for cloned generators, see below)."
   ]
  },
  {
   "cell_type": "code",
   "execution_count": 1,
   "metadata": {},
   "outputs": [],
   "source": [
    "from tohu import Integer\n",
    "from tohu.utils import print_generated_sequence"
   ]
  },
  {
   "cell_type": "code",
   "execution_count": 2,
   "metadata": {},
   "outputs": [],
   "source": [
    "g = Integer(100, 200).reset(seed=12345)\n",
    "h = g.spawn()"
   ]
  },
  {
   "cell_type": "markdown",
   "metadata": {},
   "source": [
    "Initially, `h` is in the same state as `g` so they will produce the same elements"
   ]
  },
  {
   "cell_type": "code",
   "execution_count": 3,
   "metadata": {},
   "outputs": [
    {
     "name": "stdout",
     "output_type": "stream",
     "text": [
      "Generated sequence: 153, 193, 101, 138, 147, 124, 134, 172, 155, 120\n",
      "Generated sequence: 153, 193, 101, 138, 147\n"
     ]
    }
   ],
   "source": [
    "print_generated_sequence(g, num=10)\n",
    "print_generated_sequence(h, num=5)"
   ]
  },
  {
   "cell_type": "markdown",
   "metadata": {},
   "source": [
    "If we reset `g` with a different seed, it will start producing different elements (but `h` will continue to produce the same elements that `g` did; notice that the following five produced by `h` are the same as the last five for `g` in the previous output)."
   ]
  },
  {
   "cell_type": "code",
   "execution_count": 4,
   "metadata": {},
   "outputs": [
    {
     "name": "stdout",
     "output_type": "stream",
     "text": [
      "Generated sequence: 115, 139, 164, 183, 194\n",
      "Generated sequence: 124, 134, 172, 155, 120\n"
     ]
    }
   ],
   "source": [
    "g.reset(seed=99999)\n",
    "print_generated_sequence(g, num=5)\n",
    "print_generated_sequence(h, num=5)"
   ]
  },
  {
   "cell_type": "markdown",
   "metadata": {},
   "source": [
    "## Cloning generators"
   ]
  },
  {
   "cell_type": "markdown",
   "metadata": {},
   "source": [
    "Cloning a generator `g` also produces an identical copy `g_clone`. However, unlike in spawning the two are now \"linked\" in the sense that whenever `g` is reset it will also automatically reset `g_clone` using the same seed (but not vice versa!).\n",
    "\n",
    "**TODO**: Should it even be allowed to reset a cloned generator? Or shall we disallow it for now?"
   ]
  },
  {
   "cell_type": "code",
   "execution_count": 5,
   "metadata": {},
   "outputs": [],
   "source": [
    "g = Integer(100, 200).reset(seed=12345)\n",
    "h = g.clone()"
   ]
  },
  {
   "cell_type": "code",
   "execution_count": 6,
   "metadata": {},
   "outputs": [
    {
     "name": "stdout",
     "output_type": "stream",
     "text": [
      "Generated sequence: 153, 193, 101, 138, 147, 124, 134, 172, 155, 120\n",
      "Generated sequence: 153, 193, 101, 138, 147\n"
     ]
    }
   ],
   "source": [
    "print_generated_sequence(g, num=10)\n",
    "print_generated_sequence(h, num=5)"
   ]
  },
  {
   "cell_type": "code",
   "execution_count": 7,
   "metadata": {},
   "outputs": [
    {
     "name": "stdout",
     "output_type": "stream",
     "text": [
      "Generated sequence: 115, 139, 164, 183, 194\n",
      "Generated sequence: 115, 139, 164, 183, 194\n"
     ]
    }
   ],
   "source": [
    "g.reset(seed=99999)\n",
    "print_generated_sequence(g, num=5)\n",
    "print_generated_sequence(h, num=5)"
   ]
  },
  {
   "cell_type": "code",
   "execution_count": null,
   "metadata": {},
   "outputs": [],
   "source": []
  }
 ],
 "metadata": {
  "kernelspec": {
   "display_name": "Python 3",
   "language": "python",
   "name": "python3"
  },
  "language_info": {
   "codemirror_mode": {
    "name": "ipython",
    "version": 3
   },
   "file_extension": ".py",
   "mimetype": "text/x-python",
   "name": "python",
   "nbconvert_exporter": "python",
   "pygments_lexer": "ipython3",
   "version": "3.8.1"
  }
 },
 "nbformat": 4,
 "nbformat_minor": 4
}
