{
 "cells": [
  {
   "cell_type": "markdown",
   "metadata": {},
   "source": [
    "# `FieldSelector`"
   ]
  },
  {
   "cell_type": "markdown",
   "metadata": {},
   "source": [
    "The `FieldSelector` class is used internally to extract, re-order, and/or rename fields in the item stream produced by a custom generator when items are exported (e.g. to a CSV file or a SQL table)."
   ]
  },
  {
   "cell_type": "code",
   "execution_count": 1,
   "metadata": {},
   "outputs": [],
   "source": [
    "from tohu.tohu_items_class import make_tohu_items_class\n",
    "from tohu.field_selector import FieldSelector"
   ]
  },
  {
   "cell_type": "markdown",
   "metadata": {},
   "source": [
    "To illustrate how the `FieldSelector` class works let's manually define a list of tohu items to which we can apply different field selectors below."
   ]
  },
  {
   "cell_type": "code",
   "execution_count": 2,
   "metadata": {},
   "outputs": [
    {
     "data": {
      "text/plain": [
       "[Quux(aa=111, bb='foo', cc='AAA'),\n",
       " Quux(aa=222, bb='bar', cc='BBB'),\n",
       " Quux(aa=333, bb='baz', cc='CCC'),\n",
       " Quux(aa=444, bb='quux', cc='DDD')]"
      ]
     },
     "execution_count": 2,
     "metadata": {},
     "output_type": "execute_result"
    }
   ],
   "source": [
    "Quux = make_tohu_items_class(\"Quux\", [\"aa\", \"bb\", \"cc\"])\n",
    "\n",
    "items = [\n",
    "    Quux(111, \"foo\", \"AAA\"),\n",
    "    Quux(222, \"bar\", \"BBB\"),\n",
    "    Quux(333, \"baz\", \"CCC\"),\n",
    "    Quux(444, \"quux\", \"DDD\"),\n",
    "]\n",
    "\n",
    "items"
   ]
  },
  {
   "cell_type": "markdown",
   "metadata": {},
   "source": [
    "## No explicit field names: passing fields straight through without altering them"
   ]
  },
  {
   "cell_type": "markdown",
   "metadata": {},
   "source": [
    "If the `fields` argument is not specified, the `FieldSelector` acts like the identity function, i.e., it passes items straight through without altering them. While this may not seem very useful, this case is important for consistency to avoid special case distinctions in the code when the user simply wants to export all fields of a custom generator without modification.\n",
    "\n",
    "Note that the output values are ordinary dictionaries instead of tohu items. This is because tohu items are internally constructed as [attrs](https://www.attrs.org/en/stable/) classes but we want to allow renaming fields and the output names may not be valid attribute names (e.g. if they contain whitespace such as the name `\"Column X\"`)."
   ]
  },
  {
   "cell_type": "code",
   "execution_count": 9,
   "metadata": {},
   "outputs": [
    {
     "data": {
      "text/plain": [
       "[{'aa': 111, 'bb': 'foo', 'cc': 'AAA'},\n",
       " {'aa': 222, 'bb': 'bar', 'cc': 'BBB'},\n",
       " {'aa': 333, 'bb': 'baz', 'cc': 'CCC'},\n",
       " {'aa': 444, 'bb': 'quux', 'cc': 'DDD'}]"
      ]
     },
     "execution_count": 9,
     "metadata": {},
     "output_type": "execute_result"
    }
   ],
   "source": [
    "fs = FieldSelector(Quux, fields=None)\n",
    "\n",
    "list(fs(items))"
   ]
  },
  {
   "cell_type": "markdown",
   "metadata": {},
   "source": [
    "## Passing a list of field names: extracting fields and/or changing their order"
   ]
  },
  {
   "cell_type": "markdown",
   "metadata": {},
   "source": [
    "If the `fields` argument is a list of field names, those fi"
   ]
  },
  {
   "cell_type": "code",
   "execution_count": 5,
   "metadata": {},
   "outputs": [],
   "source": [
    "fs = FieldSelector(Quux, fields=[\"cc\", \"aa\"])"
   ]
  },
  {
   "cell_type": "code",
   "execution_count": 6,
   "metadata": {},
   "outputs": [
    {
     "data": {
      "text/plain": [
       "[{'cc': 'AAA', 'aa': 111},\n",
       " {'cc': 'BBB', 'aa': 222},\n",
       " {'cc': 'CCC', 'aa': 333},\n",
       " {'cc': 'DDD', 'aa': 444}]"
      ]
     },
     "execution_count": 6,
     "metadata": {},
     "output_type": "execute_result"
    }
   ],
   "source": [
    "list(fs(items))"
   ]
  },
  {
   "cell_type": "markdown",
   "metadata": {},
   "source": [
    "## Passing a dictionary: renaming fields"
   ]
  },
  {
   "cell_type": "code",
   "execution_count": 7,
   "metadata": {},
   "outputs": [],
   "source": [
    "fs = FieldSelector(Quux, {\"Column X\": \"bb\", \"Column Y\": \"aa\"})"
   ]
  },
  {
   "cell_type": "code",
   "execution_count": 8,
   "metadata": {},
   "outputs": [
    {
     "data": {
      "text/plain": [
       "[{'Column X': 'foo', 'Column Y': 111},\n",
       " {'Column X': 'bar', 'Column Y': 222},\n",
       " {'Column X': 'baz', 'Column Y': 333},\n",
       " {'Column X': 'quux', 'Column Y': 444}]"
      ]
     },
     "execution_count": 8,
     "metadata": {},
     "output_type": "execute_result"
    }
   ],
   "source": [
    "list(fs(items))"
   ]
  },
  {
   "cell_type": "markdown",
   "metadata": {},
   "source": [
    "## *TODO:* Error for non-existing fields"
   ]
  },
  {
   "cell_type": "code",
   "execution_count": 9,
   "metadata": {},
   "outputs": [],
   "source": [
    "import pytest\n",
    "#from tohu.field_selector import InvalidFieldError"
   ]
  },
  {
   "cell_type": "code",
   "execution_count": 10,
   "metadata": {},
   "outputs": [],
   "source": [
    "# with pytest.raises(InvalidFieldError, match=\"Invalid fields: \\['xx', 'yy'\\]. Fields must be a subset of: \\['aa', 'bb', 'cc'\\]\"):\n",
    "#     fs = FieldSelector(Quux, fields=[\"aa\", \"xx\", \"bb\", \"yy\"])"
   ]
  },
  {
   "cell_type": "markdown",
   "metadata": {},
   "source": [
    "## *TODO:* Extracting nested fields"
   ]
  },
  {
   "cell_type": "code",
   "execution_count": 11,
   "metadata": {},
   "outputs": [
    {
     "data": {
      "text/plain": [
       "[Quux(aa=111, bb='foo', cc=Foobar(xx='AAA', yy=10)),\n",
       " Quux(aa=222, bb='bar', cc=Foobar(xx='BBB', yy=20)),\n",
       " Quux(aa=333, bb='baz', cc=Foobar(xx='CCC', yy=30)),\n",
       " Quux(aa=444, bb='quux', cc=Foobar(xx='DDD', yy=40))]"
      ]
     },
     "execution_count": 11,
     "metadata": {},
     "output_type": "execute_result"
    }
   ],
   "source": [
    "Quux = make_tohu_items_class(\"Quux\", [\"aa\", \"bb\", \"cc\"])\n",
    "Foobar = make_tohu_items_class(\"Foobar\", [\"xx\", \"yy\"])\n",
    "\n",
    "items = [\n",
    "    Quux(111, \"foo\", Foobar(\"AAA\", 10)),\n",
    "    Quux(222, \"bar\", Foobar(\"BBB\", 20)),\n",
    "    Quux(333, \"baz\", Foobar(\"CCC\", 30)),\n",
    "    Quux(444, \"quux\", Foobar(\"DDD\", 40)),\n",
    "]\n",
    "\n",
    "items"
   ]
  },
  {
   "cell_type": "markdown",
   "metadata": {},
   "source": [
    "*TODO:* Ensure we can deal with nested fields; also ensure we raised an error if nested fields have the wrong names!"
   ]
  },
  {
   "cell_type": "code",
   "execution_count": 12,
   "metadata": {},
   "outputs": [],
   "source": [
    "#fs = FieldSelector({\"Column X\": \"cc.xx\", \"Column Y\": \"cc.yy\", \"Column Z\": \"aa\"})"
   ]
  }
 ],
 "metadata": {
  "kernelspec": {
   "display_name": "Python 3",
   "language": "python",
   "name": "python3"
  },
  "language_info": {
   "codemirror_mode": {
    "name": "ipython",
    "version": 3
   },
   "file_extension": ".py",
   "mimetype": "text/x-python",
   "name": "python",
   "nbconvert_exporter": "python",
   "pygments_lexer": "ipython3",
   "version": "3.8.1"
  }
 },
 "nbformat": 4,
 "nbformat_minor": 4
}
