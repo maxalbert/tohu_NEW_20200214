{
 "cells": [
  {
   "cell_type": "code",
   "execution_count": 1,
   "metadata": {},
   "outputs": [],
   "source": [
    "from tohu import Integer, HashDigest, FakerGenerator\n",
    "from tohu.custom_generator_NEW import CustomGeneratorNEW\n",
    "from tohu.utils import print_generated_sequence"
   ]
  },
  {
   "cell_type": "markdown",
   "metadata": {},
   "source": [
    "#### Custom generator without `__init__` method"
   ]
  },
  {
   "cell_type": "markdown",
   "metadata": {},
   "source": [
    "The simplest way to use `CustomGenerator` is with only class attributes (without `__init__` method)."
   ]
  },
  {
   "cell_type": "code",
   "execution_count": 2,
   "metadata": {},
   "outputs": [],
   "source": [
    "class QuuxGenerator(CustomGeneratorNEW):\n",
    "    aa = Integer(100, 200)\n",
    "    bb = HashDigest(length=6)\n",
    "    cc = FakerGenerator(method=\"name\")"
   ]
  },
  {
   "cell_type": "code",
   "execution_count": 3,
   "metadata": {},
   "outputs": [
    {
     "name": "stderr",
     "output_type": "stream",
     "text": [
      "2020-04-18 22:24:55 INFO  [DDD] Inside CustomGeneratorNEW.__init__()\n"
     ]
    }
   ],
   "source": [
    "g = QuuxGenerator()"
   ]
  },
  {
   "cell_type": "code",
   "execution_count": 4,
   "metadata": {},
   "outputs": [
    {
     "name": "stdout",
     "output_type": "stream",
     "text": [
      "Generated sequence:\n",
      "\n",
      "Quux(aa=163, bb='7551AA', cc='Michelle Miller')\n",
      "Quux(aa=171, bb='54596E', cc='Eddie Davis')\n",
      "Quux(aa=142, bb='2A16D0', cc='Kathleen Lucas')\n",
      "Quux(aa=140, bb='FDCDD3', cc='Jason Rodriguez')\n",
      "Quux(aa=121, bb='BDE283', cc='Andrew Pitts')\n"
     ]
    }
   ],
   "source": [
    "print_generated_sequence(g, num=5, seed=11111, sep=\"\\n\")"
   ]
  },
  {
   "cell_type": "markdown",
   "metadata": {},
   "source": [
    "Note that while the _instance_ `g` contains attributes with the same names `\"aa\"` and `\"bb\"` as the parent class `QuuxGenerator`, internally the instance attributes are actually spawned versions of the class attributes (in particular, they are not identical):"
   ]
  },
  {
   "cell_type": "code",
   "execution_count": 5,
   "metadata": {},
   "outputs": [
    {
     "name": "stdout",
     "output_type": "stream",
     "text": [
      "<Integer (id=dab91d)>\n",
      "<Integer (id=924e40)>\n",
      "<HashDigest (id=0b034c)>\n",
      "<HashDigest (id=7d5d55)>\n",
      "<FakerGenerator (id=c7c0db)>\n",
      "<FakerGenerator (id=d3dce0)>\n"
     ]
    }
   ],
   "source": [
    "print(QuuxGenerator.aa)\n",
    "print(g.aa)\n",
    "assert QuuxGenerator.aa is not g.aa\n",
    "\n",
    "print(QuuxGenerator.bb)\n",
    "print(g.bb)\n",
    "assert QuuxGenerator.bb is not g.bb\n",
    "\n",
    "print(QuuxGenerator.cc)\n",
    "print(g.cc)\n",
    "assert QuuxGenerator.cc is not g.cc"
   ]
  },
  {
   "cell_type": "markdown",
   "metadata": {},
   "source": [
    "#### Custom generator with `__init__` method"
   ]
  },
  {
   "cell_type": "markdown",
   "metadata": {},
   "source": [
    "Tohu generators that are defined as instance attributes within the `__init__` method are also picked up."
   ]
  },
  {
   "cell_type": "code",
   "execution_count": 6,
   "metadata": {},
   "outputs": [],
   "source": [
    "class QuuxGenerator(CustomGeneratorNEW):\n",
    "    aa = Integer(100, 200)\n",
    "    bb = HashDigest(length=6)\n",
    "    \n",
    "    def __init__(self, method):\n",
    "        self.cc = FakerGenerator(method=method)"
   ]
  },
  {
   "cell_type": "code",
   "execution_count": 7,
   "metadata": {},
   "outputs": [
    {
     "name": "stderr",
     "output_type": "stream",
     "text": [
      "2020-04-18 22:24:55 INFO  [DDD] Inside CustomGeneratorNEW.__init__()\n"
     ]
    }
   ],
   "source": [
    "g = QuuxGenerator(method=\"first_name\")"
   ]
  },
  {
   "cell_type": "code",
   "execution_count": 8,
   "metadata": {},
   "outputs": [
    {
     "name": "stdout",
     "output_type": "stream",
     "text": [
      "Generated sequence:\n",
      "\n",
      "Quux(aa=163, bb='7551AA', cc='Mary')\n",
      "Quux(aa=171, bb='54596E', cc='Jennifer')\n",
      "Quux(aa=142, bb='2A16D0', cc='Christopher')\n",
      "Quux(aa=140, bb='FDCDD3', cc='Joseph')\n",
      "Quux(aa=121, bb='BDE283', cc='Kelly')\n"
     ]
    }
   ],
   "source": [
    "print_generated_sequence(g, num=5, seed=11111, sep=\"\\n\")"
   ]
  }
 ],
 "metadata": {
  "kernelspec": {
   "display_name": "Python 3",
   "language": "python",
   "name": "python3"
  },
  "language_info": {
   "codemirror_mode": {
    "name": "ipython",
    "version": 3
   },
   "file_extension": ".py",
   "mimetype": "text/x-python",
   "name": "python",
   "nbconvert_exporter": "python",
   "pygments_lexer": "ipython3",
   "version": "3.8.1"
  }
 },
 "nbformat": 4,
 "nbformat_minor": 4
}
