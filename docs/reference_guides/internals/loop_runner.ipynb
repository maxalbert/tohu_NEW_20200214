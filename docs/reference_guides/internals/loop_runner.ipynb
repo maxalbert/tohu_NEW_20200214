{
 "cells": [
  {
   "cell_type": "markdown",
   "metadata": {},
   "source": [
    "# `LoopRunner`"
   ]
  },
  {
   "cell_type": "markdown",
   "metadata": {},
   "source": [
    "\n",
    "[TOC]\n"
   ]
  },
  {
   "cell_type": "markdown",
   "metadata": {},
   "source": [
    "The `LoopRunner` class is used internally to implement looping via the `@foreach` decorator."
   ]
  },
  {
   "cell_type": "code",
   "execution_count": 1,
   "metadata": {},
   "outputs": [],
   "source": [
    "from tohu.looping_NEW_2 import LoopVariable, LoopRunner"
   ]
  },
  {
   "cell_type": "markdown",
   "metadata": {},
   "source": [
    "### Initialising a `LoopRunner` instance"
   ]
  },
  {
   "cell_type": "markdown",
   "metadata": {},
   "source": [
    "For illustration, here we manually define a few loop variables at three different loop levels and use these to initialise a `LoopRunner` instance.\n",
    "\n",
    "Note that normally the loop variables would be created automatically as part of a `@foreach` declaration."
   ]
  },
  {
   "cell_type": "code",
   "execution_count": 2,
   "metadata": {},
   "outputs": [],
   "source": [
    "xx = LoopVariable(name=\"xx\", values=[111, 222, 333]).set_loop_level(1)\n",
    "yy = LoopVariable(name=\"yy\", values=[\"foo\", \"bar\", \"baz\"]).set_loop_level(1)\n",
    "zz = LoopVariable(name=\"zz\", values=[\"AAA\", \"BBB\"]).set_loop_level(2)\n",
    "vv = LoopVariable(name=\"vv\", values=[\"lala\" ,\"lolo\"]).set_loop_level(3)\n",
    "ww = LoopVariable(name=\"ww\", values=[\"haha\" ,\"hoho\"]).set_loop_level(3)"
   ]
  },
  {
   "cell_type": "code",
   "execution_count": 3,
   "metadata": {},
   "outputs": [],
   "source": [
    "loop_vars = {\"xx\": xx, \"yy\": yy, \"zz\": zz, \"vv\": vv, \"ww\": ww}\n",
    "\n",
    "loop_runner = LoopRunner(loop_vars)"
   ]
  },
  {
   "cell_type": "markdown",
   "metadata": {},
   "source": [
    "The loop variables in the loop runner can be accessed via the `loop_variables` attribute."
   ]
  },
  {
   "cell_type": "code",
   "execution_count": 4,
   "metadata": {},
   "outputs": [
    {
     "data": {
      "text/plain": [
       "{'xx': <LoopVariable: name='xx', loop_level=1, values=[111, 222, 333], cur_value=111>,\n",
       " 'yy': <LoopVariable: name='yy', loop_level=1, values=['foo', 'bar', 'baz'], cur_value='foo'>,\n",
       " 'zz': <LoopVariable: name='zz', loop_level=2, values=['AAA', 'BBB'], cur_value='AAA'>,\n",
       " 'vv': <LoopVariable: name='vv', loop_level=3, values=['lala', 'lolo'], cur_value='lala'>,\n",
       " 'ww': <LoopVariable: name='ww', loop_level=3, values=['haha', 'hoho'], cur_value='haha'>}"
      ]
     },
     "execution_count": 4,
     "metadata": {},
     "output_type": "execute_result"
    }
   ],
   "source": [
    "loop_runner.loop_variables"
   ]
  },
  {
   "cell_type": "markdown",
   "metadata": {},
   "source": [
    "### Retrieving loop variables at a specific loop levels"
   ]
  },
  {
   "cell_type": "code",
   "execution_count": 5,
   "metadata": {},
   "outputs": [
    {
     "data": {
      "text/plain": [
       "{'xx': <LoopVariable: name='xx', loop_level=1, values=[111, 222, 333], cur_value=111>,\n",
       " 'yy': <LoopVariable: name='yy', loop_level=1, values=['foo', 'bar', 'baz'], cur_value='foo'>}"
      ]
     },
     "execution_count": 5,
     "metadata": {},
     "output_type": "execute_result"
    }
   ],
   "source": [
    "loop_runner.get_loop_vars_at_level(1)"
   ]
  },
  {
   "cell_type": "code",
   "execution_count": 6,
   "metadata": {},
   "outputs": [
    {
     "data": {
      "text/plain": [
       "{'zz': <LoopVariable: name='zz', loop_level=2, values=['AAA', 'BBB'], cur_value='AAA'>}"
      ]
     },
     "execution_count": 6,
     "metadata": {},
     "output_type": "execute_result"
    }
   ],
   "source": [
    "loop_runner.get_loop_vars_at_level(2)"
   ]
  },
  {
   "cell_type": "code",
   "execution_count": 7,
   "metadata": {},
   "outputs": [
    {
     "data": {
      "text/plain": [
       "{'vv': <LoopVariable: name='vv', loop_level=3, values=['lala', 'lolo'], cur_value='lala'>,\n",
       " 'ww': <LoopVariable: name='ww', loop_level=3, values=['haha', 'hoho'], cur_value='haha'>}"
      ]
     },
     "execution_count": 7,
     "metadata": {},
     "output_type": "execute_result"
    }
   ],
   "source": [
    "loop_runner.get_loop_vars_at_level(3)"
   ]
  },
  {
   "cell_type": "code",
   "execution_count": 8,
   "metadata": {},
   "outputs": [],
   "source": [
    "assert loop_runner.get_loop_vars_at_level(0) == {}\n",
    "assert loop_runner.get_loop_vars_at_level(4) == {}"
   ]
  },
  {
   "cell_type": "code",
   "execution_count": 9,
   "metadata": {},
   "outputs": [
    {
     "data": {
      "text/plain": [
       "{'xx': <LoopVariable: name='xx', loop_level=1, values=[111, 222, 333], cur_value=111>,\n",
       " 'yy': <LoopVariable: name='yy', loop_level=1, values=['foo', 'bar', 'baz'], cur_value='foo'>,\n",
       " 'zz': <LoopVariable: name='zz', loop_level=2, values=['AAA', 'BBB'], cur_value='AAA'>,\n",
       " 'vv': <LoopVariable: name='vv', loop_level=3, values=['lala', 'lolo'], cur_value='lala'>,\n",
       " 'ww': <LoopVariable: name='ww', loop_level=3, values=['haha', 'hoho'], cur_value='haha'>}"
      ]
     },
     "execution_count": 9,
     "metadata": {},
     "output_type": "execute_result"
    }
   ],
   "source": [
    "loop_runner.get_loop_vars_at_level_and_above(1)"
   ]
  },
  {
   "cell_type": "code",
   "execution_count": 10,
   "metadata": {},
   "outputs": [
    {
     "data": {
      "text/plain": [
       "{'zz': <LoopVariable: name='zz', loop_level=2, values=['AAA', 'BBB'], cur_value='AAA'>,\n",
       " 'vv': <LoopVariable: name='vv', loop_level=3, values=['lala', 'lolo'], cur_value='lala'>,\n",
       " 'ww': <LoopVariable: name='ww', loop_level=3, values=['haha', 'hoho'], cur_value='haha'>}"
      ]
     },
     "execution_count": 10,
     "metadata": {},
     "output_type": "execute_result"
    }
   ],
   "source": [
    "loop_runner.get_loop_vars_at_level_and_above(2)"
   ]
  },
  {
   "cell_type": "code",
   "execution_count": 11,
   "metadata": {},
   "outputs": [
    {
     "data": {
      "text/plain": [
       "{'vv': <LoopVariable: name='vv', loop_level=3, values=['lala', 'lolo'], cur_value='lala'>,\n",
       " 'ww': <LoopVariable: name='ww', loop_level=3, values=['haha', 'hoho'], cur_value='haha'>}"
      ]
     },
     "execution_count": 11,
     "metadata": {},
     "output_type": "execute_result"
    }
   ],
   "source": [
    "loop_runner.get_loop_vars_at_level_and_above(3)"
   ]
  },
  {
   "cell_type": "code",
   "execution_count": 12,
   "metadata": {},
   "outputs": [],
   "source": [
    "assert loop_runner.get_loop_vars_at_level_and_above(4) == {}"
   ]
  },
  {
   "cell_type": "markdown",
   "metadata": {},
   "source": [
    "### Iterating over loop variable values at a specific level"
   ]
  },
  {
   "cell_type": "code",
   "execution_count": 13,
   "metadata": {},
   "outputs": [
    {
     "data": {
      "text/plain": [
       "[{'xx': 111, 'yy': 'foo'}, {'xx': 222, 'yy': 'bar'}, {'xx': 333, 'yy': 'baz'}]"
      ]
     },
     "execution_count": 13,
     "metadata": {},
     "output_type": "execute_result"
    }
   ],
   "source": [
    "list(loop_runner.iter_loop_var_combinations_at_level(1))"
   ]
  },
  {
   "cell_type": "code",
   "execution_count": 14,
   "metadata": {},
   "outputs": [
    {
     "data": {
      "text/plain": [
       "[{'zz': 'AAA'}, {'zz': 'BBB'}]"
      ]
     },
     "execution_count": 14,
     "metadata": {},
     "output_type": "execute_result"
    }
   ],
   "source": [
    "list(loop_runner.iter_loop_var_combinations_at_level(2))"
   ]
  },
  {
   "cell_type": "code",
   "execution_count": 15,
   "metadata": {},
   "outputs": [
    {
     "data": {
      "text/plain": [
       "[{'vv': 'lala', 'ww': 'haha'}, {'vv': 'lolo', 'ww': 'hoho'}]"
      ]
     },
     "execution_count": 15,
     "metadata": {},
     "output_type": "execute_result"
    }
   ],
   "source": [
    "list(loop_runner.iter_loop_var_combinations_at_level(3))"
   ]
  },
  {
   "cell_type": "markdown",
   "metadata": {},
   "source": [
    "### Iterating through all value combinations"
   ]
  },
  {
   "cell_type": "code",
   "execution_count": 16,
   "metadata": {},
   "outputs": [
    {
     "data": {
      "text/plain": [
       "[{'xx': 111, 'yy': 'foo', 'zz': 'AAA', 'vv': 'lala', 'ww': 'haha'},\n",
       " {'xx': 222, 'yy': 'bar', 'zz': 'AAA', 'vv': 'lala', 'ww': 'haha'},\n",
       " {'xx': 333, 'yy': 'baz', 'zz': 'AAA', 'vv': 'lala', 'ww': 'haha'},\n",
       " {'xx': 111, 'yy': 'foo', 'zz': 'BBB', 'vv': 'lala', 'ww': 'haha'},\n",
       " {'xx': 222, 'yy': 'bar', 'zz': 'BBB', 'vv': 'lala', 'ww': 'haha'},\n",
       " {'xx': 333, 'yy': 'baz', 'zz': 'BBB', 'vv': 'lala', 'ww': 'haha'},\n",
       " {'xx': 111, 'yy': 'foo', 'zz': 'AAA', 'vv': 'lolo', 'ww': 'hoho'},\n",
       " {'xx': 222, 'yy': 'bar', 'zz': 'AAA', 'vv': 'lolo', 'ww': 'hoho'},\n",
       " {'xx': 333, 'yy': 'baz', 'zz': 'AAA', 'vv': 'lolo', 'ww': 'hoho'},\n",
       " {'xx': 111, 'yy': 'foo', 'zz': 'BBB', 'vv': 'lolo', 'ww': 'hoho'},\n",
       " {'xx': 222, 'yy': 'bar', 'zz': 'BBB', 'vv': 'lolo', 'ww': 'hoho'},\n",
       " {'xx': 333, 'yy': 'baz', 'zz': 'BBB', 'vv': 'lolo', 'ww': 'hoho'}]"
      ]
     },
     "execution_count": 16,
     "metadata": {},
     "output_type": "execute_result"
    }
   ],
   "source": [
    "list(loop_runner.iter_loop_var_combinations())"
   ]
  },
  {
   "cell_type": "markdown",
   "metadata": {},
   "source": [
    "### Iterating through all value combinations with number of iterations"
   ]
  },
  {
   "cell_type": "code",
   "execution_count": 17,
   "metadata": {},
   "outputs": [],
   "source": [
    "def f_num_iterations(xx, zz, vv, **kwargs):\n",
    "    if vv == \"lala\":\n",
    "        return 3 if zz == \"AAA\" else 1\n",
    "    else:\n",
    "        return 4 if xx == 111 else 2"
   ]
  },
  {
   "cell_type": "code",
   "execution_count": 18,
   "metadata": {},
   "outputs": [
    {
     "data": {
      "text/plain": [
       "[({'xx': 111, 'yy': 'foo', 'zz': 'AAA', 'vv': 'lala', 'ww': 'haha'}, 3),\n",
       " ({'xx': 222, 'yy': 'bar', 'zz': 'AAA', 'vv': 'lala', 'ww': 'haha'}, 3),\n",
       " ({'xx': 333, 'yy': 'baz', 'zz': 'AAA', 'vv': 'lala', 'ww': 'haha'}, 3),\n",
       " ({'xx': 111, 'yy': 'foo', 'zz': 'BBB', 'vv': 'lala', 'ww': 'haha'}, 1),\n",
       " ({'xx': 222, 'yy': 'bar', 'zz': 'BBB', 'vv': 'lala', 'ww': 'haha'}, 1),\n",
       " ({'xx': 333, 'yy': 'baz', 'zz': 'BBB', 'vv': 'lala', 'ww': 'haha'}, 1),\n",
       " ({'xx': 111, 'yy': 'foo', 'zz': 'AAA', 'vv': 'lolo', 'ww': 'hoho'}, 4),\n",
       " ({'xx': 222, 'yy': 'bar', 'zz': 'AAA', 'vv': 'lolo', 'ww': 'hoho'}, 2),\n",
       " ({'xx': 333, 'yy': 'baz', 'zz': 'AAA', 'vv': 'lolo', 'ww': 'hoho'}, 2),\n",
       " ({'xx': 111, 'yy': 'foo', 'zz': 'BBB', 'vv': 'lolo', 'ww': 'hoho'}, 4),\n",
       " ({'xx': 222, 'yy': 'bar', 'zz': 'BBB', 'vv': 'lolo', 'ww': 'hoho'}, 2),\n",
       " ({'xx': 333, 'yy': 'baz', 'zz': 'BBB', 'vv': 'lolo', 'ww': 'hoho'}, 2)]"
      ]
     },
     "execution_count": 18,
     "metadata": {},
     "output_type": "execute_result"
    }
   ],
   "source": [
    "list(loop_runner.iter_loop_var_combinations_with_num_iterations(f_num_iterations))"
   ]
  },
  {
   "cell_type": "code",
   "execution_count": 19,
   "metadata": {},
   "outputs": [
    {
     "data": {
      "text/plain": [
       "[({'zz': 'AAA', 'vv': 'lala', 'ww': 'haha'}, 9),\n",
       " ({'zz': 'BBB', 'vv': 'lala', 'ww': 'haha'}, 3),\n",
       " ({'zz': 'AAA', 'vv': 'lolo', 'ww': 'hoho'}, 8),\n",
       " ({'zz': 'BBB', 'vv': 'lolo', 'ww': 'hoho'}, 8)]"
      ]
     },
     "execution_count": 19,
     "metadata": {},
     "output_type": "execute_result"
    }
   ],
   "source": [
    "list(loop_runner.iter_loop_var_combinations_with_num_iterations(\n",
    "                     f_num_iterations, loop_level=2))"
   ]
  },
  {
   "cell_type": "code",
   "execution_count": 20,
   "metadata": {},
   "outputs": [
    {
     "data": {
      "text/plain": [
       "[({'vv': 'lala', 'ww': 'haha'}, 12), ({'vv': 'lolo', 'ww': 'hoho'}, 16)]"
      ]
     },
     "execution_count": 20,
     "metadata": {},
     "output_type": "execute_result"
    }
   ],
   "source": [
    "list(loop_runner.iter_loop_var_combinations_with_num_iterations(\n",
    "                     f_num_iterations, loop_level=3))"
   ]
  },
  {
   "cell_type": "markdown",
   "metadata": {},
   "source": [
    "### Iterating through all value combinations with a callback function"
   ]
  },
  {
   "cell_type": "code",
   "execution_count": 21,
   "metadata": {},
   "outputs": [],
   "source": [
    "def f_callback(num_iterations, **kwargs):\n",
    "    print(f\"num_iterations={num_iterations}, {kwargs}\")\n",
    "    yield num_iterations"
   ]
  },
  {
   "cell_type": "code",
   "execution_count": 22,
   "metadata": {},
   "outputs": [
    {
     "name": "stdout",
     "output_type": "stream",
     "text": [
      "num_iterations=3, {'xx': 111, 'yy': 'foo', 'zz': 'AAA', 'vv': 'lala', 'ww': 'haha'}\n",
      "num_iterations=3, {'xx': 222, 'yy': 'bar', 'zz': 'AAA', 'vv': 'lala', 'ww': 'haha'}\n",
      "num_iterations=3, {'xx': 333, 'yy': 'baz', 'zz': 'AAA', 'vv': 'lala', 'ww': 'haha'}\n",
      "num_iterations=1, {'xx': 111, 'yy': 'foo', 'zz': 'BBB', 'vv': 'lala', 'ww': 'haha'}\n",
      "num_iterations=1, {'xx': 222, 'yy': 'bar', 'zz': 'BBB', 'vv': 'lala', 'ww': 'haha'}\n",
      "num_iterations=1, {'xx': 333, 'yy': 'baz', 'zz': 'BBB', 'vv': 'lala', 'ww': 'haha'}\n",
      "num_iterations=4, {'xx': 111, 'yy': 'foo', 'zz': 'AAA', 'vv': 'lolo', 'ww': 'hoho'}\n",
      "num_iterations=2, {'xx': 222, 'yy': 'bar', 'zz': 'AAA', 'vv': 'lolo', 'ww': 'hoho'}\n",
      "num_iterations=2, {'xx': 333, 'yy': 'baz', 'zz': 'AAA', 'vv': 'lolo', 'ww': 'hoho'}\n",
      "num_iterations=4, {'xx': 111, 'yy': 'foo', 'zz': 'BBB', 'vv': 'lolo', 'ww': 'hoho'}\n",
      "num_iterations=2, {'xx': 222, 'yy': 'bar', 'zz': 'BBB', 'vv': 'lolo', 'ww': 'hoho'}\n",
      "num_iterations=2, {'xx': 333, 'yy': 'baz', 'zz': 'BBB', 'vv': 'lolo', 'ww': 'hoho'}\n"
     ]
    },
    {
     "data": {
      "text/plain": [
       "[3, 3, 3, 1, 1, 1, 4, 2, 2, 4, 2, 2]"
      ]
     },
     "execution_count": 22,
     "metadata": {},
     "output_type": "execute_result"
    }
   ],
   "source": [
    "list(loop_runner.iter_loop_var_combinations_with_callback(\n",
    "                     f_callback, f_num_iterations, loop_level=1))"
   ]
  },
  {
   "cell_type": "code",
   "execution_count": 23,
   "metadata": {},
   "outputs": [
    {
     "name": "stdout",
     "output_type": "stream",
     "text": [
      "num_iterations=9, {'zz': 'AAA', 'vv': 'lala', 'ww': 'haha'}\n",
      "num_iterations=3, {'zz': 'BBB', 'vv': 'lala', 'ww': 'haha'}\n",
      "num_iterations=8, {'zz': 'AAA', 'vv': 'lolo', 'ww': 'hoho'}\n",
      "num_iterations=8, {'zz': 'BBB', 'vv': 'lolo', 'ww': 'hoho'}\n"
     ]
    },
    {
     "data": {
      "text/plain": [
       "[9, 3, 8, 8]"
      ]
     },
     "execution_count": 23,
     "metadata": {},
     "output_type": "execute_result"
    }
   ],
   "source": [
    "list(loop_runner.iter_loop_var_combinations_with_callback(\n",
    "                     f_callback, f_num_iterations, loop_level=2))"
   ]
  },
  {
   "cell_type": "code",
   "execution_count": 24,
   "metadata": {},
   "outputs": [
    {
     "name": "stdout",
     "output_type": "stream",
     "text": [
      "num_iterations=12, {'vv': 'lala', 'ww': 'haha'}\n",
      "num_iterations=16, {'vv': 'lolo', 'ww': 'hoho'}\n"
     ]
    },
    {
     "data": {
      "text/plain": [
       "[12, 16]"
      ]
     },
     "execution_count": 24,
     "metadata": {},
     "output_type": "execute_result"
    }
   ],
   "source": [
    "list(loop_runner.iter_loop_var_combinations_with_callback(\n",
    "                     f_callback, f_num_iterations, loop_level=3))"
   ]
  }
 ],
 "metadata": {
  "kernelspec": {
   "display_name": "Python 3",
   "language": "python",
   "name": "python3"
  },
  "language_info": {
   "codemirror_mode": {
    "name": "ipython",
    "version": 3
   },
   "file_extension": ".py",
   "mimetype": "text/x-python",
   "name": "python",
   "nbconvert_exporter": "python",
   "pygments_lexer": "ipython3",
   "version": "3.8.1"
  }
 },
 "nbformat": 4,
 "nbformat_minor": 4
}
