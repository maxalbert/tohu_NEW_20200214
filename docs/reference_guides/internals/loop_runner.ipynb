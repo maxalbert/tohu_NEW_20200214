{
 "cells": [
  {
   "cell_type": "markdown",
   "metadata": {},
   "source": [
    "# `LoopRunner`"
   ]
  },
  {
   "cell_type": "markdown",
   "metadata": {},
   "source": [
    "\n",
    "[TOC]\n"
   ]
  },
  {
   "cell_type": "markdown",
   "metadata": {},
   "source": [
    "The `LoopRunner` class is used internally to implement looping via the `@foreach` decorator."
   ]
  },
  {
   "cell_type": "code",
   "execution_count": 1,
   "metadata": {},
   "outputs": [],
   "source": [
    "from tohu.looping import LoopVariable, LoopRunner, LoopExhausted"
   ]
  },
  {
   "cell_type": "markdown",
   "metadata": {},
   "source": [
    "## Initialising a `LoopRunner` instance"
   ]
  },
  {
   "cell_type": "markdown",
   "metadata": {},
   "source": [
    "First we define a few loop variables which we use to initialise a `LoopRunner` instance. Normally, these loop variables are created automatically as part of a `@foreach` declaration, but here we define them manually for illustration purposes."
   ]
  },
  {
   "cell_type": "code",
   "execution_count": 2,
   "metadata": {},
   "outputs": [],
   "source": [
    "xx = LoopVariable(name=\"xx\", values=[111, 222, 333]).set_loop_level(1)\n",
    "yy = LoopVariable(name=\"yy\", values=[\"foo\", \"bar\", \"baz\"]).set_loop_level(1)\n",
    "zz = LoopVariable(name=\"zz\", values=[\"AAA\", \"BBB\"]).set_loop_level(2)\n",
    "vv = LoopVariable(name=\"vv\", values=[\"lala\" ,\"lolo\"]).set_loop_level(3)\n",
    "ww = LoopVariable(name=\"ww\", values=[\"haha\" ,\"hoho\"]).set_loop_level(3)"
   ]
  },
  {
   "cell_type": "code",
   "execution_count": 3,
   "metadata": {},
   "outputs": [],
   "source": [
    "loop_vars = {\"xx\": xx, \"yy\": yy, \"zz\": zz, \"vv\": vv, \"ww\": ww}\n",
    "\n",
    "loop_runner = LoopRunner(loop_vars)"
   ]
  },
  {
   "cell_type": "markdown",
   "metadata": {},
   "source": [
    "Equivalently, we could also create an empty `LoopRunner` instance and add the loop variables one by one."
   ]
  },
  {
   "cell_type": "code",
   "execution_count": 4,
   "metadata": {},
   "outputs": [],
   "source": [
    "loop_runner = LoopRunner()\n",
    "loop_runner.add_loop_variable(\"xx\", xx)\n",
    "loop_runner.add_loop_variable(\"yy\", yy)\n",
    "loop_runner.add_loop_variable(\"zz\", zz)\n",
    "loop_runner.add_loop_variable(\"vv\", vv)\n",
    "loop_runner.add_loop_variable(\"ww\", ww)"
   ]
  },
  {
   "cell_type": "markdown",
   "metadata": {},
   "source": [
    "The loop variables in the loop runner can be accessed via the `loop_variables` attribute."
   ]
  },
  {
   "cell_type": "code",
   "execution_count": 5,
   "metadata": {},
   "outputs": [
    {
     "data": {
      "text/plain": [
       "{'xx': <LoopVariable: name='xx', loop_level=1, values=[111, 222, 333], cur_value=111>,\n",
       " 'yy': <LoopVariable: name='yy', loop_level=1, values=['foo', 'bar', 'baz'], cur_value='foo'>,\n",
       " 'zz': <LoopVariable: name='zz', loop_level=2, values=['AAA', 'BBB'], cur_value='AAA'>,\n",
       " 'vv': <LoopVariable: name='vv', loop_level=3, values=['lala', 'lolo'], cur_value='lala'>,\n",
       " 'ww': <LoopVariable: name='ww', loop_level=3, values=['haha', 'hoho'], cur_value='haha'>}"
      ]
     },
     "execution_count": 5,
     "metadata": {},
     "output_type": "execute_result"
    }
   ],
   "source": [
    "loop_runner.loop_variables"
   ]
  },
  {
   "cell_type": "markdown",
   "metadata": {},
   "source": [
    "## Retrieving loop variables at a specific loop levels"
   ]
  },
  {
   "cell_type": "code",
   "execution_count": 6,
   "metadata": {},
   "outputs": [
    {
     "data": {
      "text/plain": [
       "{'xx': <LoopVariable: name='xx', loop_level=1, values=[111, 222, 333], cur_value=111>,\n",
       " 'yy': <LoopVariable: name='yy', loop_level=1, values=['foo', 'bar', 'baz'], cur_value='foo'>}"
      ]
     },
     "execution_count": 6,
     "metadata": {},
     "output_type": "execute_result"
    }
   ],
   "source": [
    "loop_runner.get_loop_vars_at_level(1)"
   ]
  },
  {
   "cell_type": "code",
   "execution_count": 7,
   "metadata": {},
   "outputs": [
    {
     "data": {
      "text/plain": [
       "{'zz': <LoopVariable: name='zz', loop_level=2, values=['AAA', 'BBB'], cur_value='AAA'>}"
      ]
     },
     "execution_count": 7,
     "metadata": {},
     "output_type": "execute_result"
    }
   ],
   "source": [
    "loop_runner.get_loop_vars_at_level(2)"
   ]
  },
  {
   "cell_type": "code",
   "execution_count": 8,
   "metadata": {},
   "outputs": [
    {
     "data": {
      "text/plain": [
       "{'vv': <LoopVariable: name='vv', loop_level=3, values=['lala', 'lolo'], cur_value='lala'>,\n",
       " 'ww': <LoopVariable: name='ww', loop_level=3, values=['haha', 'hoho'], cur_value='haha'>}"
      ]
     },
     "execution_count": 8,
     "metadata": {},
     "output_type": "execute_result"
    }
   ],
   "source": [
    "loop_runner.get_loop_vars_at_level(3)"
   ]
  },
  {
   "cell_type": "code",
   "execution_count": 9,
   "metadata": {},
   "outputs": [],
   "source": [
    "assert loop_runner.get_loop_vars_at_level(0) == {}\n",
    "assert loop_runner.get_loop_vars_at_level(4) == {}"
   ]
  },
  {
   "cell_type": "code",
   "execution_count": 10,
   "metadata": {},
   "outputs": [
    {
     "data": {
      "text/plain": [
       "{'xx': <LoopVariable: name='xx', loop_level=1, values=[111, 222, 333], cur_value=111>,\n",
       " 'yy': <LoopVariable: name='yy', loop_level=1, values=['foo', 'bar', 'baz'], cur_value='foo'>,\n",
       " 'zz': <LoopVariable: name='zz', loop_level=2, values=['AAA', 'BBB'], cur_value='AAA'>,\n",
       " 'vv': <LoopVariable: name='vv', loop_level=3, values=['lala', 'lolo'], cur_value='lala'>,\n",
       " 'ww': <LoopVariable: name='ww', loop_level=3, values=['haha', 'hoho'], cur_value='haha'>}"
      ]
     },
     "execution_count": 10,
     "metadata": {},
     "output_type": "execute_result"
    }
   ],
   "source": [
    "loop_runner.get_loop_vars_at_level_and_above(1)"
   ]
  },
  {
   "cell_type": "code",
   "execution_count": 11,
   "metadata": {},
   "outputs": [
    {
     "data": {
      "text/plain": [
       "{'zz': <LoopVariable: name='zz', loop_level=2, values=['AAA', 'BBB'], cur_value='AAA'>,\n",
       " 'vv': <LoopVariable: name='vv', loop_level=3, values=['lala', 'lolo'], cur_value='lala'>,\n",
       " 'ww': <LoopVariable: name='ww', loop_level=3, values=['haha', 'hoho'], cur_value='haha'>}"
      ]
     },
     "execution_count": 11,
     "metadata": {},
     "output_type": "execute_result"
    }
   ],
   "source": [
    "loop_runner.get_loop_vars_at_level_and_above(2)"
   ]
  },
  {
   "cell_type": "code",
   "execution_count": 12,
   "metadata": {},
   "outputs": [
    {
     "data": {
      "text/plain": [
       "{'vv': <LoopVariable: name='vv', loop_level=3, values=['lala', 'lolo'], cur_value='lala'>,\n",
       " 'ww': <LoopVariable: name='ww', loop_level=3, values=['haha', 'hoho'], cur_value='haha'>}"
      ]
     },
     "execution_count": 12,
     "metadata": {},
     "output_type": "execute_result"
    }
   ],
   "source": [
    "loop_runner.get_loop_vars_at_level_and_above(3)"
   ]
  },
  {
   "cell_type": "code",
   "execution_count": 13,
   "metadata": {},
   "outputs": [],
   "source": [
    "assert loop_runner.get_loop_vars_at_level_and_above(4) == {}"
   ]
  },
  {
   "cell_type": "markdown",
   "metadata": {},
   "source": [
    "## Iterating over loop variable values at a specific level"
   ]
  },
  {
   "cell_type": "code",
   "execution_count": 14,
   "metadata": {},
   "outputs": [
    {
     "data": {
      "text/plain": [
       "[{'xx': 111, 'yy': 'foo'}, {'xx': 222, 'yy': 'bar'}, {'xx': 333, 'yy': 'baz'}]"
      ]
     },
     "execution_count": 14,
     "metadata": {},
     "output_type": "execute_result"
    }
   ],
   "source": [
    "list(loop_runner.iter_loop_var_combinations_at_level(1))"
   ]
  },
  {
   "cell_type": "code",
   "execution_count": 15,
   "metadata": {},
   "outputs": [
    {
     "data": {
      "text/plain": [
       "[{'zz': 'AAA'}, {'zz': 'BBB'}]"
      ]
     },
     "execution_count": 15,
     "metadata": {},
     "output_type": "execute_result"
    }
   ],
   "source": [
    "list(loop_runner.iter_loop_var_combinations_at_level(2))"
   ]
  },
  {
   "cell_type": "code",
   "execution_count": 16,
   "metadata": {},
   "outputs": [
    {
     "data": {
      "text/plain": [
       "[{'vv': 'lala', 'ww': 'haha'}, {'vv': 'lolo', 'ww': 'hoho'}]"
      ]
     },
     "execution_count": 16,
     "metadata": {},
     "output_type": "execute_result"
    }
   ],
   "source": [
    "list(loop_runner.iter_loop_var_combinations_at_level(3))"
   ]
  },
  {
   "cell_type": "markdown",
   "metadata": {},
   "source": [
    "## Iterating through all value combinations"
   ]
  },
  {
   "cell_type": "code",
   "execution_count": 17,
   "metadata": {},
   "outputs": [
    {
     "data": {
      "text/plain": [
       "[{'xx': 111, 'yy': 'foo', 'zz': 'AAA', 'vv': 'lala', 'ww': 'haha'},\n",
       " {'xx': 222, 'yy': 'bar', 'zz': 'AAA', 'vv': 'lala', 'ww': 'haha'},\n",
       " {'xx': 333, 'yy': 'baz', 'zz': 'AAA', 'vv': 'lala', 'ww': 'haha'},\n",
       " {'xx': 111, 'yy': 'foo', 'zz': 'BBB', 'vv': 'lala', 'ww': 'haha'},\n",
       " {'xx': 222, 'yy': 'bar', 'zz': 'BBB', 'vv': 'lala', 'ww': 'haha'},\n",
       " {'xx': 333, 'yy': 'baz', 'zz': 'BBB', 'vv': 'lala', 'ww': 'haha'},\n",
       " {'xx': 111, 'yy': 'foo', 'zz': 'AAA', 'vv': 'lolo', 'ww': 'hoho'},\n",
       " {'xx': 222, 'yy': 'bar', 'zz': 'AAA', 'vv': 'lolo', 'ww': 'hoho'},\n",
       " {'xx': 333, 'yy': 'baz', 'zz': 'AAA', 'vv': 'lolo', 'ww': 'hoho'},\n",
       " {'xx': 111, 'yy': 'foo', 'zz': 'BBB', 'vv': 'lolo', 'ww': 'hoho'},\n",
       " {'xx': 222, 'yy': 'bar', 'zz': 'BBB', 'vv': 'lolo', 'ww': 'hoho'},\n",
       " {'xx': 333, 'yy': 'baz', 'zz': 'BBB', 'vv': 'lolo', 'ww': 'hoho'}]"
      ]
     },
     "execution_count": 17,
     "metadata": {},
     "output_type": "execute_result"
    }
   ],
   "source": [
    "list(loop_runner.iter_loop_var_combinations())"
   ]
  },
  {
   "cell_type": "markdown",
   "metadata": {},
   "source": [
    "## Iterating through all value combinations with number of iterations"
   ]
  },
  {
   "cell_type": "code",
   "execution_count": 18,
   "metadata": {},
   "outputs": [],
   "source": [
    "def f_num_iterations(xx, zz, vv, **kwargs):\n",
    "    if vv == \"lala\":\n",
    "        return 3 if zz == \"AAA\" else 1\n",
    "    else:\n",
    "        return 4 if xx == 111 else 2"
   ]
  },
  {
   "cell_type": "code",
   "execution_count": 19,
   "metadata": {},
   "outputs": [
    {
     "data": {
      "text/plain": [
       "[({'xx': 111, 'yy': 'foo', 'zz': 'AAA', 'vv': 'lala', 'ww': 'haha'}, 3),\n",
       " ({'xx': 222, 'yy': 'bar', 'zz': 'AAA', 'vv': 'lala', 'ww': 'haha'}, 3),\n",
       " ({'xx': 333, 'yy': 'baz', 'zz': 'AAA', 'vv': 'lala', 'ww': 'haha'}, 3),\n",
       " ({'xx': 111, 'yy': 'foo', 'zz': 'BBB', 'vv': 'lala', 'ww': 'haha'}, 1),\n",
       " ({'xx': 222, 'yy': 'bar', 'zz': 'BBB', 'vv': 'lala', 'ww': 'haha'}, 1),\n",
       " ({'xx': 333, 'yy': 'baz', 'zz': 'BBB', 'vv': 'lala', 'ww': 'haha'}, 1),\n",
       " ({'xx': 111, 'yy': 'foo', 'zz': 'AAA', 'vv': 'lolo', 'ww': 'hoho'}, 4),\n",
       " ({'xx': 222, 'yy': 'bar', 'zz': 'AAA', 'vv': 'lolo', 'ww': 'hoho'}, 2),\n",
       " ({'xx': 333, 'yy': 'baz', 'zz': 'AAA', 'vv': 'lolo', 'ww': 'hoho'}, 2),\n",
       " ({'xx': 111, 'yy': 'foo', 'zz': 'BBB', 'vv': 'lolo', 'ww': 'hoho'}, 4),\n",
       " ({'xx': 222, 'yy': 'bar', 'zz': 'BBB', 'vv': 'lolo', 'ww': 'hoho'}, 2),\n",
       " ({'xx': 333, 'yy': 'baz', 'zz': 'BBB', 'vv': 'lolo', 'ww': 'hoho'}, 2)]"
      ]
     },
     "execution_count": 19,
     "metadata": {},
     "output_type": "execute_result"
    }
   ],
   "source": [
    "list(loop_runner.iter_loop_var_combinations_with_num_iterations(f_num_iterations))"
   ]
  },
  {
   "cell_type": "code",
   "execution_count": 20,
   "metadata": {},
   "outputs": [
    {
     "data": {
      "text/plain": [
       "[({'zz': 'AAA', 'vv': 'lala', 'ww': 'haha'}, 9),\n",
       " ({'zz': 'BBB', 'vv': 'lala', 'ww': 'haha'}, 3),\n",
       " ({'zz': 'AAA', 'vv': 'lolo', 'ww': 'hoho'}, 8),\n",
       " ({'zz': 'BBB', 'vv': 'lolo', 'ww': 'hoho'}, 8)]"
      ]
     },
     "execution_count": 20,
     "metadata": {},
     "output_type": "execute_result"
    }
   ],
   "source": [
    "list(loop_runner.iter_loop_var_combinations_with_num_iterations(\n",
    "                     f_num_iterations, loop_level=2))"
   ]
  },
  {
   "cell_type": "code",
   "execution_count": 21,
   "metadata": {},
   "outputs": [
    {
     "data": {
      "text/plain": [
       "[({'vv': 'lala', 'ww': 'haha'}, 12), ({'vv': 'lolo', 'ww': 'hoho'}, 16)]"
      ]
     },
     "execution_count": 21,
     "metadata": {},
     "output_type": "execute_result"
    }
   ],
   "source": [
    "list(loop_runner.iter_loop_var_combinations_with_num_iterations(\n",
    "                     f_num_iterations, loop_level=3))"
   ]
  },
  {
   "cell_type": "markdown",
   "metadata": {},
   "source": [
    "## Iterating through all value combinations with a filename pattern"
   ]
  },
  {
   "cell_type": "code",
   "execution_count": 22,
   "metadata": {},
   "outputs": [],
   "source": [
    "filename_pattern_1 = \"output_{zz}_{ww}.csv\"\n",
    "filename_pattern_2 = \"output_{xx}_{vv}_{ww}.csv\""
   ]
  },
  {
   "cell_type": "code",
   "execution_count": 23,
   "metadata": {},
   "outputs": [
    {
     "data": {
      "text/plain": [
       "['output_AAA_haha.csv',\n",
       " 'output_BBB_haha.csv',\n",
       " 'output_AAA_hoho.csv',\n",
       " 'output_BBB_hoho.csv']"
      ]
     },
     "execution_count": 23,
     "metadata": {},
     "output_type": "execute_result"
    }
   ],
   "source": [
    "loop_runner.iter_loop_var_combinations_with_filename_pattern(filename_pattern_1)"
   ]
  },
  {
   "cell_type": "code",
   "execution_count": 24,
   "metadata": {},
   "outputs": [
    {
     "data": {
      "text/plain": [
       "['output_111_lala_haha.csv',\n",
       " 'output_222_lala_haha.csv',\n",
       " 'output_333_lala_haha.csv',\n",
       " 'output_111_lolo_hoho.csv',\n",
       " 'output_222_lolo_hoho.csv',\n",
       " 'output_333_lolo_hoho.csv']"
      ]
     },
     "execution_count": 24,
     "metadata": {},
     "output_type": "execute_result"
    }
   ],
   "source": [
    "loop_runner.iter_loop_var_combinations_with_filename_pattern(filename_pattern_2)"
   ]
  },
  {
   "cell_type": "markdown",
   "metadata": {},
   "source": [
    "## Iterating through all value combinations with a callback function"
   ]
  },
  {
   "cell_type": "code",
   "execution_count": 25,
   "metadata": {},
   "outputs": [],
   "source": [
    "def f_callback(num_iterations, **kwargs):\n",
    "    print(f\"num_iterations={num_iterations}, {kwargs}\")\n",
    "    yield num_iterations"
   ]
  },
  {
   "cell_type": "code",
   "execution_count": 26,
   "metadata": {},
   "outputs": [
    {
     "name": "stdout",
     "output_type": "stream",
     "text": [
      "num_iterations=3, {'xx': 111, 'yy': 'foo', 'zz': 'AAA', 'vv': 'lala', 'ww': 'haha'}\n",
      "num_iterations=3, {'xx': 222, 'yy': 'bar', 'zz': 'AAA', 'vv': 'lala', 'ww': 'haha'}\n",
      "num_iterations=3, {'xx': 333, 'yy': 'baz', 'zz': 'AAA', 'vv': 'lala', 'ww': 'haha'}\n",
      "num_iterations=1, {'xx': 111, 'yy': 'foo', 'zz': 'BBB', 'vv': 'lala', 'ww': 'haha'}\n",
      "num_iterations=1, {'xx': 222, 'yy': 'bar', 'zz': 'BBB', 'vv': 'lala', 'ww': 'haha'}\n",
      "num_iterations=1, {'xx': 333, 'yy': 'baz', 'zz': 'BBB', 'vv': 'lala', 'ww': 'haha'}\n",
      "num_iterations=4, {'xx': 111, 'yy': 'foo', 'zz': 'AAA', 'vv': 'lolo', 'ww': 'hoho'}\n",
      "num_iterations=2, {'xx': 222, 'yy': 'bar', 'zz': 'AAA', 'vv': 'lolo', 'ww': 'hoho'}\n",
      "num_iterations=2, {'xx': 333, 'yy': 'baz', 'zz': 'AAA', 'vv': 'lolo', 'ww': 'hoho'}\n",
      "num_iterations=4, {'xx': 111, 'yy': 'foo', 'zz': 'BBB', 'vv': 'lolo', 'ww': 'hoho'}\n",
      "num_iterations=2, {'xx': 222, 'yy': 'bar', 'zz': 'BBB', 'vv': 'lolo', 'ww': 'hoho'}\n",
      "num_iterations=2, {'xx': 333, 'yy': 'baz', 'zz': 'BBB', 'vv': 'lolo', 'ww': 'hoho'}\n"
     ]
    },
    {
     "data": {
      "text/plain": [
       "[3, 3, 3, 1, 1, 1, 4, 2, 2, 4, 2, 2]"
      ]
     },
     "execution_count": 26,
     "metadata": {},
     "output_type": "execute_result"
    }
   ],
   "source": [
    "list(loop_runner.iter_loop_var_combinations_with_callback(\n",
    "                     f_callback, f_num_iterations, loop_level=1))"
   ]
  },
  {
   "cell_type": "code",
   "execution_count": 27,
   "metadata": {},
   "outputs": [
    {
     "name": "stdout",
     "output_type": "stream",
     "text": [
      "num_iterations=9, {'zz': 'AAA', 'vv': 'lala', 'ww': 'haha'}\n",
      "num_iterations=3, {'zz': 'BBB', 'vv': 'lala', 'ww': 'haha'}\n",
      "num_iterations=8, {'zz': 'AAA', 'vv': 'lolo', 'ww': 'hoho'}\n",
      "num_iterations=8, {'zz': 'BBB', 'vv': 'lolo', 'ww': 'hoho'}\n"
     ]
    },
    {
     "data": {
      "text/plain": [
       "[9, 3, 8, 8]"
      ]
     },
     "execution_count": 27,
     "metadata": {},
     "output_type": "execute_result"
    }
   ],
   "source": [
    "list(loop_runner.iter_loop_var_combinations_with_callback(\n",
    "                     f_callback, f_num_iterations, loop_level=2))"
   ]
  },
  {
   "cell_type": "code",
   "execution_count": 28,
   "metadata": {},
   "outputs": [
    {
     "name": "stdout",
     "output_type": "stream",
     "text": [
      "num_iterations=12, {'vv': 'lala', 'ww': 'haha'}\n",
      "num_iterations=16, {'vv': 'lolo', 'ww': 'hoho'}\n"
     ]
    },
    {
     "data": {
      "text/plain": [
       "[12, 16]"
      ]
     },
     "execution_count": 28,
     "metadata": {},
     "output_type": "execute_result"
    }
   ],
   "source": [
    "list(loop_runner.iter_loop_var_combinations_with_callback(\n",
    "                     f_callback, f_num_iterations, loop_level=3))"
   ]
  },
  {
   "cell_type": "markdown",
   "metadata": {},
   "source": [
    "## Advancing and resetting loop variables"
   ]
  },
  {
   "cell_type": "code",
   "execution_count": 29,
   "metadata": {},
   "outputs": [
    {
     "name": "stdout",
     "output_type": "stream",
     "text": [
      "{'xx': 111, 'yy': 'foo', 'zz': 'AAA', 'vv': 'lala', 'ww': 'haha'}\n",
      "{'xx': 222, 'yy': 'bar', 'zz': 'AAA', 'vv': 'lala', 'ww': 'haha'}\n",
      "{'xx': 333, 'yy': 'baz', 'zz': 'AAA', 'vv': 'lala', 'ww': 'haha'}\n",
      "{'xx': 111, 'yy': 'foo', 'zz': 'BBB', 'vv': 'lala', 'ww': 'haha'}\n",
      "{'xx': 222, 'yy': 'bar', 'zz': 'BBB', 'vv': 'lala', 'ww': 'haha'}\n",
      "{'xx': 333, 'yy': 'baz', 'zz': 'BBB', 'vv': 'lala', 'ww': 'haha'}\n",
      "{'xx': 111, 'yy': 'foo', 'zz': 'AAA', 'vv': 'lolo', 'ww': 'hoho'}\n",
      "{'xx': 222, 'yy': 'bar', 'zz': 'AAA', 'vv': 'lolo', 'ww': 'hoho'}\n",
      "{'xx': 333, 'yy': 'baz', 'zz': 'AAA', 'vv': 'lolo', 'ww': 'hoho'}\n",
      "{'xx': 111, 'yy': 'foo', 'zz': 'BBB', 'vv': 'lolo', 'ww': 'hoho'}\n",
      "{'xx': 222, 'yy': 'bar', 'zz': 'BBB', 'vv': 'lolo', 'ww': 'hoho'}\n",
      "{'xx': 333, 'yy': 'baz', 'zz': 'BBB', 'vv': 'lolo', 'ww': 'hoho'}\n"
     ]
    }
   ],
   "source": [
    "loop_runner.reset_all_loop_variables();\n",
    "\n",
    "loop_runner.print_current_loop_var_values()\n",
    "loop_runner.advance_loop_variables(); loop_runner.print_current_loop_var_values()\n",
    "loop_runner.advance_loop_variables(); loop_runner.print_current_loop_var_values()\n",
    "loop_runner.advance_loop_variables(); loop_runner.print_current_loop_var_values()\n",
    "loop_runner.advance_loop_variables(); loop_runner.print_current_loop_var_values()\n",
    "loop_runner.advance_loop_variables(); loop_runner.print_current_loop_var_values()\n",
    "loop_runner.advance_loop_variables(); loop_runner.print_current_loop_var_values()\n",
    "loop_runner.advance_loop_variables(); loop_runner.print_current_loop_var_values()\n",
    "loop_runner.advance_loop_variables(); loop_runner.print_current_loop_var_values()\n",
    "loop_runner.advance_loop_variables(); loop_runner.print_current_loop_var_values()\n",
    "loop_runner.advance_loop_variables(); loop_runner.print_current_loop_var_values()\n",
    "loop_runner.advance_loop_variables(); loop_runner.print_current_loop_var_values()"
   ]
  },
  {
   "cell_type": "code",
   "execution_count": 30,
   "metadata": {},
   "outputs": [],
   "source": [
    "import pytest\n",
    "\n",
    "with pytest.raises(LoopExhausted, match=\"Loop has been exhausted\"):\n",
    "    loop_runner.advance_loop_variables()"
   ]
  },
  {
   "cell_type": "markdown",
   "metadata": {},
   "source": [
    "## Iterating through all value combinations with a tohu generator"
   ]
  },
  {
   "cell_type": "code",
   "execution_count": 31,
   "metadata": {},
   "outputs": [],
   "source": [
    "from tohu import HashDigest, FakerGenerator, CustomGenerator"
   ]
  },
  {
   "cell_type": "code",
   "execution_count": 32,
   "metadata": {},
   "outputs": [],
   "source": [
    "class QuuxGenerator(CustomGenerator):\n",
    "    xx = LoopVariable(name=\"xx\", values=[111, 222, 333]).set_loop_level(1)\n",
    "    yy = LoopVariable(name=\"yy\", values=[\"foo\", \"bar\", \"baz\"]).set_loop_level(1)\n",
    "    zz = LoopVariable(name=\"zz\", values=[\"AAA\", \"BBB\"]).set_loop_level(2)\n",
    "    vv = LoopVariable(name=\"vv\", values=[\"lala\" ,\"lolo\"]).set_loop_level(3)\n",
    "    ww = LoopVariable(name=\"ww\", values=[\"haha\" ,\"hoho\"]).set_loop_level(3)\n",
    "    aa = xx\n",
    "    bb = yy\n",
    "    cc = zz\n",
    "    dd = vv\n",
    "    ee = ww\n",
    "    ff = HashDigest(length=6)\n",
    "    gg = FakerGenerator(method=\"first_name\")"
   ]
  },
  {
   "cell_type": "code",
   "execution_count": 33,
   "metadata": {},
   "outputs": [],
   "source": [
    "g = QuuxGenerator()"
   ]
  },
  {
   "cell_type": "code",
   "execution_count": 34,
   "metadata": {},
   "outputs": [],
   "source": [
    "loop_runner = LoopRunner(loop_vars)\n",
    "loop_runner.add_loop_variable(\"xx\", g.xx)\n",
    "loop_runner.add_loop_variable(\"yy\", g.yy)\n",
    "loop_runner.add_loop_variable(\"zz\", g.zz)\n",
    "loop_runner.add_loop_variable(\"vv\", g.vv)\n",
    "loop_runner.add_loop_variable(\"ww\", g.ww)"
   ]
  },
  {
   "cell_type": "code",
   "execution_count": 35,
   "metadata": {},
   "outputs": [
    {
     "data": {
      "text/plain": [
       "[Quux(aa=111, bb='foo', cc='AAA', dd='lala', ee='haha', ff='A8C00B', gg='Tommy'),\n",
       " Quux(aa=111, bb='foo', cc='AAA', dd='lala', ee='haha', ff='355966', gg='Mary'),\n",
       " Quux(aa=111, bb='foo', cc='AAA', dd='lala', ee='haha', ff='50AF9B', gg='Andrew'),\n",
       " Quux(aa=222, bb='bar', cc='AAA', dd='lala', ee='haha', ff='365EE0', gg='Susan'),\n",
       " Quux(aa=222, bb='bar', cc='AAA', dd='lala', ee='haha', ff='9D987F', gg='Robin'),\n",
       " Quux(aa=222, bb='bar', cc='AAA', dd='lala', ee='haha', ff='FD680A', gg='Charles'),\n",
       " Quux(aa=333, bb='baz', cc='AAA', dd='lala', ee='haha', ff='07588A', gg='Timothy'),\n",
       " Quux(aa=333, bb='baz', cc='AAA', dd='lala', ee='haha', ff='FF4032', gg='Michael'),\n",
       " Quux(aa=333, bb='baz', cc='AAA', dd='lala', ee='haha', ff='9A4FC8', gg='Sergio'),\n",
       " Quux(aa=111, bb='foo', cc='BBB', dd='lala', ee='haha', ff='0703BA', gg='Michael'),\n",
       " Quux(aa=222, bb='bar', cc='BBB', dd='lala', ee='haha', ff='07E1FD', gg='Keith'),\n",
       " Quux(aa=333, bb='baz', cc='BBB', dd='lala', ee='haha', ff='61CC86', gg='Michael'),\n",
       " Quux(aa=111, bb='foo', cc='AAA', dd='lolo', ee='hoho', ff='F7D51E', gg='Cassie'),\n",
       " Quux(aa=111, bb='foo', cc='AAA', dd='lolo', ee='hoho', ff='F9FFD7', gg='Vanessa'),\n",
       " Quux(aa=111, bb='foo', cc='AAA', dd='lolo', ee='hoho', ff='B922B5', gg='Cynthia'),\n",
       " Quux(aa=111, bb='foo', cc='AAA', dd='lolo', ee='hoho', ff='5A9243', gg='Renee'),\n",
       " Quux(aa=222, bb='bar', cc='AAA', dd='lolo', ee='hoho', ff='B604D9', gg='Jacob'),\n",
       " Quux(aa=222, bb='bar', cc='AAA', dd='lolo', ee='hoho', ff='211765', gg='Rhonda'),\n",
       " Quux(aa=333, bb='baz', cc='AAA', dd='lolo', ee='hoho', ff='1C099B', gg='Jennifer'),\n",
       " Quux(aa=333, bb='baz', cc='AAA', dd='lolo', ee='hoho', ff='B07D5B', gg='Albert'),\n",
       " Quux(aa=111, bb='foo', cc='BBB', dd='lolo', ee='hoho', ff='8119C8', gg='Olivia'),\n",
       " Quux(aa=111, bb='foo', cc='BBB', dd='lolo', ee='hoho', ff='ECCAC9', gg='Jennifer'),\n",
       " Quux(aa=111, bb='foo', cc='BBB', dd='lolo', ee='hoho', ff='1ECB29', gg='Ralph'),\n",
       " Quux(aa=111, bb='foo', cc='BBB', dd='lolo', ee='hoho', ff='AACD81', gg='Sabrina'),\n",
       " Quux(aa=222, bb='bar', cc='BBB', dd='lolo', ee='hoho', ff='4D75F7', gg='Mary'),\n",
       " Quux(aa=222, bb='bar', cc='BBB', dd='lolo', ee='hoho', ff='39DB24', gg='Jonathan'),\n",
       " Quux(aa=333, bb='baz', cc='BBB', dd='lolo', ee='hoho', ff='F9E0B7', gg='Richard'),\n",
       " Quux(aa=333, bb='baz', cc='BBB', dd='lolo', ee='hoho', ff='00FE73', gg='Christopher')]"
      ]
     },
     "execution_count": 35,
     "metadata": {},
     "output_type": "execute_result"
    }
   ],
   "source": [
    "list(loop_runner.iter_loop_var_combinations_with_generator(g, f_num_iterations, seed=11111))"
   ]
  }
 ],
 "metadata": {
  "kernelspec": {
   "display_name": "Python 3",
   "language": "python",
   "name": "python3"
  },
  "language_info": {
   "codemirror_mode": {
    "name": "ipython",
    "version": 3
   },
   "file_extension": ".py",
   "mimetype": "text/x-python",
   "name": "python",
   "nbconvert_exporter": "python",
   "pygments_lexer": "ipython3",
   "version": "3.8.1"
  }
 },
 "nbformat": 4,
 "nbformat_minor": 4
}
