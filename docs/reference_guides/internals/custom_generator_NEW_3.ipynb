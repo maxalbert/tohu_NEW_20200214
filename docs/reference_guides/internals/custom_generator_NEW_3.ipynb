{
 "cells": [
  {
   "cell_type": "code",
   "execution_count": 1,
   "metadata": {},
   "outputs": [],
   "source": [
    "from tohu import Integer, HashDigest, FakerGenerator\n",
    "from tohu.custom_generator_NEW_3 import CustomGeneratorNEW3\n",
    "from tohu.utils import print_generated_sequence"
   ]
  },
  {
   "cell_type": "markdown",
   "metadata": {},
   "source": [
    "## Custom generator without `__init__` method"
   ]
  },
  {
   "cell_type": "markdown",
   "metadata": {},
   "source": [
    "The simplest way to use `CustomGeneratorNEW3` is with only class attributes (without `__init__` method)."
   ]
  },
  {
   "cell_type": "code",
   "execution_count": 2,
   "metadata": {},
   "outputs": [],
   "source": [
    "class QuuxGenerator(CustomGeneratorNEW3):\n",
    "    aa = Integer(100, 200)\n",
    "    bb = HashDigest(length=6)\n",
    "    cc = FakerGenerator(method=\"name\")"
   ]
  },
  {
   "cell_type": "code",
   "execution_count": 3,
   "metadata": {},
   "outputs": [],
   "source": [
    "g = QuuxGenerator()"
   ]
  },
  {
   "cell_type": "code",
   "execution_count": 4,
   "metadata": {},
   "outputs": [
    {
     "name": "stdout",
     "output_type": "stream",
     "text": [
      "Generated sequence:\n",
      "\n",
      "(163, '7551AA', 'Michelle Miller')\n",
      "(171, '54596E', 'Eddie Davis')\n",
      "(142, '2A16D0', 'Kathleen Lucas')\n",
      "(140, 'FDCDD3', 'Jason Rodriguez')\n",
      "(121, 'BDE283', 'Andrew Pitts')\n"
     ]
    }
   ],
   "source": [
    "print_generated_sequence(g, num=5, seed=11111, sep=\"\\n\")"
   ]
  },
  {
   "cell_type": "markdown",
   "metadata": {},
   "source": [
    "Note that while the _instance_ `g` contains attributes with the same names `\"aa\"` and `\"bb\"` as the parent class `QuuxGenerator`, internally the instance attributes are actually spawned versions of the class attributes (in particular, they are not identical):"
   ]
  },
  {
   "cell_type": "code",
   "execution_count": 6,
   "metadata": {},
   "outputs": [
    {
     "name": "stdout",
     "output_type": "stream",
     "text": [
      "<Integer (id=3bf509)>\n",
      "<Integer (id=a70801)>\n",
      "<HashDigest (id=a48ef5)>\n",
      "<HashDigest (id=95fb9f)>\n",
      "<FakerGenerator (id=98ba81)>\n",
      "<FakerGenerator (id=9330ed)>\n"
     ]
    }
   ],
   "source": [
    "print(QuuxGenerator.aa)\n",
    "print(g.aa)\n",
    "assert QuuxGenerator.aa is not g.aa\n",
    "\n",
    "print(QuuxGenerator.bb)\n",
    "print(g.bb)\n",
    "assert QuuxGenerator.bb is not g.bb\n",
    "\n",
    "print(QuuxGenerator.cc)\n",
    "print(g.cc)\n",
    "assert QuuxGenerator.cc is not g.cc"
   ]
  },
  {
   "cell_type": "markdown",
   "metadata": {},
   "source": [
    "## Custom generator with `__init__` method"
   ]
  },
  {
   "cell_type": "markdown",
   "metadata": {},
   "source": [
    "Tohu generators that are defined as instance attributes within the `__init__` method are also picked up."
   ]
  },
  {
   "cell_type": "code",
   "execution_count": 7,
   "metadata": {},
   "outputs": [],
   "source": [
    "class QuuxGenerator(CustomGeneratorNEW3):\n",
    "    aa = Integer(100, 200)\n",
    "    bb = HashDigest(length=6)\n",
    "    \n",
    "    def __init__(self, method):\n",
    "        self.cc = FakerGenerator(method=method)"
   ]
  },
  {
   "cell_type": "code",
   "execution_count": 8,
   "metadata": {},
   "outputs": [],
   "source": [
    "g = QuuxGenerator(method=\"first_name\")"
   ]
  },
  {
   "cell_type": "code",
   "execution_count": 9,
   "metadata": {},
   "outputs": [
    {
     "name": "stdout",
     "output_type": "stream",
     "text": [
      "Generated sequence:\n",
      "\n",
      "(163, '7551AA', 'Mary')\n",
      "(171, '54596E', 'Jennifer')\n",
      "(142, '2A16D0', 'Christopher')\n",
      "(140, 'FDCDD3', 'Joseph')\n",
      "(121, 'BDE283', 'Kelly')\n"
     ]
    }
   ],
   "source": [
    "print_generated_sequence(g, num=5, seed=11111, sep=\"\\n\")"
   ]
  },
  {
   "cell_type": "markdown",
   "metadata": {},
   "source": [
    "## Custom generators and loop variables"
   ]
  },
  {
   "cell_type": "markdown",
   "metadata": {},
   "source": [
    "Custom generator provides a classmethod to register loop variables with the class. Once an instance of the custom generator class is instantiated, the method `extract_loop_runner()` returns a loop runner containing spawns of the previously registered loop variables. This is used internally to implement looped custom generators."
   ]
  },
  {
   "cell_type": "code",
   "execution_count": 5,
   "metadata": {},
   "outputs": [],
   "source": [
    "from tohu.looping_NEW import LoopVariableNEW\n",
    "from tohu.derived_generators import Apply"
   ]
  },
  {
   "cell_type": "code",
   "execution_count": 6,
   "metadata": {},
   "outputs": [],
   "source": [
    "xx = LoopVariableNEW(\"xx\", values=[111, 222, 333]).set_loop_level(42)\n",
    "xx_spawned_1 = xx.spawn()\n",
    "xx_spawned_2 = xx.spawn()"
   ]
  },
  {
   "cell_type": "code",
   "execution_count": 7,
   "metadata": {},
   "outputs": [],
   "source": [
    "class QuuxGenerator(CustomGeneratorNEW3):\n",
    "    aa = Integer(100, 200)\n",
    "    bb = Apply(lambda a: a*a, xx)\n",
    "\n",
    "QuuxGenerator.set_dependency_mapping_for_next_instance_creation({xx: xx_spawned_1})"
   ]
  },
  {
   "cell_type": "code",
   "execution_count": 8,
   "metadata": {},
   "outputs": [],
   "source": [
    "#QuuxGenerator._tohu_cg_class_loop_variables"
   ]
  },
  {
   "cell_type": "code",
   "execution_count": 9,
   "metadata": {},
   "outputs": [],
   "source": [
    "g1 = QuuxGenerator()"
   ]
  },
  {
   "cell_type": "code",
   "execution_count": 10,
   "metadata": {},
   "outputs": [],
   "source": [
    "#loop_runner = g.extract_loop_runner()"
   ]
  },
  {
   "cell_type": "code",
   "execution_count": 11,
   "metadata": {},
   "outputs": [],
   "source": [
    "#loop_runner.loop_variables"
   ]
  },
  {
   "cell_type": "code",
   "execution_count": 12,
   "metadata": {},
   "outputs": [
    {
     "name": "stdout",
     "output_type": "stream",
     "text": [
      "Generated sequence:\n",
      "\n",
      "(163, 12321)\n",
      "(171, 12321)\n",
      "(142, 12321)\n",
      "(140, 12321)\n",
      "(121, 12321)\n",
      "Generated sequence:\n",
      "\n",
      "(163, 49284)\n",
      "(171, 49284)\n",
      "(142, 49284)\n",
      "(140, 49284)\n",
      "(121, 49284)\n"
     ]
    }
   ],
   "source": [
    "xx_spawned_1.rewind_loop_variable()\n",
    "print_generated_sequence(g1, num=5, sep=\"\\n\", seed=11111)\n",
    "\n",
    "xx_spawned_1.advance()\n",
    "print_generated_sequence(g1, num=5, sep=\"\\n\", seed=11111)"
   ]
  },
  {
   "cell_type": "code",
   "execution_count": 13,
   "metadata": {},
   "outputs": [
    {
     "name": "stdout",
     "output_type": "stream",
     "text": [
      "Generated sequence:\n",
      "\n",
      "(108, 12321)\n",
      "(166, 12321)\n",
      "(164, 12321)\n",
      "(163, 12321)\n",
      "(156, 12321)\n",
      "Generated sequence:\n",
      "\n",
      "(145, 49284)\n",
      "(170, 49284)\n",
      "(114, 49284)\n",
      "(170, 49284)\n",
      "(167, 49284)\n",
      "Generated sequence:\n",
      "\n",
      "(163, 12321)\n",
      "(171, 12321)\n",
      "(142, 12321)\n",
      "(140, 12321)\n",
      "(121, 12321)\n",
      "Generated sequence:\n",
      "\n",
      "(153, 110889)\n",
      "(172, 110889)\n",
      "(136, 110889)\n",
      "(194, 110889)\n",
      "(153, 110889)\n"
     ]
    }
   ],
   "source": [
    "QuuxGenerator.set_dependency_mapping_for_next_instance_creation({xx: xx_spawned_2})\n",
    "g2 = QuuxGenerator()\n",
    "\n",
    "xx_spawned_2.rewind_loop_variable()\n",
    "print_generated_sequence(g2, num=5, sep=\"\\n\", seed=22222)\n",
    "\n",
    "xx_spawned_2.advance()\n",
    "print_generated_sequence(g2, num=5, sep=\"\\n\")\n",
    "\n",
    "xx_spawned_1.rewind_loop_variable()\n",
    "print_generated_sequence(g1, num=5, sep=\"\\n\", seed=11111)\n",
    "\n",
    "xx_spawned_2.advance()\n",
    "print_generated_sequence(g2, num=5, sep=\"\\n\")"
   ]
  },
  {
   "cell_type": "code",
   "execution_count": null,
   "metadata": {},
   "outputs": [],
   "source": []
  },
  {
   "cell_type": "code",
   "execution_count": null,
   "metadata": {},
   "outputs": [],
   "source": []
  },
  {
   "cell_type": "markdown",
   "metadata": {},
   "source": [
    "---"
   ]
  },
  {
   "cell_type": "markdown",
   "metadata": {},
   "source": [
    "**TODO: revise the below**"
   ]
  },
  {
   "cell_type": "markdown",
   "metadata": {},
   "source": [
    "## Looped custom generator"
   ]
  },
  {
   "cell_type": "code",
   "execution_count": 16,
   "metadata": {},
   "outputs": [],
   "source": [
    "from tohu.foreach_NEW import foreach_NEW"
   ]
  },
  {
   "cell_type": "code",
   "execution_count": 17,
   "metadata": {},
   "outputs": [],
   "source": [
    "@foreach_NEW(xx=[\"AAA\", \"BBB\"])\n",
    "@foreach_NEW(yy=[111, 222, 333])\n",
    "class QuuxGenerator(CustomGeneratorNEW):\n",
    "    aa = xx\n",
    "    bb = yy\n",
    "    cc = Integer(100, 200)\n",
    "    dd = HashDigest(length=6)"
   ]
  },
  {
   "cell_type": "markdown",
   "metadata": {},
   "source": [
    "Internally, the `QuuxGenerator` class has been augmented by the `@foreach_NEW` decorators with information about the loop level (here: 2, since we have two nested decorators) and the loop variables present."
   ]
  },
  {
   "cell_type": "code",
   "execution_count": 18,
   "metadata": {},
   "outputs": [
    {
     "data": {
      "text/plain": [
       "<Looped custom generator class: 'QuuxGenerator', wrapped using @foreach>"
      ]
     },
     "execution_count": 18,
     "metadata": {},
     "output_type": "execute_result"
    }
   ],
   "source": [
    "QuuxGenerator"
   ]
  },
  {
   "cell_type": "code",
   "execution_count": 19,
   "metadata": {},
   "outputs": [
    {
     "data": {
      "text/plain": [
       "2"
      ]
     },
     "execution_count": 19,
     "metadata": {},
     "output_type": "execute_result"
    }
   ],
   "source": [
    "QuuxGenerator.loop_level"
   ]
  },
  {
   "cell_type": "markdown",
   "metadata": {},
   "source": [
    "Loop variables:"
   ]
  },
  {
   "cell_type": "code",
   "execution_count": 20,
   "metadata": {},
   "outputs": [
    {
     "data": {
      "text/plain": [
       "{'yy': <LoopVariable: name='yy', loop_level=1, values=[111, 222, 333], cur_value=111 (tohu_id=394357)>,\n",
       " 'xx': <LoopVariable: name='xx', loop_level=2, values=['AAA', 'BBB'], cur_value='AAA' (tohu_id=909d2c)>}"
      ]
     },
     "execution_count": 20,
     "metadata": {},
     "output_type": "execute_result"
    }
   ],
   "source": [
    "QuuxGenerator.loop_variables"
   ]
  },
  {
   "cell_type": "code",
   "execution_count": 21,
   "metadata": {},
   "outputs": [
    {
     "name": "stderr",
     "output_type": "stream",
     "text": [
      "2020-04-30 13:18:29 INFO  [DDD] Inside CustomGeneratorNEW.__init__()\n"
     ]
    }
   ],
   "source": [
    "g = QuuxGenerator()"
   ]
  },
  {
   "cell_type": "code",
   "execution_count": 22,
   "metadata": {},
   "outputs": [
    {
     "data": {
      "text/plain": [
       "{'yy': <LoopVariable: name='yy', loop_level=1, values=[111, 222, 333], cur_value=111 (tohu_id=df72b3)>,\n",
       " 'xx': <LoopVariable: name='xx', loop_level=2, values=['AAA', 'BBB'], cur_value='AAA' (tohu_id=0fad0e)>}"
      ]
     },
     "execution_count": 22,
     "metadata": {},
     "output_type": "execute_result"
    }
   ],
   "source": [
    "g.custom_gen_instance._loop_runner.loop_variables"
   ]
  },
  {
   "cell_type": "code",
   "execution_count": 23,
   "metadata": {},
   "outputs": [
    {
     "name": "stdout",
     "output_type": "stream",
     "text": [
      "Generated sequence:\n",
      "\n",
      "Quux(aa='AAA', bb=111, cc=163, dd='7551AA')\n",
      "Quux(aa='AAA', bb=111, cc=171, dd='54596E')\n",
      "Quux(aa='AAA', bb=111, cc=142, dd='2A16D0')\n",
      "Quux(aa='AAA', bb=111, cc=140, dd='FDCDD3')\n",
      "Quux(aa='AAA', bb=111, cc=121, dd='BDE283')\n",
      "Generated sequence:\n",
      "\n",
      "Quux(aa='BBB', bb=111, cc=163, dd='7551AA')\n",
      "Quux(aa='BBB', bb=111, cc=171, dd='54596E')\n",
      "Quux(aa='BBB', bb=111, cc=142, dd='2A16D0')\n",
      "Quux(aa='BBB', bb=111, cc=140, dd='FDCDD3')\n",
      "Quux(aa='BBB', bb=111, cc=121, dd='BDE283')\n"
     ]
    }
   ],
   "source": [
    "g.custom_gen_instance._loop_runner.loop_variables[\"xx\"].rewind_loop_variable()\n",
    "print_generated_sequence(g.custom_gen_instance, num=5, seed=11111, sep=\"\\n\")\n",
    "g.custom_gen_instance._loop_runner.loop_variables[\"xx\"].advance()\n",
    "print_generated_sequence(g.custom_gen_instance, num=5, seed=11111, sep=\"\\n\")"
   ]
  },
  {
   "cell_type": "code",
   "execution_count": 24,
   "metadata": {},
   "outputs": [],
   "source": [
    "#g._loop_runner.loop_variables[\"xx\"].advance()"
   ]
  },
  {
   "cell_type": "markdown",
   "metadata": {},
   "source": [
    "Both the parent class `QuuxGenerator` and its instance `g` contain loop runners containing loop variables `xx` and `yy`."
   ]
  },
  {
   "cell_type": "code",
   "execution_count": 25,
   "metadata": {},
   "outputs": [
    {
     "data": {
      "text/plain": [
       "[<LoopVariable: name='yy', loop_level=1, values=[111, 222, 333], cur_value=111 (tohu_id=394357)>,\n",
       " <LoopVariable: name='xx', loop_level=2, values=['AAA', 'BBB'], cur_value='AAA' (tohu_id=909d2c)>]"
      ]
     },
     "execution_count": 25,
     "metadata": {},
     "output_type": "execute_result"
    }
   ],
   "source": [
    "QuuxGenerator.custom_gen_cls._tohu_cg_class_loop_variables"
   ]
  },
  {
   "cell_type": "code",
   "execution_count": 26,
   "metadata": {},
   "outputs": [
    {
     "data": {
      "text/plain": [
       "{'yy': <LoopVariable: name='yy', loop_level=1, values=[111, 222, 333], cur_value=111 (tohu_id=df72b3)>,\n",
       " 'xx': <LoopVariable: name='xx', loop_level=2, values=['AAA', 'BBB'], cur_value='BBB' (tohu_id=0fad0e)>}"
      ]
     },
     "execution_count": 26,
     "metadata": {},
     "output_type": "execute_result"
    }
   ],
   "source": [
    "g.custom_gen_instance._loop_runner.loop_variables"
   ]
  },
  {
   "cell_type": "code",
   "execution_count": 27,
   "metadata": {},
   "outputs": [],
   "source": [
    "assert g.custom_gen_instance._loop_runner.loop_variables[\"xx\"].is_clone_of(QuuxGenerator.custom_gen_cls._tohu_cg_class_loop_variables[1])\n",
    "assert g.custom_gen_instance._loop_runner.loop_variables[\"yy\"].is_clone_of(QuuxGenerator.custom_gen_cls._tohu_cg_class_loop_variables[0])"
   ]
  }
 ],
 "metadata": {
  "kernelspec": {
   "display_name": "Python 3",
   "language": "python",
   "name": "python3"
  },
  "language_info": {
   "codemirror_mode": {
    "name": "ipython",
    "version": 3
   },
   "file_extension": ".py",
   "mimetype": "text/x-python",
   "name": "python",
   "nbconvert_exporter": "python",
   "pygments_lexer": "ipython3",
   "version": "3.8.1"
  }
 },
 "nbformat": 4,
 "nbformat_minor": 4
}
