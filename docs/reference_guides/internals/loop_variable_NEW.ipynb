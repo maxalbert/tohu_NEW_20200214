{
 "cells": [
  {
   "cell_type": "markdown",
   "metadata": {},
   "source": [
    "# `LoopVariableNEW`"
   ]
  },
  {
   "cell_type": "markdown",
   "metadata": {},
   "source": [
    "\n",
    "[TOC]\n"
   ]
  },
  {
   "cell_type": "markdown",
   "metadata": {},
   "source": [
    "The `LoopVariableNEW` class is used internally to implement looping via the `@foreach` decorator."
   ]
  },
  {
   "cell_type": "markdown",
   "metadata": {},
   "source": [
    "## Initialisation"
   ]
  },
  {
   "cell_type": "code",
   "execution_count": 1,
   "metadata": {},
   "outputs": [],
   "source": [
    "from tohu.looping_NEW import LoopVariableNEW\n",
    "\n",
    "xx = LoopVariableNEW(name=\"foo\", values=[11, 22, 33])"
   ]
  },
  {
   "cell_type": "markdown",
   "metadata": {},
   "source": [
    "A `LoopVariable` is a valid tohu generator in its own right:"
   ]
  },
  {
   "cell_type": "code",
   "execution_count": 2,
   "metadata": {},
   "outputs": [
    {
     "data": {
      "text/plain": [
       "True"
      ]
     },
     "execution_count": 2,
     "metadata": {},
     "output_type": "execute_result"
    }
   ],
   "source": [
    "from tohu.base import TohuBaseGenerator\n",
    "\n",
    "isinstance(xx, TohuBaseGenerator)"
   ]
  },
  {
   "cell_type": "markdown",
   "metadata": {},
   "source": [
    "## Attributes"
   ]
  },
  {
   "cell_type": "markdown",
   "metadata": {},
   "source": [
    "### `.cur_value`"
   ]
  },
  {
   "cell_type": "markdown",
   "metadata": {},
   "source": [
    "The current value of a loop variable is accessible via the `.cur_value` attribute. Initially this is set to the first value in the sequence passed via the `values` argument during initialisation."
   ]
  },
  {
   "cell_type": "code",
   "execution_count": 3,
   "metadata": {},
   "outputs": [
    {
     "name": "stdout",
     "output_type": "stream",
     "text": [
      "11\n"
     ]
    }
   ],
   "source": [
    "print(xx.cur_value)"
   ]
  },
  {
   "cell_type": "markdown",
   "metadata": {},
   "source": [
    "### `.__next__()`"
   ]
  },
  {
   "cell_type": "markdown",
   "metadata": {},
   "source": [
    "When calling `next()` on a loop variable, it will always return the current value."
   ]
  },
  {
   "cell_type": "code",
   "execution_count": 4,
   "metadata": {},
   "outputs": [
    {
     "name": "stdout",
     "output_type": "stream",
     "text": [
      "11\n",
      "11\n",
      "11\n",
      "11\n"
     ]
    }
   ],
   "source": [
    "print(next(xx))\n",
    "print(next(xx))\n",
    "print(next(xx))\n",
    "print(next(xx))"
   ]
  },
  {
   "cell_type": "markdown",
   "metadata": {},
   "source": [
    "### `.advance()`"
   ]
  },
  {
   "cell_type": "markdown",
   "metadata": {},
   "source": [
    "The current value can be advanced to the next one by calling `.advance()`"
   ]
  },
  {
   "cell_type": "code",
   "execution_count": 5,
   "metadata": {},
   "outputs": [
    {
     "name": "stdout",
     "output_type": "stream",
     "text": [
      "22\n",
      "22\n",
      "22\n"
     ]
    }
   ],
   "source": [
    "xx.advance()\n",
    "\n",
    "print(next(xx))\n",
    "print(next(xx))\n",
    "print(next(xx))"
   ]
  },
  {
   "cell_type": "code",
   "execution_count": 6,
   "metadata": {},
   "outputs": [
    {
     "name": "stdout",
     "output_type": "stream",
     "text": [
      "33\n",
      "33\n",
      "33\n"
     ]
    }
   ],
   "source": [
    "xx.advance()\n",
    "\n",
    "print(next(xx))\n",
    "print(next(xx))\n",
    "print(next(xx))"
   ]
  },
  {
   "cell_type": "markdown",
   "metadata": {},
   "source": [
    "Once all values have been cycled through, calling `.advance()` again will cause an `IndexError`."
   ]
  },
  {
   "cell_type": "code",
   "execution_count": 7,
   "metadata": {},
   "outputs": [],
   "source": [
    "import pytest\n",
    "from tohu.looping_NEW import LoopVariableExhaustedNEW\n",
    "\n",
    "with pytest.raises(LoopVariableExhaustedNEW, match=\"Loop variable has been exhausted\"):\n",
    "    xx.advance()"
   ]
  },
  {
   "cell_type": "markdown",
   "metadata": {},
   "source": [
    "### `.reset_loop_variable()`"
   ]
  },
  {
   "cell_type": "markdown",
   "metadata": {},
   "source": [
    "When calling `.reset_loop_variable()` on a loop variable, it will reset the generator to its initial state so that it can be iterated over again in the same way as before."
   ]
  },
  {
   "cell_type": "code",
   "execution_count": 8,
   "metadata": {},
   "outputs": [
    {
     "name": "stdout",
     "output_type": "stream",
     "text": [
      "11\n",
      "11\n",
      "22\n",
      "22\n",
      "33\n",
      "33\n"
     ]
    }
   ],
   "source": [
    "xx.reset_loop_variable()\n",
    "\n",
    "print(next(xx))\n",
    "print(next(xx))\n",
    "\n",
    "xx.advance()\n",
    "print(next(xx))\n",
    "print(next(xx))\n",
    "\n",
    "xx.advance()\n",
    "print(next(xx))\n",
    "print(next(xx))"
   ]
  },
  {
   "cell_type": "markdown",
   "metadata": {},
   "source": [
    "## Advancing/resetting and clones"
   ]
  },
  {
   "cell_type": "markdown",
   "metadata": {},
   "source": [
    "When a loop variable is advanced or reset to its initial value, any clones will automatically be advanced or reset, too."
   ]
  },
  {
   "cell_type": "code",
   "execution_count": 16,
   "metadata": {},
   "outputs": [],
   "source": [
    "xx = LoopVariableNEW(name=\"foo\", values=[11, 22, 33])\n",
    "yy = xx.clone()\n",
    "zz = yy.clone()"
   ]
  },
  {
   "cell_type": "code",
   "execution_count": 19,
   "metadata": {},
   "outputs": [
    {
     "name": "stdout",
     "output_type": "stream",
     "text": [
      "11 11 11\n",
      "11 11 11\n"
     ]
    }
   ],
   "source": [
    "print(next(xx), next(yy), next(zz))\n",
    "print(next(xx), next(yy), next(zz))"
   ]
  },
  {
   "cell_type": "code",
   "execution_count": 20,
   "metadata": {},
   "outputs": [],
   "source": [
    "xx.advance()"
   ]
  },
  {
   "cell_type": "code",
   "execution_count": 21,
   "metadata": {},
   "outputs": [
    {
     "name": "stdout",
     "output_type": "stream",
     "text": [
      "22 22 22\n",
      "22 22 22\n"
     ]
    }
   ],
   "source": [
    "print(next(xx), next(yy), next(zz))\n",
    "print(next(xx), next(yy), next(zz))"
   ]
  },
  {
   "cell_type": "code",
   "execution_count": 22,
   "metadata": {},
   "outputs": [],
   "source": [
    "xx.reset_loop_variable()"
   ]
  },
  {
   "cell_type": "code",
   "execution_count": 23,
   "metadata": {},
   "outputs": [
    {
     "name": "stdout",
     "output_type": "stream",
     "text": [
      "11 11 11\n",
      "11 11 11\n"
     ]
    }
   ],
   "source": [
    "print(next(xx), next(yy), next(zz))\n",
    "print(next(xx), next(yy), next(zz))"
   ]
  }
 ],
 "metadata": {
  "kernelspec": {
   "display_name": "Python 3",
   "language": "python",
   "name": "python3"
  },
  "language_info": {
   "codemirror_mode": {
    "name": "ipython",
    "version": 3
   },
   "file_extension": ".py",
   "mimetype": "text/x-python",
   "name": "python",
   "nbconvert_exporter": "python",
   "pygments_lexer": "ipython3",
   "version": "3.8.1"
  }
 },
 "nbformat": 4,
 "nbformat_minor": 4
}
