{
 "cells": [
  {
   "cell_type": "markdown",
   "metadata": {},
   "source": [
    "# `TohuNamespaceNEW2`"
   ]
  },
  {
   "cell_type": "markdown",
   "metadata": {},
   "source": [
    "\n",
    "[TOC]\n"
   ]
  },
  {
   "cell_type": "markdown",
   "metadata": {},
   "source": [
    "The class `TohuNamespaceNEW2` allows grouping together other tohu generators and treating them as a single unit (which is used to implement the functionality of custom generators)."
   ]
  },
  {
   "cell_type": "markdown",
   "metadata": {},
   "source": [
    "## Initialisation and adding field generators"
   ]
  },
  {
   "cell_type": "code",
   "execution_count": 21,
   "metadata": {},
   "outputs": [],
   "source": [
    "from tohu import Integer, HashDigest, FakerGenerator\n",
    "from tohu.tohu_namespace_NEW_2 import TohuNamespaceNEW2"
   ]
  },
  {
   "cell_type": "code",
   "execution_count": 4,
   "metadata": {},
   "outputs": [],
   "source": [
    "g1 = Integer(100, 200)\n",
    "g2 = HashDigest(length=6)\n",
    "g3 = FakerGenerator(method=\"name\")\n",
    "\n",
    "tohu_namespace = TohuNamespaceNEW2()\n",
    "tohu_namespace.add_field_generator(\"aa\", g1)\n",
    "tohu_namespace.add_field_generator(\"bb\", g2)\n",
    "tohu_namespace.add_field_generator(\"cc\", g3)"
   ]
  },
  {
   "cell_type": "markdown",
   "metadata": {},
   "source": [
    "Note that when a field generator is added to the tohu namesapce, internally a new spawn is created. We can verify this by checking that the generators are different, for example in the case of `g1` and the field generator `aa`:"
   ]
  },
  {
   "cell_type": "code",
   "execution_count": 5,
   "metadata": {},
   "outputs": [
    {
     "name": "stdout",
     "output_type": "stream",
     "text": [
      "g1: <Integer (id=c30ab4)>\n",
      "aa: <Integer (id=a118b1)>\n"
     ]
    }
   ],
   "source": [
    "print(f\"g1: {g1}\")\n",
    "print(f\"aa: {tohu_namespace.field_generators['aa']}\")\n",
    "\n",
    "assert tohu_namespace.field_generators['aa'] is not g1\n",
    "assert not tohu_namespace.field_generators['aa'].is_clone_of(g1)"
   ]
  },
  {
   "cell_type": "markdown",
   "metadata": {},
   "source": [
    "There is a convenience method `add_field_generators_from_dict()` which allows passing a dictionary, and it will call `add_field_generator()` for any tohu generators found in this dictionary (while ignoring any other values)."
   ]
  },
  {
   "cell_type": "code",
   "execution_count": 6,
   "metadata": {},
   "outputs": [],
   "source": [
    "dct = {\n",
    "    \"aa\": Integer(100, 200),\n",
    "    \"bb\": HashDigest(length=6),\n",
    "    \"some_string\": \"this string will not be added because it is not a tohu generator\",\n",
    "    \"cc\": FakerGenerator(method=\"name\"),\n",
    "    \"answer\": 42  # this number will also not be added because it is not a tohu generator\n",
    "}\n",
    "\n",
    "tohu_namespace = TohuNamespaceNEW2()\n",
    "tohu_namespace.add_field_generators_from_dict(dct)"
   ]
  },
  {
   "cell_type": "code",
   "execution_count": 7,
   "metadata": {},
   "outputs": [
    {
     "data": {
      "text/plain": [
       "{'aa': <Integer (id=a0902f)>,\n",
       " 'bb': <HashDigest (id=b6f737)>,\n",
       " 'cc': <FakerGenerator (id=2d9a7c)>}"
      ]
     },
     "execution_count": 7,
     "metadata": {},
     "output_type": "execute_result"
    }
   ],
   "source": [
    "tohu_namespace.field_generators"
   ]
  },
  {
   "cell_type": "markdown",
   "metadata": {},
   "source": [
    "## Adding non-field generators"
   ]
  },
  {
   "cell_type": "code",
   "execution_count": 8,
   "metadata": {},
   "outputs": [],
   "source": [
    "from tohu.looping_NEW import LoopVariableNEW"
   ]
  },
  {
   "cell_type": "code",
   "execution_count": 9,
   "metadata": {},
   "outputs": [],
   "source": [
    "xx = LoopVariableNEW(\"xx\", values=[4, 5, 6])\n",
    "\n",
    "tohu_namespace = TohuNamespaceNEW2()\n",
    "tohu_namespace.add_non_field_generator(\"xx\", xx, is_externally_managed=True)"
   ]
  },
  {
   "cell_type": "code",
   "execution_count": 10,
   "metadata": {},
   "outputs": [
    {
     "data": {
      "text/plain": [
       "{}"
      ]
     },
     "execution_count": 10,
     "metadata": {},
     "output_type": "execute_result"
    }
   ],
   "source": [
    "tohu_namespace.field_generators"
   ]
  },
  {
   "cell_type": "code",
   "execution_count": 11,
   "metadata": {},
   "outputs": [
    {
     "data": {
      "text/plain": [
       "{'xx': <LoopVariable: name='xx', loop_level=None, values=[4, 5, 6], cur_value=4 (tohu_id=fd44cd)>}"
      ]
     },
     "execution_count": 11,
     "metadata": {},
     "output_type": "execute_result"
    }
   ],
   "source": [
    "tohu_namespace.all_generators"
   ]
  },
  {
   "cell_type": "markdown",
   "metadata": {},
   "source": [
    "Note that in this case the generator which is internally stored in the tohu namespace is actually a clone of `xx`."
   ]
  },
  {
   "cell_type": "code",
   "execution_count": 12,
   "metadata": {},
   "outputs": [],
   "source": [
    "assert tohu_namespace.all_generators[\"xx\"].is_clone_of(xx)"
   ]
  },
  {
   "cell_type": "markdown",
   "metadata": {},
   "source": [
    "## Setting the `tohu_items_cls` attribute"
   ]
  },
  {
   "cell_type": "markdown",
   "metadata": {},
   "source": [
    "Let's create a new tohu namespace and add both field generators and non-field generators."
   ]
  },
  {
   "cell_type": "code",
   "execution_count": 13,
   "metadata": {},
   "outputs": [],
   "source": [
    "xx = LoopVariableNEW(\"xx\", values=[111, 222]).set_loop_level(2)\n",
    "yy = LoopVariableNEW(\"yy\", values=[\"AAA\", \"BBB\"]).set_loop_level(1)\n",
    "\n",
    "g1 = Integer(100, 200)\n",
    "g2 = HashDigest(length=6)\n",
    "g3 = FakerGenerator(method=\"name\")\n",
    "\n",
    "tohu_namespace = TohuNamespaceNEW2()\n",
    "tohu_namespace.add_non_field_generator(\"xx\", xx, is_externally_managed=True)\n",
    "tohu_namespace.add_non_field_generator(\"yy\", yy, is_externally_managed=True)\n",
    "tohu_namespace.add_field_generator(\"aa\", g1)\n",
    "tohu_namespace.add_field_generator(\"bb\", g2)\n",
    "tohu_namespace.add_field_generator(\"cc\", g3)"
   ]
  },
  {
   "cell_type": "markdown",
   "metadata": {},
   "source": [
    "Initially the `tohu_items_cls` attribute refers to a non-existent tohu items class:"
   ]
  },
  {
   "cell_type": "code",
   "execution_count": 14,
   "metadata": {},
   "outputs": [
    {
     "data": {
      "text/plain": [
       "<NonExistentTohuItemsClass>"
      ]
     },
     "execution_count": 14,
     "metadata": {},
     "output_type": "execute_result"
    }
   ],
   "source": [
    "tohu_namespace.tohu_items_cls"
   ]
  },
  {
   "cell_type": "markdown",
   "metadata": {},
   "source": [
    "Once all desired generators have been added to the tohu namespace, we can call `set_tohu_items_class`, which will automatically create a tohu items class with the same field names as the generators contained in the namespace."
   ]
  },
  {
   "cell_type": "code",
   "execution_count": 15,
   "metadata": {},
   "outputs": [],
   "source": [
    "tohu_namespace.set_tohu_items_class(name=\"Quux\")"
   ]
  },
  {
   "cell_type": "code",
   "execution_count": 16,
   "metadata": {},
   "outputs": [
    {
     "data": {
      "text/plain": [
       "tohu.tohu_items_class.Quux"
      ]
     },
     "execution_count": 16,
     "metadata": {},
     "output_type": "execute_result"
    }
   ],
   "source": [
    "tohu_namespace.tohu_items_cls"
   ]
  },
  {
   "cell_type": "markdown",
   "metadata": {},
   "source": [
    "This items class can then be used to create individual tohu items."
   ]
  },
  {
   "cell_type": "code",
   "execution_count": 17,
   "metadata": {},
   "outputs": [
    {
     "data": {
      "text/plain": [
       "Quux(aa=100, bb='910A97', cc='Kristen Wallace')"
      ]
     },
     "execution_count": 17,
     "metadata": {},
     "output_type": "execute_result"
    }
   ],
   "source": [
    "tohu_namespace.tohu_items_cls(aa=100, bb=\"910A97\", cc=\"Kristen Wallace\")"
   ]
  },
  {
   "cell_type": "markdown",
   "metadata": {},
   "source": [
    "## Resetting and generating tohu items"
   ]
  },
  {
   "cell_type": "code",
   "execution_count": 18,
   "metadata": {},
   "outputs": [
    {
     "data": {
      "text/plain": [
       "{'xx': <LoopVariable: name='xx', loop_level=2, values=[111, 222], cur_value=111 (tohu_id=1645bf)>,\n",
       " 'yy': <LoopVariable: name='yy', loop_level=1, values=['AAA', 'BBB'], cur_value='AAA' (tohu_id=789d29)>,\n",
       " 'aa': <Integer (id=4dbbbb)>,\n",
       " 'bb': <HashDigest (id=dd4f62)>,\n",
       " 'cc': <FakerGenerator (id=d0d2a7)>}"
      ]
     },
     "execution_count": 18,
     "metadata": {},
     "output_type": "execute_result"
    }
   ],
   "source": [
    "tohu_namespace.all_generators"
   ]
  },
  {
   "cell_type": "code",
   "execution_count": 19,
   "metadata": {},
   "outputs": [
    {
     "data": {
      "text/plain": [
       "{'aa': <Integer (id=4dbbbb)>,\n",
       " 'bb': <HashDigest (id=dd4f62)>,\n",
       " 'cc': <FakerGenerator (id=d0d2a7)>}"
      ]
     },
     "execution_count": 19,
     "metadata": {},
     "output_type": "execute_result"
    }
   ],
   "source": [
    "tohu_namespace.field_generators"
   ]
  },
  {
   "cell_type": "code",
   "execution_count": 20,
   "metadata": {},
   "outputs": [
    {
     "name": "stdout",
     "output_type": "stream",
     "text": [
      "Quux(aa=163, bb='7551AA', cc='Michelle Miller')\n",
      "Quux(aa=171, bb='54596E', cc='Eddie Davis')\n",
      "Quux(aa=142, bb='2A16D0', cc='Kathleen Lucas')\n",
      "Quux(aa=140, bb='FDCDD3', cc='Jason Rodriguez')\n",
      "Quux(aa=121, bb='BDE283', cc='Andrew Pitts')\n"
     ]
    }
   ],
   "source": [
    "tohu_namespace.reset(seed=11111)\n",
    "\n",
    "print(next(tohu_namespace))\n",
    "print(next(tohu_namespace))\n",
    "print(next(tohu_namespace))\n",
    "print(next(tohu_namespace))\n",
    "print(next(tohu_namespace))"
   ]
  },
  {
   "cell_type": "markdown",
   "metadata": {},
   "source": [
    "**TODO:**\n",
    "\n",
    "- [ ] Add test that field generators are reset when the tohu namespace is reset, but externally managed (non-field?) generators are left alone."
   ]
  }
 ],
 "metadata": {
  "kernelspec": {
   "display_name": "Python 3",
   "language": "python",
   "name": "python3"
  },
  "language_info": {
   "codemirror_mode": {
    "name": "ipython",
    "version": 3
   },
   "file_extension": ".py",
   "mimetype": "text/x-python",
   "name": "python",
   "nbconvert_exporter": "python",
   "pygments_lexer": "ipython3",
   "version": "3.8.1"
  }
 },
 "nbformat": 4,
 "nbformat_minor": 4
}
