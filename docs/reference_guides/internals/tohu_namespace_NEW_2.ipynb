{
 "cells": [
  {
   "cell_type": "markdown",
   "metadata": {},
   "source": [
    "# `TohuNamespaceNEW2`"
   ]
  },
  {
   "cell_type": "markdown",
   "metadata": {},
   "source": [
    "\n",
    "[TOC]\n"
   ]
  },
  {
   "cell_type": "markdown",
   "metadata": {},
   "source": [
    "The class `TohuNamespaceNEW2` allows grouping together other tohu generators and treating them as a single unit (which is used to implement the functionality of custom generators)."
   ]
  },
  {
   "cell_type": "markdown",
   "metadata": {},
   "source": [
    "## Initialisation and adding field generators"
   ]
  },
  {
   "cell_type": "code",
   "execution_count": 1,
   "metadata": {},
   "outputs": [],
   "source": [
    "from tohu import Integer, HashDigest, FakerGenerator\n",
    "from tohu.tohu_namespace_NEW_2 import TohuNamespaceNEW2"
   ]
  },
  {
   "cell_type": "code",
   "execution_count": 2,
   "metadata": {},
   "outputs": [],
   "source": [
    "g1 = Integer(100, 200)\n",
    "g2 = HashDigest(length=6)\n",
    "g3 = FakerGenerator(method=\"name\")\n",
    "\n",
    "tohu_namespace = TohuNamespaceNEW2()\n",
    "tohu_namespace.add_field_generator(\"aa\", g1)\n",
    "tohu_namespace.add_field_generator(\"bb\", g2)\n",
    "tohu_namespace.add_field_generator(\"cc\", g3)"
   ]
  },
  {
   "cell_type": "markdown",
   "metadata": {},
   "source": [
    "Note that when a field generator is added to the tohu namesapce, internally a new spawn is created. We can verify this by checking that the generators are different, for example in the case of `g1` and the field generator `aa`:"
   ]
  },
  {
   "cell_type": "code",
   "execution_count": 3,
   "metadata": {},
   "outputs": [
    {
     "name": "stdout",
     "output_type": "stream",
     "text": [
      "g1: <Integer (id=529fe7)>\n",
      "aa: <Integer (id=789a65)>\n"
     ]
    }
   ],
   "source": [
    "print(f\"g1: {g1}\")\n",
    "print(f\"aa: {tohu_namespace.field_generators['aa']}\")\n",
    "\n",
    "assert tohu_namespace.field_generators['aa'] is not g1\n",
    "assert not tohu_namespace.field_generators['aa'].is_clone_of(g1)"
   ]
  },
  {
   "cell_type": "markdown",
   "metadata": {},
   "source": [
    "There is a convenience method `add_field_generators_from_dict()` which allows passing a dictionary, and it will call `add_field_generator()` for any tohu generators found in this dictionary (while ignoring any other values)."
   ]
  },
  {
   "cell_type": "code",
   "execution_count": 4,
   "metadata": {},
   "outputs": [],
   "source": [
    "dct = {\n",
    "    \"aa\": Integer(100, 200),\n",
    "    \"bb\": HashDigest(length=6),\n",
    "    \"some_string\": \"this string will not be added because it is not a tohu generator\",\n",
    "    \"cc\": FakerGenerator(method=\"name\"),\n",
    "    \"answer\": 42  # this number will also not be added because it is not a tohu generator\n",
    "}\n",
    "\n",
    "tohu_namespace = TohuNamespaceNEW2()\n",
    "tohu_namespace.add_field_generators_from_dict(dct)"
   ]
  },
  {
   "cell_type": "code",
   "execution_count": 5,
   "metadata": {},
   "outputs": [
    {
     "data": {
      "text/plain": [
       "{'aa': <Integer (id=321e09)>,\n",
       " 'bb': <HashDigest (id=d52f17)>,\n",
       " 'cc': <FakerGenerator (id=c5aee9)>}"
      ]
     },
     "execution_count": 5,
     "metadata": {},
     "output_type": "execute_result"
    }
   ],
   "source": [
    "tohu_namespace.field_generators"
   ]
  },
  {
   "cell_type": "markdown",
   "metadata": {},
   "source": [
    "## Adding non-field generators"
   ]
  },
  {
   "cell_type": "code",
   "execution_count": 6,
   "metadata": {},
   "outputs": [],
   "source": [
    "from tohu.looping_NEW import LoopVariableNEW"
   ]
  },
  {
   "cell_type": "code",
   "execution_count": 7,
   "metadata": {},
   "outputs": [],
   "source": [
    "xx = LoopVariableNEW(\"xx\", values=[4, 5, 6])\n",
    "\n",
    "tohu_namespace = TohuNamespaceNEW2()\n",
    "tohu_namespace.add_non_field_generator(\"xx\", xx, is_externally_managed=True)"
   ]
  },
  {
   "cell_type": "code",
   "execution_count": 8,
   "metadata": {},
   "outputs": [
    {
     "data": {
      "text/plain": [
       "{}"
      ]
     },
     "execution_count": 8,
     "metadata": {},
     "output_type": "execute_result"
    }
   ],
   "source": [
    "tohu_namespace.field_generators"
   ]
  },
  {
   "cell_type": "code",
   "execution_count": 9,
   "metadata": {},
   "outputs": [
    {
     "data": {
      "text/plain": [
       "{'xx': <LoopVariable: name='xx', loop_level=None, values=[4, 5, 6], cur_value=4 (tohu_id=004f59)>}"
      ]
     },
     "execution_count": 9,
     "metadata": {},
     "output_type": "execute_result"
    }
   ],
   "source": [
    "tohu_namespace.all_generators"
   ]
  },
  {
   "cell_type": "markdown",
   "metadata": {},
   "source": [
    "Note that in this case the generator which is internally stored in the tohu namespace is actually a clone of `xx`."
   ]
  },
  {
   "cell_type": "code",
   "execution_count": 10,
   "metadata": {},
   "outputs": [],
   "source": [
    "assert tohu_namespace.all_generators[\"xx\"].is_clone_of(xx)"
   ]
  },
  {
   "cell_type": "markdown",
   "metadata": {},
   "source": [
    "## Setting the `tohu_items_cls` attribute"
   ]
  },
  {
   "cell_type": "markdown",
   "metadata": {},
   "source": [
    "Let's create a new tohu namespace and add both field generators and non-field generators."
   ]
  },
  {
   "cell_type": "code",
   "execution_count": 11,
   "metadata": {},
   "outputs": [],
   "source": [
    "xx = LoopVariableNEW(\"xx\", values=[111, 222]).set_loop_level(2)\n",
    "yy = LoopVariableNEW(\"yy\", values=[\"AAA\", \"BBB\"]).set_loop_level(1)\n",
    "\n",
    "g1 = Integer(100, 200)\n",
    "g2 = HashDigest(length=6)\n",
    "g3 = FakerGenerator(method=\"name\")\n",
    "\n",
    "tohu_namespace = TohuNamespaceNEW2()\n",
    "tohu_namespace.add_non_field_generator(\"xx\", xx, is_externally_managed=True)\n",
    "tohu_namespace.add_non_field_generator(\"yy\", yy, is_externally_managed=True)\n",
    "tohu_namespace.add_field_generator(\"aa\", g1)\n",
    "tohu_namespace.add_field_generator(\"bb\", g2)\n",
    "tohu_namespace.add_field_generator(\"cc\", g3)"
   ]
  },
  {
   "cell_type": "markdown",
   "metadata": {},
   "source": [
    "Initially the `tohu_items_cls` attribute refers to a non-existent tohu items class:"
   ]
  },
  {
   "cell_type": "code",
   "execution_count": 12,
   "metadata": {},
   "outputs": [
    {
     "data": {
      "text/plain": [
       "<NonExistentTohuItemsClass>"
      ]
     },
     "execution_count": 12,
     "metadata": {},
     "output_type": "execute_result"
    }
   ],
   "source": [
    "tohu_namespace.tohu_items_cls"
   ]
  },
  {
   "cell_type": "markdown",
   "metadata": {},
   "source": [
    "Once all desired generators have been added to the tohu namespace, we can call `set_tohu_items_class`, which will automatically create a tohu items class with the same field names as the generators contained in the namespace."
   ]
  },
  {
   "cell_type": "code",
   "execution_count": 13,
   "metadata": {},
   "outputs": [],
   "source": [
    "tohu_namespace.set_tohu_items_class(name=\"Quux\")"
   ]
  },
  {
   "cell_type": "code",
   "execution_count": 14,
   "metadata": {},
   "outputs": [
    {
     "data": {
      "text/plain": [
       "tohu.tohu_items_class.Quux"
      ]
     },
     "execution_count": 14,
     "metadata": {},
     "output_type": "execute_result"
    }
   ],
   "source": [
    "tohu_namespace.tohu_items_cls"
   ]
  },
  {
   "cell_type": "markdown",
   "metadata": {},
   "source": [
    "This items class can then be used to create individual tohu items."
   ]
  },
  {
   "cell_type": "code",
   "execution_count": 15,
   "metadata": {},
   "outputs": [
    {
     "data": {
      "text/plain": [
       "Quux(aa=100, bb='910A97', cc='Kristen Wallace')"
      ]
     },
     "execution_count": 15,
     "metadata": {},
     "output_type": "execute_result"
    }
   ],
   "source": [
    "tohu_namespace.tohu_items_cls(aa=100, bb=\"910A97\", cc=\"Kristen Wallace\")"
   ]
  },
  {
   "cell_type": "markdown",
   "metadata": {},
   "source": [
    "## Resetting and generating tohu items"
   ]
  },
  {
   "cell_type": "code",
   "execution_count": 16,
   "metadata": {},
   "outputs": [
    {
     "data": {
      "text/plain": [
       "{'xx': <LoopVariable: name='xx', loop_level=2, values=[111, 222], cur_value=111 (tohu_id=1d2fc7)>,\n",
       " 'yy': <LoopVariable: name='yy', loop_level=1, values=['AAA', 'BBB'], cur_value='AAA' (tohu_id=332ee9)>,\n",
       " 'aa': <Integer (id=261762)>,\n",
       " 'bb': <HashDigest (id=92d610)>,\n",
       " 'cc': <FakerGenerator (id=69fe0b)>}"
      ]
     },
     "execution_count": 16,
     "metadata": {},
     "output_type": "execute_result"
    }
   ],
   "source": [
    "tohu_namespace.all_generators"
   ]
  },
  {
   "cell_type": "code",
   "execution_count": 17,
   "metadata": {},
   "outputs": [
    {
     "data": {
      "text/plain": [
       "{'aa': <Integer (id=261762)>,\n",
       " 'bb': <HashDigest (id=92d610)>,\n",
       " 'cc': <FakerGenerator (id=69fe0b)>}"
      ]
     },
     "execution_count": 17,
     "metadata": {},
     "output_type": "execute_result"
    }
   ],
   "source": [
    "tohu_namespace.field_generators"
   ]
  },
  {
   "cell_type": "code",
   "execution_count": 18,
   "metadata": {},
   "outputs": [
    {
     "name": "stdout",
     "output_type": "stream",
     "text": [
      "Quux(aa=163, bb='7551AA', cc='Michelle Miller')\n",
      "Quux(aa=171, bb='54596E', cc='Eddie Davis')\n",
      "Quux(aa=142, bb='2A16D0', cc='Kathleen Lucas')\n",
      "Quux(aa=140, bb='FDCDD3', cc='Jason Rodriguez')\n",
      "Quux(aa=121, bb='BDE283', cc='Andrew Pitts')\n"
     ]
    }
   ],
   "source": [
    "tohu_namespace.reset(seed=11111)\n",
    "\n",
    "print(next(tohu_namespace))\n",
    "print(next(tohu_namespace))\n",
    "print(next(tohu_namespace))\n",
    "print(next(tohu_namespace))\n",
    "print(next(tohu_namespace))"
   ]
  },
  {
   "cell_type": "markdown",
   "metadata": {},
   "source": [
    "## Adding generators with dependencies"
   ]
  },
  {
   "cell_type": "code",
   "execution_count": 19,
   "metadata": {},
   "outputs": [],
   "source": [
    "from tohu.derived_generators import Apply"
   ]
  },
  {
   "cell_type": "code",
   "execution_count": 20,
   "metadata": {},
   "outputs": [],
   "source": [
    "aa = Integer(1, 9)\n",
    "bb = Apply(lambda x: x*11, aa)\n",
    "cc = Apply(lambda x: x*101, bb)"
   ]
  },
  {
   "cell_type": "code",
   "execution_count": 21,
   "metadata": {},
   "outputs": [],
   "source": [
    "assert bb.arg_gens[0].is_clone_of(aa)\n",
    "assert cc.arg_gens[0].is_clone_of(bb)"
   ]
  },
  {
   "cell_type": "code",
   "execution_count": 22,
   "metadata": {},
   "outputs": [],
   "source": [
    "tohu_namespace = TohuNamespaceNEW2()\n",
    "tohu_namespace.add_field_generator(\"rr\", aa)\n",
    "tohu_namespace.add_field_generator(\"ss\", aa)\n",
    "tohu_namespace.add_field_generator(\"tt\", bb)\n",
    "tohu_namespace.add_field_generator(\"uu\", cc)\n",
    "tohu_namespace.add_field_generator(\"vv\", cc)\n",
    "tohu_namespace.set_tohu_items_class(\"Quux\")"
   ]
  },
  {
   "cell_type": "code",
   "execution_count": 23,
   "metadata": {},
   "outputs": [
    {
     "data": {
      "text/plain": [
       "{'rr': <Integer (id=08c8d2)>,\n",
       " 'ss': <Integer (id=e6b940)>,\n",
       " 'tt': <Apply (id=04f956)>,\n",
       " 'uu': <Apply (id=2915d7)>,\n",
       " 'vv': <Apply (id=2c266f)>}"
      ]
     },
     "execution_count": 23,
     "metadata": {},
     "output_type": "execute_result"
    }
   ],
   "source": [
    "tohu_namespace.field_generators"
   ]
  },
  {
   "cell_type": "markdown",
   "metadata": {},
   "source": [
    "Note that even though the generator `aa` is added to the namespace twice (first with the name `\"rr\"` and then with the name `\"ss\"`), `ss` actually ends up as a _clone_ of `rr` (this is to ensure that the tohu items produced by the namespace contain the correct values).\n",
    "\n",
    "The following checks that this works as expected."
   ]
  },
  {
   "cell_type": "code",
   "execution_count": 24,
   "metadata": {},
   "outputs": [
    {
     "name": "stdout",
     "output_type": "stream",
     "text": [
      "Quux(rr=8, ss=8, tt=88, uu=8888, vv=8888)\n",
      "Quux(rr=9, ss=9, tt=99, uu=9999, vv=9999)\n",
      "Quux(rr=6, ss=6, tt=66, uu=6666, vv=6666)\n",
      "Quux(rr=6, ss=6, tt=66, uu=6666, vv=6666)\n",
      "Quux(rr=3, ss=3, tt=33, uu=3333, vv=3333)\n"
     ]
    }
   ],
   "source": [
    "assert tohu_namespace.field_generators[\"ss\"].is_clone_of(tohu_namespace.field_generators[\"rr\"])\n",
    "assert tohu_namespace.field_generators[\"tt\"].arg_gens[0].is_clone_of(tohu_namespace.field_generators[\"rr\"])\n",
    "assert tohu_namespace.field_generators[\"uu\"].arg_gens[0].is_clone_of(tohu_namespace.field_generators[\"tt\"])\n",
    "assert tohu_namespace.field_generators[\"vv\"].parent.arg_gens[0].is_clone_of(tohu_namespace.field_generators[\"tt\"])\n",
    "\n",
    "tohu_namespace.reset(seed=11111)\n",
    "print(next(tohu_namespace))\n",
    "print(next(tohu_namespace))\n",
    "print(next(tohu_namespace))\n",
    "print(next(tohu_namespace))\n",
    "print(next(tohu_namespace))"
   ]
  },
  {
   "cell_type": "markdown",
   "metadata": {},
   "source": [
    "## Extracting loop variables from a tohu namespace into a loop runner"
   ]
  },
  {
   "cell_type": "markdown",
   "metadata": {},
   "source": [
    "The method `extract_loop_runner()` finds all loop variables in the tohu namespace and creates a `LoopRunner` instance containing them. This is used internally by custom generators to orchestrate looping."
   ]
  },
  {
   "cell_type": "code",
   "execution_count": 25,
   "metadata": {},
   "outputs": [],
   "source": [
    "xx = LoopVariableNEW(\"xx\", values=[111, 222]).set_loop_level(2)\n",
    "yy = LoopVariableNEW(\"yy\", values=[\"AAA\", \"BBB\"]).set_loop_level(1)\n",
    "\n",
    "g1 = Integer(100, 200)\n",
    "g2 = HashDigest(length=6)\n",
    "g3 = FakerGenerator(method=\"name\")\n",
    "\n",
    "tohu_namespace = TohuNamespaceNEW2()\n",
    "tohu_namespace.add_non_field_generator(\"xx\", xx, is_externally_managed=True)\n",
    "tohu_namespace.add_non_field_generator(\"yy\", yy, is_externally_managed=True)\n",
    "tohu_namespace.add_field_generator(\"aa\", g1)\n",
    "tohu_namespace.add_field_generator(\"bb\", g2)\n",
    "tohu_namespace.add_field_generator(\"cc\", g3)"
   ]
  },
  {
   "cell_type": "code",
   "execution_count": 26,
   "metadata": {},
   "outputs": [
    {
     "data": {
      "text/plain": [
       "{'xx': <LoopVariable: name='xx', loop_level=2, values=[111, 222], cur_value=111 (tohu_id=529fe7)>,\n",
       " 'yy': <LoopVariable: name='yy', loop_level=1, values=['AAA', 'BBB'], cur_value='AAA' (tohu_id=5d0a1c)>}"
      ]
     },
     "execution_count": 26,
     "metadata": {},
     "output_type": "execute_result"
    }
   ],
   "source": [
    "loop_runner = tohu_namespace.extract_loop_runner()\n",
    "loop_runner.loop_variables"
   ]
  },
  {
   "cell_type": "markdown",
   "metadata": {},
   "source": [
    "Note that the loop variables in the loop runner are the exact same Python objects as the ones present in the tohu namespace. This allows a custom generator to orchestrate looping via the loop runner and ensure that field generators in the tohu namespace which depend on the loop variables produce the correct, up-to-date values."
   ]
  },
  {
   "cell_type": "code",
   "execution_count": 27,
   "metadata": {},
   "outputs": [],
   "source": [
    "assert loop_runner.loop_variables[\"xx\"] is tohu_namespace.all_generators[\"xx\"]\n",
    "assert loop_runner.loop_variables[\"xx\"] is tohu_namespace.all_generators[\"xx\"]"
   ]
  },
  {
   "cell_type": "markdown",
   "metadata": {},
   "source": [
    "**TODO:**\n",
    "\n",
    "- [ ] Add test that field generators are reset when the tohu namespace is reset, but externally managed (non-field?) generators are left alone."
   ]
  }
 ],
 "metadata": {
  "kernelspec": {
   "display_name": "Python 3",
   "language": "python",
   "name": "python3"
  },
  "language_info": {
   "codemirror_mode": {
    "name": "ipython",
    "version": 3
   },
   "file_extension": ".py",
   "mimetype": "text/x-python",
   "name": "python",
   "nbconvert_exporter": "python",
   "pygments_lexer": "ipython3",
   "version": "3.8.1"
  }
 },
 "nbformat": 4,
 "nbformat_minor": 4
}
