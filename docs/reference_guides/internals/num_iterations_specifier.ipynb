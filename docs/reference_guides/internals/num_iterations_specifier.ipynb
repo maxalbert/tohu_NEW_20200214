{
 "cells": [
  {
   "cell_type": "markdown",
   "metadata": {},
   "source": [
    "# NumIterationsSpecifier"
   ]
  },
  {
   "cell_type": "markdown",
   "metadata": {},
   "source": [
    "\n",
    "[TOC]\n"
   ]
  },
  {
   "cell_type": "code",
   "execution_count": 1,
   "metadata": {},
   "outputs": [],
   "source": [
    "from tohu.num_iterations_specifier import make_num_iterations_specifier, NumIterationsSequenceExhausted\n",
    "import pytest"
   ]
  },
  {
   "cell_type": "markdown",
   "metadata": {},
   "source": [
    "## Initialisation with an integer"
   ]
  },
  {
   "cell_type": "code",
   "execution_count": 2,
   "metadata": {},
   "outputs": [
    {
     "name": "stdout",
     "output_type": "stream",
     "text": [
      "42\n",
      "42\n",
      "42\n",
      "42\n"
     ]
    }
   ],
   "source": [
    "s = make_num_iterations_specifier(42)\n",
    "\n",
    "print(s())\n",
    "print(s())\n",
    "print(s())\n",
    "print(s())\n",
    "# etc."
   ]
  },
  {
   "cell_type": "markdown",
   "metadata": {},
   "source": [
    "## Initialisation with a sequence"
   ]
  },
  {
   "cell_type": "code",
   "execution_count": 3,
   "metadata": {},
   "outputs": [
    {
     "name": "stderr",
     "output_type": "stream",
     "text": [
      "2020-04-24 09:34:07 WARNING  num_iterations sequence does not contain enough elements to complete loop: [111, 222, 333]\n"
     ]
    },
    {
     "name": "stdout",
     "output_type": "stream",
     "text": [
      "111\n",
      "222\n",
      "333\n"
     ]
    }
   ],
   "source": [
    "s = make_num_iterations_specifier([111, 222, 333])\n",
    "\n",
    "print(s())\n",
    "print(s())\n",
    "print(s())\n",
    "\n",
    "with pytest.raises(NumIterationsSequenceExhausted, match=\"num_iterations sequence has been exhausted\"):\n",
    "    print(s())"
   ]
  },
  {
   "cell_type": "markdown",
   "metadata": {},
   "source": [
    "## Initialisation with a callable"
   ]
  },
  {
   "cell_type": "markdown",
   "metadata": {},
   "source": [
    "Note that when initialising with a callable, the resulting num_iterations specifier `s` must be called with keyword-arguments only. For example, below we must call `s` using `s(descr=\"many\")` rather than just `s(\"many\")`."
   ]
  },
  {
   "cell_type": "code",
   "execution_count": 9,
   "metadata": {},
   "outputs": [
    {
     "name": "stdout",
     "output_type": "stream",
     "text": [
      "5\n",
      "5\n",
      "200\n",
      "5\n",
      "200\n"
     ]
    }
   ],
   "source": [
    "def f_get_num_iterations(descr):\n",
    "    if descr == \"few\":\n",
    "        return 5\n",
    "    elif descr == \"many\":\n",
    "        return 200\n",
    "    else:\n",
    "        raise ValueError(\"Invalid argument\")\n",
    "\n",
    "s = make_num_iterations_specifier(f_get_num_iterations)\n",
    "\n",
    "print(s(descr=\"few\"))\n",
    "print(s(descr=\"few\"))\n",
    "print(s(descr=\"many\"))\n",
    "print(s(descr=\"few\"))\n",
    "print(s(descr=\"many\"))"
   ]
  }
 ],
 "metadata": {
  "kernelspec": {
   "display_name": "Python 3",
   "language": "python",
   "name": "python3"
  },
  "language_info": {
   "codemirror_mode": {
    "name": "ipython",
    "version": 3
   },
   "file_extension": ".py",
   "mimetype": "text/x-python",
   "name": "python",
   "nbconvert_exporter": "python",
   "pygments_lexer": "ipython3",
   "version": "3.8.1"
  }
 },
 "nbformat": 4,
 "nbformat_minor": 4
}
