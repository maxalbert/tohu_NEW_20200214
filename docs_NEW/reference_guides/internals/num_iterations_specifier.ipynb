{
 "cells": [
  {
   "cell_type": "markdown",
   "metadata": {},
   "source": [
    "# NumIterationsSpecifier"
   ]
  },
  {
   "cell_type": "markdown",
   "metadata": {},
   "source": [
    "\n",
    "[TOC]\n"
   ]
  },
  {
   "cell_type": "code",
   "execution_count": 1,
   "metadata": {},
   "outputs": [],
   "source": [
    "from tohu.num_iterations_specifier import make_num_iterations_specifier, NumIterationsSequenceExhausted\n",
    "import pytest"
   ]
  },
  {
   "cell_type": "markdown",
   "metadata": {},
   "source": [
    "## Initialisation with an integer"
   ]
  },
  {
   "cell_type": "code",
   "execution_count": 2,
   "metadata": {},
   "outputs": [
    {
     "name": "stdout",
     "output_type": "stream",
     "text": [
      "42\n",
      "42\n",
      "42\n",
      "42\n"
     ]
    }
   ],
   "source": [
    "s = make_num_iterations_specifier(42)\n",
    "\n",
    "print(s())\n",
    "print(s())\n",
    "print(s())\n",
    "print(s())\n",
    "# etc."
   ]
  },
  {
   "cell_type": "markdown",
   "metadata": {},
   "source": [
    "## Initialisation with a sequence"
   ]
  },
  {
   "cell_type": "code",
   "execution_count": 3,
   "metadata": {},
   "outputs": [
    {
     "name": "stderr",
     "output_type": "stream",
     "text": [
      "2020-08-02 23:39:36 WARNING  num_iterations sequence does not contain enough elements to complete loop: [111, 222, 333]\n"
     ]
    },
    {
     "name": "stdout",
     "output_type": "stream",
     "text": [
      "111\n",
      "222\n",
      "333\n"
     ]
    }
   ],
   "source": [
    "s = make_num_iterations_specifier([111, 222, 333])\n",
    "\n",
    "print(s())\n",
    "print(s())\n",
    "print(s())\n",
    "\n",
    "with pytest.raises(NumIterationsSequenceExhausted, match=\"num_iterations sequence has been exhausted\"):\n",
    "    print(s())"
   ]
  },
  {
   "cell_type": "markdown",
   "metadata": {},
   "source": [
    "## Initialisation with a callable"
   ]
  },
  {
   "cell_type": "markdown",
   "metadata": {},
   "source": [
    "Note that when initialising with a callable, the resulting num_iterations specifier `s` must be called with keyword-arguments only. For example, below we must call `s` using `s(descr=\"many\")` rather than just `s(\"many\")`."
   ]
  },
  {
   "cell_type": "code",
   "execution_count": 4,
   "metadata": {},
   "outputs": [
    {
     "name": "stdout",
     "output_type": "stream",
     "text": [
      "5\n",
      "5\n",
      "200\n",
      "5\n",
      "200\n"
     ]
    }
   ],
   "source": [
    "def f_get_num_iterations(descr):\n",
    "    if descr == \"few\":\n",
    "        return 5\n",
    "    elif descr == \"many\":\n",
    "        return 200\n",
    "    else:\n",
    "        raise ValueError(\"Invalid argument\")\n",
    "\n",
    "s = make_num_iterations_specifier(f_get_num_iterations)\n",
    "\n",
    "print(s(descr=\"few\"))\n",
    "print(s(descr=\"few\"))\n",
    "print(s(descr=\"many\"))\n",
    "print(s(descr=\"few\"))\n",
    "print(s(descr=\"many\"))"
   ]
  },
  {
   "cell_type": "markdown",
   "metadata": {},
   "source": [
    "## Error on invalid initialisation"
   ]
  },
  {
   "cell_type": "markdown",
   "metadata": {},
   "source": [
    "A `TypeError` is raised if the input is not one of the valid inputs demonstrated above."
   ]
  },
  {
   "cell_type": "code",
   "execution_count": 5,
   "metadata": {},
   "outputs": [],
   "source": [
    "expected_error_msg = \"Invalid type for argument `num_iterations`. Must be one of: integer, sequence, callable\""
   ]
  },
  {
   "cell_type": "code",
   "execution_count": 6,
   "metadata": {},
   "outputs": [],
   "source": [
    "with pytest.raises(TypeError, match=expected_error_msg):\n",
    "    invalid_input = True\n",
    "    make_num_iterations_specifier(invalid_input)"
   ]
  },
  {
   "cell_type": "code",
   "execution_count": 7,
   "metadata": {},
   "outputs": [],
   "source": [
    "with pytest.raises(TypeError, match=expected_error_msg):\n",
    "    invalid_input = \"this_is_invalid_input\"\n",
    "    make_num_iterations_specifier(invalid_input)"
   ]
  }
 ],
 "metadata": {
  "kernelspec": {
   "display_name": "Python 3",
   "language": "python",
   "name": "python3"
  },
  "language_info": {
   "codemirror_mode": {
    "name": "ipython",
    "version": 3
   },
   "file_extension": ".py",
   "mimetype": "text/x-python",
   "name": "python",
   "nbconvert_exporter": "python",
   "pygments_lexer": "ipython3",
   "version": "3.8.1"
  }
 },
 "nbformat": 4,
 "nbformat_minor": 4
}
