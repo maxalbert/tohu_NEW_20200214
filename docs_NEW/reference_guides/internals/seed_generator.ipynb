{
 "cells": [
  {
   "cell_type": "markdown",
   "metadata": {},
   "source": [
    "# SeedGenerator"
   ]
  },
  {
   "cell_type": "markdown",
   "metadata": {},
   "source": [
    "The `SeedGenerator` is is used internally by `tohu` to produce seeds with which to reset other generators (for example, the constituent generators in a custom generator instance).\n",
    "\n",
    "It produces integers in the range from 0 to 2^32-1, as illustrated below."
   ]
  },
  {
   "cell_type": "code",
   "execution_count": 1,
   "metadata": {},
   "outputs": [],
   "source": [
    "from tohu.seed_generator import SeedGenerator"
   ]
  },
  {
   "cell_type": "code",
   "execution_count": 2,
   "metadata": {},
   "outputs": [],
   "source": [
    "seed_generator = SeedGenerator()"
   ]
  },
  {
   "cell_type": "code",
   "execution_count": 3,
   "metadata": {},
   "outputs": [
    {
     "name": "stdout",
     "output_type": "stream",
     "text": [
      "831769172\n",
      "2430986565\n",
      "694443915\n",
      "1859447115\n",
      "2376066489\n",
      "2164385946\n",
      "636282949\n",
      "3087940365\n",
      "1466990855\n",
      "101022850\n"
     ]
    }
   ],
   "source": [
    "seed_generator.reset(12345)\n",
    "for _ in range(10):\n",
    "    print(next(seed_generator))"
   ]
  },
  {
   "cell_type": "markdown",
   "metadata": {},
   "source": [
    "It is possible to transfer the internal state from one seed generator to another in order to ensure that they generate the same elements."
   ]
  },
  {
   "cell_type": "code",
   "execution_count": 4,
   "metadata": {},
   "outputs": [],
   "source": [
    "seed_generator_2 = SeedGenerator()"
   ]
  },
  {
   "cell_type": "code",
   "execution_count": 5,
   "metadata": {},
   "outputs": [
    {
     "name": "stdout",
     "output_type": "stream",
     "text": [
      "Before transferring the internal state:\n",
      "\n",
      "1458217729 != 3175800507\n",
      "3197732170 != 1525486540\n",
      "14837456 != 870060453\n",
      "3739915678 != 3535602232\n",
      "768256981 != 2480697149\n",
      "\n",
      "After transferring the internal state:\n",
      "\n",
      "1780403418 == 1780403418\n",
      "2482860596 == 2482860596\n",
      "3163596524 == 3163596524\n",
      "3542634833 == 3542634833\n",
      "3466573480 == 3466573480\n"
     ]
    }
   ],
   "source": [
    "seed_generator_2.reset(99999)\n",
    "\n",
    "print(\"Before transferring the internal state:\\n\")\n",
    "for _ in range(5):\n",
    "    val1 = next(seed_generator)\n",
    "    val2 = next(seed_generator_2)\n",
    "    print(f\"{val1} != {val2}\")\n",
    "    assert val1 != val2\n",
    "\n",
    "# Transfer the internal state from `seed_generator` to `seed_generator_2`\n",
    "seed_generator_2._set_state_from(seed_generator)\n",
    "\n",
    "print()\n",
    "print(\"After transferring the internal state:\\n\")\n",
    "for _ in range(5):\n",
    "    val1 = next(seed_generator)\n",
    "    val2 = next(seed_generator_2)\n",
    "    print(f\"{val1} == {val2}\")\n",
    "    assert val1 == val2"
   ]
  }
 ],
 "metadata": {
  "kernelspec": {
   "display_name": "Python 3",
   "language": "python",
   "name": "python3"
  },
  "language_info": {
   "codemirror_mode": {
    "name": "ipython",
    "version": 3
   },
   "file_extension": ".py",
   "mimetype": "text/x-python",
   "name": "python",
   "nbconvert_exporter": "python",
   "pygments_lexer": "ipython3",
   "version": "3.8.1"
  }
 },
 "nbformat": 4,
 "nbformat_minor": 4
}
