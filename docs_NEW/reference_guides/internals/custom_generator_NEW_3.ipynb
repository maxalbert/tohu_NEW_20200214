{
 "cells": [
  {
   "cell_type": "code",
   "execution_count": 1,
   "metadata": {},
   "outputs": [],
   "source": [
    "from tohu import Integer, HashDigest, FakerGenerator\n",
    "from tohu.custom_generator_NEW_3 import CustomGeneratorNEW3\n",
    "from tohu.utils import print_generated_sequence"
   ]
  },
  {
   "cell_type": "markdown",
   "metadata": {},
   "source": [
    "## Custom generator without `__init__` method"
   ]
  },
  {
   "cell_type": "markdown",
   "metadata": {},
   "source": [
    "The simplest way to use `CustomGeneratorNEW3` is with only class attributes (without `__init__` method)."
   ]
  },
  {
   "cell_type": "code",
   "execution_count": 2,
   "metadata": {},
   "outputs": [],
   "source": [
    "class QuuxGenerator(CustomGeneratorNEW3):\n",
    "    aa = Integer(100, 200)\n",
    "    bb = HashDigest(length=6)\n",
    "    cc = FakerGenerator(method=\"name\")"
   ]
  },
  {
   "cell_type": "code",
   "execution_count": 3,
   "metadata": {},
   "outputs": [],
   "source": [
    "g = QuuxGenerator()"
   ]
  },
  {
   "cell_type": "code",
   "execution_count": 4,
   "metadata": {},
   "outputs": [
    {
     "name": "stdout",
     "output_type": "stream",
     "text": [
      "Generated sequence:\n",
      "\n",
      "Quux(aa=163, bb='7551AA', cc='Michelle Miller')\n",
      "Quux(aa=171, bb='54596E', cc='Eddie Davis')\n",
      "Quux(aa=142, bb='2A16D0', cc='Kathleen Lucas')\n",
      "Quux(aa=140, bb='FDCDD3', cc='Jason Rodriguez')\n",
      "Quux(aa=121, bb='BDE283', cc='Andrew Pitts')\n"
     ]
    }
   ],
   "source": [
    "print_generated_sequence(g, num=5, seed=11111, sep=\"\\n\")"
   ]
  },
  {
   "cell_type": "markdown",
   "metadata": {},
   "source": [
    "Note that while the _instance_ `g` contains attributes with the same names `\"aa\"` and `\"bb\"` as the parent class `QuuxGenerator`, internally the instance attributes are actually spawned versions of the class attributes (in particular, they are not identical):"
   ]
  },
  {
   "cell_type": "code",
   "execution_count": 5,
   "metadata": {},
   "outputs": [
    {
     "name": "stdout",
     "output_type": "stream",
     "text": [
      "<Integer (id=0f20cf)>\n",
      "<Integer (id=9f1efa)>\n",
      "<HashDigest (id=8a6d63)>\n",
      "<HashDigest (id=322f6b)>\n",
      "<FakerGenerator (id=d91cee)>\n",
      "<FakerGenerator (id=d6a9d9)>\n"
     ]
    }
   ],
   "source": [
    "print(QuuxGenerator.aa)\n",
    "print(g.aa)\n",
    "assert QuuxGenerator.aa is not g.aa\n",
    "\n",
    "print(QuuxGenerator.bb)\n",
    "print(g.bb)\n",
    "assert QuuxGenerator.bb is not g.bb\n",
    "\n",
    "print(QuuxGenerator.cc)\n",
    "print(g.cc)\n",
    "assert QuuxGenerator.cc is not g.cc"
   ]
  },
  {
   "cell_type": "markdown",
   "metadata": {},
   "source": [
    "## Custom generator with `__init__` method"
   ]
  },
  {
   "cell_type": "markdown",
   "metadata": {},
   "source": [
    "Tohu generators that are defined as instance attributes within the `__init__` method are also picked up."
   ]
  },
  {
   "cell_type": "code",
   "execution_count": 6,
   "metadata": {},
   "outputs": [],
   "source": [
    "class QuuxGenerator(CustomGeneratorNEW3):\n",
    "    aa = Integer(100, 200)\n",
    "    bb = HashDigest(length=6)\n",
    "    \n",
    "    def __init__(self, method):\n",
    "        self.cc = FakerGenerator(method=method)"
   ]
  },
  {
   "cell_type": "code",
   "execution_count": 7,
   "metadata": {},
   "outputs": [],
   "source": [
    "g = QuuxGenerator(method=\"first_name\")"
   ]
  },
  {
   "cell_type": "code",
   "execution_count": 8,
   "metadata": {},
   "outputs": [
    {
     "name": "stdout",
     "output_type": "stream",
     "text": [
      "Generated sequence:\n",
      "\n",
      "Quux(aa=163, bb='7551AA', cc='Mary')\n",
      "Quux(aa=171, bb='54596E', cc='Jennifer')\n",
      "Quux(aa=142, bb='2A16D0', cc='Christopher')\n",
      "Quux(aa=140, bb='FDCDD3', cc='Joseph')\n",
      "Quux(aa=121, bb='BDE283', cc='Kelly')\n"
     ]
    }
   ],
   "source": [
    "print_generated_sequence(g, num=5, seed=11111, sep=\"\\n\")"
   ]
  },
  {
   "cell_type": "markdown",
   "metadata": {},
   "source": [
    "## Naming requirements"
   ]
  },
  {
   "cell_type": "markdown",
   "metadata": {},
   "source": [
    "The name of the custom generator class being defined must end with `[...]Generator` (so that tohu can automatically devise the name of tohu items produced by the generator). If this is not the case an error is raised when the class is instantiated."
   ]
  },
  {
   "cell_type": "code",
   "execution_count": 9,
   "metadata": {},
   "outputs": [],
   "source": [
    "class QuuxGen(CustomGeneratorNEW3):\n",
    "    aa = Integer(100, 200)"
   ]
  },
  {
   "cell_type": "code",
   "execution_count": 10,
   "metadata": {},
   "outputs": [],
   "source": [
    "import pytest\n",
    "\n",
    "with pytest.raises(ValueError, match=\"Name of custom generator class must end with '\\[...\\]Generator', got: 'QuuxGen'\"):\n",
    "    _ = QuuxGen()"
   ]
  },
  {
   "cell_type": "markdown",
   "metadata": {},
   "source": [
    "## Custom generators with loop variables as external dependencies"
   ]
  },
  {
   "cell_type": "markdown",
   "metadata": {},
   "source": [
    "Custom generator provides a classmethod to register loop variables with the class. Once an instance of the custom generator class is instantiated, the method `extract_loop_runner()` returns a loop runner containing spawns of the previously registered loop variables. This is used internally to implement looped custom generators."
   ]
  },
  {
   "cell_type": "code",
   "execution_count": 11,
   "metadata": {},
   "outputs": [],
   "source": [
    "from tohu.loop_variable_NEW_3 import LoopVariableNEW3\n",
    "from tohu.derived_generators import Apply"
   ]
  },
  {
   "cell_type": "code",
   "execution_count": 12,
   "metadata": {},
   "outputs": [],
   "source": [
    "xx = LoopVariableNEW3(\"xx\", values=[111, 222, 333]).set_loop_level(42)\n",
    "xx_spawned_1 = xx.spawn()\n",
    "xx_spawned_2 = xx.spawn()"
   ]
  },
  {
   "cell_type": "code",
   "execution_count": 13,
   "metadata": {},
   "outputs": [],
   "source": [
    "class QuuxGenerator(CustomGeneratorNEW3):\n",
    "    aa = Integer(100, 200)\n",
    "    bb = Apply(lambda a: a*a, xx)\n",
    "\n",
    "QuuxGenerator.set_dependency_mapping_for_next_instance_creation({xx: xx_spawned_1})"
   ]
  },
  {
   "cell_type": "code",
   "execution_count": 14,
   "metadata": {},
   "outputs": [],
   "source": [
    "#QuuxGenerator._tohu_cg_class_loop_variables"
   ]
  },
  {
   "cell_type": "code",
   "execution_count": 15,
   "metadata": {},
   "outputs": [],
   "source": [
    "g1 = QuuxGenerator()"
   ]
  },
  {
   "cell_type": "code",
   "execution_count": 16,
   "metadata": {},
   "outputs": [],
   "source": [
    "#loop_runner = g.extract_loop_runner()"
   ]
  },
  {
   "cell_type": "code",
   "execution_count": 17,
   "metadata": {},
   "outputs": [],
   "source": [
    "#loop_runner.loop_variables"
   ]
  },
  {
   "cell_type": "code",
   "execution_count": 18,
   "metadata": {},
   "outputs": [
    {
     "name": "stdout",
     "output_type": "stream",
     "text": [
      "Generated sequence:\n",
      "\n",
      "Quux(aa=163, bb=12321)\n",
      "Quux(aa=171, bb=12321)\n",
      "Quux(aa=142, bb=12321)\n",
      "Quux(aa=140, bb=12321)\n",
      "Quux(aa=121, bb=12321)\n",
      "\n",
      "---\n",
      "\n",
      "Generated sequence:\n",
      "\n",
      "Quux(aa=163, bb=49284)\n",
      "Quux(aa=171, bb=49284)\n",
      "Quux(aa=142, bb=49284)\n",
      "Quux(aa=140, bb=49284)\n",
      "Quux(aa=121, bb=49284)\n"
     ]
    }
   ],
   "source": [
    "xx_spawned_1.rewind_loop_variable()\n",
    "print_generated_sequence(g1, num=5, sep=\"\\n\", seed=11111)\n",
    "\n",
    "print(\"\\n---\\n\")\n",
    "\n",
    "xx_spawned_1.advance()\n",
    "print_generated_sequence(g1, num=5, sep=\"\\n\", seed=11111)"
   ]
  },
  {
   "cell_type": "code",
   "execution_count": 19,
   "metadata": {},
   "outputs": [
    {
     "name": "stdout",
     "output_type": "stream",
     "text": [
      "Generated sequence:\n",
      "\n",
      "Quux(aa=108, bb=12321)\n",
      "Quux(aa=166, bb=12321)\n",
      "Quux(aa=164, bb=12321)\n",
      "Quux(aa=163, bb=12321)\n",
      "Quux(aa=156, bb=12321)\n",
      "\n",
      "---\n",
      "\n",
      "Generated sequence:\n",
      "\n",
      "Quux(aa=145, bb=49284)\n",
      "Quux(aa=170, bb=49284)\n",
      "Quux(aa=114, bb=49284)\n",
      "Quux(aa=170, bb=49284)\n",
      "Quux(aa=167, bb=49284)\n",
      "\n",
      "---\n",
      "\n",
      "Generated sequence:\n",
      "\n",
      "Quux(aa=163, bb=12321)\n",
      "Quux(aa=171, bb=12321)\n",
      "Quux(aa=142, bb=12321)\n",
      "Quux(aa=140, bb=12321)\n",
      "Quux(aa=121, bb=12321)\n",
      "\n",
      "---\n",
      "\n",
      "Generated sequence:\n",
      "\n",
      "Quux(aa=153, bb=110889)\n",
      "Quux(aa=172, bb=110889)\n",
      "Quux(aa=136, bb=110889)\n",
      "Quux(aa=194, bb=110889)\n",
      "Quux(aa=153, bb=110889)\n"
     ]
    }
   ],
   "source": [
    "QuuxGenerator.set_dependency_mapping_for_next_instance_creation({xx: xx_spawned_2})\n",
    "g2 = QuuxGenerator()\n",
    "\n",
    "xx_spawned_2.rewind_loop_variable()\n",
    "print_generated_sequence(g2, num=5, sep=\"\\n\", seed=22222)\n",
    "print(\"\\n---\\n\")\n",
    "\n",
    "xx_spawned_2.advance()\n",
    "print_generated_sequence(g2, num=5, sep=\"\\n\")\n",
    "print(\"\\n---\\n\")\n",
    "\n",
    "xx_spawned_1.rewind_loop_variable()\n",
    "print_generated_sequence(g1, num=5, sep=\"\\n\", seed=11111)\n",
    "print(\"\\n---\\n\")\n",
    "\n",
    "xx_spawned_2.advance()\n",
    "print_generated_sequence(g2, num=5, sep=\"\\n\")"
   ]
  }
 ],
 "metadata": {
  "kernelspec": {
   "display_name": "Python 3",
   "language": "python",
   "name": "python3"
  },
  "language_info": {
   "codemirror_mode": {
    "name": "ipython",
    "version": 3
   },
   "file_extension": ".py",
   "mimetype": "text/x-python",
   "name": "python",
   "nbconvert_exporter": "python",
   "pygments_lexer": "ipython3",
   "version": "3.8.1"
  }
 },
 "nbformat": 4,
 "nbformat_minor": 4
}
