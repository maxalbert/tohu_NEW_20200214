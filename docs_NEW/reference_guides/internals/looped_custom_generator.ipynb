{
 "cells": [
  {
   "cell_type": "markdown",
   "metadata": {},
   "source": [
    "## Looped custom generator"
   ]
  },
  {
   "cell_type": "code",
   "execution_count": 1,
   "metadata": {},
   "outputs": [],
   "source": [
    "from tohu import Integer, HashDigest, CustomGeneratorNEW3\n",
    "from tohu.foreach_NEW_3 import foreach_NEW3\n",
    "from tohu.utils import print_generated_sequence"
   ]
  },
  {
   "cell_type": "code",
   "execution_count": 2,
   "metadata": {},
   "outputs": [],
   "source": [
    "@foreach_NEW3(xx=[\"AAA\", \"BBB\"])\n",
    "@foreach_NEW3(yy=[111, 222, 333])\n",
    "class QuuxGenerator(CustomGeneratorNEW3):\n",
    "    aa = xx\n",
    "    bb = yy\n",
    "    cc = Integer(100, 200)\n",
    "    dd = HashDigest(length=6)"
   ]
  },
  {
   "cell_type": "markdown",
   "metadata": {},
   "source": [
    "Internally, the `QuuxGenerator` class has been augmented by the `@foreach_NEW` decorators with information about the loop level (here: 2, since we have two nested decorators) and the loop variables present."
   ]
  },
  {
   "cell_type": "code",
   "execution_count": 3,
   "metadata": {},
   "outputs": [
    {
     "data": {
      "text/plain": [
       "<LoopedCustomGeneratorClass: loop_vars=[<LoopVariable: name='yy', loop_level=1, values=[111, 222, 333], cur_value=111 (tohu_id=490b58)>, <LoopVariable: name='xx', loop_level=2, values=['AAA', 'BBB'], cur_value='AAA' (tohu_id=4a2cdd)>], cur_level=2>"
      ]
     },
     "execution_count": 3,
     "metadata": {},
     "output_type": "execute_result"
    }
   ],
   "source": [
    "QuuxGenerator"
   ]
  },
  {
   "cell_type": "code",
   "execution_count": 4,
   "metadata": {},
   "outputs": [
    {
     "data": {
      "text/plain": [
       "2"
      ]
     },
     "execution_count": 4,
     "metadata": {},
     "output_type": "execute_result"
    }
   ],
   "source": [
    "QuuxGenerator.cur_level"
   ]
  },
  {
   "cell_type": "markdown",
   "metadata": {},
   "source": [
    "Loop variables:"
   ]
  },
  {
   "cell_type": "code",
   "execution_count": 5,
   "metadata": {},
   "outputs": [
    {
     "data": {
      "text/plain": [
       "[<LoopVariable: name='yy', loop_level=1, values=[111, 222, 333], cur_value=111 (tohu_id=490b58)>,\n",
       " <LoopVariable: name='xx', loop_level=2, values=['AAA', 'BBB'], cur_value='AAA' (tohu_id=4a2cdd)>]"
      ]
     },
     "execution_count": 5,
     "metadata": {},
     "output_type": "execute_result"
    }
   ],
   "source": [
    "QuuxGenerator.loop_runner.loop_variables"
   ]
  },
  {
   "cell_type": "code",
   "execution_count": 6,
   "metadata": {},
   "outputs": [],
   "source": [
    "g = QuuxGenerator()"
   ]
  },
  {
   "cell_type": "code",
   "execution_count": 7,
   "metadata": {},
   "outputs": [
    {
     "data": {
      "text/plain": [
       "{'yy': <LoopVariable: name='yy', loop_level=1, values=[111, 222, 333], cur_value=111 (tohu_id=838938)>,\n",
       " 'xx': <LoopVariable: name='xx', loop_level=2, values=['AAA', 'BBB'], cur_value='AAA' (tohu_id=3470c7)>}"
      ]
     },
     "execution_count": 7,
     "metadata": {},
     "output_type": "execute_result"
    }
   ],
   "source": [
    "g.loop_runner.loop_variables_by_name"
   ]
  },
  {
   "cell_type": "code",
   "execution_count": 8,
   "metadata": {},
   "outputs": [
    {
     "name": "stdout",
     "output_type": "stream",
     "text": [
      "Generated sequence:\n",
      "\n",
      "Quux(aa='AAA', bb=111, cc=146, dd='9CD736')\n",
      "Quux(aa='AAA', bb=111, cc=192, dd='3A7BFE')\n",
      "Quux(aa='AAA', bb=111, cc=123, dd='89AA37')\n",
      "Quux(aa='AAA', bb=111, cc=110, dd='8B408D')\n",
      "Quux(aa='AAA', bb=111, cc=134, dd='BB048F')\n",
      "Generated sequence:\n",
      "\n",
      "Quux(aa='BBB', bb=111, cc=146, dd='9CD736')\n",
      "Quux(aa='BBB', bb=111, cc=192, dd='3A7BFE')\n",
      "Quux(aa='BBB', bb=111, cc=123, dd='89AA37')\n",
      "Quux(aa='BBB', bb=111, cc=110, dd='8B408D')\n",
      "Quux(aa='BBB', bb=111, cc=134, dd='BB048F')\n"
     ]
    }
   ],
   "source": [
    "g.loop_runner.loop_variables_by_name[\"xx\"].rewind_loop_variable()\n",
    "print_generated_sequence(g.custom_gen_instance, num=5, seed=11111, sep=\"\\n\")\n",
    "g.loop_runner.loop_variables_by_name[\"xx\"].advance()\n",
    "print_generated_sequence(g.custom_gen_instance, num=5, seed=11111, sep=\"\\n\")"
   ]
  },
  {
   "cell_type": "code",
   "execution_count": 9,
   "metadata": {},
   "outputs": [],
   "source": [
    "#g._loop_runner.loop_variables[\"xx\"].advance()"
   ]
  },
  {
   "cell_type": "markdown",
   "metadata": {},
   "source": [
    "Both the parent class `QuuxGenerator` and its instance `g` contain loop runners containing loop variables `xx` and `yy`."
   ]
  },
  {
   "cell_type": "code",
   "execution_count": 10,
   "metadata": {},
   "outputs": [],
   "source": [
    "#QuuxGenerator.custom_gen_cls._tohu_cg_class_loop_variables"
   ]
  },
  {
   "cell_type": "code",
   "execution_count": 11,
   "metadata": {},
   "outputs": [],
   "source": [
    "#g.custom_gen_instance._loop_runner.loop_variables"
   ]
  },
  {
   "cell_type": "code",
   "execution_count": 12,
   "metadata": {},
   "outputs": [],
   "source": [
    "# assert g.loop_runner.loop_variables_by_name[\"xx\"].is_clone_of(QuuxGenerator.loop_runner.loop_variables_by_name[\"xx\"])\n",
    "# assert g.loop_runner.loop_variables_by_name[\"yy\"].is_clone_of(QuuxGenerator.loop_runner.loop_variables_by_name[\"yy\"])"
   ]
  },
  {
   "cell_type": "code",
   "execution_count": 13,
   "metadata": {},
   "outputs": [
    {
     "name": "stderr",
     "output_type": "stream",
     "text": [
      "2020-08-15 11:53:21 WARNING  TODO: ensure that all loop variables have been assigned values (and perform any other sanity checks)!\n"
     ]
    },
    {
     "data": {
      "text/html": [
       "<div>\n",
       "<style scoped>\n",
       "    .dataframe tbody tr th:only-of-type {\n",
       "        vertical-align: middle;\n",
       "    }\n",
       "\n",
       "    .dataframe tbody tr th {\n",
       "        vertical-align: top;\n",
       "    }\n",
       "\n",
       "    .dataframe thead th {\n",
       "        text-align: right;\n",
       "    }\n",
       "</style>\n",
       "<table border=\"1\" class=\"dataframe\">\n",
       "  <thead>\n",
       "    <tr style=\"text-align: right;\">\n",
       "      <th></th>\n",
       "      <th>aa</th>\n",
       "      <th>bb</th>\n",
       "      <th>cc</th>\n",
       "      <th>dd</th>\n",
       "    </tr>\n",
       "  </thead>\n",
       "  <tbody>\n",
       "    <tr>\n",
       "      <th>0</th>\n",
       "      <td>AAA</td>\n",
       "      <td>111</td>\n",
       "      <td>127</td>\n",
       "      <td>A1557E</td>\n",
       "    </tr>\n",
       "    <tr>\n",
       "      <th>1</th>\n",
       "      <td>AAA</td>\n",
       "      <td>111</td>\n",
       "      <td>106</td>\n",
       "      <td>DFD26B</td>\n",
       "    </tr>\n",
       "    <tr>\n",
       "      <th>2</th>\n",
       "      <td>AAA</td>\n",
       "      <td>222</td>\n",
       "      <td>160</td>\n",
       "      <td>A1C21A</td>\n",
       "    </tr>\n",
       "    <tr>\n",
       "      <th>3</th>\n",
       "      <td>AAA</td>\n",
       "      <td>222</td>\n",
       "      <td>188</td>\n",
       "      <td>79B19F</td>\n",
       "    </tr>\n",
       "    <tr>\n",
       "      <th>4</th>\n",
       "      <td>AAA</td>\n",
       "      <td>333</td>\n",
       "      <td>185</td>\n",
       "      <td>39D173</td>\n",
       "    </tr>\n",
       "    <tr>\n",
       "      <th>5</th>\n",
       "      <td>AAA</td>\n",
       "      <td>333</td>\n",
       "      <td>164</td>\n",
       "      <td>05D806</td>\n",
       "    </tr>\n",
       "    <tr>\n",
       "      <th>6</th>\n",
       "      <td>BBB</td>\n",
       "      <td>111</td>\n",
       "      <td>140</td>\n",
       "      <td>2D575C</td>\n",
       "    </tr>\n",
       "    <tr>\n",
       "      <th>7</th>\n",
       "      <td>BBB</td>\n",
       "      <td>111</td>\n",
       "      <td>157</td>\n",
       "      <td>B59FBD</td>\n",
       "    </tr>\n",
       "    <tr>\n",
       "      <th>8</th>\n",
       "      <td>BBB</td>\n",
       "      <td>222</td>\n",
       "      <td>118</td>\n",
       "      <td>E57966</td>\n",
       "    </tr>\n",
       "    <tr>\n",
       "      <th>9</th>\n",
       "      <td>BBB</td>\n",
       "      <td>222</td>\n",
       "      <td>138</td>\n",
       "      <td>73F697</td>\n",
       "    </tr>\n",
       "    <tr>\n",
       "      <th>10</th>\n",
       "      <td>BBB</td>\n",
       "      <td>333</td>\n",
       "      <td>184</td>\n",
       "      <td>F274A8</td>\n",
       "    </tr>\n",
       "    <tr>\n",
       "      <th>11</th>\n",
       "      <td>BBB</td>\n",
       "      <td>333</td>\n",
       "      <td>195</td>\n",
       "      <td>699894</td>\n",
       "    </tr>\n",
       "  </tbody>\n",
       "</table>\n",
       "</div>"
      ],
      "text/plain": [
       "     aa   bb   cc      dd\n",
       "0   AAA  111  127  A1557E\n",
       "1   AAA  111  106  DFD26B\n",
       "2   AAA  222  160  A1C21A\n",
       "3   AAA  222  188  79B19F\n",
       "4   AAA  333  185  39D173\n",
       "5   AAA  333  164  05D806\n",
       "6   BBB  111  140  2D575C\n",
       "7   BBB  111  157  B59FBD\n",
       "8   BBB  222  118  E57966\n",
       "9   BBB  222  138  73F697\n",
       "10  BBB  333  184  F274A8\n",
       "11  BBB  333  195  699894"
      ]
     },
     "execution_count": 13,
     "metadata": {},
     "output_type": "execute_result"
    }
   ],
   "source": [
    "looped_item_list = g.generate(num_items_per_loop_cycle=2, seed=11111)\n",
    "looped_item_list.to_df()"
   ]
  },
  {
   "cell_type": "code",
   "execution_count": 14,
   "metadata": {},
   "outputs": [
    {
     "name": "stderr",
     "output_type": "stream",
     "text": [
      "2020-08-15 11:53:25 WARNING  TODO: ensure that all loop variables have been assigned values (and perform any other sanity checks)!\n"
     ]
    },
    {
     "name": "stdout",
     "output_type": "stream",
     "text": [
      "aa,bb,cc,dd\n",
      "AAA,111,127,A1557E\n",
      "AAA,111,106,DFD26B\n",
      "AAA,222,160,A1C21A\n",
      "AAA,222,188,79B19F\n",
      "AAA,333,185,39D173\n",
      "AAA,333,164,05D806\n",
      "BBB,111,140,2D575C\n",
      "BBB,111,157,B59FBD\n",
      "BBB,222,118,E57966\n",
      "BBB,222,138,73F697\n",
      "BBB,333,184,F274A8\n",
      "BBB,333,195,699894\n",
      "\n"
     ]
    }
   ],
   "source": [
    "print(looped_item_list.to_csv())"
   ]
  }
 ],
 "metadata": {
  "kernelspec": {
   "display_name": "Python 3",
   "language": "python",
   "name": "python3"
  },
  "language_info": {
   "codemirror_mode": {
    "name": "ipython",
    "version": 3
   },
   "file_extension": ".py",
   "mimetype": "text/x-python",
   "name": "python",
   "nbconvert_exporter": "python",
   "pygments_lexer": "ipython3",
   "version": "3.8.1"
  }
 },
 "nbformat": 4,
 "nbformat_minor": 4
}
