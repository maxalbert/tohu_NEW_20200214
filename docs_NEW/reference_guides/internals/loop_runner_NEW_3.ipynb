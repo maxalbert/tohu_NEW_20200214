{
 "cells": [
  {
   "cell_type": "markdown",
   "metadata": {},
   "source": [
    "# `LoopRunnerNEW3`"
   ]
  },
  {
   "cell_type": "markdown",
   "metadata": {},
   "source": [
    "\n",
    "[TOC]\n"
   ]
  },
  {
   "cell_type": "markdown",
   "metadata": {},
   "source": [
    "The `LoopRunnerNEW` class is used internally to implement looping via the `@foreach` decorator."
   ]
  },
  {
   "cell_type": "code",
   "execution_count": 1,
   "metadata": {},
   "outputs": [],
   "source": [
    "import pytest\n",
    "from tohu.loop_variable_NEW_3 import LoopVariableNEW3\n",
    "from tohu.loop_runner_NEW_3 import LoopRunnerNEW3"
   ]
  },
  {
   "cell_type": "markdown",
   "metadata": {},
   "source": [
    "## Initialising a `LoopRunner` instance"
   ]
  },
  {
   "cell_type": "markdown",
   "metadata": {},
   "source": [
    "First we define a few loop variables which we use to initialise a `LoopRunner` instance. Normally, these loop variables are created automatically as part of a `@foreach` declaration, but here we define them manually for illustration purposes."
   ]
  },
  {
   "cell_type": "code",
   "execution_count": 2,
   "metadata": {},
   "outputs": [],
   "source": [
    "xx = LoopVariableNEW3(name=\"xx\", values=[111, 222, 333])\n",
    "yy = LoopVariableNEW3(name=\"yy\", values=[\"foo\", \"bar\", \"baz\"])\n",
    "zz = LoopVariableNEW3(name=\"zz\", values=[\"AAA\", \"BBB\"])\n",
    "vv = LoopVariableNEW3(name=\"vv\", values=[\"lala\" ,\"lolo\"])\n",
    "ww = LoopVariableNEW3(name=\"ww\", values=[\"haha\" ,\"hoho\"])"
   ]
  },
  {
   "cell_type": "markdown",
   "metadata": {},
   "source": [
    "Equivalently, we could also create an empty `LoopRunner` instance and add the loop variables one by one."
   ]
  },
  {
   "cell_type": "code",
   "execution_count": 3,
   "metadata": {},
   "outputs": [],
   "source": [
    "loop_vars = {\"xx\": xx, \"yy\": yy, \"zz\": zz, \"vv\": vv, \"ww\": ww}"
   ]
  },
  {
   "cell_type": "code",
   "execution_count": 4,
   "metadata": {},
   "outputs": [],
   "source": [
    "loop_runner = LoopRunnerNEW3()\n",
    "# loop_runner.add_loop_variable(xx, level=1)\n",
    "# loop_runner.add_loop_variable(yy, level=1)\n",
    "# loop_runner.add_loop_variable(zz, level=2)\n",
    "# loop_runner.add_loop_variable(vv, level=3)\n",
    "# loop_runner.add_loop_variable(ww, level=3)\n",
    "\n",
    "loop_runner.add_loop_variables_at_level({\"xx\": xx, \"yy\": yy}, level=1)\n",
    "loop_runner.add_loop_variables_at_level({\"zz\": zz}, level=2)\n",
    "loop_runner.add_loop_variables_at_level({\"vv\": vv, \"ww\": ww}, level=3)"
   ]
  },
  {
   "cell_type": "markdown",
   "metadata": {},
   "source": [
    "The loop variables in the loop runner can be accessed via the `loop_variables` attribute."
   ]
  },
  {
   "cell_type": "code",
   "execution_count": 5,
   "metadata": {},
   "outputs": [
    {
     "data": {
      "text/plain": [
       "[<LoopVariable: name='xx', loop_level=1, values=[111, 222, 333], cur_value=111 (tohu_id=4579fc)>,\n",
       " <LoopVariable: name='yy', loop_level=1, values=['foo', 'bar', 'baz'], cur_value='foo' (tohu_id=ca5cec)>,\n",
       " <LoopVariable: name='zz', loop_level=2, values=['AAA', 'BBB'], cur_value='AAA' (tohu_id=1ba089)>,\n",
       " <LoopVariable: name='vv', loop_level=3, values=['lala', 'lolo'], cur_value='lala' (tohu_id=9c66ec)>,\n",
       " <LoopVariable: name='ww', loop_level=3, values=['haha', 'hoho'], cur_value='haha' (tohu_id=1e02ed)>]"
      ]
     },
     "execution_count": 5,
     "metadata": {},
     "output_type": "execute_result"
    }
   ],
   "source": [
    "loop_runner.loop_variables"
   ]
  },
  {
   "cell_type": "markdown",
   "metadata": {},
   "source": [
    "The helper method `print_current_loop_var_values` is useful to display the current values of loop variables for inspection and debugging."
   ]
  },
  {
   "cell_type": "code",
   "execution_count": 6,
   "metadata": {},
   "outputs": [
    {
     "name": "stdout",
     "output_type": "stream",
     "text": [
      "{'xx': 111, 'yy': 'foo', 'zz': 'AAA', 'vv': 'lala', 'ww': 'haha'}\n"
     ]
    }
   ],
   "source": [
    "loop_runner.print_current_loop_var_values()"
   ]
  },
  {
   "cell_type": "markdown",
   "metadata": {},
   "source": [
    "Adding a loop variable whose name already exists raises an error."
   ]
  },
  {
   "cell_type": "code",
   "execution_count": 7,
   "metadata": {},
   "outputs": [],
   "source": [
    "# import pytest\n",
    "\n",
    "# with pytest.raises(ValueError, match=\"A loop variable with name 'xx' already exists.\"):\n",
    "#     loop_runner.add_loop_variable(xx, level=1)"
   ]
  },
  {
   "cell_type": "markdown",
   "metadata": {},
   "source": [
    "If a loop variable already has its `loop_level` set, the `level` argument can be omitted when adding the loop variable."
   ]
  },
  {
   "cell_type": "code",
   "execution_count": 8,
   "metadata": {},
   "outputs": [],
   "source": [
    "# xx = LoopVariableNEW(name=\"xx\", values=[1, 2, 3]).set_loop_level(1)\n",
    "\n",
    "# loop_runner = LoopRunnerNEW()\n",
    "# loop_runner.add_loop_variable(xx)"
   ]
  },
  {
   "cell_type": "markdown",
   "metadata": {},
   "source": [
    "However, an error is raised if the `level` argument is omitted and the loop variable doesn't have its `loop_level` set."
   ]
  },
  {
   "cell_type": "code",
   "execution_count": 9,
   "metadata": {},
   "outputs": [],
   "source": [
    "# yy = LoopVariableNEW(name=\"xx\", values=[4, 5, 6])\n",
    "\n",
    "# loop_runner = LoopRunnerNEW()\n",
    "\n",
    "# with pytest.raises(ValueError, match=\"Loop variable must have `loop_level` set, or `level` argument must be given\"):\n",
    "#     loop_runner.add_loop_variable(yy)"
   ]
  },
  {
   "cell_type": "markdown",
   "metadata": {},
   "source": [
    "## Accessing loop variables at specific loop levels"
   ]
  },
  {
   "cell_type": "markdown",
   "metadata": {},
   "source": [
    "Let's create a new loop runner to demonstrate accessing loop variables, as well as advancing and rewinding loop variables (below)."
   ]
  },
  {
   "cell_type": "code",
   "execution_count": 10,
   "metadata": {},
   "outputs": [],
   "source": [
    "xx = LoopVariableNEW3(name=\"xx\", values=[111, 222, 333])\n",
    "yy = LoopVariableNEW3(name=\"yy\", values=[\"foo\", \"bar\", \"baz\"])\n",
    "zz = LoopVariableNEW3(name=\"zz\", values=[\"AAA\", \"BBB\"])\n",
    "vv = LoopVariableNEW3(name=\"vv\", values=[\"lala\" ,\"lolo\"])\n",
    "ww = LoopVariableNEW3(name=\"ww\", values=[\"haha\" ,\"hoho\"])\n",
    "\n",
    "loop_runner = LoopRunnerNEW3()\n",
    "loop_runner.add_loop_variables_at_level({\"xx\": xx, \"yy\": yy}, level=1)\n",
    "loop_runner.add_loop_variables_at_level({\"zz\": zz}, level=2)\n",
    "loop_runner.add_loop_variables_at_level({\"vv\": vv, \"ww\": ww}, level=3)"
   ]
  },
  {
   "cell_type": "markdown",
   "metadata": {},
   "source": [
    "Loop variables can be accessed in various ways (at all loop levels or at specific levels)."
   ]
  },
  {
   "cell_type": "code",
   "execution_count": 11,
   "metadata": {},
   "outputs": [
    {
     "data": {
      "text/plain": [
       "[<LoopVariable: name='xx', loop_level=1, values=[111, 222, 333], cur_value=111 (tohu_id=39ce76)>,\n",
       " <LoopVariable: name='yy', loop_level=1, values=['foo', 'bar', 'baz'], cur_value='foo' (tohu_id=93cb98)>,\n",
       " <LoopVariable: name='zz', loop_level=2, values=['AAA', 'BBB'], cur_value='AAA' (tohu_id=3da515)>,\n",
       " <LoopVariable: name='vv', loop_level=3, values=['lala', 'lolo'], cur_value='lala' (tohu_id=2c49b3)>,\n",
       " <LoopVariable: name='ww', loop_level=3, values=['haha', 'hoho'], cur_value='haha' (tohu_id=5a7905)>]"
      ]
     },
     "execution_count": 11,
     "metadata": {},
     "output_type": "execute_result"
    }
   ],
   "source": [
    "loop_runner.loop_variables"
   ]
  },
  {
   "cell_type": "code",
   "execution_count": 12,
   "metadata": {},
   "outputs": [],
   "source": [
    "# loop_runner.get_loop_vars_at_level(1)"
   ]
  },
  {
   "cell_type": "code",
   "execution_count": 13,
   "metadata": {},
   "outputs": [],
   "source": [
    "# loop_runner.get_loop_vars_at_level(2)"
   ]
  },
  {
   "cell_type": "markdown",
   "metadata": {},
   "source": [
    "## Advancing and rewinding loop variables"
   ]
  },
  {
   "cell_type": "markdown",
   "metadata": {},
   "source": [
    "The method `advance_loop_variables()` will advance loop variables one level at a time, and automatically rewind them if they have been exhausted (and advance the ones at the next level). This allows iterating through all combinations of loop variable values until the loop is exhausted."
   ]
  },
  {
   "cell_type": "code",
   "execution_count": 14,
   "metadata": {},
   "outputs": [],
   "source": [
    "# loop_runner.rewind_all_loop_variables();\n",
    "\n",
    "# loop_runner.print_current_loop_var_values()\n",
    "# loop_runner.advance_loop_variables(); loop_runner.print_current_loop_var_values()\n",
    "# loop_runner.advance_loop_variables(); loop_runner.print_current_loop_var_values()\n",
    "# loop_runner.advance_loop_variables(); loop_runner.print_current_loop_var_values()\n",
    "# loop_runner.advance_loop_variables(); loop_runner.print_current_loop_var_values()\n",
    "# loop_runner.advance_loop_variables(); loop_runner.print_current_loop_var_values()\n",
    "# loop_runner.advance_loop_variables(); loop_runner.print_current_loop_var_values()\n",
    "# loop_runner.advance_loop_variables(); loop_runner.print_current_loop_var_values()\n",
    "# loop_runner.advance_loop_variables(); loop_runner.print_current_loop_var_values()\n",
    "# loop_runner.advance_loop_variables(); loop_runner.print_current_loop_var_values()\n",
    "# loop_runner.advance_loop_variables(); loop_runner.print_current_loop_var_values()\n",
    "# loop_runner.advance_loop_variables(); loop_runner.print_current_loop_var_values()"
   ]
  },
  {
   "cell_type": "markdown",
   "metadata": {},
   "source": [
    "Once all combinations of loop variables have been iterated over, calling `advance_loop_variable()` again will trigger the exception `LoopExhaustedNEW`."
   ]
  },
  {
   "cell_type": "code",
   "execution_count": 15,
   "metadata": {},
   "outputs": [],
   "source": [
    "# import pytest\n",
    "# from tohu.looping_NEW import LoopExhaustedNEW\n",
    "\n",
    "# with pytest.raises (LoopExhaustedNEW, match=\"Loop has been exhausted\"):\n",
    "#     loop_runner.advance_loop_variables()"
   ]
  },
  {
   "cell_type": "markdown",
   "metadata": {},
   "source": [
    "If we want to iteratve over the values again, we need to call `rewind_all_loop_variables()` first."
   ]
  },
  {
   "cell_type": "code",
   "execution_count": 16,
   "metadata": {},
   "outputs": [],
   "source": [
    "# loop_runner.rewind_all_loop_variables();\n",
    "\n",
    "# loop_runner.print_current_loop_var_values()\n",
    "# loop_runner.advance_loop_variables()\n",
    "# loop_runner.print_current_loop_var_values()\n",
    "# # ... etc. ..."
   ]
  },
  {
   "cell_type": "markdown",
   "metadata": {},
   "source": [
    "## Iterating over loop variable combinations"
   ]
  },
  {
   "cell_type": "markdown",
   "metadata": {},
   "source": [
    "The method `iter_loop_var_combinations()` allows to conveniently iterate over all combinations of loop variable values (as we did manually above)."
   ]
  },
  {
   "cell_type": "code",
   "execution_count": 17,
   "metadata": {},
   "outputs": [
    {
     "data": {
      "text/plain": [
       "[{'vv': 'lala', 'ww': 'haha', 'zz': 'AAA', 'xx': 111, 'yy': 'foo'},\n",
       " {'vv': 'lala', 'ww': 'haha', 'zz': 'AAA', 'xx': 222, 'yy': 'bar'},\n",
       " {'vv': 'lala', 'ww': 'haha', 'zz': 'AAA', 'xx': 333, 'yy': 'baz'},\n",
       " {'vv': 'lala', 'ww': 'haha', 'zz': 'BBB', 'xx': 111, 'yy': 'foo'},\n",
       " {'vv': 'lala', 'ww': 'haha', 'zz': 'BBB', 'xx': 222, 'yy': 'bar'},\n",
       " {'vv': 'lala', 'ww': 'haha', 'zz': 'BBB', 'xx': 333, 'yy': 'baz'},\n",
       " {'vv': 'lolo', 'ww': 'hoho', 'zz': 'AAA', 'xx': 111, 'yy': 'foo'},\n",
       " {'vv': 'lolo', 'ww': 'hoho', 'zz': 'AAA', 'xx': 222, 'yy': 'bar'},\n",
       " {'vv': 'lolo', 'ww': 'hoho', 'zz': 'AAA', 'xx': 333, 'yy': 'baz'},\n",
       " {'vv': 'lolo', 'ww': 'hoho', 'zz': 'BBB', 'xx': 111, 'yy': 'foo'},\n",
       " {'vv': 'lolo', 'ww': 'hoho', 'zz': 'BBB', 'xx': 222, 'yy': 'bar'},\n",
       " {'vv': 'lolo', 'ww': 'hoho', 'zz': 'BBB', 'xx': 333, 'yy': 'baz'}]"
      ]
     },
     "execution_count": 17,
     "metadata": {},
     "output_type": "execute_result"
    }
   ],
   "source": [
    "combinations = list(loop_runner.iter_loop_var_combinations())\n",
    "combinations"
   ]
  },
  {
   "cell_type": "markdown",
   "metadata": {},
   "source": [
    "Instead of `var_names=None`, we can also pass `var_names=[]` and obtain the same result:"
   ]
  },
  {
   "cell_type": "code",
   "execution_count": 18,
   "metadata": {},
   "outputs": [],
   "source": [
    "# assert combinations == list(loop_runner.iter_loop_var_combinations(var_names=[]))"
   ]
  },
  {
   "cell_type": "markdown",
   "metadata": {},
   "source": [
    "By specifying the `var_names` argument, only the subset of value combinations of the specified loop variables is returned. Note that the ordering of the variables in the output is descending by level (here `zz` is listed before `yy`)."
   ]
  },
  {
   "cell_type": "code",
   "execution_count": 19,
   "metadata": {},
   "outputs": [
    {
     "data": {
      "text/plain": [
       "[{'zz': 'AAA', 'yy': 'foo'},\n",
       " {'zz': 'AAA', 'yy': 'bar'},\n",
       " {'zz': 'AAA', 'yy': 'baz'},\n",
       " {'zz': 'BBB', 'yy': 'foo'},\n",
       " {'zz': 'BBB', 'yy': 'bar'},\n",
       " {'zz': 'BBB', 'yy': 'baz'}]"
      ]
     },
     "execution_count": 19,
     "metadata": {},
     "output_type": "execute_result"
    }
   ],
   "source": [
    "list(loop_runner.iter_loop_var_combinations(var_names=[\"yy\", \"zz\"]))"
   ]
  },
  {
   "cell_type": "code",
   "execution_count": 20,
   "metadata": {},
   "outputs": [
    {
     "data": {
      "text/plain": [
       "[{'xx': 111, 'yy': 'foo'}, {'xx': 222, 'yy': 'bar'}, {'xx': 333, 'yy': 'baz'}]"
      ]
     },
     "execution_count": 20,
     "metadata": {},
     "output_type": "execute_result"
    }
   ],
   "source": [
    "list(loop_runner.iter_loop_var_combinations(var_names=[\"xx\", \"yy\"]))"
   ]
  },
  {
   "cell_type": "code",
   "execution_count": 21,
   "metadata": {},
   "outputs": [],
   "source": [
    "with pytest.raises(ValueError, match=\"Invalid loop variable name: 'foo'\"):\n",
    "    _ = list(loop_runner.iter_loop_var_combinations(var_names=[\"foo\"]))\n",
    "    \n",
    "with pytest.raises(ValueError, match=\"Invalid loop variable name: 'foo'\"):\n",
    "    _ = list(loop_runner.iter_loop_var_combinations(var_names=[\"xx\", \"foo\"]))"
   ]
  },
  {
   "cell_type": "markdown",
   "metadata": {},
   "source": [
    "## Iterating over loop variable combinations together with number of \"ticks\" and seed for each loop cycle"
   ]
  },
  {
   "cell_type": "code",
   "execution_count": 22,
   "metadata": {},
   "outputs": [
    {
     "data": {
      "text/plain": [
       "[({'vv': 'lala', 'ww': 'haha', 'zz': 'AAA', 'xx': 111, 'yy': 'foo'},\n",
       "  42,\n",
       "  4071297090),\n",
       " ({'vv': 'lala', 'ww': 'haha', 'zz': 'AAA', 'xx': 222, 'yy': 'bar'},\n",
       "  42,\n",
       "  113196452),\n",
       " ({'vv': 'lala', 'ww': 'haha', 'zz': 'AAA', 'xx': 333, 'yy': 'baz'},\n",
       "  42,\n",
       "  2732606018),\n",
       " ({'vv': 'lala', 'ww': 'haha', 'zz': 'BBB', 'xx': 111, 'yy': 'foo'},\n",
       "  42,\n",
       "  1545726215),\n",
       " ({'vv': 'lala', 'ww': 'haha', 'zz': 'BBB', 'xx': 222, 'yy': 'bar'},\n",
       "  42,\n",
       "  1601919070),\n",
       " ({'vv': 'lala', 'ww': 'haha', 'zz': 'BBB', 'xx': 333, 'yy': 'baz'},\n",
       "  42,\n",
       "  2507630920),\n",
       " ({'vv': 'lolo', 'ww': 'hoho', 'zz': 'AAA', 'xx': 111, 'yy': 'foo'},\n",
       "  42,\n",
       "  1298180724),\n",
       " ({'vv': 'lolo', 'ww': 'hoho', 'zz': 'AAA', 'xx': 222, 'yy': 'bar'},\n",
       "  42,\n",
       "  3528906032),\n",
       " ({'vv': 'lolo', 'ww': 'hoho', 'zz': 'AAA', 'xx': 333, 'yy': 'baz'},\n",
       "  42,\n",
       "  1271297160),\n",
       " ({'vv': 'lolo', 'ww': 'hoho', 'zz': 'BBB', 'xx': 111, 'yy': 'foo'},\n",
       "  42,\n",
       "  1716933269),\n",
       " ({'vv': 'lolo', 'ww': 'hoho', 'zz': 'BBB', 'xx': 222, 'yy': 'bar'},\n",
       "  42,\n",
       "  1675530078),\n",
       " ({'vv': 'lolo', 'ww': 'hoho', 'zz': 'BBB', 'xx': 333, 'yy': 'baz'},\n",
       "  42,\n",
       "  1559765397)]"
      ]
     },
     "execution_count": 22,
     "metadata": {},
     "output_type": "execute_result"
    }
   ],
   "source": [
    "list(loop_runner.iter_loop_var_combinations_with_num_ticks_and_seed_for_each_loop_cycle(42, initial_seed=11111))"
   ]
  },
  {
   "cell_type": "code",
   "execution_count": 23,
   "metadata": {},
   "outputs": [
    {
     "data": {
      "text/plain": [
       "[({'vv': 'lala', 'ww': 'haha', 'zz': 'AAA', 'xx': 111, 'yy': 'foo'},\n",
       "  1,\n",
       "  4071297090),\n",
       " ({'vv': 'lala', 'ww': 'haha', 'zz': 'AAA', 'xx': 222, 'yy': 'bar'},\n",
       "  2,\n",
       "  113196452),\n",
       " ({'vv': 'lala', 'ww': 'haha', 'zz': 'AAA', 'xx': 333, 'yy': 'baz'},\n",
       "  3,\n",
       "  2732606018),\n",
       " ({'vv': 'lala', 'ww': 'haha', 'zz': 'BBB', 'xx': 111, 'yy': 'foo'},\n",
       "  4,\n",
       "  1545726215),\n",
       " ({'vv': 'lala', 'ww': 'haha', 'zz': 'BBB', 'xx': 222, 'yy': 'bar'},\n",
       "  5,\n",
       "  1601919070),\n",
       " ({'vv': 'lala', 'ww': 'haha', 'zz': 'BBB', 'xx': 333, 'yy': 'baz'},\n",
       "  6,\n",
       "  2507630920),\n",
       " ({'vv': 'lolo', 'ww': 'hoho', 'zz': 'AAA', 'xx': 111, 'yy': 'foo'},\n",
       "  7,\n",
       "  1298180724),\n",
       " ({'vv': 'lolo', 'ww': 'hoho', 'zz': 'AAA', 'xx': 222, 'yy': 'bar'},\n",
       "  8,\n",
       "  3528906032),\n",
       " ({'vv': 'lolo', 'ww': 'hoho', 'zz': 'AAA', 'xx': 333, 'yy': 'baz'},\n",
       "  9,\n",
       "  1271297160),\n",
       " ({'vv': 'lolo', 'ww': 'hoho', 'zz': 'BBB', 'xx': 111, 'yy': 'foo'},\n",
       "  10,\n",
       "  1716933269),\n",
       " ({'vv': 'lolo', 'ww': 'hoho', 'zz': 'BBB', 'xx': 222, 'yy': 'bar'},\n",
       "  11,\n",
       "  1675530078),\n",
       " ({'vv': 'lolo', 'ww': 'hoho', 'zz': 'BBB', 'xx': 333, 'yy': 'baz'},\n",
       "  12,\n",
       "  1559765397)]"
      ]
     },
     "execution_count": 23,
     "metadata": {},
     "output_type": "execute_result"
    }
   ],
   "source": [
    "list(loop_runner.iter_loop_var_combinations_with_num_ticks_and_seed_for_each_loop_cycle([1, 2, 3, 4, 5, 6, 7, 8, 9, 10, 11, 12], initial_seed=11111))"
   ]
  },
  {
   "cell_type": "code",
   "execution_count": 24,
   "metadata": {},
   "outputs": [
    {
     "data": {
      "text/plain": [
       "[({'vv': 'lala', 'ww': 'haha', 'zz': 'AAA', 'xx': 111, 'yy': 'foo'},\n",
       "  42,\n",
       "  4071297090),\n",
       " ({'vv': 'lala', 'ww': 'haha', 'zz': 'AAA', 'xx': 222, 'yy': 'bar'},\n",
       "  42,\n",
       "  113196452),\n",
       " ({'vv': 'lala', 'ww': 'haha', 'zz': 'AAA', 'xx': 333, 'yy': 'baz'},\n",
       "  42,\n",
       "  2732606018),\n",
       " ({'vv': 'lala', 'ww': 'haha', 'zz': 'BBB', 'xx': 111, 'yy': 'foo'},\n",
       "  42,\n",
       "  1545726215),\n",
       " ({'vv': 'lala', 'ww': 'haha', 'zz': 'BBB', 'xx': 222, 'yy': 'bar'},\n",
       "  42,\n",
       "  1601919070),\n",
       " ({'vv': 'lala', 'ww': 'haha', 'zz': 'BBB', 'xx': 333, 'yy': 'baz'},\n",
       "  42,\n",
       "  2507630920),\n",
       " ({'vv': 'lolo', 'ww': 'hoho', 'zz': 'AAA', 'xx': 111, 'yy': 'foo'},\n",
       "  23,\n",
       "  1298180724),\n",
       " ({'vv': 'lolo', 'ww': 'hoho', 'zz': 'AAA', 'xx': 222, 'yy': 'bar'},\n",
       "  23,\n",
       "  3528906032),\n",
       " ({'vv': 'lolo', 'ww': 'hoho', 'zz': 'AAA', 'xx': 333, 'yy': 'baz'},\n",
       "  23,\n",
       "  1271297160),\n",
       " ({'vv': 'lolo', 'ww': 'hoho', 'zz': 'BBB', 'xx': 111, 'yy': 'foo'},\n",
       "  23,\n",
       "  1716933269),\n",
       " ({'vv': 'lolo', 'ww': 'hoho', 'zz': 'BBB', 'xx': 222, 'yy': 'bar'},\n",
       "  23,\n",
       "  1675530078),\n",
       " ({'vv': 'lolo', 'ww': 'hoho', 'zz': 'BBB', 'xx': 333, 'yy': 'baz'},\n",
       "  23,\n",
       "  1559765397)]"
      ]
     },
     "execution_count": 24,
     "metadata": {},
     "output_type": "execute_result"
    }
   ],
   "source": [
    "def f_get_num_ticks(**kwargs):\n",
    "    if kwargs[\"vv\"] == \"lala\":\n",
    "        return 42\n",
    "    else:\n",
    "        return 23\n",
    "\n",
    "list(loop_runner.iter_loop_var_combinations_with_num_ticks_and_seed_for_each_loop_cycle(f_get_num_ticks, initial_seed=11111))"
   ]
  },
  {
   "cell_type": "markdown",
   "metadata": {},
   "source": [
    "## Iterating over loop variable combinations using a callback function"
   ]
  },
  {
   "cell_type": "markdown",
   "metadata": {},
   "source": [
    "The key functionality which a loop runner provides is to iterate over all combinations of loop variable values and invoking a callback function for each such combination.\n",
    "\n",
    "Whenever it is invoked, the callback function is passed the current number of iterations as the first argument (which is passed as a positional argument), and the current values of all loop variables as the remaining arguments (which are passed as keyword arguments).\n",
    "\n",
    "The callback function must return an iterable (for example, a list). The return value of `loop_runner.iter_loop_var_combinations_with_callback()` is a single iterable which is the concatenation of all the iterables returned by each invocation of the callback function.\n",
    "\n",
    "Here is an example demonstrating this."
   ]
  },
  {
   "cell_type": "code",
   "execution_count": 25,
   "metadata": {},
   "outputs": [],
   "source": [
    "def f_callback(cur_loop_ar_vals, num_ticks, cur_seed):\n",
    "    print(f\"[INFO:] {cur_loop_ar_vals}, num_ticks={num_ticks}, cur_seed={cur_seed}\")\n",
    "    return [cur_loop_ar_vals[\"xx\"]]"
   ]
  },
  {
   "cell_type": "code",
   "execution_count": 26,
   "metadata": {},
   "outputs": [
    {
     "name": "stdout",
     "output_type": "stream",
     "text": [
      "[INFO:] {'vv': 'lala', 'ww': 'haha', 'zz': 'AAA', 'xx': 111, 'yy': 'foo'}, num_ticks=12, cur_seed=4071297090\n",
      "[INFO:] {'vv': 'lala', 'ww': 'haha', 'zz': 'AAA', 'xx': 222, 'yy': 'bar'}, num_ticks=11, cur_seed=113196452\n",
      "[INFO:] {'vv': 'lala', 'ww': 'haha', 'zz': 'AAA', 'xx': 333, 'yy': 'baz'}, num_ticks=10, cur_seed=2732606018\n",
      "[INFO:] {'vv': 'lala', 'ww': 'haha', 'zz': 'BBB', 'xx': 111, 'yy': 'foo'}, num_ticks=9, cur_seed=1545726215\n",
      "[INFO:] {'vv': 'lala', 'ww': 'haha', 'zz': 'BBB', 'xx': 222, 'yy': 'bar'}, num_ticks=8, cur_seed=1601919070\n",
      "[INFO:] {'vv': 'lala', 'ww': 'haha', 'zz': 'BBB', 'xx': 333, 'yy': 'baz'}, num_ticks=7, cur_seed=2507630920\n",
      "[INFO:] {'vv': 'lolo', 'ww': 'hoho', 'zz': 'AAA', 'xx': 111, 'yy': 'foo'}, num_ticks=6, cur_seed=1298180724\n",
      "[INFO:] {'vv': 'lolo', 'ww': 'hoho', 'zz': 'AAA', 'xx': 222, 'yy': 'bar'}, num_ticks=5, cur_seed=3528906032\n",
      "[INFO:] {'vv': 'lolo', 'ww': 'hoho', 'zz': 'AAA', 'xx': 333, 'yy': 'baz'}, num_ticks=4, cur_seed=1271297160\n",
      "[INFO:] {'vv': 'lolo', 'ww': 'hoho', 'zz': 'BBB', 'xx': 111, 'yy': 'foo'}, num_ticks=3, cur_seed=1716933269\n",
      "[INFO:] {'vv': 'lolo', 'ww': 'hoho', 'zz': 'BBB', 'xx': 222, 'yy': 'bar'}, num_ticks=2, cur_seed=1675530078\n",
      "[INFO:] {'vv': 'lolo', 'ww': 'hoho', 'zz': 'BBB', 'xx': 333, 'yy': 'baz'}, num_ticks=1, cur_seed=1559765397\n"
     ]
    },
    {
     "data": {
      "text/plain": [
       "[111, 222, 333, 111, 222, 333, 111, 222, 333, 111, 222, 333]"
      ]
     },
     "execution_count": 26,
     "metadata": {},
     "output_type": "execute_result"
    }
   ],
   "source": [
    "list(loop_runner.iter_loop_var_combinations_with_callback(\n",
    "         f_callback, num_ticks_per_loop_cycle=[12, 11, 10, 9, 8, 7, 6, 5, 4, 3, 2, 1], seed=11111))"
   ]
  },
  {
   "cell_type": "markdown",
   "metadata": {},
   "source": [
    "## Iterating over loop variable combinations while producing items from a tohu generator"
   ]
  },
  {
   "cell_type": "markdown",
   "metadata": {},
   "source": [
    "Note that due to the simplicity of the example below, the actual _values_ of the loop variable `xx` are not accessible to the generators `g1`, `g2`, and so it may seem a bit pointless and overkill to use a loop runner to produce values from `g1`, `g2` when this could equally (and much more easily) be achieved by a simple Python for loop. However, we need this in the case of custom generators that make use of loop variable values.\n",
    "\n",
    "_[**TODO:** add an example illustrating this?]_"
   ]
  },
  {
   "cell_type": "code",
   "execution_count": 27,
   "metadata": {},
   "outputs": [],
   "source": [
    "from tohu import HashDigest, FakerGenerator"
   ]
  },
  {
   "cell_type": "code",
   "execution_count": 28,
   "metadata": {},
   "outputs": [],
   "source": [
    "xx = LoopVariableNEW3(name=\"xx\", values=[111, 222, 333])\n",
    "\n",
    "loop_runner = LoopRunnerNEW3()\n",
    "loop_runner.add_loop_variables_at_level({\"xx\": xx}, level=1)"
   ]
  },
  {
   "cell_type": "code",
   "execution_count": 29,
   "metadata": {},
   "outputs": [],
   "source": [
    "g1 = HashDigest(length=6)\n",
    "g2 = FakerGenerator(method=\"first_name\")"
   ]
  },
  {
   "cell_type": "code",
   "execution_count": 30,
   "metadata": {},
   "outputs": [
    {
     "data": {
      "text/plain": [
       "['4888AF', 'FFFE41', '096A60', '7551AA', '54596E', '48AC7A']"
      ]
     },
     "execution_count": 30,
     "metadata": {},
     "output_type": "execute_result"
    }
   ],
   "source": [
    "list(loop_runner.produce_items_from_tohu_generator(g1, num_items_per_loop_cycle=[3, 2, 1], seed=11111))"
   ]
  },
  {
   "cell_type": "code",
   "execution_count": 31,
   "metadata": {},
   "outputs": [
    {
     "name": "stdout",
     "output_type": "stream",
     "text": [
      "['Trevor', 'Mark', 'Gabriel', 'Tammy', 'Stacey', 'Kathryn', 'Lindsay', 'Mary', 'Jennifer']\n"
     ]
    }
   ],
   "source": [
    "print(list(loop_runner.produce_items_from_tohu_generator(g2, num_items_per_loop_cycle=[4, 3, 2], seed=11111)))"
   ]
  },
  {
   "cell_type": "code",
   "execution_count": 32,
   "metadata": {},
   "outputs": [],
   "source": [
    "xx = LoopVariableNEW3(name=\"xx\", values=[111, 222, 333])\n",
    "#yy = LoopVariableNEW3(name=\"yy\", values=[\"aa\", \"bb\", \"cc\"])\n",
    "zz = LoopVariableNEW3(name=\"zz\", values=[\"AAA\", \"BBB\"])\n",
    "\n",
    "loop_runner = LoopRunnerNEW3()\n",
    "loop_runner.add_loop_variables_at_level({\"xx\": xx}, level=1)\n",
    "loop_runner.add_loop_variables_at_level({\"zz\": zz}, level=2)"
   ]
  },
  {
   "cell_type": "markdown",
   "metadata": {},
   "source": [
    "---"
   ]
  },
  {
   "cell_type": "code",
   "execution_count": 33,
   "metadata": {},
   "outputs": [
    {
     "data": {
      "text/plain": [
       "['4888AF',\n",
       " '7551AA',\n",
       " '48AC7A',\n",
       " '9CD736',\n",
       " '3A7BFE',\n",
       " '89AA37',\n",
       " '4C7E0C',\n",
       " 'B84EDB',\n",
       " '2728AB']"
      ]
     },
     "execution_count": 33,
     "metadata": {},
     "output_type": "execute_result"
    }
   ],
   "source": [
    "list(loop_runner.produce_items_from_tohu_generator(g1, num_items_per_loop_cycle=[1, 1, 1, 3, 2, 1], seed=11111))"
   ]
  },
  {
   "cell_type": "code",
   "execution_count": 34,
   "metadata": {},
   "outputs": [
    {
     "data": {
      "text/plain": [
       "[({'xx': 111}, ['4888AF', '9CD736', '3A7BFE', '89AA37']),\n",
       " ({'xx': 222}, ['7551AA', '4C7E0C', 'B84EDB']),\n",
       " ({'xx': 333}, ['48AC7A', '2728AB'])]"
      ]
     },
     "execution_count": 34,
     "metadata": {},
     "output_type": "execute_result"
    }
   ],
   "source": [
    "[(vals, list(foo)) for vals, foo in\n",
    " loop_runner.produce_items_from_tohu_generator_for_loop_var_subset(g1, num_items_per_loop_cycle=[1, 1, 1, 3, 2, 1], loop_vars_to_group_by=[\"xx\"], seed=11111)]"
   ]
  },
  {
   "cell_type": "code",
   "execution_count": 35,
   "metadata": {},
   "outputs": [
    {
     "data": {
      "text/plain": [
       "[({'zz': 'AAA'}, ['4888AF', '7551AA', '48AC7A']),\n",
       " ({'zz': 'BBB'}, ['9CD736', '3A7BFE', '89AA37', '4C7E0C', 'B84EDB', '2728AB'])]"
      ]
     },
     "execution_count": 35,
     "metadata": {},
     "output_type": "execute_result"
    }
   ],
   "source": [
    "[(vals, list(foo)) for vals, foo in\n",
    " loop_runner.produce_items_from_tohu_generator_for_loop_var_subset(g1, num_items_per_loop_cycle=[1, 1, 1, 3, 2, 1], loop_vars_to_group_by=[\"zz\"], seed=11111)]"
   ]
  },
  {
   "cell_type": "code",
   "execution_count": 36,
   "metadata": {},
   "outputs": [],
   "source": [
    "# [(vals, list(foo)) for vals, foo in\n",
    "#  loop_runner.produce_items_from_tohu_generator_for_loop_var_subset(g1, num_items_per_loop_cycle=[1, 1, 1, 3, 2, 1], loop_vars_to_group_by=[\"yy\"], seed=11111)]"
   ]
  },
  {
   "cell_type": "markdown",
   "metadata": {},
   "source": [
    "## Behaviour of an \"empty\" loop runner"
   ]
  },
  {
   "cell_type": "code",
   "execution_count": 37,
   "metadata": {},
   "outputs": [],
   "source": [
    "loop_runner = LoopRunnerNEW3()"
   ]
  },
  {
   "cell_type": "code",
   "execution_count": 38,
   "metadata": {},
   "outputs": [],
   "source": [
    "#loop_runner.get_loop_vars_at_level(loop_level=1)"
   ]
  },
  {
   "cell_type": "code",
   "execution_count": 39,
   "metadata": {},
   "outputs": [],
   "source": [
    "#loop_runner.get_loop_vars_at_level(loop_level=2)"
   ]
  },
  {
   "cell_type": "code",
   "execution_count": 40,
   "metadata": {},
   "outputs": [
    {
     "data": {
      "text/plain": [
       "[{}]"
      ]
     },
     "execution_count": 40,
     "metadata": {},
     "output_type": "execute_result"
    }
   ],
   "source": [
    "list(loop_runner.iter_loop_var_combinations())"
   ]
  },
  {
   "cell_type": "code",
   "execution_count": 41,
   "metadata": {},
   "outputs": [],
   "source": [
    "with pytest.raises(ValueError, match=\"Invalid loop variable name: 'xx'\"):\n",
    "    _ = list(loop_runner.iter_loop_var_combinations(var_names=[\"xx\", \"yy\"]))"
   ]
  },
  {
   "cell_type": "code",
   "execution_count": 42,
   "metadata": {},
   "outputs": [],
   "source": [
    "#list(loop_runner.iter_loop_var_combinations(var_names=[\"xx\", \"yy\"]))"
   ]
  },
  {
   "cell_type": "markdown",
   "metadata": {},
   "source": [
    "## Spawning a loop runner"
   ]
  },
  {
   "cell_type": "code",
   "execution_count": 43,
   "metadata": {},
   "outputs": [],
   "source": [
    "xx = LoopVariableNEW3(name=\"xx\", values=[111, 222, 333])\n",
    "yy = LoopVariableNEW3(name=\"yy\", values=[\"foo\", \"bar\", \"baz\"])\n",
    "zz = LoopVariableNEW3(name=\"zz\", values=[\"AAA\", \"BBB\"])\n",
    "\n",
    "loop_runner = LoopRunnerNEW3()\n",
    "loop_runner.add_loop_variables_at_level({\"xx\": xx, \"yy\": yy}, level=1)\n",
    "loop_runner.add_loop_variables_at_level({\"zz\": zz}, level=2)\n",
    "\n",
    "loop_runner_2 = loop_runner.spawn()"
   ]
  },
  {
   "cell_type": "markdown",
   "metadata": {},
   "source": [
    "**TODO:** demonstrate that `loop_runner` and `loop_runner_2` behave the same!"
   ]
  }
 ],
 "metadata": {
  "kernelspec": {
   "display_name": "Python 3",
   "language": "python",
   "name": "python3"
  },
  "language_info": {
   "codemirror_mode": {
    "name": "ipython",
    "version": 3
   },
   "file_extension": ".py",
   "mimetype": "text/x-python",
   "name": "python",
   "nbconvert_exporter": "python",
   "pygments_lexer": "ipython3",
   "version": "3.8.1"
  }
 },
 "nbformat": 4,
 "nbformat_minor": 4
}
