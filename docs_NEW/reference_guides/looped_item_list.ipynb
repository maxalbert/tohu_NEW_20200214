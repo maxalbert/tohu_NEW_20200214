{
 "cells": [
  {
   "cell_type": "markdown",
   "metadata": {},
   "source": [
    "# LoopedItemList"
   ]
  },
  {
   "cell_type": "markdown",
   "metadata": {},
   "source": [
    "\n",
    "[TOC]\n"
   ]
  },
  {
   "cell_type": "markdown",
   "metadata": {},
   "source": [
    "Let's first create a `LoopedItemList` instance, which we use in the rest of this section."
   ]
  },
  {
   "cell_type": "code",
   "execution_count": 1,
   "metadata": {},
   "outputs": [],
   "source": [
    "from tohu.looped_item_list import LoopedItemList\n",
    "from tohu.tohu_items_class import make_tohu_items_class"
   ]
  },
  {
   "cell_type": "code",
   "execution_count": 2,
   "metadata": {},
   "outputs": [],
   "source": [
    "Quux = make_tohu_items_class(\"Quux\", [\"xx\", \"aa\", \"bb\", \"cc\"])"
   ]
  },
  {
   "cell_type": "code",
   "execution_count": 3,
   "metadata": {},
   "outputs": [],
   "source": [
    "items = [\n",
    "    Quux(1, '672EF2', 'Johnny', False),\n",
    "    Quux(1, '250204', 'David', True),\n",
    "    Quux(2, '679DAE', 'Angela', False),\n",
    "    Quux(3, '91554C', 'Pamela', True),\n",
    "    Quux(3, '8EA713', 'Blake', True),\n",
    "]"
   ]
  },
  {
   "cell_type": "code",
   "execution_count": 4,
   "metadata": {},
   "outputs": [],
   "source": [
    "num_items = len(items)\n",
    "field_names = [\"xx\", \"aa\", \"bb\", \"cc\"]\n",
    "\n",
    "def f_get_item_tuple_iterators(var_names=None):\n",
    "    if var_names is None or var_names == []:\n",
    "        yield from [({}, items)]\n",
    "    elif var_names == [\"xx\"]:\n",
    "        yield from (\n",
    "            ({\"xx\": 1}, items[0:2]),\n",
    "            ({\"xx\": 2}, items[2:3]),\n",
    "            ({\"xx\": 3}, items[3:]),\n",
    "#             (tuple([1]), items[0:2]),\n",
    "#             (tuple([2]), items[2:3]),\n",
    "#             (tuple([3]), items[3:]),\n",
    "        )\n",
    "    else:\n",
    "        raise ValueError(\"Invalid value for argument `var_names`.\")"
   ]
  },
  {
   "cell_type": "code",
   "execution_count": 5,
   "metadata": {},
   "outputs": [
    {
     "data": {
      "text/plain": [
       "<LoopedItemList>"
      ]
     },
     "execution_count": 5,
     "metadata": {},
     "output_type": "execute_result"
    }
   ],
   "source": [
    "looped_item_list = LoopedItemList(f_get_item_tuple_iterators, field_names=field_names, tohu_items_class_name=\"Quux\")\n",
    "looped_item_list"
   ]
  },
  {
   "cell_type": "markdown",
   "metadata": {},
   "source": [
    "A `LoopedItemList` can be iterated over and converted to a regular list."
   ]
  },
  {
   "cell_type": "code",
   "execution_count": 6,
   "metadata": {},
   "outputs": [
    {
     "data": {
      "text/plain": [
       "[Quux(xx=1, aa='672EF2', bb='Johnny', cc=False),\n",
       " Quux(xx=1, aa='250204', bb='David', cc=True),\n",
       " Quux(xx=2, aa='679DAE', bb='Angela', cc=False),\n",
       " Quux(xx=3, aa='91554C', bb='Pamela', cc=True),\n",
       " Quux(xx=3, aa='8EA713', bb='Blake', cc=True)]"
      ]
     },
     "execution_count": 6,
     "metadata": {},
     "output_type": "execute_result"
    }
   ],
   "source": [
    "list(looped_item_list)"
   ]
  },
  {
   "cell_type": "markdown",
   "metadata": {},
   "source": [
    "## ~`.compute()` and caching of item list contents~"
   ]
  },
  {
   "cell_type": "markdown",
   "metadata": {},
   "source": [
    "Contrary to a regular Python list, however, `ItemList` by default behaves in a lazy way. That is, it only calculates items when it is actually necessary - for example, when they need to be exported to a CSV file or to a pandas dataframe. (**TODO:** explain why this is useful for lists with many items.)\n",
    "\n",
    "However, during prototyping and interactive working with `ItemLists`, it can be useful to calculate the items and keep them in memory for faster access. In this small example we won't see any speedups but it can be useful for larger lists."
   ]
  },
  {
   "cell_type": "code",
   "execution_count": 7,
   "metadata": {},
   "outputs": [
    {
     "data": {
      "text/plain": [
       "False"
      ]
     },
     "execution_count": 7,
     "metadata": {},
     "output_type": "execute_result"
    }
   ],
   "source": [
    "looped_item_list.is_cached"
   ]
  },
  {
   "cell_type": "code",
   "execution_count": 8,
   "metadata": {},
   "outputs": [
    {
     "data": {
      "text/plain": [
       "<LoopedItemList>"
      ]
     },
     "execution_count": 8,
     "metadata": {},
     "output_type": "execute_result"
    }
   ],
   "source": [
    "looped_item_list.compute()"
   ]
  },
  {
   "cell_type": "code",
   "execution_count": 9,
   "metadata": {},
   "outputs": [
    {
     "data": {
      "text/plain": [
       "True"
      ]
     },
     "execution_count": 9,
     "metadata": {},
     "output_type": "execute_result"
    }
   ],
   "source": [
    "looped_item_list.is_cached"
   ]
  },
  {
   "cell_type": "code",
   "execution_count": 10,
   "metadata": {},
   "outputs": [
    {
     "data": {
      "text/plain": [
       "[Quux(xx=1, aa='672EF2', bb='Johnny', cc=False),\n",
       " Quux(xx=1, aa='250204', bb='David', cc=True),\n",
       " Quux(xx=2, aa='679DAE', bb='Angela', cc=False),\n",
       " Quux(xx=3, aa='91554C', bb='Pamela', cc=True),\n",
       " Quux(xx=3, aa='8EA713', bb='Blake', cc=True)]"
      ]
     },
     "execution_count": 10,
     "metadata": {},
     "output_type": "execute_result"
    }
   ],
   "source": [
    "list(looped_item_list.iter_item_tuples())"
   ]
  },
  {
   "cell_type": "markdown",
   "metadata": {},
   "source": [
    "## Exporting a `LoopedItemList` to various formats"
   ]
  },
  {
   "cell_type": "markdown",
   "metadata": {},
   "source": [
    "### `to_df()`"
   ]
  },
  {
   "cell_type": "markdown",
   "metadata": {},
   "source": [
    "When calling `.to_df()` without any arguments, all fields from all items will be exported."
   ]
  },
  {
   "cell_type": "code",
   "execution_count": 11,
   "metadata": {},
   "outputs": [
    {
     "data": {
      "text/html": [
       "<div>\n",
       "<style scoped>\n",
       "    .dataframe tbody tr th:only-of-type {\n",
       "        vertical-align: middle;\n",
       "    }\n",
       "\n",
       "    .dataframe tbody tr th {\n",
       "        vertical-align: top;\n",
       "    }\n",
       "\n",
       "    .dataframe thead th {\n",
       "        text-align: right;\n",
       "    }\n",
       "</style>\n",
       "<table border=\"1\" class=\"dataframe\">\n",
       "  <thead>\n",
       "    <tr style=\"text-align: right;\">\n",
       "      <th></th>\n",
       "      <th>xx</th>\n",
       "      <th>aa</th>\n",
       "      <th>bb</th>\n",
       "      <th>cc</th>\n",
       "    </tr>\n",
       "  </thead>\n",
       "  <tbody>\n",
       "    <tr>\n",
       "      <th>0</th>\n",
       "      <td>1</td>\n",
       "      <td>672EF2</td>\n",
       "      <td>Johnny</td>\n",
       "      <td>False</td>\n",
       "    </tr>\n",
       "    <tr>\n",
       "      <th>1</th>\n",
       "      <td>1</td>\n",
       "      <td>250204</td>\n",
       "      <td>David</td>\n",
       "      <td>True</td>\n",
       "    </tr>\n",
       "    <tr>\n",
       "      <th>2</th>\n",
       "      <td>2</td>\n",
       "      <td>679DAE</td>\n",
       "      <td>Angela</td>\n",
       "      <td>False</td>\n",
       "    </tr>\n",
       "    <tr>\n",
       "      <th>3</th>\n",
       "      <td>3</td>\n",
       "      <td>91554C</td>\n",
       "      <td>Pamela</td>\n",
       "      <td>True</td>\n",
       "    </tr>\n",
       "    <tr>\n",
       "      <th>4</th>\n",
       "      <td>3</td>\n",
       "      <td>8EA713</td>\n",
       "      <td>Blake</td>\n",
       "      <td>True</td>\n",
       "    </tr>\n",
       "  </tbody>\n",
       "</table>\n",
       "</div>"
      ],
      "text/plain": [
       "   xx      aa      bb     cc\n",
       "0   1  672EF2  Johnny  False\n",
       "1   1  250204   David   True\n",
       "2   2  679DAE  Angela  False\n",
       "3   3  91554C  Pamela   True\n",
       "4   3  8EA713   Blake   True"
      ]
     },
     "execution_count": 11,
     "metadata": {},
     "output_type": "execute_result"
    }
   ],
   "source": [
    "looped_item_list.to_df()"
   ]
  },
  {
   "cell_type": "markdown",
   "metadata": {},
   "source": [
    "By passing the `group_by` argument we can split the output into multiple dataframes, based on the values of the specified loop variable(s)."
   ]
  },
  {
   "cell_type": "code",
   "execution_count": 12,
   "metadata": {},
   "outputs": [
    {
     "data": {
      "text/plain": [
       "[({'xx': 1},\n",
       "     xx      aa      bb     cc\n",
       "  0   1  672EF2  Johnny  False\n",
       "  1   1  250204   David   True),\n",
       " ({'xx': 2},\n",
       "     xx      aa      bb     cc\n",
       "  0   2  679DAE  Angela  False),\n",
       " ({'xx': 3},\n",
       "     xx      aa      bb    cc\n",
       "  0   3  91554C  Pamela  True\n",
       "  1   3  8EA713   Blake  True)]"
      ]
     },
     "execution_count": 12,
     "metadata": {},
     "output_type": "execute_result"
    }
   ],
   "source": [
    "looped_item_list.to_df(group_by=[\"xx\"])"
   ]
  },
  {
   "cell_type": "markdown",
   "metadata": {},
   "source": [
    "If we're only grouping by a single variable we can also pass it directly as a string (as opposed to a list with a single element)."
   ]
  },
  {
   "cell_type": "code",
   "execution_count": 13,
   "metadata": {},
   "outputs": [
    {
     "data": {
      "text/plain": [
       "[({'xx': 1},\n",
       "     xx      aa      bb     cc\n",
       "  0   1  672EF2  Johnny  False\n",
       "  1   1  250204   David   True),\n",
       " ({'xx': 2},\n",
       "     xx      aa      bb     cc\n",
       "  0   2  679DAE  Angela  False),\n",
       " ({'xx': 3},\n",
       "     xx      aa      bb    cc\n",
       "  0   3  91554C  Pamela  True\n",
       "  1   3  8EA713   Blake  True)]"
      ]
     },
     "execution_count": 13,
     "metadata": {},
     "output_type": "execute_result"
    }
   ],
   "source": [
    "looped_item_list.to_df(group_by=\"xx\")"
   ]
  },
  {
   "cell_type": "markdown",
   "metadata": {},
   "source": [
    "### `head()`"
   ]
  },
  {
   "cell_type": "markdown",
   "metadata": {},
   "source": [
    "There is also a `.head()` method, which is analogous to the one for pandas dataframes."
   ]
  },
  {
   "cell_type": "code",
   "execution_count": 14,
   "metadata": {},
   "outputs": [
    {
     "data": {
      "text/html": [
       "<div>\n",
       "<style scoped>\n",
       "    .dataframe tbody tr th:only-of-type {\n",
       "        vertical-align: middle;\n",
       "    }\n",
       "\n",
       "    .dataframe tbody tr th {\n",
       "        vertical-align: top;\n",
       "    }\n",
       "\n",
       "    .dataframe thead th {\n",
       "        text-align: right;\n",
       "    }\n",
       "</style>\n",
       "<table border=\"1\" class=\"dataframe\">\n",
       "  <thead>\n",
       "    <tr style=\"text-align: right;\">\n",
       "      <th></th>\n",
       "      <th>xx</th>\n",
       "      <th>aa</th>\n",
       "      <th>bb</th>\n",
       "      <th>cc</th>\n",
       "    </tr>\n",
       "  </thead>\n",
       "  <tbody>\n",
       "    <tr>\n",
       "      <th>0</th>\n",
       "      <td>1</td>\n",
       "      <td>672EF2</td>\n",
       "      <td>Johnny</td>\n",
       "      <td>False</td>\n",
       "    </tr>\n",
       "    <tr>\n",
       "      <th>1</th>\n",
       "      <td>1</td>\n",
       "      <td>250204</td>\n",
       "      <td>David</td>\n",
       "      <td>True</td>\n",
       "    </tr>\n",
       "    <tr>\n",
       "      <th>2</th>\n",
       "      <td>2</td>\n",
       "      <td>679DAE</td>\n",
       "      <td>Angela</td>\n",
       "      <td>False</td>\n",
       "    </tr>\n",
       "  </tbody>\n",
       "</table>\n",
       "</div>"
      ],
      "text/plain": [
       "   xx      aa      bb     cc\n",
       "0   1  672EF2  Johnny  False\n",
       "1   1  250204   David   True\n",
       "2   2  679DAE  Angela  False"
      ]
     },
     "execution_count": 14,
     "metadata": {},
     "output_type": "execute_result"
    }
   ],
   "source": [
    "looped_item_list.head(3)"
   ]
  },
  {
   "cell_type": "markdown",
   "metadata": {},
   "source": [
    "### `.to_csv()`"
   ]
  },
  {
   "cell_type": "code",
   "execution_count": 15,
   "metadata": {},
   "outputs": [
    {
     "name": "stdout",
     "output_type": "stream",
     "text": [
      "xx,aa,bb,cc\n",
      "1,672EF2,Johnny,False\n",
      "1,250204,David,True\n",
      "2,679DAE,Angela,False\n",
      "3,91554C,Pamela,True\n",
      "3,8EA713,Blake,True\n",
      "\n"
     ]
    }
   ],
   "source": [
    "print(looped_item_list.to_csv())"
   ]
  },
  {
   "cell_type": "code",
   "execution_count": 16,
   "metadata": {},
   "outputs": [
    {
     "name": "stdout",
     "output_type": "stream",
     "text": [
      "Name,Age,ID\n",
      "False,672EF2,Johnny\n",
      "True,250204,David\n",
      "False,679DAE,Angela\n",
      "True,91554C,Pamela\n",
      "True,8EA713,Blake\n",
      "\n"
     ]
    }
   ],
   "source": [
    "from tempfile import NamedTemporaryFile\n",
    "\n",
    "with NamedTemporaryFile(suffix=\".csv\", mode=\"w\", ) as f:\n",
    "    output_filename = f.name\n",
    "    #print(f\"Writing CSV output to temporary file: {output_filename!r}\", end=\"\\n\\n\")\n",
    "\n",
    "    looped_item_list.to_csv(filename=output_filename, fields=[\"cc\", \"aa\", \"bb\"], column_names=[\"Name\", \"Age\", \"ID\"])\n",
    "\n",
    "    with open(output_filename, \"r\") as f2:\n",
    "        print(f2.read())"
   ]
  },
  {
   "cell_type": "code",
   "execution_count": 17,
   "metadata": {},
   "outputs": [
    {
     "name": "stdout",
     "output_type": "stream",
     "text": [
      "=== output_1.csv ===\n",
      "LoopVar,Name,Age,ID\n",
      "1,False,672EF2,Johnny\n",
      "1,True,250204,David\n",
      "\n",
      "=== output_2.csv ===\n",
      "LoopVar,Name,Age,ID\n",
      "2,False,679DAE,Angela\n",
      "\n",
      "=== output_3.csv ===\n",
      "LoopVar,Name,Age,ID\n",
      "3,True,91554C,Pamela\n",
      "3,True,8EA713,Blake\n",
      "\n"
     ]
    }
   ],
   "source": [
    "import os\n",
    "from glob import glob\n",
    "from tempfile import TemporaryDirectory\n",
    "\n",
    "with TemporaryDirectory() as tmpdir:\n",
    "    output_filename = os.path.join(tmpdir, \"output_{xx}.csv\")\n",
    "    \n",
    "    looped_item_list.to_csv(filename=output_filename, fields=[\"xx\", \"cc\", \"aa\", \"bb\"], column_names=[\"LoopVar\", \"Name\", \"Age\", \"ID\"])\n",
    "\n",
    "    for filename in glob(os.path.join(tmpdir, \"*.csv\")):\n",
    "        print(f\"=== {os.path.basename(filename)} ===\")\n",
    "        with open(filename, \"r\") as f:\n",
    "            print(f.read())"
   ]
  },
  {
   "cell_type": "markdown",
   "metadata": {},
   "source": [
    "## Specifying which columns to export, and in which order"
   ]
  },
  {
   "cell_type": "markdown",
   "metadata": {},
   "source": [
    "We can export only a subset of columns, and/or rearrange their order, by specifying a list of field names. In this example we export only the three columns `cc`, `aa`, `bb` (in this order) instead of the full set of columns `xx`, `aa`, `bb`, `cc`."
   ]
  },
  {
   "cell_type": "code",
   "execution_count": 18,
   "metadata": {},
   "outputs": [
    {
     "data": {
      "text/html": [
       "<div>\n",
       "<style scoped>\n",
       "    .dataframe tbody tr th:only-of-type {\n",
       "        vertical-align: middle;\n",
       "    }\n",
       "\n",
       "    .dataframe tbody tr th {\n",
       "        vertical-align: top;\n",
       "    }\n",
       "\n",
       "    .dataframe thead th {\n",
       "        text-align: right;\n",
       "    }\n",
       "</style>\n",
       "<table border=\"1\" class=\"dataframe\">\n",
       "  <thead>\n",
       "    <tr style=\"text-align: right;\">\n",
       "      <th></th>\n",
       "      <th>cc</th>\n",
       "      <th>aa</th>\n",
       "      <th>bb</th>\n",
       "    </tr>\n",
       "  </thead>\n",
       "  <tbody>\n",
       "    <tr>\n",
       "      <th>0</th>\n",
       "      <td>False</td>\n",
       "      <td>672EF2</td>\n",
       "      <td>Johnny</td>\n",
       "    </tr>\n",
       "    <tr>\n",
       "      <th>1</th>\n",
       "      <td>True</td>\n",
       "      <td>250204</td>\n",
       "      <td>David</td>\n",
       "    </tr>\n",
       "    <tr>\n",
       "      <th>2</th>\n",
       "      <td>False</td>\n",
       "      <td>679DAE</td>\n",
       "      <td>Angela</td>\n",
       "    </tr>\n",
       "    <tr>\n",
       "      <th>3</th>\n",
       "      <td>True</td>\n",
       "      <td>91554C</td>\n",
       "      <td>Pamela</td>\n",
       "    </tr>\n",
       "    <tr>\n",
       "      <th>4</th>\n",
       "      <td>True</td>\n",
       "      <td>8EA713</td>\n",
       "      <td>Blake</td>\n",
       "    </tr>\n",
       "  </tbody>\n",
       "</table>\n",
       "</div>"
      ],
      "text/plain": [
       "      cc      aa      bb\n",
       "0  False  672EF2  Johnny\n",
       "1   True  250204   David\n",
       "2  False  679DAE  Angela\n",
       "3   True  91554C  Pamela\n",
       "4   True  8EA713   Blake"
      ]
     },
     "execution_count": 18,
     "metadata": {},
     "output_type": "execute_result"
    }
   ],
   "source": [
    "looped_item_list.to_df(fields=[\"cc\", \"aa\", \"bb\"])"
   ]
  },
  {
   "cell_type": "markdown",
   "metadata": {},
   "source": [
    "## Custom field names"
   ]
  },
  {
   "cell_type": "markdown",
   "metadata": {},
   "source": [
    "If we want to rename the columns we can pass the `column_names` argument, for example:"
   ]
  },
  {
   "cell_type": "code",
   "execution_count": 19,
   "metadata": {},
   "outputs": [
    {
     "data": {
      "text/html": [
       "<div>\n",
       "<style scoped>\n",
       "    .dataframe tbody tr th:only-of-type {\n",
       "        vertical-align: middle;\n",
       "    }\n",
       "\n",
       "    .dataframe tbody tr th {\n",
       "        vertical-align: top;\n",
       "    }\n",
       "\n",
       "    .dataframe thead th {\n",
       "        text-align: right;\n",
       "    }\n",
       "</style>\n",
       "<table border=\"1\" class=\"dataframe\">\n",
       "  <thead>\n",
       "    <tr style=\"text-align: right;\">\n",
       "      <th></th>\n",
       "      <th>First Name</th>\n",
       "      <th>Likes Chocolate</th>\n",
       "    </tr>\n",
       "  </thead>\n",
       "  <tbody>\n",
       "    <tr>\n",
       "      <th>0</th>\n",
       "      <td>Johnny</td>\n",
       "      <td>False</td>\n",
       "    </tr>\n",
       "    <tr>\n",
       "      <th>1</th>\n",
       "      <td>David</td>\n",
       "      <td>True</td>\n",
       "    </tr>\n",
       "    <tr>\n",
       "      <th>2</th>\n",
       "      <td>Angela</td>\n",
       "      <td>False</td>\n",
       "    </tr>\n",
       "    <tr>\n",
       "      <th>3</th>\n",
       "      <td>Pamela</td>\n",
       "      <td>True</td>\n",
       "    </tr>\n",
       "    <tr>\n",
       "      <th>4</th>\n",
       "      <td>Blake</td>\n",
       "      <td>True</td>\n",
       "    </tr>\n",
       "  </tbody>\n",
       "</table>\n",
       "</div>"
      ],
      "text/plain": [
       "  First Name  Likes Chocolate\n",
       "0     Johnny            False\n",
       "1      David             True\n",
       "2     Angela            False\n",
       "3     Pamela             True\n",
       "4      Blake             True"
      ]
     },
     "execution_count": 19,
     "metadata": {},
     "output_type": "execute_result"
    }
   ],
   "source": [
    "looped_item_list.to_df(fields=[\"bb\", \"cc\"], column_names=[\"First Name\", \"Likes Chocolate\"])"
   ]
  },
  {
   "cell_type": "code",
   "execution_count": 20,
   "metadata": {},
   "outputs": [],
   "source": [
    "#item_list.to_df(fields=[\"cc\", \"aa\"], column_names=[\"First Name\", \"Age\", \"ID\"])"
   ]
  },
  {
   "cell_type": "markdown",
   "metadata": {},
   "source": [
    "## Accessing nested field values"
   ]
  },
  {
   "cell_type": "markdown",
   "metadata": {},
   "source": [
    "Let's create a second `ItemList` instance which contains nested items."
   ]
  },
  {
   "cell_type": "code",
   "execution_count": 21,
   "metadata": {},
   "outputs": [],
   "source": [
    "from tohu.tohu_items_class import make_tohu_items_class"
   ]
  },
  {
   "cell_type": "code",
   "execution_count": 22,
   "metadata": {},
   "outputs": [],
   "source": [
    "Quux = make_tohu_items_class(\"Quux\", field_names=[\"aa\", \"bb\", \"cc\", \"dd\"])\n",
    "Foo = make_tohu_items_class(\"Foo\", field_names=[\"xx\", \"yy\"])\n",
    "Bar = make_tohu_items_class(\"Bar\", field_names=[\"rr\", \"ss\"])"
   ]
  },
  {
   "cell_type": "code",
   "execution_count": 23,
   "metadata": {},
   "outputs": [],
   "source": [
    "items_2 = [\n",
    "    Quux(aa=30, bb=Foo(xx='672EF2', yy=Bar(rr=153, ss=\"Engineer\")), cc='Johnny', dd=False),\n",
    "    Quux(aa=32, bb=Foo(xx='250204', yy=Bar(rr=193, ss=\"Therapist\")), cc='David', dd=True),\n",
    "    Quux(aa=55, bb=Foo(xx='679DAE', yy=Bar(rr=101, ss=\"Author\")), cc='Angela', dd=False),\n",
    "    Quux(aa=43, bb=Foo(xx='91554C', yy=Bar(rr=138, ss=\"Scientist\")), cc='Pamela', dd=True),\n",
    "    Quux(aa=56, bb=Foo(xx='8EA713', yy=Bar(rr=147, ss=\"Consultant\")), cc='Blake', dd=True),\n",
    "]\n",
    "\n",
    "#item_list_2 = ItemList(items_2, Quux)"
   ]
  },
  {
   "cell_type": "code",
   "execution_count": 24,
   "metadata": {},
   "outputs": [
    {
     "data": {
      "text/plain": [
       "<LoopedItemList>"
      ]
     },
     "execution_count": 24,
     "metadata": {},
     "output_type": "execute_result"
    }
   ],
   "source": [
    "# item_tuples_2 = [\n",
    "#     (30, Foo(xx='672EF2', yy=Bar(rr=153, ss=\"Engineer\")), 'Johnny', False),\n",
    "#     (32, Foo(xx='250204', yy=Bar(rr=193, ss=\"Therapist\")), 'David', True),\n",
    "#     (55, Foo(xx='679DAE', yy=Bar(rr=101, ss=\"Author\")), 'Angela', False),\n",
    "#     (43, Foo(xx='91554C', yy=Bar(rr=138, ss=\"Scientist\")), 'Pamela', True),\n",
    "#     (56, Foo(xx='8EA713', yy=Bar(rr=147, ss=\"Consultant\")), 'Blake', True),\n",
    "# ]\n",
    "\n",
    "num_items = len(items_2)\n",
    "field_names = [\"aa\", \"bb\", \"cc\", \"dd\"]\n",
    "\n",
    "def f_get_item_tuple_iterators(var_names=None):\n",
    "    if var_names is None or var_names == []:\n",
    "        yield from [({}, items_2)]\n",
    "    elif var_names == [\"zz\"]:\n",
    "        yield from (\n",
    "            ({\"zz\": 1}, items_2[0:2]),\n",
    "            ({\"zz\": 2}, items_2[2:3]),\n",
    "            ({\"zz\": 3}, items_2[3:]),\n",
    "#             (tuple([1]), items[0:2]),\n",
    "#             (tuple([2]), items[2:3]),\n",
    "#             (tuple([3]), items[3:]),\n",
    "        )\n",
    "    else:\n",
    "        raise ValueError(\"Invalid value for argument `var_names`.\")\n",
    "\n",
    "\n",
    "looped_item_list_2 = LoopedItemList(\n",
    "    f_get_item_tuple_iterators,\n",
    "    field_names=field_names,\n",
    "    tohu_items_class_name=\"Quux\"\n",
    ")\n",
    "looped_item_list_2"
   ]
  },
  {
   "cell_type": "code",
   "execution_count": 25,
   "metadata": {},
   "outputs": [
    {
     "data": {
      "text/plain": [
       "[Quux(aa=30, bb=Foo(xx='672EF2', yy=Bar(rr=153, ss='Engineer')), cc='Johnny', dd=False),\n",
       " Quux(aa=32, bb=Foo(xx='250204', yy=Bar(rr=193, ss='Therapist')), cc='David', dd=True),\n",
       " Quux(aa=55, bb=Foo(xx='679DAE', yy=Bar(rr=101, ss='Author')), cc='Angela', dd=False),\n",
       " Quux(aa=43, bb=Foo(xx='91554C', yy=Bar(rr=138, ss='Scientist')), cc='Pamela', dd=True),\n",
       " Quux(aa=56, bb=Foo(xx='8EA713', yy=Bar(rr=147, ss='Consultant')), cc='Blake', dd=True)]"
      ]
     },
     "execution_count": 25,
     "metadata": {},
     "output_type": "execute_result"
    }
   ],
   "source": [
    "list(looped_item_list_2)"
   ]
  },
  {
   "cell_type": "markdown",
   "metadata": {},
   "source": [
    "If we simply call `to_df()` without specifying the `fields` argument, the cells in column `bb` will contain the full nested values of the items of type `Foo`."
   ]
  },
  {
   "cell_type": "code",
   "execution_count": 26,
   "metadata": {},
   "outputs": [
    {
     "data": {
      "text/html": [
       "<div>\n",
       "<style scoped>\n",
       "    .dataframe tbody tr th:only-of-type {\n",
       "        vertical-align: middle;\n",
       "    }\n",
       "\n",
       "    .dataframe tbody tr th {\n",
       "        vertical-align: top;\n",
       "    }\n",
       "\n",
       "    .dataframe thead th {\n",
       "        text-align: right;\n",
       "    }\n",
       "</style>\n",
       "<table border=\"1\" class=\"dataframe\">\n",
       "  <thead>\n",
       "    <tr style=\"text-align: right;\">\n",
       "      <th></th>\n",
       "      <th>aa</th>\n",
       "      <th>bb</th>\n",
       "      <th>cc</th>\n",
       "      <th>dd</th>\n",
       "    </tr>\n",
       "  </thead>\n",
       "  <tbody>\n",
       "    <tr>\n",
       "      <th>0</th>\n",
       "      <td>30</td>\n",
       "      <td>Foo(xx='672EF2', yy=Bar(rr=153, ss='Engineer'))</td>\n",
       "      <td>Johnny</td>\n",
       "      <td>False</td>\n",
       "    </tr>\n",
       "    <tr>\n",
       "      <th>1</th>\n",
       "      <td>32</td>\n",
       "      <td>Foo(xx='250204', yy=Bar(rr=193, ss='Therapist'))</td>\n",
       "      <td>David</td>\n",
       "      <td>True</td>\n",
       "    </tr>\n",
       "    <tr>\n",
       "      <th>2</th>\n",
       "      <td>55</td>\n",
       "      <td>Foo(xx='679DAE', yy=Bar(rr=101, ss='Author'))</td>\n",
       "      <td>Angela</td>\n",
       "      <td>False</td>\n",
       "    </tr>\n",
       "    <tr>\n",
       "      <th>3</th>\n",
       "      <td>43</td>\n",
       "      <td>Foo(xx='91554C', yy=Bar(rr=138, ss='Scientist'))</td>\n",
       "      <td>Pamela</td>\n",
       "      <td>True</td>\n",
       "    </tr>\n",
       "    <tr>\n",
       "      <th>4</th>\n",
       "      <td>56</td>\n",
       "      <td>Foo(xx='8EA713', yy=Bar(rr=147, ss='Consultant'))</td>\n",
       "      <td>Blake</td>\n",
       "      <td>True</td>\n",
       "    </tr>\n",
       "  </tbody>\n",
       "</table>\n",
       "</div>"
      ],
      "text/plain": [
       "   aa                                                 bb      cc     dd\n",
       "0  30    Foo(xx='672EF2', yy=Bar(rr=153, ss='Engineer'))  Johnny  False\n",
       "1  32   Foo(xx='250204', yy=Bar(rr=193, ss='Therapist'))   David   True\n",
       "2  55      Foo(xx='679DAE', yy=Bar(rr=101, ss='Author'))  Angela  False\n",
       "3  43   Foo(xx='91554C', yy=Bar(rr=138, ss='Scientist'))  Pamela   True\n",
       "4  56  Foo(xx='8EA713', yy=Bar(rr=147, ss='Consultant'))   Blake   True"
      ]
     },
     "execution_count": 26,
     "metadata": {},
     "output_type": "execute_result"
    }
   ],
   "source": [
    "looped_item_list_2.to_df()"
   ]
  },
  {
   "cell_type": "markdown",
   "metadata": {},
   "source": [
    "If we are only interested in some of the individual values in the nested items `Foo` or `Bar`, it is possible to \"reach into\" them and extract those values by using the usual `.` notation for accessing attributes."
   ]
  },
  {
   "cell_type": "code",
   "execution_count": 27,
   "metadata": {},
   "outputs": [
    {
     "data": {
      "text/html": [
       "<div>\n",
       "<style scoped>\n",
       "    .dataframe tbody tr th:only-of-type {\n",
       "        vertical-align: middle;\n",
       "    }\n",
       "\n",
       "    .dataframe tbody tr th {\n",
       "        vertical-align: top;\n",
       "    }\n",
       "\n",
       "    .dataframe thead th {\n",
       "        text-align: right;\n",
       "    }\n",
       "</style>\n",
       "<table border=\"1\" class=\"dataframe\">\n",
       "  <thead>\n",
       "    <tr style=\"text-align: right;\">\n",
       "      <th></th>\n",
       "      <th>Name</th>\n",
       "      <th>ID</th>\n",
       "      <th>Job description</th>\n",
       "    </tr>\n",
       "  </thead>\n",
       "  <tbody>\n",
       "    <tr>\n",
       "      <th>0</th>\n",
       "      <td>Johnny</td>\n",
       "      <td>672EF2</td>\n",
       "      <td>Engineer</td>\n",
       "    </tr>\n",
       "    <tr>\n",
       "      <th>1</th>\n",
       "      <td>David</td>\n",
       "      <td>250204</td>\n",
       "      <td>Therapist</td>\n",
       "    </tr>\n",
       "    <tr>\n",
       "      <th>2</th>\n",
       "      <td>Angela</td>\n",
       "      <td>679DAE</td>\n",
       "      <td>Author</td>\n",
       "    </tr>\n",
       "    <tr>\n",
       "      <th>3</th>\n",
       "      <td>Pamela</td>\n",
       "      <td>91554C</td>\n",
       "      <td>Scientist</td>\n",
       "    </tr>\n",
       "    <tr>\n",
       "      <th>4</th>\n",
       "      <td>Blake</td>\n",
       "      <td>8EA713</td>\n",
       "      <td>Consultant</td>\n",
       "    </tr>\n",
       "  </tbody>\n",
       "</table>\n",
       "</div>"
      ],
      "text/plain": [
       "     Name      ID Job description\n",
       "0  Johnny  672EF2        Engineer\n",
       "1   David  250204       Therapist\n",
       "2  Angela  679DAE          Author\n",
       "3  Pamela  91554C       Scientist\n",
       "4   Blake  8EA713      Consultant"
      ]
     },
     "execution_count": 27,
     "metadata": {},
     "output_type": "execute_result"
    }
   ],
   "source": [
    "fields = [\"cc\", \"bb.xx\", \"bb.yy.ss\"]\n",
    "column_names = [\"Name\", \"ID\", \"Job description\"]\n",
    "\n",
    "looped_item_list_2.to_df(fields=fields, column_names=column_names)"
   ]
  },
  {
   "cell_type": "markdown",
   "metadata": {},
   "source": [
    "Let's verify that an error is raised if an attribute name specified in the `fields` argument doesn't exist at any level."
   ]
  },
  {
   "cell_type": "code",
   "execution_count": 28,
   "metadata": {},
   "outputs": [],
   "source": [
    "import pytest\n",
    "from tohu.field_selector import InvalidFieldError\n",
    "\n",
    "with pytest.raises(InvalidFieldError, match=\"Invalid fields: \\['bbb'\\]. Fields must be a subset of: \\['aa', 'bb', 'cc', 'dd'\\]\"):\n",
    "    looped_item_list_2.to_df(fields=[\"bbb.yy.ss\"])\n",
    "\n",
    "with pytest.raises(AttributeError, match=\"Foo' object has no attribute 'yyy'\"):\n",
    "    looped_item_list_2.to_df(fields=[\"bb.yyy.ss\"])\n",
    "\n",
    "with pytest.raises(AttributeError, match=\"Bar' object has no attribute 'sss'\"):\n",
    "    looped_item_list_2.to_df(fields=[\"bb.yy.sss\"])"
   ]
  }
 ],
 "metadata": {
  "kernelspec": {
   "display_name": "Python 3",
   "language": "python",
   "name": "python3"
  },
  "language_info": {
   "codemirror_mode": {
    "name": "ipython",
    "version": 3
   },
   "file_extension": ".py",
   "mimetype": "text/x-python",
   "name": "python",
   "nbconvert_exporter": "python",
   "pygments_lexer": "ipython3",
   "version": "3.8.1"
  }
 },
 "nbformat": 4,
 "nbformat_minor": 4
}
